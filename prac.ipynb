{
 "cells": [
  {
   "cell_type": "markdown",
   "metadata": {},
   "source": [
    "```bash\n",
    "deno jupyter --install\n",
    "#deno jupyter is experimental, check status\n",
    "```\n",
    "\n",
    "```bash\n",
    "#windows:\n",
    "winget install DenoLand.Deno\n",
    "```\n",
    "\n",
    "```bash\n",
    "#linux\n",
    "curl -fsSL https://deno.land/install.sh | sh\n",
    "```\n"
   ]
  },
  {
   "cell_type": "code",
   "execution_count": 1,
   "metadata": {
    "notebookRunGroups": {
     "groupValue": "1"
    }
   },
   "outputs": [
    {
     "data": {
      "text/plain": [
       "\u001b[32m\"use strict\"\u001b[39m"
      ]
     },
     "execution_count": 1,
     "metadata": {},
     "output_type": "execute_result"
    }
   ],
   "source": [
    "\"use strict\";\n"
   ]
  },
  {
   "cell_type": "code",
   "execution_count": 2,
   "metadata": {
    "notebookRunGroups": {
     "groupValue": "1"
    }
   },
   "outputs": [],
   "source": [
    "const alert = console.log;\n"
   ]
  },
  {
   "cell_type": "code",
   "execution_count": 16,
   "metadata": {},
   "outputs": [
    {
     "name": "stdout",
     "output_type": "stream",
     "text": [
      "Hello!\n"
     ]
    }
   ],
   "source": [
    "let user = {};\n",
    "\n",
    "function sayHi() {\n",
    "  alert(\"Hello!\");\n",
    "}\n",
    "\n",
    "user.sayHi = sayHi;\n",
    "\n",
    "user.sayHi();\n"
   ]
  },
  {
   "cell_type": "code",
   "execution_count": 17,
   "metadata": {},
   "outputs": [
    {
     "name": "stdout",
     "output_type": "stream",
     "text": [
      "Hello\n"
     ]
    }
   ],
   "source": [
    "user = {\n",
    "  sayHi() {\n",
    "    alert(\"Hello\");\n",
    "  },\n",
    "};\n",
    "\n",
    "user.sayHi();\n"
   ]
  },
  {
   "cell_type": "code",
   "execution_count": 18,
   "metadata": {},
   "outputs": [
    {
     "name": "stdout",
     "output_type": "stream",
     "text": [
      "John\n"
     ]
    }
   ],
   "source": [
    "let user = {\n",
    "  name: \"John\",\n",
    "  age: 30,\n",
    "\n",
    "  sayHi() {\n",
    "    alert(this.name);\n",
    "  },\n",
    "};\n",
    "\n",
    "user.sayHi();\n"
   ]
  },
  {
   "cell_type": "code",
   "execution_count": 19,
   "metadata": {},
   "outputs": [
    {
     "name": "stdout",
     "output_type": "stream",
     "text": [
      "John\n"
     ]
    }
   ],
   "source": [
    "let user = {\n",
    "  name: \"John\",\n",
    "  age: 30,\n",
    "\n",
    "  sayHi() {\n",
    "    alert(user.name); // \"user\" instead of \"this\"\n",
    "  },\n",
    "};\n",
    "user.sayHi()"
   ]
  },
  {
   "cell_type": "markdown",
   "metadata": {},
   "source": [
    "Technically, it’s also possible to access the object without this, by\n",
    "referencing it via the outer variable.\n",
    "\n",
    "…But such code is unreliable. If we decide to copy user to another variable,\n",
    "e.g. admin = user and overwrite user with something else, then it will access\n",
    "the wrong object.\n"
   ]
  },
  {
   "cell_type": "code",
   "execution_count": 20,
   "metadata": {},
   "outputs": [
    {
     "ename": "TypeError",
     "evalue": "Cannot read properties of null (reading 'name')",
     "output_type": "error",
     "traceback": [
      "Stack trace:",
      "TypeError: Cannot read properties of null (reading 'name')",
      "    at Object.sayHi (<anonymous>:5:16)",
      "    at <anonymous>:10:7"
     ]
    }
   ],
   "source": [
    "let user = {\n",
    "  name: \"John\",\n",
    "  age: 30,\n",
    "\n",
    "  sayHi() {\n",
    "    alert(user.name); // leads to an error if called from another object\n",
    "  },\n",
    "};\n",
    "\n",
    "let admin = user;\n",
    "user = null; // overwrite to make things obvious\n",
    "\n",
    "admin.sayHi();\n"
   ]
  },
  {
   "cell_type": "code",
   "execution_count": null,
   "metadata": {},
   "outputs": [
    {
     "name": "stdout",
     "output_type": "stream",
     "text": [
      "John\n"
     ]
    }
   ],
   "source": [
    "let user = {\n",
    "  name: \"John\",\n",
    "  age: 30,\n",
    "\n",
    "  sayHi() {\n",
    "    alert(this.name);\n",
    "  },\n",
    "};\n",
    "\n",
    "let user2 = user;\n",
    "user2.sayHi();\n"
   ]
  },
  {
   "cell_type": "code",
   "execution_count": null,
   "metadata": {},
   "outputs": [],
   "source": [
    "let user = { name: \"John\" };\n",
    "let admin = { name: \"Admin\" };\n",
    "\n",
    "function sayHi() {\n",
    "  alert(this.name);\n",
    "}\n",
    "\n",
    "user.f = sayHi;\n",
    "admin.f = sayHi;\n",
    "\n",
    "user.f();\n",
    "admin.f();\n",
    "\n",
    "admin[\"f\"]();\n"
   ]
  },
  {
   "cell_type": "code",
   "execution_count": null,
   "metadata": {},
   "outputs": [],
   "source": [
    "let ladder = {\n",
    "  step: 0,\n",
    "  up() {\n",
    "    this.step++;\n",
    "    return this;\n",
    "  },\n",
    "  down() {\n",
    "    this.step--;\n",
    "    return this;\n",
    "  },\n",
    "  showStep: function () {\n",
    "    alert(this.step);\n",
    "    return this;\n",
    "  },\n",
    "};\n"
   ]
  },
  {
   "cell_type": "code",
   "execution_count": null,
   "metadata": {},
   "outputs": [],
   "source": [
    "ladder.up().up().down().showStep().down().showStep();\n"
   ]
  },
  {
   "cell_type": "code",
   "execution_count": null,
   "metadata": {},
   "outputs": [],
   "source": [
    "function User(name) {\n",
    "  this.name = name;\n",
    "  this.isAdmin = false;\n",
    "}\n",
    "let abc = new User(\"abc\");\n",
    "console.log(abc);\n"
   ]
  },
  {
   "cell_type": "code",
   "execution_count": 21,
   "metadata": {},
   "outputs": [
    {
     "name": "stdout",
     "output_type": "stream",
     "text": [
      "true\n"
     ]
    }
   ],
   "source": [
    "// Is it possible to create functions A and B so that new A() == new B()?\n",
    "// If a function returns an object then new returns it instead of this.\n",
    "\n",
    "// So they can, for instance, return the same externally defined object obj:\n",
    "\n",
    "let obj = {};\n",
    "\n",
    "function A() {\n",
    "  return obj;\n",
    "}\n",
    "function B() {\n",
    "  return obj;\n",
    "}\n",
    "\n",
    "alert(new A() == new B());\n"
   ]
  },
  {
   "cell_type": "code",
   "execution_count": null,
   "metadata": {},
   "outputs": [],
   "source": [
    "function Accumulator(x) {\n",
    "  this.value = x;\n",
    "\n",
    "  this.read = function () {\n",
    "    this.value += +prompt(\"Enter something: \", 0);\n",
    "  };\n",
    "}\n",
    "\n",
    "let accumulator = new Accumulator(1); // initial value 1\n",
    "\n",
    "accumulator.read(); // adds the user-entered value\n",
    "accumulator.read(); // adds the user-entered value\n",
    "\n",
    "alert(accumulator.value); // shows the sum of these values\n"
   ]
  },
  {
   "cell_type": "code",
   "execution_count": null,
   "metadata": {},
   "outputs": [],
   "source": [
    "let str = \"Hello\";\n",
    "\n",
    "str.test = 5;\n",
    "\n",
    "alert(str.test);\n"
   ]
  },
  {
   "cell_type": "code",
   "execution_count": null,
   "metadata": {},
   "outputs": [],
   "source": [
    "let arr2 = [1, 2, 3];\n",
    "\n",
    "arr2.findIndex((x) => x == 2);\n",
    "arr2.reverse();\n",
    "console.log(arr2);\n"
   ]
  },
  {
   "cell_type": "code",
   "execution_count": null,
   "metadata": {},
   "outputs": [
    {
     "name": "stdout",
     "output_type": "stream",
     "text": [
      "backgroundColor\n",
      "listStyleImage\n",
      "webkitTrAnsition\n"
     ]
    }
   ],
   "source": [
    "function camelize(str: string) {\n",
    "  return str\n",
    "    .split(/[^a-zA-Z0-9]+/)\n",
    "    .filter((word) => word.length > 0)\n",
    "    .map((word, index) => {\n",
    "      return index === 0 ? word : word[0].toUpperCase() + word.slice(1);\n",
    "    })\n",
    "    .join(\"\");\n",
    "}\n",
    "console.log(camelize(\"background-_color-\"));\n",
    "console.log(camelize(\"list-style-image\"));\n",
    "console.log(camelize(\"-webkit-tr=ansition\"));\n"
   ]
  },
  {
   "cell_type": "code",
   "execution_count": null,
   "metadata": {},
   "outputs": [
    {
     "name": "stdout",
     "output_type": "stream",
     "text": [
      "1000000000\n"
     ]
    }
   ],
   "source": [
    "let billion = 1_000_000_000;\n",
    "alert(billion);\n"
   ]
  },
  {
   "cell_type": "code",
   "execution_count": null,
   "metadata": {},
   "outputs": [
    {
     "name": "stdout",
     "output_type": "stream",
     "text": [
      "255\n"
     ]
    }
   ],
   "source": [
    "alert(0xff);\n"
   ]
  },
  {
   "cell_type": "code",
   "execution_count": null,
   "metadata": {},
   "outputs": [
    {
     "name": "stdout",
     "output_type": "stream",
     "text": [
      "true\n"
     ]
    }
   ],
   "source": [
    "let a = 0b11111111;\n",
    "let b = 0o377;\n",
    "\n",
    "alert(a == b);\n"
   ]
  },
  {
   "cell_type": "code",
   "execution_count": null,
   "metadata": {},
   "outputs": [
    {
     "name": "stdout",
     "output_type": "stream",
     "text": [
      "ff\n",
      "11111111\n"
     ]
    }
   ],
   "source": [
    "let num = 255;\n",
    "\n",
    "alert(num.toString(16));\n",
    "alert(num.toString(2));\n"
   ]
  },
  {
   "cell_type": "code",
   "execution_count": null,
   "metadata": {},
   "outputs": [
    {
     "name": "stdout",
     "output_type": "stream",
     "text": [
      "c\n",
      "12\n"
     ]
    }
   ],
   "source": [
    "alert((12).toString(36));\n",
    "alert(parseInt(\"c\", 36));\n"
   ]
  },
  {
   "cell_type": "markdown",
   "metadata": {},
   "source": [
    "When calling functions directly on the number, we need to use \"..\" to indicate\n",
    "that the decimal part is empty or else we get an error\n"
   ]
  },
  {
   "cell_type": "code",
   "execution_count": null,
   "metadata": {},
   "outputs": [
    {
     "ename": "Identifier cannot follow number at file:///repl.tsx:1:6\n\n  1212.toString(2);\n       ~",
     "evalue": "Identifier cannot follow number at file:///repl.tsx:1:6\n\n  1212.toString(2);\n       ~",
     "output_type": "error",
     "traceback": []
    }
   ],
   "source": [
    "1212(2);\n"
   ]
  },
  {
   "cell_type": "code",
   "execution_count": null,
   "metadata": {},
   "outputs": [
    {
     "data": {
      "text/plain": [
       "\u001b[32m\"10010111100\"\u001b[39m"
      ]
     },
     "execution_count": 15,
     "metadata": {},
     "output_type": "execute_result"
    }
   ],
   "source": [
    "(1212).toString(2);\n"
   ]
  },
  {
   "cell_type": "code",
   "execution_count": null,
   "metadata": {},
   "outputs": [
    {
     "data": {
      "text/plain": [
       "\u001b[32m\"1.0011001100110011001100110011001100110011001100110011\"\u001b[39m"
      ]
     },
     "execution_count": 13,
     "metadata": {},
     "output_type": "execute_result"
    }
   ],
   "source": [
    "(1.2).toString(2);\n"
   ]
  },
  {
   "cell_type": "code",
   "execution_count": null,
   "metadata": {},
   "outputs": [
    {
     "name": "stdout",
     "output_type": "stream",
     "text": [
      "5\n"
     ]
    }
   ],
   "source": [
    "let x = parseInt(prompt());\n",
    "let y = parseInt(prompt());\n",
    "\n",
    "if (!isNaN(x) && !isNaN(y) && x !== null && y !== null) {\n",
    "  alert(x + y);\n",
    "} else {\n",
    "  console.log(\"Error: Can only process integers\");\n",
    "}\n"
   ]
  },
  {
   "cell_type": "markdown",
   "metadata": {},
   "source": [
    "Write the function random(min, max) to generate a random floating-point number\n",
    "from min to max (not including max).\n"
   ]
  },
  {
   "cell_type": "code",
   "execution_count": null,
   "metadata": {},
   "outputs": [],
   "source": [
    "function random(min, max) {\n",
    "  return min + Math.random() * (max - min);\n",
    "}\n",
    "\n",
    "alert(random(1, 5));\n",
    "alert(random(1, 5));\n",
    "alert(random(1, 5));\n"
   ]
  },
  {
   "cell_type": "markdown",
   "metadata": {},
   "source": [
    "Create a function randomInteger(min, max) that generates a random integer number\n",
    "from min to max including both min and max as possible values.\n"
   ]
  },
  {
   "cell_type": "code",
   "execution_count": null,
   "metadata": {},
   "outputs": [
    {
     "name": "stdout",
     "output_type": "stream",
     "text": [
      "2\n"
     ]
    }
   ],
   "source": [
    "function randomInteger(min, max) {\n",
    "  let rand = min + Math.random() * (max + 1 - min);\n",
    "  return Math.floor(rand);\n",
    "}\n",
    "\n",
    "alert(randomInteger(1, 3));\n"
   ]
  },
  {
   "cell_type": "code",
   "execution_count": null,
   "metadata": {},
   "outputs": [
    {
     "name": "stdout",
     "output_type": "stream",
     "text": [
      "1\n"
     ]
    }
   ],
   "source": [
    "console.log(\"w\".length);\n"
   ]
  },
  {
   "cell_type": "code",
   "execution_count": null,
   "metadata": {},
   "outputs": [
    {
     "name": "stdout",
     "output_type": "stream",
     "text": [
      "INTERFACE\n",
      "interface\n"
     ]
    }
   ],
   "source": [
    "alert(\"Interface\".toUpperCase()); // INTERFACE\n",
    "alert(\"Interface\".toLowerCase()); // interface\n"
   ]
  },
  {
   "cell_type": "code",
   "execution_count": null,
   "metadata": {},
   "outputs": [
    {
     "name": "stdout",
     "output_type": "stream",
     "text": [
      "0\n",
      "-1\n",
      "1\n",
      "12\n"
     ]
    }
   ],
   "source": [
    "let str = \"Widget with id\";\n",
    "\n",
    "alert(str.indexOf(\"Widget\"));\n",
    "alert(str.indexOf(\"random\")); //-1 if nothing can be found.\n",
    "\n",
    "alert(str.indexOf(\"id\"));\n",
    "/**\n",
    " *    __\n",
    " * W |id| get with id\n",
    " *    --\n",
    " */\n",
    "\n",
    "alert(str.indexOf(\"id\", 2));\n"
   ]
  },
  {
   "cell_type": "code",
   "execution_count": null,
   "metadata": {},
   "outputs": [
    {
     "data": {
      "text/plain": [
       "\u001b[33m2\u001b[39m"
      ]
     },
     "execution_count": 61,
     "metadata": {},
     "output_type": "execute_result"
    }
   ],
   "source": [
    "let s = \"111\";\n",
    "s.lastIndexOf(\"1\");\n"
   ]
  },
  {
   "cell_type": "markdown",
   "metadata": {},
   "source": [
    "The more modern method str.includes(substr, pos) returns true/false depending on\n",
    "whether str contains substr within.\n"
   ]
  },
  {
   "cell_type": "code",
   "execution_count": null,
   "metadata": {},
   "outputs": [
    {
     "name": "stdout",
     "output_type": "stream",
     "text": [
      "true\n",
      "false\n"
     ]
    }
   ],
   "source": [
    "alert(\"Widget with id\".includes(\"Widget\"));\n",
    "alert(\"Widget\".includes(\"id\", 3)); // false, from position 3 there is no \"id\"\n"
   ]
  },
  {
   "cell_type": "code",
   "execution_count": null,
   "metadata": {},
   "outputs": [
    {
     "name": "stdout",
     "output_type": "stream",
     "text": [
      "s\n"
     ]
    }
   ],
   "source": [
    "// str.slice(start [, end])\n",
    "let str = \"stringify\";\n",
    "alert(str.slice(0, 1));\n"
   ]
  },
  {
   "cell_type": "code",
   "execution_count": null,
   "metadata": {},
   "outputs": [
    {
     "name": "stdout",
     "output_type": "stream",
     "text": [
      "tringify\n"
     ]
    }
   ],
   "source": [
    "alert(str.slice(1));\n"
   ]
  },
  {
   "cell_type": "code",
   "execution_count": null,
   "metadata": {},
   "outputs": [
    {
     "name": "stdout",
     "output_type": "stream",
     "text": [
      "gif\n"
     ]
    }
   ],
   "source": [
    "alert(str.slice(-4, -1));\n"
   ]
  },
  {
   "cell_type": "code",
   "execution_count": null,
   "metadata": {},
   "outputs": [
    {
     "name": "stdout",
     "output_type": "stream",
     "text": [
      "\n"
     ]
    }
   ],
   "source": [
    "alert(str.slice(6, 2)); // \"\" (an empty string)\n"
   ]
  },
  {
   "cell_type": "markdown",
   "metadata": {},
   "source": [
    "str.substring(start [, end]) Returns the part of the string between start and\n",
    "end (not including end).\n",
    "\n",
    "This is almost the same as slice, but it allows start to be greater than end (in\n",
    "this case it simply swaps start and end values). Negative arguments are (unlike\n",
    "slice) not supported, they are treated as 0.\n"
   ]
  },
  {
   "cell_type": "code",
   "execution_count": null,
   "metadata": {},
   "outputs": [
    {
     "name": "stdout",
     "output_type": "stream",
     "text": [
      "ring\n",
      "ring\n",
      "ring\n"
     ]
    }
   ],
   "source": [
    "alert(str.substring(6, 2)); // \"ring\"\n",
    "alert(str.substring(2, 6)); // \"ring\"\n",
    "\n",
    "// ...but not for slice:\n",
    "alert(str.slice(2, 6));\n"
   ]
  },
  {
   "cell_type": "code",
   "execution_count": null,
   "metadata": {},
   "outputs": [
    {
     "name": "stdout",
     "output_type": "stream",
     "text": [
      "st\n"
     ]
    }
   ],
   "source": [
    "alert(str.substring(-1, 2)); //negative is treated as 0\n"
   ]
  },
  {
   "cell_type": "markdown",
   "metadata": {},
   "source": [
    "### substr\n",
    "\n",
    "Deprecated: This feature is no longer recommended. Though some browsers might\n",
    "still support it, it may have already been removed from the relevant web\n",
    "standards, may be in the process of being dropped, or may only be kept for\n",
    "compatibility purposes. Avoid using it, and update existing code if possible;\n",
    "see the compatibility table at the bottom of this page to guide your decision.\n",
    "Be aware that this feature may cease to work at any time.\n",
    "\n",
    "The substr() method of String values returns a portion of this string, starting\n",
    "at the specified index and extending for a given number of characters\n",
    "afterwards.\n"
   ]
  },
  {
   "cell_type": "code",
   "execution_count": null,
   "metadata": {},
   "outputs": [],
   "source": [
    "let str = \"stringify\";\n",
    "alert(str.substr(2, 4));\n"
   ]
  },
  {
   "cell_type": "markdown",
   "metadata": {},
   "source": [
    "| Method                  | Selects...                                | Negatives              |\n",
    "| ----------------------- | ----------------------------------------- | ---------------------- |\n",
    "| `slice(start, end)`     | From start to end (not including end)     | Allows negatives       |\n",
    "| `substring(start, end)` | Between start and end (not including end) | Negative values mean 0 |\n",
    "| `substr(start, length)` | From start, get length characters         | Allows negative start  |\n"
   ]
  },
  {
   "cell_type": "code",
   "execution_count": null,
   "metadata": {},
   "outputs": [
    {
     "name": "stdout",
     "output_type": "stream",
     "text": [
      "65\n"
     ]
    }
   ],
   "source": [
    "alert(\"A\".codePointAt(0));\n"
   ]
  },
  {
   "cell_type": "code",
   "execution_count": null,
   "metadata": {},
   "outputs": [
    {
     "name": "stdout",
     "output_type": "stream",
     "text": [
      "[ 3, 1 ]\n",
      "[ 5, 3, 8, 1 ]\n"
     ]
    }
   ],
   "source": [
    "function filterRange(arr: number[], higher_bound: number, lower_bound: number) {\n",
    "  return arr.filter((i) => i >= higher_bound && i <= lower_bound);\n",
    "}\n",
    "let arr = [5, 3, 8, 1];\n",
    "\n",
    "let filtered = filterRange(arr2, 1, 4);\n",
    "\n",
    "alert(filtered); // 3,1 (matching values)\n",
    "\n",
    "alert(arr2); // 5,3,8,1 (not modified)\n"
   ]
  },
  {
   "cell_type": "markdown",
   "metadata": {},
   "source": [
    "### Accessing characters\n"
   ]
  },
  {
   "cell_type": "markdown",
   "metadata": {},
   "source": [
    "| Feature                    | `.at()`                                                | `.charAt()`                 | `[]` (Bracket Notation)           |\n",
    "| -------------------------- | ------------------------------------------------------ | --------------------------- | --------------------------------- |\n",
    "| **Usage**                  | Returns character at index, supports negative indexing | Returns character at index  | Direct character access via index |\n",
    "| **Negative Indexing**      | ✅ Works (e.g., `str.at(-1)`)                          | ❌ Not supported            | ❌ Not supported                  |\n",
    "| **Out-of-Bounds Behavior** | Returns `undefined`                                    | Returns empty string (`\"\"`) | Returns `undefined`               |\n",
    "| **Browser Compatibility**  | Modern browsers only                                   | Universal support           | Universal support                 |\n",
    "| **Arrays Compatibility**   | ✅ Works with arrays                                   | ❌ Strings only             | ✅ Works with arrays              |\n",
    "| **Performance**            | Comparable to `.charAt()`                              | Comparable to `.at()`       | Slightly faster                   |\n",
    "\n",
    "### Key Notes:\n",
    "\n",
    "- **Negative Indexing:** `.at()` is ideal for accessing elements from the end\n",
    "- **Legacy Code:** Use `.charAt()` for older browser support\n",
    "- **Direct Access:** `[]` is fastest but lacks negative indexing\n"
   ]
  },
  {
   "cell_type": "code",
   "execution_count": null,
   "metadata": {},
   "outputs": [
    {
     "name": "stdout",
     "output_type": "stream",
     "text": [
      "H\n",
      "H\n",
      "o\n",
      "o\n"
     ]
    }
   ],
   "source": [
    "let str = `Hello`;\n",
    "\n",
    "// the first character\n",
    "alert(str[0]); // H\n",
    "alert(str.at(0)); // H\n",
    "\n",
    "// the last character\n",
    "alert(str[str.length - 1]); // o\n",
    "alert(str.at(-1)); // o\n"
   ]
  },
  {
   "cell_type": "markdown",
   "metadata": {},
   "source": [
    "As you can see, the .at(pos) method has a benefit of allowing negative position.\n",
    "If pos is negative, then it’s counted from the end of the string.\n",
    "\n",
    "So .at(-1) means the last character, and .at(-2) is the one before it, etc.\n",
    "\n",
    "The square brackets always return undefined for negative indexes, for instance:\n"
   ]
  },
  {
   "cell_type": "code",
   "execution_count": null,
   "metadata": {},
   "outputs": [
    {
     "name": "stdout",
     "output_type": "stream",
     "text": [
      "undefined\n",
      "l\n",
      "undefined\n"
     ]
    }
   ],
   "source": [
    "let str = `Hello`;\n",
    "\n",
    "alert(str[-2]); // undefined\n",
    "alert(str.at(-2)); // l\n",
    "alert(str.at(100)); // undefined if out of range\n"
   ]
  },
  {
   "cell_type": "code",
   "execution_count": null,
   "metadata": {},
   "outputs": [
    {
     "name": "stdout",
     "output_type": "stream",
     "text": [
      "ABCDEFGHIJKLMNOPQRSTUVWXYZ[\\]^_`abcdefghijklmnopqrstuvwxyz\n"
     ]
    }
   ],
   "source": [
    "let str = \"\";\n",
    "\n",
    "for (let i = 65; i <= 97 + 25; i++) {\n",
    "  str += String.fromCodePoint(i);\n",
    "}\n",
    "alert(str);\n"
   ]
  },
  {
   "cell_type": "markdown",
   "metadata": {},
   "source": [
    "The “right” algorithm to do string comparisons is more complex than it may seem,\n",
    "because alphabets are different for different languages.\n",
    "\n",
    "So, the browser needs to know the language to compare.\n",
    "\n",
    "Luckily, modern browsers support the internationalization standard ECMA-402.\n",
    "\n",
    "It provides a special method to compare strings in different languages,\n",
    "following their rules. The call str.localeCompare(str2) returns an integer\n",
    "indicating whether str is less, equal or greater than str2 according to the\n",
    "language rules:\n",
    "\n",
    "- Returns a negative number if str is less than str2.\n",
    "- Returns a positive number if str is greater than str2.\n",
    "- Returns 0 if they are equivalent.\n"
   ]
  },
  {
   "cell_type": "code",
   "execution_count": null,
   "metadata": {},
   "outputs": [
    {
     "name": "stdout",
     "output_type": "stream",
     "text": [
      "true\n",
      "1\n"
     ]
    }
   ],
   "source": [
    "console.log(\"a\" < \"z\");\n",
    "console.log(\"z\".localeCompare(\"a\"));\n"
   ]
  },
  {
   "cell_type": "markdown",
   "metadata": {},
   "source": [
    "### at() vs charAt()\n",
    "\n",
    "at() allows the use of negative indexes while charAt() do not.\n"
   ]
  },
  {
   "cell_type": "code",
   "execution_count": null,
   "metadata": {},
   "outputs": [
    {
     "data": {
      "text/plain": [
       "\u001b[33mtrue\u001b[39m"
      ]
     },
     "execution_count": 100,
     "metadata": {},
     "output_type": "execute_result"
    }
   ],
   "source": [
    "function ucFirst(s: string) {\n",
    "  return s.at(0).toLocaleUpperCase() + s.slice(1);\n",
    "}\n",
    "ucFirst(\"john\") == \"John\";\n"
   ]
  },
  {
   "cell_type": "code",
   "execution_count": null,
   "metadata": {},
   "outputs": [
    {
     "name": "stdout",
     "output_type": "stream",
     "text": [
      "true\n",
      "true\n",
      "true\n"
     ]
    }
   ],
   "source": [
    "function checkSpam(s: string) {\n",
    "  let banned_words: string[] = [\"stinkies\", \"aaaaaaa\"];\n",
    "  s = s.toLowerCase();\n",
    "  for (let word of banned_words) {\n",
    "    if (s.includes(word)) {\n",
    "      return true;\n",
    "    }\n",
    "  }\n",
    "  return false;\n",
    "}\n",
    "\n",
    "console.log(checkSpam(\"buy stinkies now\") == true);\n",
    "console.log(checkSpam(\"free aaaaaaa\") == true);\n",
    "console.log(checkSpam(\"innocent rabbit\") == false);\n"
   ]
  },
  {
   "cell_type": "code",
   "execution_count": null,
   "metadata": {},
   "outputs": [
    {
     "name": "stdout",
     "output_type": "stream",
     "text": [
      "true\n",
      "true\n"
     ]
    }
   ],
   "source": [
    "function truncate(s: string, maxLen: number) {\n",
    "  return s.length > maxLen ? s.slice(0, maxLen - 1) + \"...\" : s;\n",
    "}\n",
    "\n",
    "console.log(\n",
    "  truncate(\"What I'd like to tell on this topic is:\", 20) ==\n",
    "  \"What I'd like to te...\"\n",
    ");\n",
    "\n",
    "console.log(truncate(\"Hi everyone!\", 20) == \"Hi everyone!\");\n"
   ]
  },
  {
   "cell_type": "code",
   "execution_count": null,
   "metadata": {},
   "outputs": [
    {
     "name": "stdout",
     "output_type": "stream",
     "text": [
      "true\n"
     ]
    }
   ],
   "source": [
    "function extractCurrencyValue(s: string) {\n",
    "  return parseInt(s.slice(1));\n",
    "}\n",
    "alert(extractCurrencyValue(\"$120\") === 120); // true\n"
   ]
  },
  {
   "cell_type": "markdown",
   "metadata": {},
   "source": [
    "An array can store elements of any type.\n",
    "\n",
    "For instance:\n"
   ]
  },
  {
   "cell_type": "code",
   "execution_count": null,
   "metadata": {},
   "outputs": [
    {
     "name": "stdout",
     "output_type": "stream",
     "text": [
      "John\n",
      "hello\n"
     ]
    }
   ],
   "source": [
    "// mix of values\n",
    "let arr = [\n",
    "  \"Apple\",\n",
    "  { name: \"John\" },\n",
    "  function () {\n",
    "    alert(\"hello\");\n",
    "  },\n",
    "];\n",
    "\n",
    "// get the object at index 1 and then show its name\n",
    "alert(arr2[1].name); // John\n",
    "\n",
    "// get the function at index 3 and run it\n",
    "arr2[3](); // hello\n"
   ]
  },
  {
   "cell_type": "code",
   "execution_count": null,
   "metadata": {},
   "outputs": [
    {
     "name": "stdout",
     "output_type": "stream",
     "text": [
      "Plum\n",
      "Plum\n"
     ]
    }
   ],
   "source": [
    "let fruits = [\"Apple\", \"Orange\", \"Plum\"];\n",
    "\n",
    "alert(fruits[fruits.length - 1]); // Plum\n",
    "\n",
    "// same as fruits[fruits.length-1]\n",
    "alert(fruits.at(-1)); // Plum\n"
   ]
  },
  {
   "cell_type": "code",
   "execution_count": null,
   "metadata": {},
   "outputs": [
    {
     "name": "stdout",
     "output_type": "stream",
     "text": [
      "Pear\n",
      "[ \"Apple\", \"Orange\" ]\n",
      "[ \"Apple\", \"Orange\", \"Pear\" ]\n",
      "Apple\n",
      "[ \"Orange\", \"Pear\" ]\n",
      "[ \"Apple\", \"Orange\", \"Pear\" ]\n"
     ]
    }
   ],
   "source": [
    "let fruits = [\"Apple\", \"Orange\", \"Pear\"];\n",
    "\n",
    "alert(fruits.pop()); // remove \"Pear\" and alert it\n",
    "\n",
    "alert(fruits); // Apple, Orange\n",
    "fruits.push(\"Pear\");\n",
    "\n",
    "alert(fruits); // Apple, Orange, Pear\n",
    "\n",
    "alert(fruits.shift()); // remove Apple and alert it\n",
    "\n",
    "alert(fruits); // Orange, Pear\n",
    "\n",
    "fruits.unshift(\"Apple\");\n",
    "\n",
    "alert(fruits); // Apple, Orange, Pear\n"
   ]
  },
  {
   "cell_type": "code",
   "execution_count": null,
   "metadata": {},
   "outputs": [
    {
     "name": "stdout",
     "output_type": "stream",
     "text": [
      "[ <99999 empty items>, 5, age: 25 ]\n"
     ]
    }
   ],
   "source": [
    "let fruits = []; // make an array\n",
    "\n",
    "fruits[99999] = 5; // assign a property with the index far greater than its length\n",
    "\n",
    "fruits.age = 25; // create a property with an arbitrary name\n",
    "\n",
    "console.log(fruits);\n"
   ]
  },
  {
   "cell_type": "code",
   "execution_count": null,
   "metadata": {},
   "outputs": [
    {
     "name": "stdout",
     "output_type": "stream",
     "text": [
      "Apple\n",
      "Orange\n",
      "Pear\n"
     ]
    }
   ],
   "source": [
    "let arr = [\"Apple\", \"Orange\", \"Pear\"];\n",
    "\n",
    "for (let key in arr2) {\n",
    "  alert(arr2[key]);\n",
    "}\n"
   ]
  },
  {
   "cell_type": "markdown",
   "metadata": {},
   "source": [
    "Arrays have their own implementation of toString method that returns a\n",
    "comma-separated list of elements.\n"
   ]
  },
  {
   "cell_type": "code",
   "execution_count": null,
   "metadata": {},
   "outputs": [
    {
     "name": "stdout",
     "output_type": "stream",
     "text": [
      "[ 1, 2, 3 ]\n",
      "true\n"
     ]
    }
   ],
   "source": [
    "let arr = [1, 2, 3];\n",
    "\n",
    "alert(arr2); // 1,2,3\n",
    "alert(String(arr2) === \"1,2,3\"); // true\n"
   ]
  },
  {
   "cell_type": "code",
   "execution_count": null,
   "metadata": {},
   "outputs": [],
   "source": [
    "alert([] + 1); // \"1\"\n",
    "alert([1] + 1); // \"11\"\n",
    "alert([1, 2] + 1); // \"1,21\"\n"
   ]
  },
  {
   "cell_type": "markdown",
   "metadata": {},
   "source": [
    "Arrays do not have Symbol.toPrimitive, neither a viable valueOf, they implement\n",
    "only toString conversion, so here [] becomes an empty string, [1] becomes \"1\"\n",
    "and [1,2] becomes \"1,2\".\n",
    "\n",
    "When the binary plus \"+\" operator adds something to a string, it converts it to\n",
    "a string as well, so the next step looks like this:\n"
   ]
  },
  {
   "cell_type": "code",
   "execution_count": null,
   "metadata": {},
   "outputs": [],
   "source": [
    "alert(\"\" + 1); // \"1\"\n",
    "alert(\"1\" + 1); // \"11\"\n",
    "alert(\"1,2\" + 1); // \"1,21\"\n"
   ]
  },
  {
   "cell_type": "markdown",
   "metadata": {},
   "source": [
    "Don’t compare arrays with == Arrays in JavaScript, unlike some other programming\n",
    "languages, shouldn’t be compared with operator ==.\n",
    "\n",
    "This operator has no special treatment for arrays, it works with them as with\n",
    "any objects.\n",
    "\n",
    "Let’s recall the rules:\n",
    "\n",
    "Two objects are equal == only if they’re references to the same object. If one\n",
    "of the arguments of == is an object, and the other one is a primitive, then the\n",
    "object gets converted to primitive, as explained in the chapter Object to\n",
    "primitive conversion. …With an exception of null and undefined that equal ==\n",
    "each other and nothing else. The strict comparison === is even simpler, as it\n",
    "doesn’t convert types.\n",
    "\n",
    "So, if we compare arrays with ==, they are never the same, unless we compare two\n",
    "variables that reference exactly the same array.\n",
    "\n",
    "For example:\n"
   ]
  },
  {
   "cell_type": "code",
   "execution_count": null,
   "metadata": {},
   "outputs": [
    {
     "name": "stdout",
     "output_type": "stream",
     "text": [
      "true\n",
      "true\n"
     ]
    }
   ],
   "source": [
    "let arr1 = [1, 2, 3, 4, 5];\n",
    "let arr2 = arr1;\n",
    "\n",
    "console.log(arr1 == arr2);\n",
    "\n",
    "let arr3 = [1, 2];\n",
    "let arr4 = [1, 2];\n",
    "console.log(arr3.length == arr4.length && arr3.every((el, i) => el == arr4[i]));\n"
   ]
  },
  {
   "cell_type": "code",
   "execution_count": null,
   "metadata": {},
   "outputs": [],
   "source": [
    "alert([] == []); // false\n",
    "alert([0] == [0]); // false\n"
   ]
  },
  {
   "cell_type": "markdown",
   "metadata": {},
   "source": [
    "These arrays are technically different objects. So they aren’t equal. The ==\n",
    "operator doesn’t do item-by-item comparison.\n",
    "\n",
    "Comparison with primitives may give seemingly strange results as well:\n"
   ]
  },
  {
   "cell_type": "code",
   "execution_count": null,
   "metadata": {},
   "outputs": [],
   "source": [
    "alert(0 == []); // true\n",
    "\n",
    "alert(\"0\" == []); // false\n"
   ]
  },
  {
   "cell_type": "markdown",
   "metadata": {},
   "source": [
    "Here, in both cases, we compare a primitive with an array object. So the array\n",
    "[] gets converted to primitive for the purpose of comparison and becomes an\n",
    "empty string ''.\n",
    "\n",
    "Then the comparison process goes on with the primitives, as described in the\n",
    "chapter Type Conversions:\n"
   ]
  },
  {
   "cell_type": "code",
   "execution_count": null,
   "metadata": {},
   "outputs": [],
   "source": [
    "// after [] was converted to ''\n",
    "alert(0 == \"\"); // true, as '' becomes converted to number 0\n",
    "\n",
    "alert(\"0\" == \"\"); // false, no type conversion, different strings\n"
   ]
  },
  {
   "cell_type": "markdown",
   "metadata": {},
   "source": [
    "So, how to compare arrays?\n",
    "\n",
    "That’s simple: don’t use the == operator. Instead, compare them item-by-item in\n",
    "a loop or using iteration methods\n",
    "\n",
    "Summary Array is a special kind of object, suited to storing and managing\n",
    "ordered data items.\n"
   ]
  },
  {
   "cell_type": "code",
   "execution_count": null,
   "metadata": {},
   "outputs": [
    {
     "name": "stdout",
     "output_type": "stream",
     "text": [
      "[ 1, 2, 3, 4 ]\n",
      "[ 1, 2, 3, 4, 5, 6 ]\n",
      "[ 1, 2, 3, 4, 5, 6 ]\n"
     ]
    }
   ],
   "source": [
    "let arr = [1, 2];\n",
    "\n",
    "alert(arr2.concat([3, 4]));\n",
    "\n",
    "alert(arr2.concat([3, 4], [5, 6]));\n",
    "\n",
    "alert(arr2.concat([3, 4], 5, 6));\n"
   ]
  },
  {
   "cell_type": "code",
   "execution_count": null,
   "metadata": {},
   "outputs": [
    {
     "name": "stdout",
     "output_type": "stream",
     "text": [
      "[ 1, 2, \"something\", \"else\" ]\n"
     ]
    }
   ],
   "source": [
    "let arr = [1, 2];\n",
    "\n",
    "let arrayLike = {\n",
    "  0: \"something\",\n",
    "  1: \"else\",\n",
    "  [Symbol.isConcatSpreadable]: true,\n",
    "  length: 2,\n",
    "};\n",
    "\n",
    "alert(arr2.concat(arrayLike));\n"
   ]
  },
  {
   "cell_type": "code",
   "execution_count": null,
   "metadata": {},
   "outputs": [
    {
     "name": "stdout",
     "output_type": "stream",
     "text": [
      "A 0 [ \"A\", \"B\", \"C\" ]\n",
      "B 1 [ \"A\", \"B\", \"C\" ]\n",
      "C 2 [ \"A\", \"B\", \"C\" ]\n",
      "A 0 [ \"A\", \"B\", \"C\" ]\n",
      "B 1 [ \"A\", \"B\", \"C\" ]\n",
      "C 2 [ \"A\", \"B\", \"C\" ]\n"
     ]
    }
   ],
   "source": [
    "let a = [\"A\", \"B\", \"C\"];\n",
    "a.forEach(console.log);\n",
    "\n",
    "a.forEach(function (item, index, array) {\n",
    "  console.log(item, index, array);\n",
    "});\n"
   ]
  },
  {
   "cell_type": "markdown",
   "metadata": {},
   "source": [
    "The methods arr.indexOf and arr.includes have the similar syntax and do essentially the same as their string counterparts, but operate on items instead of characters:\n",
    "\n",
    "arr.indexOf(item, from) – looks for item starting from index from, and returns the index where it was found, otherwise -1.\n",
    "arr.includes(item, from) – looks for item starting from index from, returns true if found.\n",
    "Usually, these methods are used with only one argument: the item to search. By default, the search is from the beginning.\n",
    "\n",
    "For instance:\n"
   ]
  },
  {
   "cell_type": "code",
   "execution_count": null,
   "metadata": {},
   "outputs": [
    {
     "name": "stdout",
     "output_type": "stream",
     "text": [
      "1\n",
      "2\n",
      "-1\n",
      "true\n"
     ]
    }
   ],
   "source": [
    "let arr = [1, 0, false];\n",
    "\n",
    "alert(arr2.indexOf(0)); // 1\n",
    "alert(arr2.indexOf(false)); // 2\n",
    "alert(arr2.indexOf(null)); // -1\n",
    "\n",
    "alert(arr2.includes(1)); // true\n"
   ]
  },
  {
   "cell_type": "markdown",
   "metadata": {},
   "source": [
    "Please note that indexOf uses the strict equality === for comparison. So, if we look for false, it finds exactly false and not the zero.\n",
    "\n",
    "If we want to check if item exists in the array and don’t need the index, then arr.includes is preferred.\n",
    "\n",
    "The method arr.lastIndexOf is the same as indexOf, but looks for from right to left.\n"
   ]
  },
  {
   "cell_type": "markdown",
   "metadata": {},
   "source": [
    "The includes method handles NaN correctly\n",
    "A minor, but noteworthy feature of includes is that it correctly handles NaN, unlike indexOf:\n"
   ]
  },
  {
   "cell_type": "code",
   "execution_count": null,
   "metadata": {},
   "outputs": [
    {
     "name": "stdout",
     "output_type": "stream",
     "text": [
      "-1\n",
      "true\n"
     ]
    }
   ],
   "source": [
    "const arr2 = [NaN];\n",
    "alert(arr2.indexOf(NaN)); // -1 (wrong, should be 0)\n",
    "alert(arr2.includes(NaN)); // true (correct)\n"
   ]
  },
  {
   "cell_type": "code",
   "execution_count": null,
   "metadata": {},
   "outputs": [
    {
     "name": "stdout",
     "output_type": "stream",
     "text": [
      "John\n"
     ]
    }
   ],
   "source": [
    "let users = [\n",
    "  { id: 1, name: \"John\" },\n",
    "  { id: 2, name: \"Pete\" },\n",
    "  { id: 3, name: \"Mary\" },\n",
    "];\n",
    "\n",
    "let user = users.find((item) => item.id == 1);\n",
    "\n",
    "alert(user.name);\n"
   ]
  },
  {
   "cell_type": "markdown",
   "metadata": {},
   "source": [
    "The arr.findIndex method has the same syntax but returns the index where the element was found instead of the element itself. The value of -1 is returned if nothing is found.\n",
    "\n",
    "The arr.findLastIndex method is like findIndex, but searches from right to left, similar to lastIndexOf.\n"
   ]
  },
  {
   "cell_type": "code",
   "execution_count": null,
   "metadata": {},
   "outputs": [
    {
     "name": "stdout",
     "output_type": "stream",
     "text": [
      "0\n",
      "3\n"
     ]
    }
   ],
   "source": [
    "let users = [\n",
    "  { id: 1, name: \"John\" },\n",
    "  { id: 2, name: \"Pete\" },\n",
    "  { id: 3, name: \"Mary\" },\n",
    "  { id: 4, name: \"John\" },\n",
    "];\n",
    "\n",
    "alert(users.findIndex((user) => user.name == \"John\"));\n",
    "\n",
    "alert(users.findLastIndex((user) => user.name == \"John\"));\n"
   ]
  },
  {
   "cell_type": "code",
   "execution_count": null,
   "metadata": {},
   "outputs": [
    {
     "data": {
      "text/plain": [
       "[ \u001b[33m2\u001b[39m, \u001b[33m4\u001b[39m ]"
      ]
     },
     "execution_count": 27,
     "metadata": {},
     "output_type": "execute_result"
    }
   ],
   "source": [
    "let arr3 = [1, 2, 3, 4];\n",
    "\n",
    "arr3 = arr3.filter((el) => el % 2 == 0);\n"
   ]
  },
  {
   "cell_type": "code",
   "execution_count": null,
   "metadata": {},
   "outputs": [
    {
     "name": "stdout",
     "output_type": "stream",
     "text": [
      "6\n"
     ]
    }
   ],
   "source": [
    "function getMaxSubSum(nums: number[]) {\n",
    "  let maxSum = 0;\n",
    "  let currSum = 0;\n",
    "  for (const num of nums) {\n",
    "    currSum += num;\n",
    "    maxSum = Math.max(currSum, maxSum);\n",
    "    if (currSum < 0) {\n",
    "      currSum = 0;\n",
    "    }\n",
    "  }\n",
    "  return maxSum;\n",
    "}\n",
    "console.log(getMaxSubSum([1, 2, 3, -1]));\n"
   ]
  },
  {
   "cell_type": "markdown",
   "metadata": {},
   "source": [
    "The arr.splice method is a Swiss army knife for arrays. It can do everything: insert, remove and replace elements.\n",
    "\n",
    "The syntax is:\n",
    "\n",
    "```js\n",
    "arr.splice(start[, deleteCount, elem1, ..., elemN])\n",
    "```\n"
   ]
  },
  {
   "cell_type": "code",
   "execution_count": null,
   "metadata": {},
   "outputs": [
    {
     "name": "stdout",
     "output_type": "stream",
     "text": [
      "[]\n"
     ]
    }
   ],
   "source": [
    "let arr = [1, 2, 3];\n",
    "arr.splice(1); //deletes all elements from index 1\n",
    "arr.splice(-1);\n",
    "console.log(arr);\n"
   ]
  },
  {
   "cell_type": "code",
   "execution_count": null,
   "metadata": {},
   "outputs": [
    {
     "name": "stdout",
     "output_type": "stream",
     "text": [
      "[ 3, 1 ]\n"
     ]
    }
   ],
   "source": [
    "function filterRangeInPlace(\n",
    "  arr: number[],\n",
    "  higher_bound: number,\n",
    "  lower_bound: number\n",
    ") {\n",
    "  for (let i = 0; i < arr.length; i++) {\n",
    "    if (arr[i] < higher_bound || arr[i] > lower_bound) {\n",
    "      arr.splice(i, 1);\n",
    "      i--;\n",
    "    }\n",
    "  }\n",
    "}\n",
    "\n",
    "let arr = [5, 3, 8, 1];\n",
    "\n",
    "filterRangeInPlace(arr2, 1, 4); // removed the numbers except from 1 to 4\n",
    "\n",
    "alert(arr2); // [3, 1]\n"
   ]
  },
  {
   "cell_type": "code",
   "execution_count": null,
   "metadata": {},
   "outputs": [
    {
     "name": "stdout",
     "output_type": "stream",
     "text": [
      "[ 8, 5, 2, 1, -10 ]\n"
     ]
    }
   ],
   "source": [
    "let arr = [5, 2, 1, -10, 8];\n",
    "\n",
    "// ... your code to sort it in decreasing order\n",
    "\n",
    "arr2.sort((a, b) => b - a);\n",
    "alert(arr2); // 8, 5, 2, 1, -10\n"
   ]
  },
  {
   "cell_type": "code",
   "execution_count": null,
   "metadata": {},
   "outputs": [
    {
     "name": "stdout",
     "output_type": "stream",
     "text": [
      "[ \"CSS\", \"HTML\", \"JavaScript\" ]\n",
      "[ \"HTML\", \"JavaScript\", \"CSS\" ]\n"
     ]
    }
   ],
   "source": [
    "function copySorted(arr: number[]) {\n",
    "  return arr.slice().sort();\n",
    "}\n",
    "let arr = [\"HTML\", \"JavaScript\", \"CSS\"];\n",
    "\n",
    "let sorted = copySorted(arr2);\n",
    "\n",
    "alert(sorted); // CSS, HTML, JavaScript\n",
    "alert(arr2); // HTML, JavaScript, CSS (no changes)\n"
   ]
  },
  {
   "cell_type": "code",
   "execution_count": null,
   "metadata": {},
   "outputs": [
    {
     "name": "stdout",
     "output_type": "stream",
     "text": [
      "10\n",
      "9\n",
      "81\n"
     ]
    }
   ],
   "source": [
    "function Calculator() {\n",
    "  this.methods = {\n",
    "    \"+\": (a, b) => a + b,\n",
    "    \"-\": (a, b) => a - b,\n",
    "    \"*\": (a, b) => a * b,\n",
    "    \"/\": (a, b) => {\n",
    "      if (b === 0) throw new Error(\"Division by zero is not allowed\");\n",
    "      return a / b;\n",
    "    },\n",
    "    \"//\": (a, b) => {\n",
    "      if (b === 0) throw new Error(\"Division by zero is not allowed\");\n",
    "      return Math.floor(a / b);\n",
    "    },\n",
    "  };\n",
    "\n",
    "  this.calculate = (exp) => {\n",
    "    const tokens = exp.split(\" \");\n",
    "    const a = +tokens[0];\n",
    "    const op = tokens[1];\n",
    "    const b = +tokens[2];\n",
    "\n",
    "    if (!this.methods[op]) {\n",
    "      throw new Error(`${op} is not available`);\n",
    "    }\n",
    "\n",
    "    return this.methods[op](a, b);\n",
    "  };\n",
    "\n",
    "  this.addMethod = (op, func) => {\n",
    "    this.methods[op] = func;\n",
    "  };\n",
    "}\n",
    "const calc = new Calculator();\n",
    "\n",
    "alert(calc.calculate(\"3 + 7\"));\n",
    "alert(calc.calculate(\"1212 // 131\"));\n",
    "calc.addMethod(\"**\", (a, b) => {\n",
    "  return a ** b;\n",
    "});\n",
    "\n",
    "alert(calc.calculate(\"9 ** 2\"));\n"
   ]
  },
  {
   "cell_type": "code",
   "execution_count": null,
   "metadata": {},
   "outputs": [
    {
     "name": "stdout",
     "output_type": "stream",
     "text": [
      "[ \"John\", \"Pete\", \"Mary\" ]\n"
     ]
    }
   ],
   "source": [
    "let john = { name: \"John\", age: 25 };\n",
    "let pete = { name: \"Pete\", age: 30 };\n",
    "let mary = { name: \"Mary\", age: 28 };\n",
    "\n",
    "let users = [john, pete, mary];\n",
    "\n",
    "let names = users.map((user) => user.name);\n",
    "\n",
    "alert(names); // John, Pete, Mary\n"
   ]
  },
  {
   "cell_type": "code",
   "execution_count": null,
   "metadata": {},
   "outputs": [
    {
     "name": "stdout",
     "output_type": "stream",
     "text": [
      "1\n",
      "John Smith\n"
     ]
    }
   ],
   "source": [
    "let john = { name: \"John\", surname: \"Smith\", id: 1 };\n",
    "let pete = { name: \"Pete\", surname: \"Hunt\", id: 2 };\n",
    "let mary = { name: \"Mary\", surname: \"Key\", id: 3 };\n",
    "\n",
    "let users = [john, pete, mary];\n",
    "\n",
    "let usersMapped = users.map((user) => ({\n",
    "  fullName: `${user.name} ${user.surname}`,\n",
    "  id: user.id,\n",
    "}));\n",
    "\n",
    "/*\n",
    "usersMapped = [\n",
    "  { fullName: \"John Smith\", id: 1 },\n",
    "  { fullName: \"Pete Hunt\", id: 2 },\n",
    "  { fullName: \"Mary Key\", id: 3 }\n",
    "]\n",
    "*/\n",
    "\n",
    "alert(usersMapped[0].id); // 1\n",
    "alert(usersMapped[0].fullName); // John Smith\n"
   ]
  },
  {
   "cell_type": "code",
   "execution_count": null,
   "metadata": {},
   "outputs": [
    {
     "name": "stdout",
     "output_type": "stream",
     "text": [
      "B John\n",
      "A Mary\n",
      "C Pete\n",
      "A Mary\n",
      "B John\n",
      "C Pete\n"
     ]
    }
   ],
   "source": [
    "function sortByAge(arr) {\n",
    "  arr.sort((a, b) => a.age - b.age);\n",
    "}\n",
    "\n",
    "function sortByName(arr) {\n",
    "  arr.sort((a: user, b: user) => a.name.localeCompare(b.name)); //to compare strings, use localeComare (lexicographically)\n",
    "}\n",
    "let john = { name: \"B John\", age: 25 };\n",
    "let pete = { name: \"C Pete\", age: 30 };\n",
    "let mary = { name: \"A Mary\", age: 28 };\n",
    "\n",
    "let arr = [pete, john, mary];\n",
    "\n",
    "sortByAge(arr2);\n",
    "\n",
    "// now: [john, mary, pete]\n",
    "alert(arr2[0].name); // John\n",
    "alert(arr2[1].name); // Mary\n",
    "alert(arr2[2].name); // Pete\n",
    "sortByName(arr2);\n",
    "alert(arr2[0].name);\n",
    "alert(arr2[1].name);\n",
    "alert(arr2[2].name);\n"
   ]
  },
  {
   "cell_type": "code",
   "execution_count": null,
   "metadata": {},
   "outputs": [
    {
     "name": "stdout",
     "output_type": "stream",
     "text": [
      "[ 2, 1, 3 ]\n",
      "[ 1, 3, 2 ]\n",
      "[ 2, 3, 1 ]\n"
     ]
    }
   ],
   "source": [
    "function shuffle(arr: number[]) {\n",
    "  //   arr.sort(() => Math.random() - 0.5);\n",
    "  //   alert(arr)\n",
    "  for (let i = 0; i < arr.length; i++) {\n",
    "    let rand_idx = Math.floor(Math.random() * (i + 1));\n",
    "\n",
    "    [arr[rand_idx], arr[i]] = [arr[i], arr[rand_idx]];\n",
    "  }\n",
    "  alert(arr);\n",
    "}\n",
    "\n",
    "let arr = [1, 2, 3];\n",
    "\n",
    "shuffle(arr2);\n",
    "// arr = [3, 2, 1]\n",
    "\n",
    "shuffle(arr2);\n",
    "// arr = [2, 1, 3]\n",
    "\n",
    "shuffle(arr2);\n",
    "// arr = [3, 1, 2]\n",
    "// ...\n"
   ]
  },
  {
   "cell_type": "code",
   "execution_count": null,
   "metadata": {},
   "outputs": [
    {
     "name": "stdout",
     "output_type": "stream",
     "text": [
      "28\n"
     ]
    }
   ],
   "source": [
    "function getAverageAge(arr: number[]) {\n",
    "  return arr.reduce((prev, curr) => prev + curr.age, 0) / arr.length;\n",
    "}\n",
    "let john = { name: \"John\", age: 25 };\n",
    "let pete = { name: \"Pete\", age: 30 };\n",
    "let mary = { name: \"Mary\", age: 29 };\n",
    "\n",
    "let arr = [john, pete, mary];\n",
    "\n",
    "alert(getAverageAge(arr2)); // (25 + 30 + 29) / 3 = 28\n"
   ]
  },
  {
   "cell_type": "code",
   "execution_count": null,
   "metadata": {},
   "outputs": [
    {
     "name": "stdout",
     "output_type": "stream",
     "text": [
      "[ \"1\", \"2\", \"3\" ]\n"
     ]
    }
   ],
   "source": [
    "function unique(arr) {\n",
    "  return [...new Set(arr)];\n",
    "  //return Array.from(new Set(arr));\n",
    "}\n",
    "\n",
    "let strings = [\"1\", \"2\", \"2\", \"3\", \"3\", \"3\"];\n",
    "\n",
    "alert(unique(strings));\n"
   ]
  },
  {
   "cell_type": "code",
   "execution_count": null,
   "metadata": {},
   "outputs": [
    {
     "ename": "SyntaxError",
     "evalue": "Identifier 'users' has already been declared",
     "output_type": "error",
     "traceback": [
      "Stack trace:",
      "SyntaxError: Identifier 'users' has already been declared"
     ]
    }
   ],
   "source": [
    "function groupById(users) {\n",
    "  let res = {};\n",
    "  for (const user of users) {\n",
    "    res[user.id] = { id: user.id, name: user.name, age: user.age };\n",
    "  }\n",
    "  return res;\n",
    "}\n",
    "const users_list = [\n",
    "  { id: \"john\", name: \"John Smith\", age: 20 },\n",
    "  { id: \"ann\", name: \"Ann Smith\", age: 24 },\n",
    "  { id: \"pete\", name: \"Pete Peterson\", age: 31 },\n",
    "];\n",
    "\n",
    "let usersById = groupById(users_list);\n",
    "alert(usersById);\n",
    "\n",
    "/*\n",
    "  // after the call we should have:\n",
    "\n",
    "  usersById = {\n",
    "    john: {id: 'john', name: \"John Smith\", age: 20},\n",
    "    ann: {id: 'ann', name: \"Ann Smith\", age: 24},\n",
    "    pete: {id: 'pete', name: \"Pete Peterson\", age: 31},\n",
    "  }\n",
    "  */\n"
   ]
  },
  {
   "cell_type": "code",
   "execution_count": null,
   "metadata": {},
   "outputs": [
    {
     "data": {
      "text/plain": [
       "[ \u001b[32m\"𝒳\"\u001b[39m, \u001b[32m\"😂\"\u001b[39m ]"
      ]
     },
     "execution_count": 5,
     "metadata": {},
     "output_type": "execute_result"
    }
   ],
   "source": [
    "// https://javascript.info/iterable\n",
    "\n",
    "let str = \"𝒳😂\";\n",
    "\n",
    "// splits str into array of characters\n",
    "let chars = Array.from(str);\n",
    "chars;\n"
   ]
  },
  {
   "cell_type": "code",
   "execution_count": null,
   "metadata": {},
   "outputs": [
    {
     "name": "stdout",
     "output_type": "stream",
     "text": [
      "[\n",
      "  [ undefined, 0 ],\n",
      "  [ undefined, 1 ],\n",
      "  [ undefined, 2 ],\n",
      "  [ undefined, 3 ],\n",
      "  [ undefined, 4 ]\n",
      "]\n",
      "[ 0, 1, 2, 3, 4 ]\n"
     ]
    }
   ],
   "source": [
    "const range = Array.from({ length: 5 }, (el, i) => [el, i]); // el is undefined\n",
    "console.log(range);\n",
    "\n",
    "const range_exclusive = Array.from({ length: 5 }, (_, i) => i);\n",
    "console.log(range_exclusive);\n"
   ]
  },
  {
   "cell_type": "code",
   "execution_count": null,
   "metadata": {},
   "outputs": [
    {
     "name": "stdout",
     "output_type": "stream",
     "text": [
      "Set(3) { 1, 2, 3 }\n",
      "[Set Iterator] { 1, 2, 3 }\n",
      "[Set Iterator] { 1, 2, 3 }\n",
      "[Set Entries] { [ 1, 1 ], [ 2, 2 ], [ 3, 3 ] }\n",
      "Map(3) { \"1\" => 1, \"2\" => 2, \"3\" => 2 }\n",
      "[Map Iterator] { 1, 2, 2 }\n",
      "[Map Iterator] { \"1\", \"2\", \"3\" }\n",
      "[Map Entries] { [ \"1\", 1 ], [ \"2\", 2 ], [ \"3\", 2 ] }\n",
      "Map(2) { { \"1\": 1 } => 1, { \"2\": 2 } => 2 }\n"
     ]
    }
   ],
   "source": [
    "// https://javascript.info/map-set\n",
    "const set1 = new Set([1, 2, 3]);\n",
    "console.log(set1);\n",
    "console.log(set1.values()); //for compatibility with map\n",
    "console.log(set1.keys()); //for compatibility with map\n",
    "console.log(set1.entries()); //for compatibility with map\n",
    "\n",
    "const map1 = new Map(\n",
    "  Object.entries({\n",
    "    1: 1,\n",
    "    2: 2,\n",
    "    3: 2,\n",
    "  })\n",
    ");\n",
    "\n",
    "console.log(map1);\n",
    "console.log(map1.values());\n",
    "console.log(map1.keys());\n",
    "console.log(map1.entries());\n",
    "//maps can have objects as keys, objects can't have objects as keys\n",
    "const map2 = new Map();\n",
    "\n",
    "map2.set({ 1: 1 }, 1);\n",
    "map2.set({ 2: 2 }, 2);\n",
    "\n",
    "console.log(map2);\n"
   ]
  },
  {
   "cell_type": "code",
   "execution_count": null,
   "metadata": {},
   "outputs": [
    {
     "name": "stdout",
     "output_type": "stream",
     "text": [
      "[ \"nap\", \"teachers\", \"ear\" ]\n"
     ]
    }
   ],
   "source": [
    "let arr = [\"nap\", \"teachers\", \"cheaters\", \"PAN\", \"ear\", \"era\", \"hectares\"];\n",
    "\n",
    "function aclean(arr: String[]) {\n",
    "  const seen = new Set();\n",
    "  return arr.filter((el) => {\n",
    "    const processable_representation = el\n",
    "      .toLowerCase()\n",
    "      .split(\"\")\n",
    "      .sort()\n",
    "      .join(\"\");\n",
    "    if (seen.has(processable_representation)) {\n",
    "      return false;\n",
    "    } else {\n",
    "      seen.add(processable_representation);\n",
    "      return true;\n",
    "    }\n",
    "  });\n",
    "}\n",
    "\n",
    "console.log(aclean(arr));\n"
   ]
  },
  {
   "cell_type": "code",
   "execution_count": null,
   "metadata": {},
   "outputs": [
    {
     "name": "stdout",
     "output_type": "stream",
     "text": [
      "object \n",
      " [ \"name\", \"more\" ]\n"
     ]
    }
   ],
   "source": [
    "let map = new Map();\n",
    "\n",
    "map.set(\"name\", \"John\");\n",
    "\n",
    "let keys = map.keys();\n",
    "\n",
    "// Error: keys.push is not a function\n",
    "// keys.push(\"more\");\n",
    "keys = Array.from(keys);\n",
    "keys.push(\"more\");\n",
    "console.log(typeof keys, \"\\n\", keys);\n"
   ]
  },
  {
   "cell_type": "code",
   "execution_count": null,
   "metadata": {},
   "outputs": [
    {
     "data": {
      "text/plain": [
       "{ name: \u001b[32m\"John\"\u001b[39m }"
      ]
     },
     "execution_count": 19,
     "metadata": {},
     "output_type": "execute_result"
    }
   ],
   "source": [
    "let john = { name: \"John\" };\n",
    "\n",
    "let array = [john];\n",
    "\n",
    "john = null;\n",
    "array[0]; // overwrite the reference\n",
    "\n",
    "// the object previously referenced by john is stored inside the array\n",
    "// therefore it won't be garbage-collected\n",
    "// we can get it as array[0]\n"
   ]
  },
  {
   "cell_type": "code",
   "execution_count": null,
   "metadata": {},
   "outputs": [
    {
     "data": {
      "text/plain": [
       "[Map Iterator] { { name: \u001b[32m\"John\"\u001b[39m } }"
      ]
     },
     "execution_count": 21,
     "metadata": {},
     "output_type": "execute_result"
    }
   ],
   "source": [
    "let john = { name: \"John\" };\n",
    "\n",
    "let map = new Map();\n",
    "map.set(john, \"...\");\n",
    "\n",
    "john = null; // overwrite the reference\n",
    "\n",
    "// john is stored inside the map,\n",
    "// we can get it by using map.keys()\n",
    "map.keys(0);\n"
   ]
  },
  {
   "cell_type": "markdown",
   "metadata": {},
   "source": [
    "WeakMap is fundamentally different in this aspect. It doesn’t prevent garbage-collection of key objects.\n",
    "\n",
    "Let’s see what it means on examples.<br>\n",
    "The first difference between Map and WeakMap is that keys must be objects, not primitive values:\n"
   ]
  },
  {
   "cell_type": "code",
   "execution_count": null,
   "metadata": {},
   "outputs": [
    {
     "ename": "TypeError",
     "evalue": "Invalid value used as weak map key",
     "output_type": "error",
     "traceback": [
      "Stack trace:",
      "TypeError: Invalid value used as weak map key",
      "    at WeakMap.set (<anonymous>)",
      "    at <anonymous>:5:9"
     ]
    }
   ],
   "source": [
    "let weakMap = new WeakMap();\n",
    "\n",
    "let obj = {};\n",
    "\n",
    "weakMap.set(obj, \"ok\"); // works fine (object key)\n",
    "\n",
    "// can't use a string as the key\n",
    "weakMap.set(\"test\", \"Whoops\"); // Error, because \"test\" is not an object\n"
   ]
  },
  {
   "cell_type": "code",
   "execution_count": null,
   "metadata": {},
   "outputs": [
    {
     "name": "stdout",
     "output_type": "stream",
     "text": [
      "undefined\n",
      "WeakMap { <items unknown> }\n"
     ]
    }
   ],
   "source": [
    "let john = { name: \"John\" };\n",
    "\n",
    "let weakMap = new WeakMap();\n",
    "weakMap.set(john, \"...\");\n",
    "\n",
    "john = null; // overwrite the reference\n",
    "\n",
    "// john is removed from memory!\n",
    "\n",
    "console.log(weakMap.get(john));\n",
    "console.log(weakMap);\n"
   ]
  },
  {
   "cell_type": "markdown",
   "metadata": {},
   "source": [
    "`WeakMap` does not support iteration and methods `keys()`, `values()`, `entries()`, so there’s no way to get all keys or values from it.\n",
    "\n",
    "WeakMap has only the following methods:\n",
    "\n",
    "```js\n",
    "weakMap.set(key, value);\n",
    "weakMap.get(key);\n",
    "weakMap.delete(key);\n",
    "weakMap.has(key);\n",
    "```\n",
    "\n",
    "Why such a limitation? That’s for technical reasons. If an object has lost all other references (like john in the code above), then it is to be garbage-collected automatically. But technically it’s not exactly specified when the cleanup happens.\n",
    "\n",
    "The JavaScript engine decides that. It may choose to perform the memory cleanup immediately or to wait and do the cleaning later when more deletions happen. So, technically, the current element count of a `WeakMap` is not known. The engine may have cleaned it up or not, or did it partially. For that reason, methods that access all keys/values are not supported.\n"
   ]
  },
  {
   "cell_type": "code",
   "execution_count": null,
   "metadata": {},
   "outputs": [
    {
     "name": "stdout",
     "output_type": "stream",
     "text": [
      "[ \"name\", \"age\" ]\n",
      "[ \"John\", 30 ]\n",
      "[ [ \"name\", \"John\" ], [ \"age\", 30 ] ]\n"
     ]
    }
   ],
   "source": [
    "let user = {\n",
    "  name: \"John\",\n",
    "  age: 30,\n",
    "};\n",
    "\n",
    "console.log(Object.keys(user));\n",
    "console.log(Object.values(user));\n",
    "console.log(Object.entries(user));\n"
   ]
  },
  {
   "cell_type": "markdown",
   "metadata": {},
   "source": [
    "Object.keys/values/entries ignore symbolic properties\n",
    "Just like a for..in loop, these methods ignore properties that use Symbol(...) as keys.\n",
    "\n",
    "Usually that’s convenient. But if we want symbolic keys too, then there’s a separate method Object.getOwnPropertySymbols that returns an array of only symbolic keys. Also, there exist a method Reflect.ownKeys(obj) that returns all keys.\n"
   ]
  },
  {
   "cell_type": "code",
   "execution_count": null,
   "metadata": {},
   "outputs": [
    {
     "name": "stdout",
     "output_type": "stream",
     "text": [
      "100\n"
     ]
    }
   ],
   "source": [
    "let prices = {\n",
    "  apple: 50,\n",
    "  banana: 1,\n",
    "  orange: 2,\n",
    "  meat: 4,\n",
    "};\n",
    "\n",
    "let doublePrices = Object.fromEntries(\n",
    "  // convert prices to array, map each key/value pair into another pair\n",
    "  // and then fromEntries gives back the object\n",
    "  Object.entries(prices).map((entry) => [entry[0], entry[1] * 2])\n",
    ");\n",
    "\n",
    "console.log(doublePrices.apple);\n"
   ]
  },
  {
   "cell_type": "code",
   "execution_count": null,
   "metadata": {},
   "outputs": [
    {
     "name": "stdout",
     "output_type": "stream",
     "text": [
      "650\n"
     ]
    }
   ],
   "source": [
    "let salaries = {\n",
    "  John: 100,\n",
    "  Pete: 300,\n",
    "  Mary: 250,\n",
    "};\n",
    "\n",
    "function sumSalaries(salaries: { string: number }) {\n",
    "  let sum = 0;\n",
    "  for (const el of Object.values(salaries)) {\n",
    "    sum += el;\n",
    "  }\n",
    "  return sum;\n",
    "}\n",
    "\n",
    "alert(sumSalaries(salaries));\n"
   ]
  },
  {
   "cell_type": "code",
   "execution_count": null,
   "metadata": {},
   "outputs": [
    {
     "name": "stdout",
     "output_type": "stream",
     "text": [
      "2\n"
     ]
    }
   ],
   "source": [
    "let user = {\n",
    "  name: \"John\",\n",
    "  age: 30,\n",
    "};\n",
    "\n",
    "function count(obj: Object) {\n",
    "  return Object.keys(obj).length;\n",
    "}\n",
    "alert(count(user));\n"
   ]
  },
  {
   "cell_type": "code",
   "execution_count": null,
   "metadata": {},
   "outputs": [
    {
     "name": "stdout",
     "output_type": "stream",
     "text": [
      "Julius\n",
      "Placeholder surname\n"
     ]
    }
   ],
   "source": [
    "// runs only prompt for surname\n",
    "let [\n",
    "  name = prompt(\"name?\"),\n",
    "  surname = prompt(\"surname?\", \"Placeholder surname\"),\n",
    "] = [\"Julius\"];\n",
    "\n",
    "alert(name); // Julius (from array)\n",
    "alert(surname); // whatever prompt gets\n"
   ]
  },
  {
   "cell_type": "code",
   "execution_count": null,
   "metadata": {},
   "outputs": [
    {
     "name": "stdout",
     "output_type": "stream",
     "text": [
      "Menu\n",
      "100\n",
      "200\n"
     ]
    }
   ],
   "source": [
    "let options = {\n",
    "  title: \"Menu\",\n",
    "  width: 100,\n",
    "  height: 200,\n",
    "};\n",
    "\n",
    "let { title, width, height } = options;\n",
    "\n",
    "alert(title);\n",
    "alert(width);\n",
    "alert(height);\n"
   ]
  },
  {
   "cell_type": "code",
   "execution_count": null,
   "metadata": {},
   "outputs": [
    {
     "name": "stdout",
     "output_type": "stream",
     "text": [
      "Menu 200 100\n"
     ]
    }
   ],
   "source": [
    "// The order does not matter. This works too:\n",
    "\n",
    "// changed the order in let {...}\n",
    "let { height, width, title } = { title: \"Menu\", height: 200, width: 100 };\n",
    "console.log(title, height, width);\n"
   ]
  },
  {
   "cell_type": "code",
   "execution_count": null,
   "metadata": {},
   "outputs": [
    {
     "name": "stdout",
     "output_type": "stream",
     "text": [
      "Menu\n",
      "100\n",
      "200\n"
     ]
    }
   ],
   "source": [
    "let options = {\n",
    "  title: \"Menu\",\n",
    "};\n",
    "\n",
    "let { width: w = 100, height: h = 200, title } = options;\n",
    "\n",
    "console.log(title); // Menu\n",
    "console.log(w); // 100\n",
    "console.log(h); // 200\n"
   ]
  },
  {
   "cell_type": "markdown",
   "metadata": {},
   "source": [
    "Gotcha if there’s no let\n",
    "In the examples above variables were declared right in the assignment: let {…} = {…}. Of course, we could use existing variables too, without let. But there’s a catch.\n",
    "\n",
    "This won’t work:\n"
   ]
  },
  {
   "cell_type": "code",
   "execution_count": null,
   "metadata": {},
   "outputs": [],
   "source": [
    "let title, width, height;\n",
    "\n",
    "// error in this line\n",
    "// {title, width, height} = {title: \"Menu\", width: 200, height: 100};\n"
   ]
  },
  {
   "cell_type": "markdown",
   "metadata": {},
   "source": [
    "The problem is that JavaScript treats {...} in the main code flow (not inside another expression) as a code block. Such code blocks can be used to group statements, like this:\n"
   ]
  },
  {
   "cell_type": "code",
   "execution_count": null,
   "metadata": {},
   "outputs": [
    {
     "name": "stdout",
     "output_type": "stream",
     "text": [
      "Hello\n"
     ]
    }
   ],
   "source": [
    "{\n",
    "  // a code block\n",
    "  let message = \"Hello\";\n",
    "  // ...\n",
    "  console.log(message);\n",
    "}\n"
   ]
  },
  {
   "cell_type": "markdown",
   "metadata": {},
   "source": [
    "So here JavaScript assumes that we have a code block, that’s why there’s an error. We want destructuring instead.\n",
    "\n",
    "To show JavaScript that it's not a code block, we can wrap the expression in parentheses (...):\n"
   ]
  },
  {
   "cell_type": "code",
   "execution_count": null,
   "metadata": {},
   "outputs": [
    {
     "name": "stdout",
     "output_type": "stream",
     "text": [
      "Menu\n"
     ]
    }
   ],
   "source": [
    "let title, width, height;\n",
    "\n",
    "// okay now\n",
    "({ title, width, height } = { title: \"Menu\", width: 200, height: 100 });\n",
    "\n",
    "console.log(title); // Menu\n"
   ]
  },
  {
   "cell_type": "code",
   "execution_count": null,
   "metadata": {},
   "outputs": [
    {
     "name": "stdout",
     "output_type": "stream",
     "text": [
      "John\n",
      "30\n",
      "false\n"
     ]
    }
   ],
   "source": [
    "let user = { name: \"John\", years: 30 };\n",
    "\n",
    "// your code to the left side:\n",
    "// ... = user\n",
    "let { name, years: age, isAdmin = false } = user;\n",
    "alert(name); // John\n",
    "alert(age); // 30\n",
    "alert(isAdmin); // false\n"
   ]
  },
  {
   "cell_type": "code",
   "execution_count": null,
   "metadata": {},
   "outputs": [
    {
     "name": "stdout",
     "output_type": "stream",
     "text": [
      "Pete\n"
     ]
    }
   ],
   "source": [
    "let salaries = {\n",
    "  John: 100,\n",
    "  Pete: 300,\n",
    "  Mary: 250,\n",
    "};\n",
    "\n",
    "//   Create the function topSalary(salaries) that returns the name of the top-paid person.\n",
    "\n",
    "// If salaries is empty, it should return null.\n",
    "// If there are multiple top-paid persons, return any of them.\n",
    "// P.S. Use Object.entries and destructuring to iterate over key/value pairs.\n",
    "\n",
    "function topSalary(salaries) {\n",
    "  let topSalary = 0;\n",
    "  let topSalaryPerson = null;\n",
    "  for (let [person, salary] of Object.entries(salaries)) {\n",
    "    if (salary > topSalary) {\n",
    "      topSalary = salary;\n",
    "      topSalaryPerson = person;\n",
    "    }\n",
    "  }\n",
    "  return topSalaryPerson;\n",
    "}\n",
    "\n",
    "console.log(topSalary(salaries));\n"
   ]
  },
  {
   "cell_type": "code",
   "execution_count": null,
   "metadata": {},
   "outputs": [
    {
     "name": "stdout",
     "output_type": "stream",
     "text": [
      "2025-04-26T15:04:41.416Z\n"
     ]
    }
   ],
   "source": [
    "const date = new Date();\n",
    "console.log(date);\n"
   ]
  },
  {
   "cell_type": "code",
   "execution_count": null,
   "metadata": {},
   "outputs": [
    {
     "data": {
      "text/plain": [
       "\u001b[33m23\u001b[39m"
      ]
     },
     "execution_count": 42,
     "metadata": {},
     "output_type": "execute_result"
    }
   ],
   "source": [
    "new Date().getHours();\n"
   ]
  },
  {
   "cell_type": "code",
   "execution_count": null,
   "metadata": {},
   "outputs": [
    {
     "data": {
      "text/plain": [
       "\u001b[33m2025\u001b[39m"
      ]
     },
     "execution_count": 33,
     "metadata": {},
     "output_type": "execute_result"
    }
   ],
   "source": [
    "new Date().getFullYear();\n"
   ]
  },
  {
   "cell_type": "code",
   "execution_count": null,
   "metadata": {},
   "outputs": [
    {
     "data": {
      "text/plain": [
       "\u001b[33m26\u001b[39m"
      ]
     },
     "execution_count": 34,
     "metadata": {},
     "output_type": "execute_result"
    }
   ],
   "source": [
    "new Date().getDate();\n"
   ]
  },
  {
   "cell_type": "code",
   "execution_count": null,
   "metadata": {},
   "outputs": [
    {
     "data": {
      "text/plain": [
       "\u001b[33m6\u001b[39m"
      ]
     },
     "execution_count": 38,
     "metadata": {},
     "output_type": "execute_result"
    }
   ],
   "source": [
    "new Date().getDay();\n",
    "// 0 (Sunday) to 6 (Saturday)\n"
   ]
  },
  {
   "cell_type": "code",
   "execution_count": null,
   "metadata": {},
   "outputs": [
    {
     "name": "stdout",
     "output_type": "stream",
     "text": [
      "undefined\n"
     ]
    }
   ],
   "source": [
    "console.log(new Date().getVarDate)\n",
    "//getVarDate - an old property thats removed "
   ]
  },
  {
   "cell_type": "code",
   "execution_count": null,
   "metadata": {},
   "outputs": [
    {
     "data": {
      "text/plain": [
       "\u001b[33m17\u001b[39m"
      ]
     },
     "execution_count": 44,
     "metadata": {},
     "output_type": "execute_result"
    }
   ],
   "source": [
    "new Date().getUTCHours();\n",
    "// the hour in UTC+0 time zone (London time without daylight savings)\n"
   ]
  },
  {
   "cell_type": "code",
   "execution_count": null,
   "metadata": {},
   "outputs": [
    {
     "name": "stdout",
     "output_type": "stream",
     "text": [
      "-330\n"
     ]
    }
   ],
   "source": [
    "console.log(new Date().getTimezoneOffset());\n"
   ]
  },
  {
   "cell_type": "markdown",
   "metadata": {},
   "source": [
    "Setting date components\n",
    "The following methods allow to set date/time components:\n",
    "\n",
    "```js\n",
    "setFullYear(year, [month], [date]);\n",
    "setMonth(month, [date]);\n",
    "setDate(date);\n",
    "setHours(hour, [min], [sec], [ms]);\n",
    "setMinutes(min, [sec], [ms]);\n",
    "setSeconds(sec, [ms]);\n",
    "setMilliseconds(ms);\n",
    "setTime(milliseconds);\n",
    "//(sets the whole date by milliseconds since 01.01.1970 UTC)\n",
    "```\n",
    "\n",
    "Every one of them except setTime() has a UTC-variant, for instance: setUTCHours().\n"
   ]
  },
  {
   "cell_type": "code",
   "execution_count": null,
   "metadata": {},
   "outputs": [
    {
     "name": "stdout",
     "output_type": "stream",
     "text": [
      "1️⃣ Logs in UTC (default behavior)\n",
      "2025-05-14T06:13:47.767Z\n",
      "⛔ Shows ISO format in UTC → may look like wrong date/time\n",
      "\n",
      "2️⃣ Set hour to 0 (local time), keeps min/sec/ms\n",
      "2025-05-13T19:13:47.767Z\n",
      "⛔ Still logs in UTC → looks like previous day if your timezone is ahead\n",
      "\n",
      "3️⃣ Logs in **local time** with readable format\n",
      "Wed May 14 2025 00:43:47 GMT+0530 (India Standard Time)\n",
      "✅ Shows full local date & time (e.g., \"Wed May 14 2025 00:00:00 GMT+0530\")\n",
      "\n",
      "4️⃣ Logs in **local time** in a compact format\n",
      "5/14/2025, 12:43:47 AM\n",
      "✅ Shows local date/time like \"14/5/2025, 12:00:00 AM\"\n",
      "\n",
      "5️⃣ Just the local **time** portion\n",
      "12:43:47 AM\n",
      "✅ Shows \"12:00:00 AM\" in your local timezone\n",
      "\n",
      "6️⃣ Local formatted using Intl (more control)\n",
      "Wednesday 14 May 2025 at 00:43:47 GMT+5:30\n",
      "✅ \"Wednesday, 14 May 2025 at 00:00:00 Indian Standard Time\"\n",
      "\n"
     ]
    }
   ],
   "source": [
    "let today = new Date();\n",
    "\n",
    "console.log('1️⃣ Logs in UTC (default behavior)')\n",
    "console.log(today);\n",
    "console.log('⛔ Shows ISO format in UTC → may look like wrong date/time\\n')\n",
    "\n",
    "console.log('2️⃣ Set hour to 0 (local time), keeps min/sec/ms')\n",
    "today.setHours(0);\n",
    "console.log(today);\n",
    "console.log('⛔ Still logs in UTC → looks like previous day if your timezone is ahead\\n')\n",
    "\n",
    "console.log('3️⃣ Logs in **local time** with readable format')\n",
    "console.log(today.toString());\n",
    "console.log('✅ Shows full local date & time (e.g., \"Wed May 14 2025 00:00:00 GMT+0530\")\\n')\n",
    "\n",
    "console.log('4️⃣ Logs in **local time** in a compact format')\n",
    "console.log(today.toLocaleString());\n",
    "console.log('✅ Shows local date/time like \"14/5/2025, 12:00:00 AM\"\\n')\n",
    "\n",
    "console.log('5️⃣ Just the local **time** portion')\n",
    "console.log(today.toLocaleTimeString());\n",
    "console.log('✅ Shows \"12:00:00 AM\" in your local timezone\\n')\n",
    "\n",
    "console.log('6️⃣ Local formatted using Intl (more control)')\n",
    "console.log(new Intl.DateTimeFormat('en-GB', {\n",
    "  dateStyle: 'full', timeStyle: 'long'\n",
    "}).format(today));\n",
    "console.log('✅ \"Wednesday, 14 May 2025 at 00:00:00 Indian Standard Time\"\\n')\n"
   ]
  },
  {
   "cell_type": "markdown",
   "metadata": {},
   "source": [
    "The autocorrection is a very handy feature of Date objects. We can set out-of-range values, and it will auto-adjust itself.\n"
   ]
  },
  {
   "cell_type": "code",
   "execution_count": 44,
   "metadata": {},
   "outputs": [
    {
     "name": "stdout",
     "output_type": "stream",
     "text": [
      "2025-01-31T18:30:00.000Z\n"
     ]
    }
   ],
   "source": [
    "let date2 = new Date(2025, 0, 32); // 32 Jan 2013 ?!?\n",
    "console.log(date2); // ...is 1st Feb 2013!\n"
   ]
  },
  {
   "cell_type": "markdown",
   "metadata": {},
   "source": [
    "Out-of-range date components are distributed automatically.\n",
    "\n",
    "Let’s say we need to increase the date “28 Feb 2016” by 2 days. It may be “2 Mar” or “1 Mar” in case of a leap-year. We don’t need to think about it. Just add 2 days. The Date object will do the rest:\n"
   ]
  },
  {
   "cell_type": "code",
   "execution_count": 45,
   "metadata": {},
   "outputs": [
    {
     "name": "stdout",
     "output_type": "stream",
     "text": [
      "Tue Mar 01 2016 00:00:00 GMT+0530 (India Standard Time)\n",
      "2016-02-29T18:30:00.000Z\n"
     ]
    }
   ],
   "source": [
    "let date3 = new Date(2016, 1, 28);\n",
    "date3.setDate(date3.getDate() + 2);\n",
    "\n",
    "alert(date3.toString()); // 1 Mar 2016\n",
    "alert(date3) // shows different date because of timezone offset\n"
   ]
  },
  {
   "cell_type": "markdown",
   "metadata": {},
   "source": [
    "That feature is often used to get the date after the given period of time. For instance, let’s get the date for “70 seconds after now”:\n"
   ]
  },
  {
   "cell_type": "code",
   "execution_count": 50,
   "metadata": {},
   "outputs": [
    {
     "name": "stdout",
     "output_type": "stream",
     "text": [
      "Wed May 14 2025 11:56:07 GMT+0530 (India Standard Time)\n",
      "Wed May 14 2025 11:57:17 GMT+0530 (India Standard Time)\n"
     ]
    }
   ],
   "source": [
    "let date4 = new Date();\n",
    "console.log(date4.toString())\n",
    "date4.setSeconds(date4.getSeconds() + 70);\n",
    "\n",
    "alert(date4.toString()); // shows the correct date4\n"
   ]
  },
  {
   "cell_type": "code",
   "execution_count": null,
   "metadata": {},
   "outputs": [
    {
     "name": "stdout",
     "output_type": "stream",
     "text": [
      "The loop took 3 ms\n"
     ]
    }
   ],
   "source": [
    "let start = new Date(); // start measuring time\n",
    "\n",
    "// do the job\n",
    "for (let i = 0; i < 100000; i++) {\n",
    "  let doSomething = i * i * i;\n",
    "}\n",
    "\n",
    "let end = new Date(); // end measuring time\n",
    "\n",
    "alert(`The loop took ${end - start} ms`);\n"
   ]
  },
  {
   "cell_type": "markdown",
   "metadata": {},
   "source": [
    "Date.now()\n",
    "If we only want to measure time, we don’t need the Date object.\n",
    "\n",
    "There’s a special method Date.now() that returns the current timestamp.\n",
    "\n",
    "It is semantically equivalent to new Date().getTime(), but it doesn’t create an intermediate Date object. So it’s faster and doesn’t put pressure on garbage collection.\n",
    "\n",
    "It is used mostly for convenience or when performance matters, like in games in JavaScript or other specialized applications.\n",
    "\n",
    "So this is probably better:\n"
   ]
  },
  {
   "cell_type": "code",
   "execution_count": null,
   "metadata": {},
   "outputs": [
    {
     "name": "stdout",
     "output_type": "stream",
     "text": [
      "The loop took 2 ms\n"
     ]
    }
   ],
   "source": [
    "let start = Date.now(); // milliseconds count from 1 Jan 1970\n",
    "\n",
    "// do the job\n",
    "for (let i = 0; i < 100000; i++) {\n",
    "  let doSomething = i * i * i;\n",
    "}\n",
    "\n",
    "let end = Date.now(); // done\n",
    "\n",
    "alert(`The loop took ${end - start} ms`); // subtract numbers, not dates\n"
   ]
  },
  {
   "cell_type": "code",
   "execution_count": null,
   "metadata": {},
   "outputs": [],
   "source": [
    "// we have date1 and date2, which function faster returns their difference in ms?\n",
    "function diffSubtract(date1, date2) {\n",
    "  return date2 - date1;\n",
    "}\n",
    "\n",
    "// or\n",
    "function diffGetTime(date1, date2) {\n",
    "  return date2.getTime() - date1.getTime();\n",
    "}\n"
   ]
  },
  {
   "cell_type": "markdown",
   "metadata": {},
   "source": [
    "These two do exactly the same thing, but one of them uses an explicit date.getTime() to get the date in ms, and the other one relies on a date-to-number transform. Their result is always the same.\n",
    "\n",
    "So, which one is faster?\n",
    "\n",
    "The first idea may be to run them many times in a row and measure the time difference. For our case, functions are very simple, so we have to do it at least 100000 times.\n",
    "\n",
    "Let’s measure:\n"
   ]
  },
  {
   "cell_type": "code",
   "execution_count": 56,
   "metadata": {},
   "outputs": [
    {
     "name": "stdout",
     "output_type": "stream",
     "text": [
      "Time of diffSubtract: 19ms\n",
      "Time of diffGetTime: 3ms\n"
     ]
    }
   ],
   "source": [
    "function diffSubtract(date1, date2) {\n",
    "  return date2 - date1;\n",
    "}\n",
    "\n",
    "function diffGetTime(date1, date2) {\n",
    "  return date2.getTime() - date1.getTime();\n",
    "}\n",
    "\n",
    "function bench(f) {\n",
    "  let date1 = new Date(0);\n",
    "  let date2 = new Date();\n",
    "  let start = Date.now();\n",
    "  for (let i = 0; i < 100000; i++) f(date1, date2);\n",
    "  return Date.now() - start;\n",
    "}\n",
    "\n",
    "alert(\"Time of diffSubtract: \" + bench(diffSubtract) + \"ms\");\n",
    "alert(\"Time of diffGetTime: \" + bench(diffGetTime) + \"ms\");\n"
   ]
  },
  {
   "cell_type": "markdown",
   "metadata": {},
   "source": [
    "`Date.parse` from a string\n",
    "The method `Date.parse(str)` can read a date from a string.\n",
    "\n",
    "The string format should be: YYYY-MM-DDTHH:mm:ss.sssZ, where:\n",
    "\n",
    "- YYYY-MM-DD – is the date: year-month-day.\n",
    "The character \"T\" is used as the delimiter.\n",
    "- HH:mm:ss.sss – is the time: hours, minutes, seconds and milliseconds.\n",
    "- The optional 'Z' part denotes the time zone in the format +-hh:mm. A single letter Z would mean UTC+0.\n",
    "\n",
    "Shorter variants are also possible, like YYYY-MM-DD or YYYY-MM or even YYYY.\n",
    "\n",
    "The call to `Date.parse(str)` parses the string in the given format and returns the timestamp (number of milliseconds from 1 Jan 1970 UTC+0). If the format is invalid, returns NaN.\n",
    "\n",
    "For instance:"
   ]
  },
  {
   "cell_type": "code",
   "execution_count": null,
   "metadata": {},
   "outputs": [
    {
     "name": "stdout",
     "output_type": "stream",
     "text": [
      "1327611110417\n"
     ]
    }
   ],
   "source": [
    "let ms = Date.parse('2012-01-26T13:51:50.417-07:00');\n",
    "\n",
    "alert(ms); // 1327611110417  (timestamp)"
   ]
  },
  {
   "cell_type": "code",
   "execution_count": null,
   "metadata": {},
   "outputs": [
    {
     "name": "stdout",
     "output_type": "stream",
     "text": [
      "1764547200000\n"
     ]
    }
   ],
   "source": [
    "let ms2 = Date.parse('2025-12-01')\n",
    "alert(ms2)"
   ]
  },
  {
   "cell_type": "code",
   "execution_count": null,
   "metadata": {},
   "outputs": [
    {
     "name": "stdout",
     "output_type": "stream",
     "text": [
      "{name: \"John\n",
      "\", age: 30}\n"
     ]
    }
   ],
   "source": [
    "// https://javascript.info/json\n",
    "let user = {\n",
    "    name: \"John\\n\",\n",
    "    age: 30,\n",
    "    toString() {\n",
    "        return `{name: \"${this.name}\", age: ${this.age}}`;\n",
    "    }\n",
    "};\n",
    "\n",
    "alert(user.toString());"
   ]
  },
  {
   "cell_type": "code",
   "execution_count": 3,
   "metadata": {},
   "outputs": [
    {
     "name": "stdout",
     "output_type": "stream",
     "text": [
      "string\n",
      "{\"name\":\"John\\n\",\"age\":30}\n"
     ]
    }
   ],
   "source": [
    "let student = {\n",
    "    name: 'John\\n',\n",
    "    age: 30,\n",
    "};\n",
    "\n",
    "let student_json = JSON.stringify(student);\n",
    "console.log(typeof student_json)\n",
    "alert(student_json);"
   ]
  },
  {
   "cell_type": "markdown",
   "metadata": {},
   "source": [
    "JSON is data-only language-independent specification, so some JavaScript-specific object properties are skipped by JSON.stringify.\n",
    "\n",
    "Namely:\n",
    "\n",
    "Function properties (methods).\n",
    "Symbolic keys and values.\n",
    "Properties that store undefined."
   ]
  },
  {
   "cell_type": "code",
   "execution_count": null,
   "metadata": {},
   "outputs": [
    {
     "name": "stdout",
     "output_type": "stream",
     "text": [
      "{}\n"
     ]
    }
   ],
   "source": [
    "let user = {\n",
    "  sayHi() { // ignored\n",
    "    alert(\"Hello\");\n",
    "  },\n",
    "  [Symbol(\"id\")]: 123, // ignored\n",
    "  something: undefined // ignored\n",
    "};\n",
    "\n",
    "alert(JSON.stringify(user)); // {} (empty object)"
   ]
  },
  {
   "cell_type": "markdown",
   "metadata": {},
   "source": [
    "The important limitation: there must be no circular references."
   ]
  },
  {
   "cell_type": "code",
   "execution_count": 5,
   "metadata": {},
   "outputs": [
    {
     "ename": "TypeError",
     "evalue": "Converting circular structure to JSON\n    --> starting at object with constructor 'Object'\n    |     property 'place' -> object with constructor 'Object'\n    --- property 'occupiedBy' closes the circle",
     "output_type": "error",
     "traceback": [
      "Stack trace:",
      "TypeError: Converting circular structure to JSON",
      "    --> starting at object with constructor 'Object'",
      "    |     property 'place' -> object with constructor 'Object'",
      "    --- property 'occupiedBy' closes the circle",
      "    at JSON.stringify (<anonymous>)",
      "    at <anonymous>:13:6"
     ]
    }
   ],
   "source": [
    "let room = {\n",
    "  number: 23\n",
    "};\n",
    "\n",
    "let meetup = {\n",
    "  title: \"Conference\",\n",
    "  participants: [\"A\", \"B\"]\n",
    "};\n",
    "\n",
    "meetup.place = room;       // meetup references room\n",
    "room.occupiedBy = meetup; // room references meetup\n",
    "\n",
    "JSON.stringify(meetup); "
   ]
  },
  {
   "cell_type": "markdown",
   "metadata": {},
   "source": [
    "Excluding and transforming: replacer\n",
    "The full syntax of JSON.stringify is:\n",
    "```js\n",
    "let json = JSON.stringify(value[, replacer, space])\n",
    "```"
   ]
  },
  {
   "cell_type": "markdown",
   "metadata": {},
   "source": [
    "- value\n",
    "    A value to encode.\n",
    "- replacer\n",
    "    Array of properties to encode or a mapping function function(key, value).\n",
    "- space:\n",
    "    Amount of space to use for formatting"
   ]
  },
  {
   "cell_type": "markdown",
   "metadata": {},
   "source": [
    "Most of the time, JSON.stringify is used with the first argument only. But if we need to fine-tune the replacement process, like to filter out circular references, we can use the second argument of JSON.stringify."
   ]
  },
  {
   "cell_type": "markdown",
   "metadata": {},
   "source": [
    "If we pass an array of properties to it, only these properties will be encoded."
   ]
  },
  {
   "cell_type": "code",
   "execution_count": null,
   "metadata": {},
   "outputs": [
    {
     "name": "stdout",
     "output_type": "stream",
     "text": [
      "{\"title\":\"Conference\",\"participants\":[{},{}]}\n"
     ]
    }
   ],
   "source": [
    "let room = {\n",
    "  number: 23\n",
    "};\n",
    "\n",
    "let meetup = {\n",
    "  title: \"Conference\",\n",
    "  participants: [{ name: \"John\" }, { name: \"Alice\" }],\n",
    "  place: room // meetup references room\n",
    "};\n",
    "\n",
    "room.occupiedBy = meetup; // room references meetup\n",
    "\n",
    "alert(JSON.stringify(meetup, ['title', 'participants']));"
   ]
  },
  {
   "cell_type": "markdown",
   "metadata": {},
   "source": [
    "Here we are probably too strict. The property list is applied to the whole object structure. So the objects in participants are empty, because name is not in the list.\n",
    "\n",
    "Let’s include every property except `room.occupiedBy` that would cause the circular reference:"
   ]
  },
  {
   "cell_type": "code",
   "execution_count": null,
   "metadata": {},
   "outputs": [
    {
     "name": "stdout",
     "output_type": "stream",
     "text": [
      "{\"title\":\"Conference\",\"participants\":[{\"name\":\"John\"},{\"name\":\"Alice\"}],\"place\":{\"number\":23,\"doors\":2}}\n"
     ]
    }
   ],
   "source": [
    "let room = {\n",
    "  number: 23,\n",
    "  doors: 2\n",
    "};\n",
    "\n",
    "let meetup = {\n",
    "  title: \"Conference\",\n",
    "  participants: [{ name: \"John\" }, { name: \"Alice\" }],\n",
    "  place: room // meetup references room\n",
    "};\n",
    "\n",
    "room.occupiedBy = meetup; // room references meetup\n",
    "\n",
    "alert(JSON.stringify(meetup, ['title', 'participants', 'place', 'name', 'number', 'doors']));\n",
    "// alert( JSON.stringify(meetup, ['title', 'participants', 'place', 'name', 'number','doors','occupiedBy'])); //error: circular struture"
   ]
  },
  {
   "cell_type": "markdown",
   "metadata": {},
   "source": [
    "The function will be called for every (key, value) pair and should return the “replaced” value, which will be used instead of the original one. Or undefined if the value is to be skipped.\n",
    "\n",
    "In our case, we can return value “as is” for everything except occupiedBy. To ignore occupiedBy, the code below returns undefined:"
   ]
  },
  {
   "cell_type": "code",
   "execution_count": 72,
   "metadata": {},
   "outputs": [
    {
     "name": "stdout",
     "output_type": "stream",
     "text": [
      "'': '[object Object]'\n",
      "'title': 'Conference'\n",
      "'participants': '[object Object],[object Object]'\n",
      "'0': '[object Object]'\n",
      "'name': 'John'\n",
      "'1': '[object Object]'\n",
      "'name': 'Alice'\n",
      "'place': '[object Object]'\n",
      "'number': '23'\n",
      "'doors': '3'\n",
      "'occupiedBy': '[object Object]'\n",
      "{\"title\":\"Conference\",\"participants\":[{\"name\":\"John\"},{\"name\":\"Alice\"}],\"place\":{\"number\":23,\"doors\":3}}\n",
      "{\"title\":\"Conference\",\"participants\":[{\"name\":\"John\"},{\"name\":\"Alice\"}],\"place\":{\"number\":23,\"doors\":3}}\n"
     ]
    }
   ],
   "source": [
    "let room = {\n",
    "    number: 23,\n",
    "    doors: 3\n",
    "};\n",
    "\n",
    "let meetup = {\n",
    "    title: \"Conference\",\n",
    "    participants: [{ name: \"John\" }, { name: \"Alice\" }],\n",
    "    place: room // meetup references room\n",
    "};\n",
    "\n",
    "room.occupiedBy = meetup; // room references meetup\n",
    "\n",
    "alert(JSON.stringify(meetup, function replacer(key, value) {\n",
    "    alert(`'${key}': '${value}'`);\n",
    "    // The first call is special. It is made using a special `\"wrapper object\": {\"\": meetup}`.\n",
    "    // The first entry is `\":[object Object]\"` \n",
    "    return (key == 'occupiedBy') ? undefined : value;\n",
    "}));\n",
    "alert(JSON.stringify(meetup, (k, v) => k !== 'occupiedBy' ? v : undefined))"
   ]
  },
  {
   "cell_type": "markdown",
   "metadata": {},
   "source": [
    "Please note that replacer function gets every key/value pair including nested objects and array items. It is applied recursively. The value of this inside replacer is the object that contains the current property.\n",
    "\n",
    "The first call is special. It is made using a special `\"wrapper object\": {\"\": meetup}`.\n",
    "\n",
    "<strong>\n",
    "In other words, the first (key, value) pair has an empty key, and the value is the target object as a whole. \n",
    "That’s why the first line is `\":[object Object]\"` in the example above.\n",
    "</strong>\n",
    "The idea is to provide as much power for replacer as possible: \n",
    ">it has a chance to analyze and replace/skip even the whole object if necessary."
   ]
  },
  {
   "cell_type": "code",
   "execution_count": 21,
   "metadata": {},
   "outputs": [
    {
     "name": "stdout",
     "output_type": "stream",
     "text": [
      "{\"name\":\"John\",\"age\":25,\"roles\":{\"isAdmin\":false,\"isEditor\":true}}\n",
      "{\n",
      "  \"name\": \"John\",\n",
      "  \"age\": 25,\n",
      "  \"roles\": {\n",
      "    \"isAdmin\": false,\n",
      "    \"isEditor\": true\n",
      "  }\n",
      "}\n"
     ]
    }
   ],
   "source": [
    "let user = {\n",
    "  name: \"John\",\n",
    "  age: 25,\n",
    "  roles: {\n",
    "    isAdmin: false,\n",
    "    isEditor: true\n",
    "  }\n",
    "};\n",
    "alert(JSON.stringify(user))\n",
    "alert(JSON.stringify(user, null, 2));"
   ]
  },
  {
   "cell_type": "code",
   "execution_count": null,
   "metadata": {},
   "outputs": [
    {
     "name": "stdout",
     "output_type": "stream",
     "text": [
      "23\n",
      "{\"title\":\"Conference\",\"room\":23}\n",
      "{\"number\":23} {\"title\":\"Conference\",\"room\":23}\n"
     ]
    }
   ],
   "source": [
    "let room = {\n",
    "  number: 23,\n",
    "  toJSON() {\n",
    "    return this.number;\n",
    "  }\n",
    "};\n",
    "\n",
    "let meetup = {\n",
    "  title: \"Conference\",\n",
    "  room\n",
    "};\n",
    "\n",
    "alert(JSON.stringify(room));\n",
    "\n",
    "alert(JSON.stringify(meetup));\n",
    "\n",
    "room = {\n",
    "  number: 23\n",
    "}\n",
    "\n",
    "alert(JSON.stringify(room), JSON.stringify(meetup))"
   ]
  },
  {
   "cell_type": "code",
   "execution_count": null,
   "metadata": {},
   "outputs": [
    {
     "ename": "TypeError",
     "evalue": "meetup.date.getDate is not a function",
     "output_type": "error",
     "traceback": [
      "Stack trace:",
      "TypeError: meetup.date.getDate is not a function",
      "    at <anonymous>:3:19"
     ]
    }
   ],
   "source": [
    "let str = '{\"title\":\"Conference\",\"date\":\"2017-11-30T12:00:00.000Z\"}';\n",
    "\n",
    "let meetup = JSON.parse(str);\n",
    "\n",
    "alert(meetup.date.getDate()); // Error"
   ]
  },
  {
   "cell_type": "code",
   "execution_count": null,
   "metadata": {},
   "outputs": [
    {
     "name": "stdout",
     "output_type": "stream",
     "text": [
      "18\n"
     ]
    }
   ],
   "source": [
    "let schedule = `{\n",
    "  \"meetups\": [\n",
    "    {\"title\":\"Conference\",\"date\":\"2017-11-30T12:00:00.000Z\"},\n",
    "    {\"title\":\"Birthday\",\"date\":\"2017-04-18T12:00:00.000Z\"}\n",
    "  ]\n",
    "}`;\n",
    "\n",
    "schedule = JSON.parse(schedule, function (key, value) {\n",
    "  if (key == 'date') return new Date(value);\n",
    "  return value;\n",
    "});\n",
    "\n",
    "alert(schedule.meetups[1].date.getDate());"
   ]
  },
  {
   "cell_type": "markdown",
   "metadata": {},
   "source": [
    "Turn the user into JSON and then read it back into another variable."
   ]
  },
  {
   "cell_type": "code",
   "execution_count": null,
   "metadata": {},
   "outputs": [
    {
     "name": "stdout",
     "output_type": "stream",
     "text": [
      "{\"name\":\"John Smith\",\"age\":35} { name: \"John Smith\", age: 35 }\n"
     ]
    }
   ],
   "source": [
    "let user = {\n",
    "  name: \"John Smith\",\n",
    "  age: 35\n",
    "};\n",
    "\n",
    "const user_json = JSON.stringify(user)\n",
    "const deserialized_json = JSON.parse(user_json)\n",
    "\n",
    "console.log(user_json, deserialized_json)"
   ]
  },
  {
   "cell_type": "code",
   "execution_count": null,
   "metadata": {},
   "outputs": [
    {
     "name": "stdout",
     "output_type": "stream",
     "text": [
      "{\"title\":\"Conference\",\"occupiedBy\":[{\"name\":\"John\"},{\"name\":\"Alice\"}],\"place\":{\"number\":23}}\n"
     ]
    }
   ],
   "source": [
    "let room = {\n",
    "  number: 23\n",
    "};\n",
    "\n",
    "let meetup = {\n",
    "  title: \"Conference\",\n",
    "  occupiedBy: [{ name: \"John\" }, { name: \"Alice\" }],\n",
    "  place: room\n",
    "};\n",
    "\n",
    "// circular references\n",
    "room.occupiedBy = meetup;\n",
    "meetup.self = meetup;\n",
    "\n",
    "console.log(JSON.stringify(meetup, function replacer(key, value) {\n",
    "  /* your code */\n",
    "  // console.log(`key: \"${key}\",value: \"${value}\" ${value == meetup}`)\n",
    "  return (key !== \"\" && value === meetup) ? undefined : value\n",
    "}));\n",
    "// The check key != \"\" prevents the root object from being removed in the replacer function\n",
    "/* result should be:\n",
    "{\n",
    "  \"title\":\"Conference\",\n",
    "  \"occupiedBy\":[{\"name\":\"John\"},{\"name\":\"Alice\"}],\n",
    "  \"place\":{\"number\":23}\n",
    "}\n",
    "*/"
   ]
  },
  {
   "cell_type": "code",
   "execution_count": null,
   "metadata": {},
   "outputs": [
    {
     "name": "stdout",
     "output_type": "stream",
     "text": [
      "7700\n"
     ]
    }
   ],
   "source": [
    "// https://javascript.info/recursion\n",
    "\n",
    "type StructureArr = { name: string, salary: number }[]\n",
    "type Company = {\n",
    "    sales: StructureArr;\n",
    "    development: {\n",
    "        sites: StructureArr;\n",
    "        internals: StructureArr;\n",
    "    };\n",
    "}\n",
    "let company: Company = {\n",
    "    sales: [{ name: \"John\", salary: 1000 }, { name: \"Alice\", salary: 1600 }],\n",
    "    development: {\n",
    "        sites: [{ name: \"Peter\", salary: 2000 }, { name: \"Alex\", salary: 1800 }],\n",
    "        internals: [{ name: \"Jack\", salary: 1300 }],\n",
    "    },\n",
    "};\n",
    "\n",
    "// The function to do the job\n",
    "function sumSalaries(department: Company | StructureArr): number {\n",
    "    if (Array.isArray(department)) {\n",
    "        return department.reduce((prev, curr) => prev + curr.salary, 0)\n",
    "    } else {\n",
    "        let sum = 0\n",
    "        for (const subdep of Object.values(department))\n",
    "            sum += sumSalaries(subdep)\n",
    "        return sum\n",
    "    }\n",
    "}\n",
    "\n",
    "console.log(sumSalaries(company)); // 7700"
   ]
  },
  {
   "cell_type": "code",
   "execution_count": 43,
   "metadata": {},
   "outputs": [
    {
     "name": "stdout",
     "output_type": "stream",
     "text": [
      "1\n",
      "2\n",
      "3\n",
      "4\n"
     ]
    }
   ],
   "source": [
    "type ListNode = {\n",
    "  value: number;\n",
    "  next: ListNode | null;\n",
    "};\n",
    "\n",
    "const list: ListNode = {\n",
    "  value: 1,\n",
    "  next: {\n",
    "    value: 2,\n",
    "    next: {\n",
    "      value: 3,\n",
    "      next: {\n",
    "        value: 4,\n",
    "        next: null\n",
    "      }\n",
    "    }\n",
    "  }\n",
    "};\n",
    "\n",
    "function printList(list: ListNode) {\n",
    "  if (list == null)\n",
    "    return\n",
    "  console.log(list.value)\n",
    "  printList(list.next)\n",
    "}\n",
    "\n",
    "printList(list)"
   ]
  },
  {
   "cell_type": "code",
   "execution_count": null,
   "metadata": {},
   "outputs": [
    {
     "name": "stdout",
     "output_type": "stream",
     "text": [
      "4\n",
      "3\n",
      "2\n",
      "1\n"
     ]
    }
   ],
   "source": [
    "function printList(list: ListNode) {\n",
    "  if (list == null)\n",
    "    return\n",
    "  printList(list.next)\n",
    "  console.log(list.value)\n",
    "}\n",
    "\n",
    "printList(list)"
   ]
  },
  {
   "cell_type": "code",
   "execution_count": null,
   "metadata": {},
   "outputs": [
    {
     "name": "stdout",
     "output_type": "stream",
     "text": [
      "1 2 [ 3, 4, 5 ]\n",
      "number number object\n"
     ]
    }
   ],
   "source": [
    "// https://javascript.info/rest-parameters-spread\n",
    "function f(arg1: any, arg2: any, ...rest: any[]) {\n",
    "    console.log(arg1, arg2, rest)\n",
    "    console.log(typeof arg1, typeof arg2, typeof rest)\n",
    "}\n",
    "\n",
    "f(1, 2, 3, 4, 5)"
   ]
  },
  {
   "cell_type": "code",
   "execution_count": 9,
   "metadata": {},
   "outputs": [
    {
     "data": {
      "text/plain": [
       "\u001b[33m3\u001b[39m"
      ]
     },
     "execution_count": 9,
     "metadata": {},
     "output_type": "execute_result"
    }
   ],
   "source": [
    "function sum(a: number) {\n",
    "    return (b: number) => a + b\n",
    "}\n",
    "\n",
    "sum(1)(2)"
   ]
  },
  {
   "cell_type": "code",
   "execution_count": 10,
   "metadata": {},
   "outputs": [
    {
     "ename": "ReferenceError",
     "evalue": "Cannot access 'x' before initialization",
     "output_type": "error",
     "traceback": [
      "Stack trace:",
      "ReferenceError: Cannot access 'x' before initialization",
      "    at func (<anonymous>:3:15)",
      "    at <anonymous>:6:1"
     ]
    }
   ],
   "source": [
    "let x = 1;\n",
    "\n",
    "function func() {\n",
    "  console.log(x); // ReferenceError: Cannot access 'x' before initialization\n",
    "  let x = 2;\n",
    "}\n",
    "\n",
    "func();"
   ]
  },
  {
   "cell_type": "markdown",
   "metadata": {},
   "source": [
    "Explanation:"
   ]
  },
  {
   "cell_type": "code",
   "execution_count": null,
   "metadata": {},
   "outputs": [
    {
     "ename": "ReferenceError",
     "evalue": "Cannot access 'x' before initialization",
     "output_type": "error",
     "traceback": [
      "Stack trace:",
      "ReferenceError: Cannot access 'x' before initialization",
      "    at func (<anonymous>:6:15)",
      "    at <anonymous>:9:1"
     ]
    }
   ],
   "source": [
    "let x = 1;\n",
    "function func() {\n",
    "    // the local variable x is known to the engine from the beginning of the function,\n",
    "    // but \"uninitialized\" (unusable) until let (\"dead zone\")\n",
    "    // hence the error\n",
    "    // This zone of temporary unusability of a variable (from the beginning of the code block till let) is sometimes called the “dead zone”.\n",
    "\n",
    "    console.log(x); // ReferenceError: Cannot access 'x' before initialization\n",
    "\n",
    "    let x = 2;\n",
    "}\n",
    "func()"
   ]
  },
  {
   "cell_type": "code",
   "execution_count": null,
   "metadata": {},
   "outputs": [
    {
     "name": "stdout",
     "output_type": "stream",
     "text": [
      "[ 3, 4, 5, 6 ]\n",
      "[ 3, 4, 5, 6 ]\n",
      "[ 1, 2, 6 ]\n",
      "[ 1, 2 ]\n"
     ]
    }
   ],
   "source": [
    "function inBetween(a: number, b: number) {\n",
    "    return (x: number) => x >= a && x <= b\n",
    "}\n",
    "function inArray(arr: number[]) {\n",
    "    return (x: number) => arr.includes(x)\n",
    "}\n",
    "\n",
    "const inBetweenFilter = inBetween(3, 6)\n",
    "const inArrayFilter = inArray([1, 2, 6])\n",
    "\n",
    "let arr = [1, 2, 3, 4, 5, 6, 7];\n",
    "\n",
    "console.log(arr.filter(inBetweenFilter)); // 3,4,5,6\n",
    "//or\n",
    "console.log(arr.filter(inBetween(3, 6)))\n",
    "\n",
    "console.log(arr.filter(inArrayFilter)) // 1,2\n",
    "//or\n",
    "console.log(arr.filter(inArray([1, 2, 10])))"
   ]
  },
  {
   "cell_type": "code",
   "execution_count": 20,
   "metadata": {},
   "outputs": [
    {
     "name": "stdout",
     "output_type": "stream",
     "text": [
      "[\n",
      "  { name: \"Ann\", age: 19, surname: \"Meliea\" },\n",
      "  { name: \"John\", age: 20, surname: \"Johnson\" },\n",
      "  { name: \"Pete\", age: 18, surname: \"Peterson\" }\n",
      "]\n",
      "[\n",
      "  { name: \"Pete\", age: 18, surname: \"Peterson\" },\n",
      "  { name: \"Ann\", age: 19, surname: \"Meliea\" },\n",
      "  { name: \"John\", age: 20, surname: \"Johnson\" }\n",
      "]\n",
      "[\n",
      "  { name: \"John\", age: 20, surname: \"Johnson\" },\n",
      "  { name: \"Ann\", age: 19, surname: \"Meliea\" },\n",
      "  { name: \"Pete\", age: 18, surname: \"Peterson\" }\n",
      "]\n"
     ]
    }
   ],
   "source": [
    "let users = [\n",
    "  { name: \"John\", age: 20, surname: \"Johnson\" },\n",
    "  { name: \"Pete\", age: 18, surname: \"Peterson\" },\n",
    "  { name: \"Ann\", age: 19, surname: \"Meliea\" }\n",
    "];\n",
    "\n",
    "function byField(field) {\n",
    "\n",
    "  return (a, b) => {\n",
    "    if (typeof a[field] === \"string\") {\n",
    "      return a[field].localeCompare(b[field])\n",
    "    }\n",
    "    else return a[field] - b[field]\n",
    "  }\n",
    "}\n",
    "\n",
    "console.log(users.sort(byField('name')))\n",
    "console.log(users.sort(byField('age')))\n",
    "console.log(users.sort(byField('surname')))"
   ]
  },
  {
   "cell_type": "code",
   "execution_count": null,
   "metadata": {},
   "outputs": [
    {
     "name": "stdout",
     "output_type": "stream",
     "text": [
      "Hi\n",
      "Hi\n",
      "Called 2 times\n"
     ]
    }
   ],
   "source": [
    "function sayHi() {\n",
    "  alert(\"Hi\");\n",
    "\n",
    "  // let's count how many times we run\n",
    "  sayHi.counter++;\n",
    "}\n",
    "let counter = 0\n",
    "sayHi.counter = 0; // initial value\n",
    "\n",
    "sayHi(); // Hi\n",
    "sayHi(); // Hi\n",
    "\n",
    "alert(`Called ${sayHi.counter} times`); // Called 2 times"
   ]
  },
  {
   "cell_type": "markdown",
   "metadata": {},
   "source": [
    "### A property is not a variable\n",
    "\n",
    "A property assigned to a function like sayHi.counter = 0 does not define a local variable counter inside it. In other words, a property counter and a variable let counter are two unrelated things.\n",
    "\n",
    "We can treat a function as an object, store properties in it, but that has no effect on its execution. Variables are not function properties and vice versa. These are just parallel worlds."
   ]
  },
  {
   "cell_type": "markdown",
   "metadata": {},
   "source": [
    "### Named Function Expression\n",
    "Named Function Expression, or NFE, is a term for Function Expressions that have a name.\n",
    "\n",
    "For instance, let’s take an ordinary Function Expression:"
   ]
  },
  {
   "cell_type": "code",
   "execution_count": null,
   "metadata": {},
   "outputs": [
    {
     "name": "stdout",
     "output_type": "stream",
     "text": [
      "Hello, Universe\n"
     ]
    }
   ],
   "source": [
    "const sayHi = function (who = \"Universe\") {\n",
    "  alert(`Hello, ${who}`);\n",
    "};\n",
    "sayHi()"
   ]
  },
  {
   "cell_type": "markdown",
   "metadata": {},
   "source": [
    "And add a name to it:"
   ]
  },
  {
   "cell_type": "code",
   "execution_count": null,
   "metadata": {},
   "outputs": [],
   "source": [
    "const sayHi = function func(who) {\n",
    "  alert(`Hello, ${who}`);\n",
    "};"
   ]
  },
  {
   "cell_type": "markdown",
   "metadata": {},
   "source": [
    "\n",
    "Did we achieve anything here? What’s the purpose of that additional \"func\" name?\n",
    "\n",
    "First let’s note, that we still have a Function Expression. Adding the name \"func\" after function did not make it a Function Declaration, because it is still created as a part of an assignment expression.\n",
    "\n",
    "Adding such a name also did not break anything.\n",
    "\n",
    "The function is still available as sayHi():\n",
    "\n",
    "(Ps. it doesnt need to be named as func, it can be any name like foo, bar, spam, egg)"
   ]
  },
  {
   "cell_type": "code",
   "execution_count": null,
   "metadata": {},
   "outputs": [
    {
     "name": "stdout",
     "output_type": "stream",
     "text": [
      "Hello, John\n",
      "func\n"
     ]
    }
   ],
   "source": [
    "const sayHi = function func(who) {\n",
    "  alert(`Hello, ${who}`);\n",
    "};\n",
    "\n",
    "sayHi(\"John\"); // Hello, John\n",
    "console.log(sayHi.name)"
   ]
  },
  {
   "cell_type": "markdown",
   "metadata": {},
   "source": [
    "There are two special things about the name func, that are the reasons for it:\n",
    "\n",
    "\n",
    "- It allows the function to reference itself internally.\n",
    "- It is not visible outside of the function.\n",
    "- For instance, the function sayHi below calls itself again with \"Guest\" if no who is provided:"
   ]
  },
  {
   "cell_type": "code",
   "execution_count": 11,
   "metadata": {},
   "outputs": [
    {
     "name": "stdout",
     "output_type": "stream",
     "text": [
      "Hello, Guest\n"
     ]
    }
   ],
   "source": [
    "const sayHi = function func(who) {\n",
    "  if (who) {\n",
    "    alert(`Hello, ${who}`);\n",
    "  } else {\n",
    "    func(\"Guest\"); // use func to re-call itself\n",
    "  }\n",
    "};\n",
    "\n",
    "sayHi(); // Hello, Guest\n",
    "\n",
    "// But this won't work:\n",
    "// func(); // Error, func is not defined (not visible outside of the function)"
   ]
  },
  {
   "cell_type": "code",
   "execution_count": 19,
   "metadata": {},
   "outputs": [
    {
     "ename": "TypeError",
     "evalue": "sayHelloTo is not a function",
     "output_type": "error",
     "traceback": [
      "Stack trace:",
      "TypeError: sayHelloTo is not a function",
      "    at sayHelloTo (<anonymous>:5:5)",
      "    at <anonymous>:10:1"
     ]
    }
   ],
   "source": [
    "let sayHelloTo = function (who) {\n",
    "    if (who) {\n",
    "        alert(`Hello, ${who}`);\n",
    "    } else {\n",
    "        sayHelloTo\n",
    "            (\"Guest\"); // Error: sayHi is not a function\n",
    "    }\n",
    "};\n",
    "\n",
    "let welcome = sayHelloTo;\n",
    "sayHelloTo = null;\n",
    "\n",
    "welcome(); // Error, the nested sayHi call doesn't work any more!"
   ]
  },
  {
   "cell_type": "markdown",
   "metadata": {},
   "source": [
    "That happens because the function takes sayHi from its outer lexical environment. There’s no local sayHi, so the outer variable is used. And at the moment of the call that outer sayHi is null.\n",
    "\n",
    "The optional name(func) which we can put into the Function Expression is meant to solve exactly these kinds of problems."
   ]
  },
  {
   "cell_type": "code",
   "execution_count": null,
   "metadata": {},
   "outputs": [
    {
     "name": "stdout",
     "output_type": "stream",
     "text": [
      "No args given, trying egg as the arg\n",
      "gave egg as arg\n"
     ]
    }
   ],
   "source": [
    "const foo = function bar(egg) {\n",
    "    if (egg) {\n",
    "        console.log(`gave ${egg} as arg`)\n",
    "    }\n",
    "    else {\n",
    "        console.log(\"No args given, trying egg as the arg\")\n",
    "        bar(\"egg\")\n",
    "    }\n",
    "}\n",
    "foo()"
   ]
  },
  {
   "cell_type": "code",
   "execution_count": 30,
   "metadata": {},
   "outputs": [
    {
     "name": "stdout",
     "output_type": "stream",
     "text": [
      "3\n",
      "2\n"
     ]
    }
   ],
   "source": [
    "function sum1(a) {\n",
    "    let total = a\n",
    "\n",
    "    function inner(b) {\n",
    "        if (b === undefined) {\n",
    "            return total\n",
    "        }\n",
    "        else {\n",
    "            total += b\n",
    "            return inner\n",
    "        }\n",
    "    }\n",
    "    return inner\n",
    "}\n",
    "\n",
    "console.log(sum1(1)(2)())\n",
    "\n",
    "function sum2(a) {\n",
    "    let total = a;\n",
    "\n",
    "    function inner(b) {\n",
    "        total += b;\n",
    "        return inner\n",
    "    }\n",
    "\n",
    "    inner.valueOf = () => total;\n",
    "\n",
    "    return inner\n",
    "}\n",
    "console.log(+sum2(1)(1))"
   ]
  },
  {
   "cell_type": "code",
   "execution_count": null,
   "metadata": {},
   "outputs": [
    {
     "name": "stdout",
     "output_type": "stream",
     "text": [
      "6\n",
      "3\n"
     ]
    }
   ],
   "source": [
    "function sum_v1(a) {\n",
    "    let total = a\n",
    "\n",
    "    return function inner(b) {\n",
    "        if (b === undefined) {\n",
    "            return total\n",
    "        }\n",
    "        total += b\n",
    "        return inner\n",
    "    }\n",
    "\n",
    "}\n",
    "\n",
    "console.log(sum_v1(1)(2)(3)()) //6\n",
    "\n",
    "function sum_v2(a) {\n",
    "\n",
    "    let total = a\n",
    "    return function inner(b) {\n",
    "        total += b\n",
    "        inner.valueOf = () => total\n",
    "        return inner\n",
    "    }\n",
    "\n",
    "}\n",
    "console.log(+sum_v2(1)(2)) //3"
   ]
  },
  {
   "cell_type": "code",
   "execution_count": 13,
   "metadata": {},
   "outputs": [
    {
     "data": {
      "text/plain": [
       "\u001b[33m3\u001b[39m"
      ]
     },
     "execution_count": 13,
     "metadata": {},
     "output_type": "execute_result"
    },
    {
     "name": "stdout",
     "output_type": "stream",
     "text": [
      "Hi\n"
     ]
    }
   ],
   "source": [
    "function sayHi() {\n",
    "    console.log(\"Hi\")\n",
    "}\n",
    "\n",
    "setTimeout(() => {sayHi()}, 2000);"
   ]
  },
  {
   "cell_type": "code",
   "execution_count": 15,
   "metadata": {},
   "outputs": [
    {
     "data": {
      "text/plain": [
       "\u001b[33m5\u001b[39m"
      ]
     },
     "execution_count": 15,
     "metadata": {},
     "output_type": "execute_result"
    },
    {
     "name": "stdout",
     "output_type": "stream",
     "text": [
      "Hello\n"
     ]
    }
   ],
   "source": [
    "// If the first argument is a string, then JavaScript creates a function from it.\n",
    "\n",
    "// So, this will also work:\n",
    "\n",
    "setTimeout(\"console.log('Hello')\", 1000);"
   ]
  },
  {
   "cell_type": "code",
   "execution_count": null,
   "metadata": {},
   "outputs": [
    {
     "name": "stdout",
     "output_type": "stream",
     "text": [
      "5\n",
      "6\n",
      "7\n",
      "8\n",
      "9\n",
      "10\n"
     ]
    }
   ],
   "source": [
    "function printNumbers(from, to) {\n",
    "    let curr = from\n",
    "    let intervalId = setInterval(() => {\n",
    "        console.log(curr)\n",
    "        if (curr >= to) {\n",
    "            clearInterval(intervalId)\n",
    "        }\n",
    "        curr++\n",
    "    }, 1000);\n",
    "}\n",
    "\n",
    "printNumbers(5, 10);"
   ]
  },
  {
   "cell_type": "code",
   "execution_count": null,
   "metadata": {},
   "outputs": [
    {
     "name": "stdout",
     "output_type": "stream",
     "text": [
      "5\n"
     ]
    },
    {
     "name": "stdout",
     "output_type": "stream",
     "text": [
      "6\n",
      "7\n",
      "8\n",
      "9\n",
      "10\n"
     ]
    }
   ],
   "source": [
    "function printNumbers(from, to) {\n",
    "    let curr = from;\n",
    "    function start() {\n",
    "        if (curr < to-1) {\n",
    "            setTimeout(start, 1000);\n",
    "        }\n",
    "        console.log(curr)\n",
    "        curr++;\n",
    "    }\n",
    "    start(); // for not delaying in the first second\n",
    "    const timeoutId = setTimeout(start, 1000);\n",
    "}\n",
    "\n",
    "printNumbers(5, 10);"
   ]
  },
  {
   "cell_type": "code",
   "execution_count": 1,
   "metadata": {},
   "outputs": [
    {
     "name": "stdout",
     "output_type": "stream",
     "text": [
      "lisa\n",
      "lisa\n"
     ]
    }
   ],
   "source": [
    "let robot = {\n",
    "    name: \"lisa\",\n",
    "    sayName() {\n",
    "        return this.name;\n",
    "    }\n",
    "};\n",
    "\n",
    "function callDemo(func_arg) {\n",
    "    return function () {\n",
    "        let result = func_arg.call(this);\n",
    "        return result;\n",
    "    };\n",
    "}\n",
    "\n",
    "console.log(robot.sayName());\n",
    "robot.sayName = callDemo(robot.sayName);\n",
    "\n",
    "console.log(robot.sayName());"
   ]
  },
  {
   "cell_type": "markdown",
   "metadata": {},
   "source": [
    "* **`call`**: Invokes a function immediately with a specified `this` context and arguments passed individually.\n",
    "  \n",
    "  **Syntax:** `func.call(thisArg, arg1, arg2, ...)`\n",
    "\n",
    "* **`apply`**: Invokes a function immediately with a specified `this` context and arguments passed as an array.\n",
    "\n",
    "  **Syntax:** `func.apply(thisArg, [arg1, arg2, ...])`\n",
    "\n",
    "* **`bind`**: Returns a new function with a permanently bound `this` context and optional initial arguments, without invoking it immediately.\n",
    "\n",
    "  **Syntax:** `const boundFunc = func.bind(thisArg, arg1, arg2, ...)`"
   ]
  },
  {
   "cell_type": "code",
   "execution_count": null,
   "metadata": {},
   "outputs": [
    {
     "name": "stdout",
     "output_type": "stream",
     "text": [
      "Extra Arg: EXTRA\n",
      "Original Args: [ \"hello\" ]\n",
      "Modified Args: [ \"HELLO\" ]\n",
      "HELLO, my name is lisa\n"
     ]
    }
   ],
   "source": [
    "let robot = {\n",
    "    name: \"lisa\",\n",
    "    sayName(greeting) {\n",
    "        return `${greeting}, my name is ${this.name}`;\n",
    "    }\n",
    "};\n",
    "\n",
    "\n",
    "\n",
    "function callDemo2(func_arg, extra_arg) {\n",
    "    return function (...args) {\n",
    "        console.log(\"Extra Arg:\", extra_arg);\n",
    "        console.log(\"Original Args:\", args);\n",
    "\n",
    "        // You can even modify args here\n",
    "        let modifiedArgs = args.map(arg => String(arg).toUpperCase());\n",
    "\n",
    "        console.log(\"Modified Args:\", modifiedArgs);\n",
    "\n",
    "        // Apply modified arguments\n",
    "        let result = func_arg.call(this, ...modifiedArgs);\n",
    "        return result;\n",
    "    };\n",
    "}\n",
    "\n",
    "robot.sayName = callDemo2(robot.sayName, \"EXTRA\");\n",
    "\n",
    "console.log(robot.sayName(\"hello\"));"
   ]
  },
  {
   "cell_type": "code",
   "execution_count": 12,
   "metadata": {},
   "outputs": [
    {
     "name": "stdout",
     "output_type": "stream",
     "text": [
      "arg1 arg2\n",
      "abcd 1\n"
     ]
    }
   ],
   "source": [
    "let robot = {\n",
    "    name: \"abcd\",\n",
    "    ranking:1 \n",
    "}\n",
    "function applyDemo(arg1,arg2){\n",
    "    console.log(arg1,arg2)\n",
    "    return this.name + \" \"+ this.ranking\n",
    "}\n",
    "let result =  applyDemo.apply(robot,[\"arg1\",\"arg2\"])\n",
    "console.log(result)"
   ]
  },
  {
   "cell_type": "code",
   "execution_count": 9,
   "metadata": {},
   "outputs": [
    {
     "name": "stdout",
     "output_type": "stream",
     "text": [
      "1\n"
     ]
    }
   ],
   "source": [
    "let obj:Object = {\n",
    "    a: 1,\n",
    "    sayA() {\n",
    "        console.log(this.a)\n",
    "    }\n",
    "}\n",
    "\n",
    "function bindDemo(func) {\n",
    "    return function () {\n",
    "        func.call()\n",
    "    }\n",
    "}\n",
    "\n",
    "const func2 = bindDemo(obj.sayA.bind(obj))\n",
    "func2()"
   ]
  },
  {
   "cell_type": "code",
   "execution_count": 26,
   "metadata": {},
   "outputs": [
    {
     "name": "stdout",
     "output_type": "stream",
     "text": [
      "Hello there\n"
     ]
    }
   ],
   "source": [
    "function debounce(func, ms) {\n",
    "    let timeout;\n",
    "    return function (...args) {\n",
    "        clearTimeout(timeout);\n",
    "        timeout = setTimeout(() => func.apply(this, args), ms);\n",
    "    };\n",
    "}\n",
    "\n",
    "function helloWorld(who = \"world\") {\n",
    "    console.log(\"Hello \" + who)\n",
    "}\n",
    "\n",
    "const slowHelloWorld = debounce(helloWorld, 3000)\n",
    "slowHelloWorld(\"there\")"
   ]
  },
  {
   "cell_type": "code",
   "execution_count": 32,
   "metadata": {},
   "outputs": [
    {
     "data": {
      "text/plain": [
       "\u001b[33m129\u001b[39m"
      ]
     },
     "execution_count": 32,
     "metadata": {},
     "output_type": "execute_result"
    },
    {
     "name": "stdout",
     "output_type": "stream",
     "text": [
      "Hello w\n"
     ]
    },
    {
     "name": "stdout",
     "output_type": "stream",
     "text": [
      "Hello wo\n",
      "Hello worl\n",
      "Hello world\n"
     ]
    }
   ],
   "source": [
    "function trailing_call_throttle(fn, wait) {\n",
    "  let timer = null;\n",
    "  let lastArgs = null;\n",
    "  let lastThis = null;\n",
    "\n",
    "  // This named helper does the “trailing” call and re-schedules itself if needed\n",
    "  // function later() {\n",
    "  //   if (!lastArgs) {\n",
    "  //     // nobody new called us during the wait ⇒ clear timer and stop\n",
    "  //     timer = null;\n",
    "  //     return;\n",
    "  //   }\n",
    "  //   // call fn with the most recent args/this\n",
    "  //   fn.apply(lastThis, lastArgs);\n",
    "  //   // clear the stash\n",
    "  //   lastArgs = lastThis = null;\n",
    "  //   // start a fresh wait for any further calls\n",
    "  //   timer = setTimeout(later, wait);\n",
    "  // }\n",
    "\n",
    "  return function throttled(...args) {\n",
    "    lastArgs = args;       // always remember the newest call\n",
    "    lastThis = this;\n",
    "\n",
    "    // first call ⇒ no timer running\n",
    "    if (!timer) {\n",
    "      // invoke immediately\n",
    "      fn.apply(lastThis, lastArgs);\n",
    "      lastArgs = lastThis = null;\n",
    "      // start the cooldown\n",
    "      timer = setTimeout(function later() {\n",
    "        if (!lastArgs) {\n",
    "          // nobody new called us during the wait ⇒ clear timer and stop\n",
    "          timer = null;\n",
    "          return;\n",
    "        }\n",
    "        // call fn with the most recent args/this\n",
    "        fn.apply(lastThis, lastArgs);\n",
    "        // clear the stash\n",
    "        lastArgs = lastThis = null;\n",
    "        // start a fresh wait for any further calls\n",
    "        timer = setTimeout(later, wait);\n",
    "      }, wait);\n",
    "    }\n",
    "    // otherwise: timer is running ⇒ we've just updated lastArgs, so bail out\n",
    "  };\n",
    "}\n",
    "\n",
    "const executeLater = (func, arg, wait) => setTimeout(() => func(arg), wait)\n",
    "\n",
    "const wait = 100\n",
    "const throttledSayHello = trailing_call_throttle(sayHello, wait)\n",
    "// article with top reading progress bar is a good example for throttling\n",
    "// typing might not be a common(good) usecase for throttling \n",
    "executeLater(throttledSayHello, \"w\", 0) // prints\n",
    "executeLater(throttledSayHello, \"wo\", 100) // prints\n",
    "executeLater(throttledSayHello, \"wor\", 150) // no \n",
    "executeLater(throttledSayHello, \"worl\", 200) //prints\n",
    "executeLater(throttledSayHello, \"world\", 250) // prints, because this is trailing call throttle, last function call is executed"
   ]
  },
  {
   "cell_type": "code",
   "execution_count": 1,
   "metadata": {},
   "outputs": [
    {
     "data": {
      "text/plain": [
       "\u001b[33m5\u001b[39m"
      ]
     },
     "execution_count": 1,
     "metadata": {},
     "output_type": "execute_result"
    }
   ],
   "source": [
    "function makeThrottle(originalFn, waitTime) {\n",
    "\n",
    "    let timerHandle = null\n",
    "    let lastArgs = null\n",
    "    let lastContext = null\n",
    "\n",
    "    function throttledWrapper(...args) {\n",
    "\n",
    "        lastArgs = args\n",
    "        lastContext = this\n",
    "\n",
    "        // if timerHandle is not set:\n",
    "        if (!timerHandle) {\n",
    "            // First call in this window\n",
    "            // originalFn using lastArgs and lastContext\n",
    "            originalFn.apply(lastContext, lastArgs)\n",
    "            lastArgs = lastContext = null\n",
    "\n",
    "        }\n",
    "        // timerHandle ← start a timer of waitTime that runs onTimer()\n",
    "        timerHandle = setTimeout(() => {\n",
    "            onTimer()\n",
    "        }, waitTime);\n",
    "    }\n",
    "    function onTimer() {\n",
    "\n",
    "        // if lastArgs is empty\n",
    "        if (!lastArgs) {   // No calls happened during the wait\n",
    "            timerHandle = null  // set timer to null for execution of function immediately on future call\n",
    "            return\n",
    "        }\n",
    "\n",
    "        // There was at least one call\n",
    "        // call originalFn using lastArgs and lastContext\n",
    "        originalFn.apply(lastContext, lastArgs)\n",
    "        // clear lastArgs and lastContext\n",
    "        lastArgs = lastContext = null // if there's a another call, lastArgs and lastContext wont be null\n",
    "\n",
    "        // Schedule another wait for any further calls\n",
    "        // timerHandle ← start a timer of waitTime that runs onTimer()\n",
    "        timerHandle = setTimeout(onTimer, waitTime)\n",
    "\n",
    "    }\n",
    "    return throttledWrapper\n",
    "\n",
    "}\n",
    "\n",
    "const executeLater = (func, arg, wait) => setTimeout(() => func(arg), wait)\n",
    "\n",
    "\n",
    "function sayHello(who = \"world\") {\n",
    "    console.log(\"Hello \" + who)\n",
    "}\n",
    "\n",
    "const wait = 100\n",
    "const throttledSayHello = makeThrottle(sayHello, wait)\n",
    "// article with top reading progress bar is a good example for throttling\n",
    "// typing might not be a common(good) usecase for throttling \n",
    "executeLater(throttledSayHello, \"w\", 0) // prints\n",
    "executeLater(throttledSayHello, \"wo\", 100) // prints\n",
    "executeLater(throttledSayHello, \"wor\", 150) // no \n",
    "executeLater(throttledSayHello, \"worl\", 200) //prints\n",
    "executeLater(throttledSayHello, \"world\", 250) // prints, because this is trailing call throttle, last function call is executed"
   ]
  },
  {
   "cell_type": "markdown",
   "metadata": {},
   "source": [
    "Arrow functions do not have this. If this is accessed, it is taken from the outside."
   ]
  },
  {
   "cell_type": "code",
   "execution_count": 6,
   "metadata": {},
   "outputs": [
    {
     "name": "stdout",
     "output_type": "stream",
     "text": [
      "Our Group: John\n",
      "Our Group: Pete\n",
      "Our Group: Alice\n"
     ]
    }
   ],
   "source": [
    "let group = {\n",
    "  title: \"Our Group\",\n",
    "  students: [\"John\", \"Pete\", \"Alice\"],\n",
    "\n",
    "  showList() {\n",
    "    this.students.forEach(\n",
    "      student => console.log(this.title + ': ' + student)\n",
    "    );\n",
    "  }\n",
    "};\n",
    "//next\n",
    "group.showList();"
   ]
  },
  {
   "cell_type": "markdown",
   "metadata": {},
   "source": [
    "Here in `forEach`, the arrow function is used, so this.`title` in it is exactly the same as in the outer method `showList`. That is: `group.title`"
   ]
  },
  {
   "cell_type": "code",
   "execution_count": 7,
   "metadata": {},
   "outputs": [
    {
     "ename": "TypeError",
     "evalue": "Cannot read properties of undefined (reading 'title')",
     "output_type": "error",
     "traceback": [
      "Stack trace:",
      "TypeError: Cannot read properties of undefined (reading 'title')",
      "    at <anonymous>:11:24",
      "    at Array.forEach (<anonymous>)",
      "    at Object.showList (<anonymous>:9:19)",
      "    at <anonymous>:15:7"
     ]
    }
   ],
   "source": [
    "let group = {\n",
    "  title: \"Our Group\",\n",
    "  students: [\"John\", \"Pete\", \"Alice\"],\n",
    "\n",
    "  showList() {\n",
    "    this.students.forEach(function(student) {\n",
    "      // Error: Cannot read property 'title' of undefined\n",
    "      console.log(this.title + ': ' + student);\n",
    "    });\n",
    "  }\n",
    "};\n",
    "\n",
    "group.showList();"
   ]
  },
  {
   "cell_type": "markdown",
   "metadata": {},
   "source": [
    "The error occurs because `forEach` runs functions with `this = undefined` by default, so the attempt to access `undefined.title` is made."
   ]
  },
  {
   "cell_type": "code",
   "execution_count": null,
   "metadata": {},
   "outputs": [
    {
     "name": "stdout",
     "output_type": "stream",
     "text": [
      "[Arguments] {}\n",
      "Hello, John\n"
     ]
    }
   ],
   "source": [
    "function defer(f, ms) {\n",
    "  return function(...args) {\n",
    "    setTimeout(function() {\n",
    "        console.log(arguments) // arguments of above line function itself\n",
    "      return f.apply(this, args);\n",
    "    }, ms);\n",
    "  };\n",
    "}\n",
    "\n",
    "function sayHi(who) {\n",
    "  alert(\"Hello, \" + who);\n",
    "}\n",
    "\n",
    "let sayHiDeferred = defer(sayHi, 1000);\n",
    "sayHiDeferred(\"John\");"
   ]
  },
  {
   "cell_type": "code",
   "execution_count": null,
   "metadata": {},
   "outputs": [
    {
     "name": "stdout",
     "output_type": "stream",
     "text": [
      "Hello, John\n",
      "[Arguments] { \"0\": \"John\" }\n"
     ]
    }
   ],
   "source": [
    "function defer(f, ms) {\n",
    "  return function () {\n",
    "    setTimeout(() => {\n",
    "        f.apply(this, arguments);\n",
    "        console.log(arguments); // arguments of \"f\", since arrow functions dont have `arguments` variable\n",
    "    }, ms);\n",
    "  };\n",
    "}\n",
    "\n",
    "function sayHi(who) {\n",
    "  alert(\"Hello, \" + who);\n",
    "}\n",
    "\n",
    "let sayHiDeferred = defer(sayHi, 1000);\n",
    "sayHiDeferred(\"John\");\n"
   ]
  },
  {
   "cell_type": "markdown",
   "metadata": {},
   "source": [
    "That’s great for decorators, when we need to forward a call with the current this and arguments.\n",
    "\n",
    "For instance, `defer(f, ms)` gets a function and returns a wrapper around it that delays the call by ms milliseconds:\n"
   ]
  },
  {
   "cell_type": "code",
   "execution_count": 4,
   "metadata": {},
   "outputs": [
    {
     "name": "stderr",
     "output_type": "stream",
     "text": [
      "Error:  Cannot assign to read only property 'a' of object '#<Object>'\n"
     ]
    },
    {
     "name": "stdout",
     "output_type": "stream",
     "text": [
      "b\n",
      "b\n",
      "a\n"
     ]
    }
   ],
   "source": [
    "\"use strict\";\n",
    "\n",
    "let obj = {\n",
    "  a: \"a\",\n",
    "};\n",
    "\n",
    "JSON.stringify(Object.getOwnPropertyDescriptor(obj, \"a\"), null, 2);\n",
    "\n",
    "Object.defineProperty(obj, \"a\", { writable: false });\n",
    "\n",
    "try {\n",
    "  obj.a = \"b\"; //errors\n",
    "} catch (e) {\n",
    "  console.error(\"Error: \", e.message);\n",
    "}\n",
    "// we can just delete that property and write that property\n",
    "delete obj.a;\n",
    "obj.a = \"b\";\n",
    "console.log(obj.a)\n",
    "\n",
    "\n",
    "Object.defineProperty(obj, \"a\", {\n",
    "  configurable: false,\n",
    "});\n",
    "\n",
    "console.log(obj.a)\n",
    "\n",
    "try {\n",
    "  obj.a = \"a\"; \n",
    "  console.log(obj.a)\n",
    "} catch (e) {\n",
    "  console.error(\"Error: \", e.message);\n",
    "}\n"
   ]
  },
  {
   "cell_type": "markdown",
   "metadata": {},
   "source": [
    "#### Notes on `Object.defineProperty()` & `Object.getOwnPropertyDescriptor()`"
   ]
  },
  {
   "cell_type": "markdown",
   "metadata": {},
   "source": [
    "####  `Object.defineProperty()` Syntax\n",
    "```js\n",
    "Object.defineProperty(object, propertyName, descriptor)\n",
    "```"
   ]
  },
  {
   "cell_type": "markdown",
   "metadata": {},
   "source": [
    "##  Descriptor Properties for Data vs Accessor\n",
    "| Property      | Type         | Description |\n",
    "|---------------|--------------|-------------|\n",
    "| `value`       | Any          | Value of the property (data descriptor). |\n",
    "| `writable`    | Boolean      | Can the `value` be changed? |\n",
    "| `enumerable`  | Boolean      | Shows up in loops like `for...in`. |\n",
    "| `configurable`| Boolean      | Can it be deleted or redefined? |\n",
    "| `get`         | Function     | A function that returns the property (accessor). |\n",
    "| `set`         | Function     | A function that sets the property (accessor). |"
   ]
  },
  {
   "cell_type": "markdown",
   "metadata": {},
   "source": [
    "##  Weirdities of `configurable`\n",
    "- **Irreversible**: Once `configurable: false`, you cannot revert to `true`.\n",
    "- **Single writable flip**: With `configurable: false`, you can change `writable: true → false` but never back.\n",
    "- **Value changes**: If `writable: true`, assignments still work even if `configurable: false`.\n",
    "- **No descriptor type change**: Cannot switch data ↔ accessor when non-configurable."
   ]
  },
  {
   "cell_type": "code",
   "execution_count": 15,
   "metadata": {},
   "outputs": [
    {
     "data": {
      "text/plain": [
       "{ a: \u001b[32m\"a\"\u001b[39m }"
      ]
     },
     "execution_count": 15,
     "metadata": {},
     "output_type": "execute_result"
    }
   ],
   "source": [
    "let obj = {a:\"a\"}\n",
    "\n",
    "Object.defineProperty(obj,\"a\",{\n",
    "    configurable: false\n",
    "})\n",
    "\n",
    "Object.defineProperty(obj,\"a\",{\n",
    "    writable: false\n",
    "})\n"
   ]
  },
  {
   "cell_type": "code",
   "execution_count": 7,
   "metadata": {},
   "outputs": [
    {
     "name": "stdout",
     "output_type": "stream",
     "text": [
      "{ value: 1, writable: true, enumerable: true, configurable: false }\n",
      "Changed value: 2\n"
     ]
    }
   ],
   "source": [
    "\"use strict\";\n",
    "let obj = { x: 1 };\n",
    "\n",
    "// Make x non-configurable but writable\n",
    "Object.defineProperty(obj, \"x\", { configurable: false, writable: true });\n",
    "console.log(Object.getOwnPropertyDescriptor(obj, \"x\"));\n",
    "// Change value (allowed):\n",
    "obj.x = 2;\n",
    "console.log(\"Changed value:\", obj.x);\n"
   ]
  },
  {
   "cell_type": "code",
   "execution_count": 8,
   "metadata": {},
   "outputs": [
    {
     "name": "stdout",
     "output_type": "stream",
     "text": [
      "{ value: 2, writable: false, enumerable: true, configurable: false }\n"
     ]
    },
    {
     "name": "stderr",
     "output_type": "stream",
     "text": [
      "Error reverting writable: Cannot redefine property: x\n"
     ]
    }
   ],
   "source": [
    "\n",
    "// Change writable from true -> false (allowed):\n",
    "Object.defineProperty(obj, \"x\", { writable: false });\n",
    "console.log(Object.getOwnPropertyDescriptor(obj, \"x\"));\n",
    "\n",
    "// Try to revert writable back to true (throws):\n",
    "try {\n",
    "  Object.defineProperty(obj, \"x\", { writable: true });\n",
    "} catch (e) {\n",
    "  console.error(\"Error reverting writable:\", e.message);\n",
    "}\n"
   ]
  },
  {
   "cell_type": "code",
   "execution_count": 22,
   "metadata": {},
   "outputs": [
    {
     "name": "stderr",
     "output_type": "stream",
     "text": [
      "TypeError: Cannot delete property 'x' of #<Object>\n",
      "    at <anonymous>:3:39\n"
     ]
    }
   ],
   "source": [
    "\n",
    "try {\n",
    "    // Try to delete property (fails silently/throws):\n",
    "    console.log(\"Delete obj.x:\", delete obj.x);\n",
    "} catch (e) {\n",
    "    console.error(e)\n",
    "}\n"
   ]
  },
  {
   "cell_type": "code",
   "execution_count": 23,
   "metadata": {},
   "outputs": [
    {
     "data": {
      "text/plain": [
       "{ a: \u001b[32m\"a\"\u001b[39m }"
      ]
     },
     "execution_count": 23,
     "metadata": {},
     "output_type": "execute_result"
    }
   ],
   "source": [
    "\n",
    "// Try to redefine enumerable (throws):\n",
    "try {\n",
    "  Object.defineProperty(obj, \"x\", { enumerable: false });\n",
    "} catch (e) {\n",
    "  console.error(\"Error changing enumerable:\", e.message);\n",
    "}\n"
   ]
  },
  {
   "cell_type": "markdown",
   "metadata": {},
   "source": [
    "#### `Object.getOwnPropertyDescriptor()` Syntax & Returns\n",
    "```js\n",
    "Object.getOwnPropertyDescriptor(object, propertyName)\n",
    "```\n",
    "\n",
    "- **Returns**: A descriptor object for the named property if it exists on the object, otherwise `undefined`.\n",
    "- The returned object has the same keys: `value`, `writable`, `enumerable`, `configurable` for data properties, or `get`, `set`, `enumerable`, `configurable` for accessor properties."
   ]
  },
  {
   "cell_type": "markdown",
   "metadata": {},
   "source": [
    "#### Common Use Cases for `getOwnPropertyDescriptor`\n",
    "- **Inspection**: Debugging or logging the exact descriptor of a property.\n",
    "- **Cloning**: Copying properties with their descriptors to another object.\n",
    "- **Validation**: Checking if a property is read-only before modifying."
   ]
  },
  {
   "cell_type": "code",
   "execution_count": 25,
   "metadata": {},
   "outputs": [
    {
     "name": "stdout",
     "output_type": "stream",
     "text": [
      "{ value: 99, writable: false, enumerable: false, configurable: true }\n",
      "{\n",
      "  get: [Function: get],\n",
      "  set: [Function: set],\n",
      "  enumerable: true,\n",
      "  configurable: false\n",
      "}\n"
     ]
    }
   ],
   "source": [
    "// Example: Inspecting a data property\n",
    "let obj2 = {};\n",
    "Object.defineProperty(obj2, \"y\", {\n",
    "    value: 99,\n",
    "    writable: false,\n",
    "    enumerable: false,\n",
    "    configurable: true\n",
    "});\n",
    "const desc = Object.getOwnPropertyDescriptor(obj2, \"y\");\n",
    "console.log(desc); \n",
    "// { value: 99, writable: false, enumerable: false, configurable: true }\n",
    "\n",
    "// Example: Accessor property\n",
    "let person = { first: \"A\", last: \"B\" };\n",
    "Object.defineProperty(person, \"full\", {\n",
    "    get() { return this.first + this.last; },\n",
    "    set(v) { [this.first, this.last] = v.split(\" \"); },\n",
    "    enumerable: true,\n",
    "    configurable: false\n",
    "});\n",
    "console.log(Object.getOwnPropertyDescriptor(person, \"full\"));"
   ]
  },
  {
   "cell_type": "markdown",
   "metadata": {},
   "source": [
    "####  Practical Tip: Copying Properties with Descriptors"
   ]
  },
  {
   "cell_type": "markdown",
   "metadata": {},
   "source": [
    "#### Object.getOwnPropertyDescriptors and Object.defineProperties\n",
    "To get all property descriptors at once, we can use the method Object.getOwnPropertyDescriptors(obj).\n",
    "\n"
   ]
  },
  {
   "cell_type": "code",
   "execution_count": 31,
   "metadata": {},
   "outputs": [],
   "source": [
    "function cloneObject(obj) {\n",
    "  return Object.defineProperties({}, Object.getOwnPropertyDescriptors(obj));\n",
    "}"
   ]
  },
  {
   "cell_type": "markdown",
   "metadata": {},
   "source": [
    "Here\n",
    "\n",
    "```js\n",
    "for (let key in user) {\n",
    "  clone[key] = user[key]\n",
    "}\n",
    "```\n",
    "But that does not copy flags. So if we want a “better” clone then Object.defineProperties is preferred.\n",
    "\n",
    "Another difference is that for..in ignores symbolic and non-enumerable properties, but Object.getOwnPropertyDescriptors returns all property descriptors including `symbolic and non-enumerable ones`."
   ]
  },
  {
   "cell_type": "markdown",
   "metadata": {},
   "source": [
    "##  Default Descriptor Values\n",
    "| Attribute     | Default |\n",
    "|---------------|---------|\n",
    "| `value`       | `undefined` |\n",
    "| `writable`    | `false` |\n",
    "| `enumerable`  | `false` |\n",
    "| `configurable`| `false` |"
   ]
  },
  {
   "cell_type": "markdown",
   "metadata": {},
   "source": [
    "#### Notes on Object.preventExtensions, Object.seal, Object.freeze"
   ]
  },
  {
   "cell_type": "markdown",
   "metadata": {},
   "source": [
    "#### Object.preventExtensions(obj)\n",
    "\n",
    "- **What it does**: Forbids the addition of new properties to `obj`.\n",
    "- **What it doesn’t do**: You can still delete existing properties or modify them."
   ]
  },
  {
   "cell_type": "code",
   "execution_count": 3,
   "metadata": {},
   "outputs": [
    {
     "name": "stderr",
     "output_type": "stream",
     "text": [
      "Caught at add: TypeError: Cannot add property author, object is not extensible\n",
      "    at <anonymous>:6:15\n",
      "Caught at re-add: TypeError: Cannot add property title, object is not extensible\n",
      "    at <anonymous>:12:14\n"
     ]
    },
    {
     "name": "stdout",
     "output_type": "stream",
     "text": [
      "{}\n"
     ]
    }
   ],
   "source": [
    "let book = { title: \"1984\" };\n",
    "Object.preventExtensions(book);\n",
    "\n",
    "try {\n",
    "  book.author = \"Orwell\";\n",
    "} catch (e) {\n",
    "  console.error(\"Caught at add:\", e);\n",
    "}\n",
    "\n",
    "delete book.title;  // allowed\n",
    "\n",
    "try {\n",
    "  book.title = \"Animal Farm\"; // cannot readd it\n",
    "} catch (e) {\n",
    "  console.error(\"Caught at re-add:\", e);\n",
    "}\n",
    "\n",
    "console.log(book);  \n"
   ]
  },
  {
   "cell_type": "markdown",
   "metadata": {},
   "source": [
    "#### Object.seal(obj)\n",
    "\n",
    "- **What it does**:\n",
    "  1. Forbids adding new properties.\n",
    "  2. Forbids removing existing properties (`configurable: false` on all).\n",
    "  3. Leaves `writable` as-is.\n"
   ]
  },
  {
   "cell_type": "code",
   "execution_count": 8,
   "metadata": {},
   "outputs": [
    {
     "name": "stderr",
     "output_type": "stream",
     "text": [
      "Cannot add property country, object is not extensible\n",
      "Cannot delete property 'age' of #<Object>\n"
     ]
    },
    {
     "name": "stdout",
     "output_type": "stream",
     "text": [
      "{ name: \"Alice\", age: 31 }\n"
     ]
    }
   ],
   "source": [
    "let user = { name: \"Alice\", age: 30 };\n",
    "Object.seal(user);\n",
    "\n",
    "try {\n",
    "  user.country = \"Wonderland\"; // ignored or TypeError\n",
    "} catch (e) {\n",
    "  console.error(e.message);\n",
    "}\n",
    "try {\n",
    "  delete user.age; // ignored or TypeError\n",
    "} catch (e) {\n",
    "  console.error(e.message);\n",
    "}\n",
    "user.age = 31; // allowed\n",
    "console.log(user)\n"
   ]
  },
  {
   "cell_type": "markdown",
   "metadata": {},
   "source": [
    "#### Object.freeze(obj)\n",
    "\n",
    "- **What it does**:\n",
    "  1. Forbids adding new properties.\n",
    "  2. Forbids removing existing properties (`configurable: false` on all).\n",
    "  3. Forbids changing existing properties’ values (`writable: false` on all).\n"
   ]
  },
  {
   "cell_type": "code",
   "execution_count": 12,
   "metadata": {},
   "outputs": [
    {
     "name": "stderr",
     "output_type": "stream",
     "text": [
      "Cannot add property logLevel, object is not extensible\n",
      "Cannot delete property 'debug' of #<Object>\n",
      "Cannot assign to read only property 'debug' of object '#<Object>'\n"
     ]
    }
   ],
   "source": [
    "let config = { debug: true };\n",
    "Object.freeze(config);\n",
    "\n",
    "try {\n",
    "  config.logLevel = \"verbose\"; // ignored or TypeError\n",
    "} catch (e) {\n",
    "  console.error(e.message);\n",
    "}\n",
    "try {\n",
    "    delete config.debug; // ignored or TypeError\n",
    "} catch (e) {\n",
    "    console.error(e.message)\n",
    "}\n",
    "try {\n",
    "    config.debug = false; // ignored or TypeError\n",
    "} catch (e) {\n",
    "    console.error(e.message)\n",
    "}\n"
   ]
  },
  {
   "cell_type": "markdown",
   "metadata": {},
   "source": [
    "#### Tests for object state\n",
    "\n",
    "- `Object.isExtensible(obj)` → `false` if adding properties is forbidden.\n",
    "- `Object.isSealed(obj)` → `true` if adding/removing forbidden and all properties `configurable: false`.\n",
    "- `Object.isFrozen(obj)` → `true` if adding/removing/changing forbidden and all properties `configurable: false, writable: false`.\n",
    "\n"
   ]
  },
  {
   "cell_type": "code",
   "execution_count": 14,
   "metadata": {},
   "outputs": [
    {
     "name": "stdout",
     "output_type": "stream",
     "text": [
      "false true true\n"
     ]
    }
   ],
   "source": [
    "console.log(\n",
    "  Object.isExtensible(book),\n",
    "  Object.isSealed(user),\n",
    "  Object.isFrozen(config)\n",
    ");\n"
   ]
  },
  {
   "cell_type": "markdown",
   "metadata": {},
   "source": [
    "#### Comparison: seal vs freeze\n",
    "\n",
    "| Feature                    | Sealed object                                                         | Frozen object |\n",
    "| -------------------------- | --------------------------------------------------------------------- | ------------- |\n",
    "| Add new properties         | ❌                                                                     | ❌             |\n",
    "| Remove existing properties | ❌                                                                     | ❌             |\n",
    "| Change property values     | ✔️ *only if originally* `writable: true` <br> ❌ if originally `false` | ❌ always      |\n"
   ]
  },
  {
   "cell_type": "code",
   "execution_count": 8,
   "metadata": {},
   "outputs": [
    {
     "name": "stdout",
     "output_type": "stream",
     "text": [
      "undefined\n",
      "Pete\n",
      "Name is too short, need at least 4 characters\n",
      "Pete\n",
      "Pete\n"
     ]
    }
   ],
   "source": [
    "let user = {\n",
    "  get name() {\n",
    "    return this._name;\n",
    "  },\n",
    "\n",
    "  set name(value) {\n",
    "    if (value.length < 4) {\n",
    "      alert(\"Name is too short, need at least 4 characters\");\n",
    "      return;\n",
    "    }\n",
    "    this._name = value;\n",
    "  }\n",
    "};\n",
    "\n",
    "console.log(user.name)\n",
    "user.name = \"Pete\";\n",
    "console.log(user.name); // Pete\n",
    "\n",
    "user.name = \"\"; // Name is too short...\n",
    "console.log(user.name)\n",
    "console.log(user._name)"
   ]
  },
  {
   "cell_type": "code",
   "execution_count": 10,
   "metadata": {},
   "outputs": [
    {
     "name": "stdout",
     "output_type": "stream",
     "text": [
      "2005-06-30T18:30:00.000Z\n",
      "20\n"
     ]
    }
   ],
   "source": [
    "function User(name, birthday) {\n",
    "  this.name = name;\n",
    "  this.birthday = birthday;\n",
    "\n",
    "  // age is calculated from the current date and birthday\n",
    "  Object.defineProperty(this, \"age\", {\n",
    "    get() {\n",
    "      let todayYear = new Date().getFullYear();\n",
    "      return todayYear - this.birthday.getFullYear();\n",
    "    }\n",
    "  });\n",
    "}\n",
    "\n",
    "let john = new User(\"John\", new Date(2005, 6, 1));\n",
    "\n",
    "console.log( john.birthday ); // birthday is available\n",
    "console.log( john.age );      // ...as well as the age"
   ]
  },
  {
   "cell_type": "markdown",
   "metadata": {},
   "source": [
    "### Prototypal inheritance\n",
    "\n",
    "There are limitations:\n",
    "\n",
    "- The references can’t go in circles. JavaScript will throw an error if we try to assign __proto__ in a circle.\n",
    "- The value of __proto__ can be either an object or null. Other types are ignored.\n",
    "- Also it may be obvious, but still: there can be only one [[Prototype]]. An object may not inherit from two others."
   ]
  },
  {
   "cell_type": "code",
   "execution_count": 1,
   "metadata": {},
   "outputs": [
    {
     "name": "stdout",
     "output_type": "stream",
     "text": [
      "Animal walk\n",
      "true\n",
      "Rabbit hops\n",
      "Animal walk\n"
     ]
    }
   ],
   "source": [
    "let animal = {\n",
    "  eats: true,\n",
    "  walk() {\n",
    "    console.log(\"Animal walk\");\n",
    "  },\n",
    "};\n",
    "\n",
    "let rabbit = {\n",
    "  jumps: true,\n",
    "//   walk(){\n",
    "//     console.log(\"Rabbit doesn\\'t walk, it hops\")\n",
    "//   },\n",
    "  hop() {\n",
    "    console.log(\"Rabbit hops\");\n",
    "  },\n",
    "  __proto__: animal,\n",
    "};\n",
    "\n",
    "let longEar = {\n",
    "  earLength: 10,\n",
    "  __proto__: rabbit,\n",
    "};\n",
    "\n",
    "// walk is taken from the prototype chain\n",
    "longEar.walk(); // Animal walk\n",
    "console.log(longEar.jumps); // true (from rabbit)\n",
    "rabbit.hop() \n",
    "longEar.walk()"
   ]
  },
  {
   "cell_type": "code",
   "execution_count": 8,
   "metadata": {},
   "outputs": [
    {
     "name": "stdout",
     "output_type": "stream",
     "text": [
      "Our: jumps\n",
      "Inherited: eats\n"
     ]
    }
   ],
   "source": [
    "let animal = {\n",
    "  eats: true\n",
    "};\n",
    "\n",
    "let rabbit = {\n",
    "  jumps: true,\n",
    "  __proto__: animal\n",
    "};\n",
    "\n",
    "for(let prop in rabbit) {\n",
    "  let isOwn = rabbit.hasOwnProperty(prop);\n",
    "\n",
    "  if (isOwn) {\n",
    "    alert(`Our: ${prop}`); // Our: jumps\n",
    "  } else {\n",
    "    alert(`Inherited: ${prop}`); // Inherited: eats\n",
    "  }\n",
    "}"
   ]
  },
  {
   "cell_type": "code",
   "execution_count": 2,
   "metadata": {},
   "outputs": [
    {
     "name": "stdout",
     "output_type": "stream",
     "text": [
      "[ \"apple\" ]\n",
      "[]\n"
     ]
    }
   ],
   "source": [
    "let hamster = {\n",
    "  stomach: [],\n",
    "\n",
    "  eat(food) {\n",
    "    // assign to this.stomach instead of this.stomach.push\n",
    "    this.stomach = [food, ...this.stomach];\n",
    "  },\n",
    "};\n",
    "\n",
    "let speedy = {\n",
    "  __proto__: hamster,\n",
    "};\n",
    "\n",
    "let lazy = {\n",
    "  __proto__: hamster,\n",
    "};\n",
    "\n",
    "// Speedy one found the food\n",
    "speedy.eat(\"apple\");\n",
    "console.log(speedy.stomach); // apple\n",
    "\n",
    "// Lazy one's stomach is empty\n",
    "console.log(lazy.stomach); // <nothing>\n"
   ]
  },
  {
   "cell_type": "code",
   "execution_count": 4,
   "metadata": {},
   "outputs": [
    {
     "name": "stdout",
     "output_type": "stream",
     "text": [
      "true\n"
     ]
    }
   ],
   "source": [
    "let animal = {\n",
    "  eats: true\n",
    "};\n",
    "\n",
    "function Rabbit(name) {\n",
    "  this.name = name;\n",
    "}\n",
    "\n",
    "Rabbit.prototype = animal;\n",
    "\n",
    "let rabbit = new Rabbit(\"White Rabbit\"); //  rabbit.__proto__ == animal\n",
    "\n",
    "console.log( rabbit.eats ); // true"
   ]
  },
  {
   "cell_type": "markdown",
   "metadata": {},
   "source": [
    "### F.prototype only used at new F time\n",
    "F.prototype property is only used when new F is called, it assigns [[Prototype]] of the new object.\n",
    "\n",
    "If, after the creation, F.prototype property changes (F.prototype = \\<another object\\>), then new objects created by new F will have another object as [[Prototype]], but already existing objects keep the old one."
   ]
  },
  {
   "cell_type": "code",
   "execution_count": 13,
   "metadata": {},
   "outputs": [
    {
     "name": "stdout",
     "output_type": "stream",
     "text": [
      "24\n",
      "42\n"
     ]
    }
   ],
   "source": [
    "function Person () {\n",
    "    this.name = 'Abcd'\n",
    "}\n",
    "\n",
    "Person.prototype.age = 24\n",
    "const p1 = new Person()\n",
    "console.log(p1.age)\n",
    "\n",
    "Person.prototype.age = 42\n",
    "// or \n",
    "// Person.prototype = {age:42}\n",
    "const p2 = new Person()\n",
    "console.log(p2.age)"
   ]
  },
  {
   "cell_type": "code",
   "execution_count": null,
   "metadata": {},
   "outputs": [
    {
     "name": "stdout",
     "output_type": "stream",
     "text": [
      "{}\n",
      "true\n"
     ]
    }
   ],
   "source": [
    "function Rabbit() {}\n",
    "\n",
    "/* default prototype\n",
    "Rabbit.prototype = { constructor: Rabbit };\n",
    "*/\n",
    "console.log(Rabbit.prototype)\n",
    "console.log( Rabbit.prototype.constructor == Rabbit ); "
   ]
  },
  {
   "cell_type": "markdown",
   "metadata": {},
   "source": [
    "We can use constructor property to create a new object using the same constructor as the existing one."
   ]
  },
  {
   "cell_type": "code",
   "execution_count": 1,
   "metadata": {},
   "outputs": [
    {
     "name": "stdout",
     "output_type": "stream",
     "text": [
      "White Rabbit\n",
      "Black Rabbit\n"
     ]
    }
   ],
   "source": [
    "function Rabbit(name) {\n",
    "  this.name = name;\n",
    "  console.log(name);\n",
    "}\n",
    "\n",
    "let rabbit = new Rabbit(\"White Rabbit\");\n",
    "\n",
    "let rabbit2 = new rabbit.constructor(\"Black Rabbit\");"
   ]
  },
  {
   "cell_type": "code",
   "execution_count": 3,
   "metadata": {},
   "outputs": [
    {
     "name": "stdout",
     "output_type": "stream",
     "text": [
      "John\n",
      "Pete\n",
      "Abraham\n"
     ]
    }
   ],
   "source": [
    "function User_func(name) {\n",
    "  this.name = name;\n",
    "}\n",
    "\n",
    "let user1 = new User_func('John');\n",
    "let user2 = new user1.constructor('Pete');\n",
    "\n",
    "User_func.prototype = {}\n",
    "\n",
    "let user3 = new user1.constructor('Abraham')\n",
    "console.log(user1.name)\n",
    "console.log( user2.name );\n",
    "console.log(user3.name)"
   ]
  },
  {
   "cell_type": "markdown",
   "metadata": {},
   "source": [
    "`Object.create(proto[, descriptors])` - creates an empty object with given proto as [[Prototype]] and optional property descriptors.\n",
    "\n",
    "For instance:\n"
   ]
  },
  {
   "cell_type": "code",
   "execution_count": 5,
   "metadata": {},
   "outputs": [
    {
     "name": "stdout",
     "output_type": "stream",
     "text": [
      "true\n",
      "true\n"
     ]
    }
   ],
   "source": [
    "\n",
    "let animal = {\n",
    "  eats: true\n",
    "};\n",
    "\n",
    "// create a new object with animal as a prototype\n",
    "let rabbit = Object.create(animal); // same as {__proto__: animal}\n",
    "\n",
    "console.log(rabbit.eats); // true\n",
    "\n",
    "console.log(Object.getPrototypeOf(rabbit) === animal); // true\n"
   ]
  },
  {
   "cell_type": "code",
   "execution_count": 7,
   "metadata": {},
   "outputs": [
    {
     "name": "stdout",
     "output_type": "stream",
     "text": [
      "true\n"
     ]
    }
   ],
   "source": [
    "let animal = {\n",
    "  eats: true\n",
    "};\n",
    "\n",
    "let rabbit = Object.create(animal, {\n",
    "  jumps: {\n",
    "    value: true\n",
    "  }\n",
    "});\n",
    "\n",
    "console.log(rabbit.jumps); // true"
   ]
  },
  {
   "cell_type": "markdown",
   "metadata": {},
   "source": [
    "We can use Object.create to perform an object cloning more powerful than copying properties in for..in:\n",
    "\n",
    "This call makes a truly exact copy of obj, including all properties: enumerable and non-enumerable, data properties and setters/getters – everything, and with the right `[[Prototype]]`.\n",
    "\n"
   ]
  },
  {
   "cell_type": "code",
   "execution_count": 5,
   "metadata": {},
   "outputs": [
    {
     "name": "stdout",
     "output_type": "stream",
     "text": [
      "[Object: null prototype] {} [Object: null prototype] {} [ [ \"a\", \"a\" ] ] [ [ \"a\", \"a\" ] ]\n"
     ]
    }
   ],
   "source": [
    "function clone_obj(obj) {\n",
    "  return Object.create(\n",
    "    Object.getPrototypeOf(obj),\n",
    "    Object.getOwnPropertyDescriptors(obj)\n",
    "  );\n",
    "}\n",
    "let o1 = { a: \"a\" };\n",
    "let o2 = clone_obj(o1);\n",
    "console.log(\n",
    "  //   o1.__proto__, // in deno the result will be undefined, but in node and browser, we get prototype, __proto__ is not available in deno, so its undefined\n",
    "  Object.getPrototypeOf(o1),\n",
    "  Object.getPrototypeOf(o2), // === Object.prototype\n",
    "  Object.entries(o1), // [[\"a\", \"a\"]]\n",
    "  Object.entries(o2) // [[\"a\", \"a\"]]\n",
    ");\n"
   ]
  },
  {
   "cell_type": "code",
   "execution_count": 4,
   "metadata": {},
   "outputs": [
    {
     "name": "stdout",
     "output_type": "stream",
     "text": [
      "false\n",
      "[Object: null prototype] {}\n"
     ]
    }
   ],
   "source": [
    "let o1 = { a: \"a\" };\n",
    "console.log(\"__proto__\" in o1); // Should be true in normal environments\n",
    "console.log(Object.getPrototypeOf(o1)); // Should still work\n"
   ]
  },
  {
   "cell_type": "code",
   "execution_count": 6,
   "metadata": {},
   "outputs": [
    {
     "name": "stdout",
     "output_type": "stream",
     "text": [
      "proto === Object.prototype: true\n",
      "proto.constructor === Object: true\n",
      "Own property names of proto: [\n",
      "  \"constructor\",\n",
      "  \"__defineGetter__\",\n",
      "  \"__defineSetter__\",\n",
      "  \"hasOwnProperty\",\n",
      "  \"__lookupGetter__\",\n",
      "  \"__lookupSetter__\",\n",
      "  \"isPrototypeOf\",\n",
      "  \"propertyIsEnumerable\",\n",
      "  \"toString\",\n",
      "  \"valueOf\",\n",
      "  \"toLocaleString\"\n",
      "]\n",
      "proto's own toString: [Function: toString]\n",
      "proto's prototype: null\n"
     ]
    }
   ],
   "source": [
    "let o1 = { a: \"a\" };\n",
    "let proto = Object.getPrototypeOf(o1);\n",
    "\n",
    "console.log(\"proto === Object.prototype:\", proto === Object.prototype);\n",
    "console.log(\"proto.constructor === Object:\", proto.constructor === Object);\n",
    "console.log(\"Own property names of proto:\", Object.getOwnPropertyNames(proto));\n",
    "console.log(\"proto's own toString:\", proto.toString); // Should be Object.prototype.toString\n",
    "console.log(\"proto's prototype:\", Object.getPrototypeOf(proto)); // Should be null"
   ]
  },
  {
   "cell_type": "code",
   "execution_count": 7,
   "metadata": {},
   "outputs": [],
   "source": [
    "class User {\n",
    "  constructor(name) { this.name = name; }\n",
    "  sayHi() { alert(this.name); }\n",
    "}\n",
    "\n",
    "// class is a function\n",
    "alert(typeof User); // function\n",
    "\n",
    "// ...or, more precisely, the constructor method\n",
    "alert(User === User.prototype.constructor); // true\n",
    "\n",
    "// The methods are in User.prototype, e.g:\n",
    "alert(User.prototype.sayHi); // the code of the sayHi method\n",
    "\n",
    "// there are exactly two methods in the prototype\n",
    "alert(Object.getOwnPropertyNames(User.prototype)); // constructor, sayHi"
   ]
  },
  {
   "cell_type": "markdown",
   "metadata": {},
   "source": [
    "Same as:"
   ]
  },
  {
   "cell_type": "code",
   "execution_count": 3,
   "metadata": {},
   "outputs": [
    {
     "name": "stdout",
     "output_type": "stream",
     "text": [
      "John\n"
     ]
    }
   ],
   "source": [
    "// rewriting class User in pure functions\n",
    "\n",
    "// 1. Create constructor function\n",
    "function User(name) {\n",
    "  this.name = name;\n",
    "}\n",
    "// a function prototype has \"constructor\" property by default,\n",
    "// so we don't need to create it\n",
    "\n",
    "// 2. Add the method to prototype\n",
    "User.prototype.sayHi = function() {\n",
    "    console.log(this.name);\n",
    "};\n",
    "\n",
    "// Usage:\n",
    "let user = new User(\"John\");\n",
    "user.sayHi();"
   ]
  },
  {
   "cell_type": "markdown",
   "metadata": {},
   "source": [
    "Still, there are important differences.  \n",
    "\n",
    "1. First, a function created by `class` is labelled by a special internal property `[[IsClassConstructor]]: true`.  \n",
    "So it's not entirely the same as creating it manually.  \n",
    "\n",
    "The language checks for that property in a variety of places.  \n",
    "For example, unlike a regular function, it must be called with `new`:\n"
   ]
  },
  {
   "cell_type": "code",
   "execution_count": 5,
   "metadata": {},
   "outputs": [
    {
     "ename": "TypeError",
     "evalue": "Class constructor Player cannot be invoked without 'new'",
     "output_type": "error",
     "traceback": [
      "Stack trace:",
      "TypeError: Class constructor Player cannot be invoked without 'new'",
      "    at <anonymous>:5:1"
     ]
    }
   ],
   "source": [
    "class Player {\n",
    "  constructor() {}\n",
    "}\n",
    "\n",
    "alert(Player); // function\n",
    "Player(); // Error: Class constructor Player cannot be invoked without 'new'"
   ]
  },
  {
   "cell_type": "markdown",
   "metadata": {},
   "source": [
    "Also, a string representation of a class constructor in most JavaScript engines starts with the “class…”\n",
    "\n"
   ]
  },
  {
   "cell_type": "code",
   "execution_count": 8,
   "metadata": {},
   "outputs": [
    {
     "name": "stdout",
     "output_type": "stream",
     "text": [
      "[class Foo]\n"
     ]
    }
   ],
   "source": [
    "class Foo {\n",
    "  constructor() {}\n",
    "}\n",
    "\n",
    "console.log(Foo);"
   ]
  },
  {
   "cell_type": "markdown",
   "metadata": {},
   "source": [
    "2. Class methods are non-enumerable. A class definition sets enumerable flag to false for all methods in the \"prototype\".\n",
    "\n",
    "3. That’s good, because if we `for..in` over an object, we usually don’t want its class methods.\n",
    "\n",
    "4. Classes always `use strict`. All code inside the class construct is automatically in strict mode.\n",
    "\n",
    "Besides, class syntax brings many other features that we’ll explore later."
   ]
  },
  {
   "cell_type": "markdown",
   "metadata": {},
   "source": [
    "#### Class Expression\n",
    "\n",
    "Just like functions, classes can be defined inside another expression, passed around, returned, assigned, etc."
   ]
  },
  {
   "cell_type": "code",
   "execution_count": null,
   "metadata": {},
   "outputs": [],
   "source": [
    "const C1 = class {\n",
    "  sayHi() {\n",
    "    alert(\"Hello\");\n",
    "  }\n",
    "};"
   ]
  },
  {
   "cell_type": "markdown",
   "metadata": {},
   "source": [
    "Similar to Named Function Expressions, class expressions may have a name.\n",
    "\n",
    "If a class expression has a name, it’s visible inside the class only:\n"
   ]
  },
  {
   "cell_type": "code",
   "execution_count": 17,
   "metadata": {},
   "outputs": [
    {
     "name": "stdout",
     "output_type": "stream",
     "text": [
      "[class MyClass]\n"
     ]
    }
   ],
   "source": [
    "const C2 = class MyClass {\n",
    "  sayHi() {\n",
    "    console.log(MyClass); \n",
    "  }\n",
    "};\n",
    "\n",
    "new C2().sayHi(); \n",
    "\n",
    "// alert(MyClass); //error"
   ]
  },
  {
   "cell_type": "markdown",
   "metadata": {},
   "source": [
    "We can even make classes dynamically “on-demand”, like this:"
   ]
  },
  {
   "cell_type": "code",
   "execution_count": 21,
   "metadata": {},
   "outputs": [
    {
     "name": "stdout",
     "output_type": "stream",
     "text": [
      "Hello\n"
     ]
    }
   ],
   "source": [
    "function makeClass(phrase) {\n",
    "  // declare a class and return it\n",
    "  return class {\n",
    "    sayHi() {\n",
    "      alert(phrase);\n",
    "    }\n",
    "  };\n",
    "}\n",
    "\n",
    "// Create a new class\n",
    "let C3 = makeClass(\"Hello\");\n",
    "\n",
    "new C3().sayHi(); // Hello"
   ]
  },
  {
   "cell_type": "code",
   "execution_count": null,
   "metadata": {},
   "outputs": [],
   "source": []
  }
 ],
 "metadata": {
  "kernelspec": {
   "display_name": "Deno",
   "language": "typescript",
   "name": "deno"
  },
  "language_info": {
   "codemirror_mode": "typescript",
   "file_extension": ".ts",
   "mimetype": "text/x.typescript",
   "name": "typescript",
   "nbconvert_exporter": "script",
   "pygments_lexer": "typescript",
   "version": "5.8.3"
  }
 },
 "nbformat": 4,
 "nbformat_minor": 2
}
