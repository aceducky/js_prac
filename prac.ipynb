{
 "cells": [
  {
   "cell_type": "markdown",
   "metadata": {},
   "source": [
    "```bash\n",
    "deno jupyter --install\n",
    "#deno jupyter is experimental, check status\n",
    "```\n",
    "\n",
    "```bash\n",
    "#windows:\n",
    "winget install DenoLand.Deno\n",
    "```\n",
    "\n",
    "```bash\n",
    "#linux\n",
    "curl -fsSL https://deno.land/install.sh | sh\n",
    "```\n"
   ]
  },
  {
   "cell_type": "code",
   "execution_count": 1,
   "metadata": {
    "notebookRunGroups": {
     "groupValue": "1"
    }
   },
   "outputs": [
    {
     "data": {
      "text/plain": [
       "\u001b[32m\"use strict\"\u001b[39m"
      ]
     },
     "execution_count": 1,
     "metadata": {},
     "output_type": "execute_result"
    }
   ],
   "source": [
    "\"use strict\";\n"
   ]
  },
  {
   "cell_type": "code",
   "execution_count": 2,
   "metadata": {
    "notebookRunGroups": {
     "groupValue": "1"
    }
   },
   "outputs": [],
   "source": [
    "const alert = console.log;\n"
   ]
  },
  {
   "cell_type": "code",
   "execution_count": 4,
   "metadata": {},
   "outputs": [
    {
     "name": "stdout",
     "output_type": "stream",
     "text": [
      "Hello!\n"
     ]
    }
   ],
   "source": [
    "let user = {};\n",
    "\n",
    "function sayHi() {\n",
    "  alert(\"Hello!\");\n",
    "}\n",
    "\n",
    "user.sayHi = sayHi;\n",
    "\n",
    "user.sayHi();\n"
   ]
  },
  {
   "cell_type": "code",
   "execution_count": 5,
   "metadata": {},
   "outputs": [
    {
     "name": "stdout",
     "output_type": "stream",
     "text": [
      "Hello\n"
     ]
    }
   ],
   "source": [
    "user = {\n",
    "  sayHi() {\n",
    "    alert(\"Hello\");\n",
    "  },\n",
    "};\n",
    "\n",
    "user.sayHi();\n"
   ]
  },
  {
   "cell_type": "code",
   "execution_count": 6,
   "metadata": {},
   "outputs": [
    {
     "name": "stdout",
     "output_type": "stream",
     "text": [
      "John\n"
     ]
    }
   ],
   "source": [
    "let user = {\n",
    "  name: \"John\",\n",
    "  age: 30,\n",
    "\n",
    "  sayHi() {\n",
    "    alert(this.name);\n",
    "  },\n",
    "};\n",
    "\n",
    "user.sayHi();\n"
   ]
  },
  {
   "cell_type": "code",
   "execution_count": 7,
   "metadata": {},
   "outputs": [
    {
     "name": "stdout",
     "output_type": "stream",
     "text": [
      "John\n"
     ]
    }
   ],
   "source": [
    "let user = {\n",
    "  name: \"John\",\n",
    "  age: 30,\n",
    "\n",
    "  sayHi() {\n",
    "    alert(user.name); // \"user\" instead of \"this\"\n",
    "  },\n",
    "};\n",
    "user.sayHi();\n"
   ]
  },
  {
   "cell_type": "markdown",
   "metadata": {},
   "source": [
    "Technically, it’s also possible to access the object without this, by\n",
    "referencing it via the outer variable.\n",
    "\n",
    "…But such code is unreliable. If we decide to copy user to another variable,\n",
    "e.g. admin = user and overwrite user with something else, then it will access\n",
    "the wrong object.\n"
   ]
  },
  {
   "cell_type": "code",
   "execution_count": 8,
   "metadata": {},
   "outputs": [
    {
     "ename": "TypeError",
     "evalue": "Cannot read properties of null (reading 'name')",
     "output_type": "error",
     "traceback": [
      "Stack trace:",
      "TypeError: Cannot read properties of null (reading 'name')",
      "    at Object.sayHi (<anonymous>:5:16)",
      "    at <anonymous>:10:7"
     ]
    }
   ],
   "source": [
    "let user = {\n",
    "  name: \"John\",\n",
    "  age: 30,\n",
    "\n",
    "  sayHi() {\n",
    "    alert(user.name); // leads to an error if called from another object\n",
    "  },\n",
    "};\n",
    "\n",
    "let admin = user;\n",
    "user = null; // overwrite to make things obvious\n",
    "\n",
    "admin.sayHi();\n"
   ]
  },
  {
   "cell_type": "code",
   "execution_count": null,
   "metadata": {},
   "outputs": [
    {
     "name": "stdout",
     "output_type": "stream",
     "text": [
      "John\n"
     ]
    }
   ],
   "source": [
    "let user = {\n",
    "  name: \"John\",\n",
    "  age: 30,\n",
    "\n",
    "  sayHi() {\n",
    "    alert(this.name);\n",
    "  },\n",
    "};\n",
    "\n",
    "let user2 = user;\n",
    "user2.sayHi();\n"
   ]
  },
  {
   "cell_type": "code",
   "execution_count": null,
   "metadata": {},
   "outputs": [],
   "source": [
    "let user = { name: \"John\" };\n",
    "let admin = { name: \"Admin\" };\n",
    "\n",
    "function sayHi() {\n",
    "  alert(this.name);\n",
    "}\n",
    "\n",
    "user.f = sayHi;\n",
    "admin.f = sayHi;\n",
    "\n",
    "user.f();\n",
    "admin.f();\n",
    "\n",
    "admin[\"f\"]();\n"
   ]
  },
  {
   "cell_type": "code",
   "execution_count": null,
   "metadata": {},
   "outputs": [],
   "source": [
    "let ladder = {\n",
    "  step: 0,\n",
    "  up() {\n",
    "    this.step++;\n",
    "    return this;\n",
    "  },\n",
    "  down() {\n",
    "    this.step--;\n",
    "    return this;\n",
    "  },\n",
    "  showStep: function () {\n",
    "    alert(this.step);\n",
    "    return this;\n",
    "  },\n",
    "};\n"
   ]
  },
  {
   "cell_type": "code",
   "execution_count": null,
   "metadata": {},
   "outputs": [],
   "source": [
    "ladder.up().up().down().showStep().down().showStep();\n"
   ]
  },
  {
   "cell_type": "code",
   "execution_count": null,
   "metadata": {},
   "outputs": [],
   "source": [
    "function User(name) {\n",
    "  this.name = name;\n",
    "  this.isAdmin = false;\n",
    "}\n",
    "let abc = new User(\"abc\");\n",
    "console.log(abc);\n"
   ]
  },
  {
   "cell_type": "code",
   "execution_count": null,
   "metadata": {},
   "outputs": [
    {
     "name": "stdout",
     "output_type": "stream",
     "text": [
      "true\n"
     ]
    }
   ],
   "source": [
    "// Is it possible to create functions A and B so that new A() == new B()?\n",
    "// If a function returns an object then new returns it instead of this.\n",
    "\n",
    "// So they can, for instance, return the same externally defined object obj:\n",
    "\n",
    "let obj = {};\n",
    "\n",
    "function A() {\n",
    "  return obj;\n",
    "}\n",
    "function B() {\n",
    "  return obj;\n",
    "}\n",
    "\n",
    "alert(new A() == new B());\n"
   ]
  },
  {
   "cell_type": "code",
   "execution_count": null,
   "metadata": {},
   "outputs": [],
   "source": [
    "function Accumulator(x) {\n",
    "  this.value = x;\n",
    "\n",
    "  this.read = function () {\n",
    "    this.value += +prompt(\"Enter something: \", 0);\n",
    "  };\n",
    "}\n",
    "\n",
    "let accumulator = new Accumulator(1); // initial value 1\n",
    "\n",
    "accumulator.read(); // adds the user-entered value\n",
    "accumulator.read(); // adds the user-entered value\n",
    "\n",
    "alert(accumulator.value); // shows the sum of these values\n"
   ]
  },
  {
   "cell_type": "code",
   "execution_count": null,
   "metadata": {},
   "outputs": [],
   "source": [
    "let str = \"Hello\";\n",
    "\n",
    "str.test = 5;\n",
    "\n",
    "alert(str.test);\n"
   ]
  },
  {
   "cell_type": "code",
   "execution_count": null,
   "metadata": {},
   "outputs": [],
   "source": [
    "let arr2 = [1, 2, 3];\n",
    "\n",
    "arr2.findIndex((x) => x == 2);\n",
    "arr2.reverse();\n",
    "console.log(arr2);\n"
   ]
  },
  {
   "cell_type": "code",
   "execution_count": null,
   "metadata": {},
   "outputs": [
    {
     "name": "stdout",
     "output_type": "stream",
     "text": [
      "backgroundColor\n",
      "listStyleImage\n",
      "webkitTrAnsition\n"
     ]
    }
   ],
   "source": [
    "function camelize(str: string) {\n",
    "  return str\n",
    "    .split(/[^a-zA-Z0-9]+/)\n",
    "    .filter((word) => word.length > 0)\n",
    "    .map((word, index) => {\n",
    "      return index === 0 ? word : word[0].toUpperCase() + word.slice(1);\n",
    "    })\n",
    "    .join(\"\");\n",
    "}\n",
    "console.log(camelize(\"background-_color-\"));\n",
    "console.log(camelize(\"list-style-image\"));\n",
    "console.log(camelize(\"-webkit-tr=ansition\"));\n"
   ]
  },
  {
   "cell_type": "code",
   "execution_count": null,
   "metadata": {},
   "outputs": [
    {
     "name": "stdout",
     "output_type": "stream",
     "text": [
      "1000000000\n"
     ]
    }
   ],
   "source": [
    "let billion = 1_000_000_000;\n",
    "alert(billion);\n"
   ]
  },
  {
   "cell_type": "code",
   "execution_count": null,
   "metadata": {},
   "outputs": [
    {
     "name": "stdout",
     "output_type": "stream",
     "text": [
      "255\n"
     ]
    }
   ],
   "source": [
    "alert(0xff);\n"
   ]
  },
  {
   "cell_type": "code",
   "execution_count": null,
   "metadata": {},
   "outputs": [
    {
     "name": "stdout",
     "output_type": "stream",
     "text": [
      "true\n"
     ]
    }
   ],
   "source": [
    "let a = 0b11111111;\n",
    "let b = 0o377;\n",
    "\n",
    "alert(a == b);\n"
   ]
  },
  {
   "cell_type": "code",
   "execution_count": null,
   "metadata": {},
   "outputs": [
    {
     "name": "stdout",
     "output_type": "stream",
     "text": [
      "ff\n",
      "11111111\n"
     ]
    }
   ],
   "source": [
    "let num = 255;\n",
    "\n",
    "alert(num.toString(16));\n",
    "alert(num.toString(2));\n"
   ]
  },
  {
   "cell_type": "code",
   "execution_count": null,
   "metadata": {},
   "outputs": [
    {
     "name": "stdout",
     "output_type": "stream",
     "text": [
      "c\n",
      "12\n"
     ]
    }
   ],
   "source": [
    "alert((12).toString(36));\n",
    "alert(parseInt(\"c\", 36));\n"
   ]
  },
  {
   "cell_type": "markdown",
   "metadata": {},
   "source": [
    "When calling functions directly on the number, we need to use \"..\" to indicate\n",
    "that the decimal part is empty or else we get an error\n"
   ]
  },
  {
   "cell_type": "code",
   "execution_count": null,
   "metadata": {},
   "outputs": [
    {
     "ename": "Identifier cannot follow number at file:///repl.tsx:1:6\n\n  1212.toString(2);\n       ~",
     "evalue": "Identifier cannot follow number at file:///repl.tsx:1:6\n\n  1212.toString(2);\n       ~",
     "output_type": "error",
     "traceback": []
    }
   ],
   "source": [
    "1212(2);\n"
   ]
  },
  {
   "cell_type": "code",
   "execution_count": null,
   "metadata": {},
   "outputs": [
    {
     "data": {
      "text/plain": [
       "\u001b[32m\"10010111100\"\u001b[39m"
      ]
     },
     "execution_count": 15,
     "metadata": {},
     "output_type": "execute_result"
    }
   ],
   "source": [
    "(1212).toString(2);\n"
   ]
  },
  {
   "cell_type": "code",
   "execution_count": null,
   "metadata": {},
   "outputs": [
    {
     "data": {
      "text/plain": [
       "\u001b[32m\"1.0011001100110011001100110011001100110011001100110011\"\u001b[39m"
      ]
     },
     "execution_count": 13,
     "metadata": {},
     "output_type": "execute_result"
    }
   ],
   "source": [
    "(1.2).toString(2);\n"
   ]
  },
  {
   "cell_type": "code",
   "execution_count": null,
   "metadata": {},
   "outputs": [
    {
     "name": "stdout",
     "output_type": "stream",
     "text": [
      "5\n"
     ]
    }
   ],
   "source": [
    "let x = parseInt(prompt());\n",
    "let y = parseInt(prompt());\n",
    "\n",
    "if (!isNaN(x) && !isNaN(y) && x !== null && y !== null) {\n",
    "  alert(x + y);\n",
    "} else {\n",
    "  console.log(\"Error: Can only process integers\");\n",
    "}\n"
   ]
  },
  {
   "cell_type": "markdown",
   "metadata": {},
   "source": [
    "Write the function random(min, max) to generate a random floating-point number\n",
    "from min to max (not including max).\n"
   ]
  },
  {
   "cell_type": "code",
   "execution_count": null,
   "metadata": {},
   "outputs": [],
   "source": [
    "function random(min, max) {\n",
    "  return min + Math.random() * (max - min);\n",
    "}\n",
    "\n",
    "alert(random(1, 5));\n",
    "alert(random(1, 5));\n",
    "alert(random(1, 5));\n"
   ]
  },
  {
   "cell_type": "markdown",
   "metadata": {},
   "source": [
    "Create a function randomInteger(min, max) that generates a random integer number\n",
    "from min to max including both min and max as possible values.\n"
   ]
  },
  {
   "cell_type": "code",
   "execution_count": null,
   "metadata": {},
   "outputs": [
    {
     "name": "stdout",
     "output_type": "stream",
     "text": [
      "2\n"
     ]
    }
   ],
   "source": [
    "function randomInteger(min, max) {\n",
    "  let rand = min + Math.random() * (max + 1 - min);\n",
    "  return Math.floor(rand);\n",
    "}\n",
    "\n",
    "alert(randomInteger(1, 3));\n"
   ]
  },
  {
   "cell_type": "code",
   "execution_count": null,
   "metadata": {},
   "outputs": [
    {
     "name": "stdout",
     "output_type": "stream",
     "text": [
      "1\n"
     ]
    }
   ],
   "source": [
    "console.log(\"w\".length);\n"
   ]
  },
  {
   "cell_type": "code",
   "execution_count": null,
   "metadata": {},
   "outputs": [
    {
     "name": "stdout",
     "output_type": "stream",
     "text": [
      "INTERFACE\n",
      "interface\n"
     ]
    }
   ],
   "source": [
    "alert(\"Interface\".toUpperCase()); // INTERFACE\n",
    "alert(\"Interface\".toLowerCase()); // interface\n"
   ]
  },
  {
   "cell_type": "code",
   "execution_count": null,
   "metadata": {},
   "outputs": [
    {
     "name": "stdout",
     "output_type": "stream",
     "text": [
      "0\n",
      "-1\n",
      "1\n",
      "12\n"
     ]
    }
   ],
   "source": [
    "let str = \"Widget with id\";\n",
    "\n",
    "alert(str.indexOf(\"Widget\"));\n",
    "alert(str.indexOf(\"random\")); //-1 if nothing can be found.\n",
    "\n",
    "alert(str.indexOf(\"id\"));\n",
    "/**\n",
    " *    __\n",
    " * W |id| get with id\n",
    " *    --\n",
    " */\n",
    "\n",
    "alert(str.indexOf(\"id\", 2));\n"
   ]
  },
  {
   "cell_type": "code",
   "execution_count": null,
   "metadata": {},
   "outputs": [
    {
     "data": {
      "text/plain": [
       "\u001b[33m2\u001b[39m"
      ]
     },
     "execution_count": 61,
     "metadata": {},
     "output_type": "execute_result"
    }
   ],
   "source": [
    "let s = \"111\";\n",
    "s.lastIndexOf(\"1\");\n"
   ]
  },
  {
   "cell_type": "markdown",
   "metadata": {},
   "source": [
    "The more modern method str.includes(substr, pos) returns true/false depending on\n",
    "whether str contains substr within.\n"
   ]
  },
  {
   "cell_type": "code",
   "execution_count": null,
   "metadata": {},
   "outputs": [
    {
     "name": "stdout",
     "output_type": "stream",
     "text": [
      "true\n",
      "false\n"
     ]
    }
   ],
   "source": [
    "alert(\"Widget with id\".includes(\"Widget\"));\n",
    "alert(\"Widget\".includes(\"id\", 3)); // false, from position 3 there is no \"id\"\n"
   ]
  },
  {
   "cell_type": "code",
   "execution_count": null,
   "metadata": {},
   "outputs": [
    {
     "name": "stdout",
     "output_type": "stream",
     "text": [
      "s\n"
     ]
    }
   ],
   "source": [
    "// str.slice(start [, end])\n",
    "let str = \"stringify\";\n",
    "alert(str.slice(0, 1));\n"
   ]
  },
  {
   "cell_type": "code",
   "execution_count": null,
   "metadata": {},
   "outputs": [
    {
     "name": "stdout",
     "output_type": "stream",
     "text": [
      "tringify\n"
     ]
    }
   ],
   "source": [
    "alert(str.slice(1));\n"
   ]
  },
  {
   "cell_type": "code",
   "execution_count": null,
   "metadata": {},
   "outputs": [
    {
     "name": "stdout",
     "output_type": "stream",
     "text": [
      "gif\n"
     ]
    }
   ],
   "source": [
    "alert(str.slice(-4, -1));\n"
   ]
  },
  {
   "cell_type": "code",
   "execution_count": null,
   "metadata": {},
   "outputs": [
    {
     "name": "stdout",
     "output_type": "stream",
     "text": [
      "\n"
     ]
    }
   ],
   "source": [
    "alert(str.slice(6, 2)); // \"\" (an empty string)\n"
   ]
  },
  {
   "cell_type": "markdown",
   "metadata": {},
   "source": [
    "str.substring(start [, end]) Returns the part of the string between start and\n",
    "end (not including end).\n",
    "\n",
    "This is almost the same as slice, but it allows start to be greater than end (in\n",
    "this case it simply swaps start and end values). Negative arguments are (unlike\n",
    "slice) not supported, they are treated as 0.\n"
   ]
  },
  {
   "cell_type": "code",
   "execution_count": null,
   "metadata": {},
   "outputs": [
    {
     "name": "stdout",
     "output_type": "stream",
     "text": [
      "ring\n",
      "ring\n",
      "ring\n"
     ]
    }
   ],
   "source": [
    "alert(str.substring(6, 2)); // \"ring\"\n",
    "alert(str.substring(2, 6)); // \"ring\"\n",
    "\n",
    "// ...but not for slice:\n",
    "alert(str.slice(2, 6));\n"
   ]
  },
  {
   "cell_type": "code",
   "execution_count": null,
   "metadata": {},
   "outputs": [
    {
     "name": "stdout",
     "output_type": "stream",
     "text": [
      "st\n"
     ]
    }
   ],
   "source": [
    "alert(str.substring(-1, 2)); //negative is treated as 0\n"
   ]
  },
  {
   "cell_type": "markdown",
   "metadata": {},
   "source": [
    "### substr\n",
    "\n",
    "Deprecated: This feature is no longer recommended. Though some browsers might\n",
    "still support it, it may have already been removed from the relevant web\n",
    "standards, may be in the process of being dropped, or may only be kept for\n",
    "compatibility purposes. Avoid using it, and update existing code if possible;\n",
    "see the compatibility table at the bottom of this page to guide your decision.\n",
    "Be aware that this feature may cease to work at any time.\n",
    "\n",
    "The substr() method of String values returns a portion of this string, starting\n",
    "at the specified index and extending for a given number of characters\n",
    "afterwards.\n"
   ]
  },
  {
   "cell_type": "code",
   "execution_count": null,
   "metadata": {},
   "outputs": [],
   "source": [
    "let str = \"stringify\";\n",
    "alert(str.substr(2, 4));\n"
   ]
  },
  {
   "cell_type": "markdown",
   "metadata": {},
   "source": [
    "| Method                  | Selects...                                | Negatives              |\n",
    "| ----------------------- | ----------------------------------------- | ---------------------- |\n",
    "| `slice(start, end)`     | From start to end (not including end)     | Allows negatives       |\n",
    "| `substring(start, end)` | Between start and end (not including end) | Negative values mean 0 |\n",
    "| `substr(start, length)` | From start, get length characters         | Allows negative start  |\n"
   ]
  },
  {
   "cell_type": "code",
   "execution_count": null,
   "metadata": {},
   "outputs": [
    {
     "name": "stdout",
     "output_type": "stream",
     "text": [
      "65\n"
     ]
    }
   ],
   "source": [
    "alert(\"A\".codePointAt(0));\n"
   ]
  },
  {
   "cell_type": "code",
   "execution_count": null,
   "metadata": {},
   "outputs": [
    {
     "name": "stdout",
     "output_type": "stream",
     "text": [
      "[ 3, 1 ]\n",
      "[ 5, 3, 8, 1 ]\n"
     ]
    }
   ],
   "source": [
    "function filterRange(arr: number[], higher_bound: number, lower_bound: number) {\n",
    "  return arr.filter((i) => i >= higher_bound && i <= lower_bound);\n",
    "}\n",
    "let arr = [5, 3, 8, 1];\n",
    "\n",
    "let filtered = filterRange(arr2, 1, 4);\n",
    "\n",
    "alert(filtered); // 3,1 (matching values)\n",
    "\n",
    "alert(arr2); // 5,3,8,1 (not modified)\n"
   ]
  },
  {
   "cell_type": "markdown",
   "metadata": {},
   "source": [
    "### Accessing characters\n"
   ]
  },
  {
   "cell_type": "markdown",
   "metadata": {},
   "source": [
    "| Feature                    | `.at()`                                                | `.charAt()`                 | `[]` (Bracket Notation)           |\n",
    "| -------------------------- | ------------------------------------------------------ | --------------------------- | --------------------------------- |\n",
    "| **Usage**                  | Returns character at index, supports negative indexing | Returns character at index  | Direct character access via index |\n",
    "| **Negative Indexing**      | ✅ Works (e.g., `str.at(-1)`)                          | ❌ Not supported            | ❌ Not supported                  |\n",
    "| **Out-of-Bounds Behavior** | Returns `undefined`                                    | Returns empty string (`\"\"`) | Returns `undefined`               |\n",
    "| **Browser Compatibility**  | Modern browsers only                                   | Universal support           | Universal support                 |\n",
    "| **Arrays Compatibility**   | ✅ Works with arrays                                   | ❌ Strings only             | ✅ Works with arrays              |\n",
    "| **Performance**            | Comparable to `.charAt()`                              | Comparable to `.at()`       | Slightly faster                   |\n",
    "\n",
    "### Key Notes:\n",
    "\n",
    "- **Negative Indexing:** `.at()` is ideal for accessing elements from the end\n",
    "- **Legacy Code:** Use `.charAt()` for older browser support\n",
    "- **Direct Access:** `[]` is fastest but lacks negative indexing\n"
   ]
  },
  {
   "cell_type": "code",
   "execution_count": null,
   "metadata": {},
   "outputs": [
    {
     "name": "stdout",
     "output_type": "stream",
     "text": [
      "H\n",
      "H\n",
      "o\n",
      "o\n"
     ]
    }
   ],
   "source": [
    "let str = `Hello`;\n",
    "\n",
    "// the first character\n",
    "alert(str[0]); // H\n",
    "alert(str.at(0)); // H\n",
    "\n",
    "// the last character\n",
    "alert(str[str.length - 1]); // o\n",
    "alert(str.at(-1)); // o\n"
   ]
  },
  {
   "cell_type": "markdown",
   "metadata": {},
   "source": [
    "As you can see, the .at(pos) method has a benefit of allowing negative position.\n",
    "If pos is negative, then it’s counted from the end of the string.\n",
    "\n",
    "So .at(-1) means the last character, and .at(-2) is the one before it, etc.\n",
    "\n",
    "The square brackets always return undefined for negative indexes, for instance:\n"
   ]
  },
  {
   "cell_type": "code",
   "execution_count": null,
   "metadata": {},
   "outputs": [
    {
     "name": "stdout",
     "output_type": "stream",
     "text": [
      "undefined\n",
      "l\n",
      "undefined\n"
     ]
    }
   ],
   "source": [
    "let str = `Hello`;\n",
    "\n",
    "alert(str[-2]); // undefined\n",
    "alert(str.at(-2)); // l\n",
    "alert(str.at(100)); // undefined if out of range\n"
   ]
  },
  {
   "cell_type": "code",
   "execution_count": null,
   "metadata": {},
   "outputs": [
    {
     "name": "stdout",
     "output_type": "stream",
     "text": [
      "ABCDEFGHIJKLMNOPQRSTUVWXYZ[\\]^_`abcdefghijklmnopqrstuvwxyz\n"
     ]
    }
   ],
   "source": [
    "let str = \"\";\n",
    "\n",
    "for (let i = 65; i <= 97 + 25; i++) {\n",
    "  str += String.fromCodePoint(i);\n",
    "}\n",
    "alert(str);\n"
   ]
  },
  {
   "cell_type": "markdown",
   "metadata": {},
   "source": [
    "The “right” algorithm to do string comparisons is more complex than it may seem,\n",
    "because alphabets are different for different languages.\n",
    "\n",
    "So, the browser needs to know the language to compare.\n",
    "\n",
    "Luckily, modern browsers support the internationalization standard ECMA-402.\n",
    "\n",
    "It provides a special method to compare strings in different languages,\n",
    "following their rules. The call str.localeCompare(str2) returns an integer\n",
    "indicating whether str is less, equal or greater than str2 according to the\n",
    "language rules:\n",
    "\n",
    "- Returns a negative number if str is less than str2.\n",
    "- Returns a positive number if str is greater than str2.\n",
    "- Returns 0 if they are equivalent.\n"
   ]
  },
  {
   "cell_type": "code",
   "execution_count": null,
   "metadata": {},
   "outputs": [
    {
     "name": "stdout",
     "output_type": "stream",
     "text": [
      "true\n",
      "1\n"
     ]
    }
   ],
   "source": [
    "console.log(\"a\" < \"z\");\n",
    "console.log(\"z\".localeCompare(\"a\"));\n"
   ]
  },
  {
   "cell_type": "markdown",
   "metadata": {},
   "source": [
    "### at() vs charAt()\n",
    "\n",
    "at() allows the use of negative indexes while charAt() do not.\n"
   ]
  },
  {
   "cell_type": "code",
   "execution_count": null,
   "metadata": {},
   "outputs": [
    {
     "data": {
      "text/plain": [
       "\u001b[33mtrue\u001b[39m"
      ]
     },
     "execution_count": 100,
     "metadata": {},
     "output_type": "execute_result"
    }
   ],
   "source": [
    "function ucFirst(s: string) {\n",
    "  return s.at(0).toLocaleUpperCase() + s.slice(1);\n",
    "}\n",
    "ucFirst(\"john\") == \"John\";\n"
   ]
  },
  {
   "cell_type": "code",
   "execution_count": null,
   "metadata": {},
   "outputs": [
    {
     "name": "stdout",
     "output_type": "stream",
     "text": [
      "true\n",
      "true\n",
      "true\n"
     ]
    }
   ],
   "source": [
    "function checkSpam(s: string) {\n",
    "  let banned_words: string[] = [\"stinkies\", \"aaaaaaa\"];\n",
    "  s = s.toLowerCase();\n",
    "  for (let word of banned_words) {\n",
    "    if (s.includes(word)) {\n",
    "      return true;\n",
    "    }\n",
    "  }\n",
    "  return false;\n",
    "}\n",
    "\n",
    "console.log(checkSpam(\"buy stinkies now\") == true);\n",
    "console.log(checkSpam(\"free aaaaaaa\") == true);\n",
    "console.log(checkSpam(\"innocent rabbit\") == false);\n"
   ]
  },
  {
   "cell_type": "code",
   "execution_count": null,
   "metadata": {},
   "outputs": [
    {
     "name": "stdout",
     "output_type": "stream",
     "text": [
      "true\n",
      "true\n"
     ]
    }
   ],
   "source": [
    "function truncate(s: string, maxLen: number) {\n",
    "  return s.length > maxLen ? s.slice(0, maxLen - 1) + \"...\" : s;\n",
    "}\n",
    "\n",
    "console.log(\n",
    "  truncate(\"What I'd like to tell on this topic is:\", 20) ==\n",
    "    \"What I'd like to te...\"\n",
    ");\n",
    "\n",
    "console.log(truncate(\"Hi everyone!\", 20) == \"Hi everyone!\");\n"
   ]
  },
  {
   "cell_type": "code",
   "execution_count": null,
   "metadata": {},
   "outputs": [
    {
     "name": "stdout",
     "output_type": "stream",
     "text": [
      "true\n"
     ]
    }
   ],
   "source": [
    "function extractCurrencyValue(s: string) {\n",
    "  return parseInt(s.slice(1));\n",
    "}\n",
    "alert(extractCurrencyValue(\"$120\") === 120); // true\n"
   ]
  },
  {
   "cell_type": "markdown",
   "metadata": {},
   "source": [
    "An array can store elements of any type.\n",
    "\n",
    "For instance:\n"
   ]
  },
  {
   "cell_type": "code",
   "execution_count": null,
   "metadata": {},
   "outputs": [
    {
     "name": "stdout",
     "output_type": "stream",
     "text": [
      "John\n",
      "hello\n"
     ]
    }
   ],
   "source": [
    "// mix of values\n",
    "let arr = [\n",
    "  \"Apple\",\n",
    "  { name: \"John\" },\n",
    "  function () {\n",
    "    alert(\"hello\");\n",
    "  },\n",
    "];\n",
    "\n",
    "// get the object at index 1 and then show its name\n",
    "alert(arr2[1].name); // John\n",
    "\n",
    "// get the function at index 3 and run it\n",
    "arr2[3](); // hello\n"
   ]
  },
  {
   "cell_type": "code",
   "execution_count": null,
   "metadata": {},
   "outputs": [
    {
     "name": "stdout",
     "output_type": "stream",
     "text": [
      "Plum\n",
      "Plum\n"
     ]
    }
   ],
   "source": [
    "let fruits = [\"Apple\", \"Orange\", \"Plum\"];\n",
    "\n",
    "alert(fruits[fruits.length - 1]); // Plum\n",
    "\n",
    "// same as fruits[fruits.length-1]\n",
    "alert(fruits.at(-1)); // Plum\n"
   ]
  },
  {
   "cell_type": "code",
   "execution_count": null,
   "metadata": {},
   "outputs": [
    {
     "name": "stdout",
     "output_type": "stream",
     "text": [
      "Pear\n",
      "[ \"Apple\", \"Orange\" ]\n",
      "[ \"Apple\", \"Orange\", \"Pear\" ]\n",
      "Apple\n",
      "[ \"Orange\", \"Pear\" ]\n",
      "[ \"Apple\", \"Orange\", \"Pear\" ]\n"
     ]
    }
   ],
   "source": [
    "let fruits = [\"Apple\", \"Orange\", \"Pear\"];\n",
    "\n",
    "alert(fruits.pop()); // remove \"Pear\" and alert it\n",
    "\n",
    "alert(fruits); // Apple, Orange\n",
    "fruits.push(\"Pear\");\n",
    "\n",
    "alert(fruits); // Apple, Orange, Pear\n",
    "\n",
    "alert(fruits.shift()); // remove Apple and alert it\n",
    "\n",
    "alert(fruits); // Orange, Pear\n",
    "\n",
    "fruits.unshift(\"Apple\");\n",
    "\n",
    "alert(fruits); // Apple, Orange, Pear\n"
   ]
  },
  {
   "cell_type": "code",
   "execution_count": null,
   "metadata": {},
   "outputs": [
    {
     "name": "stdout",
     "output_type": "stream",
     "text": [
      "[ <99999 empty items>, 5, age: 25 ]\n"
     ]
    }
   ],
   "source": [
    "let fruits = []; // make an array\n",
    "\n",
    "fruits[99999] = 5; // assign a property with the index far greater than its length\n",
    "\n",
    "fruits.age = 25; // create a property with an arbitrary name\n",
    "\n",
    "console.log(fruits);\n"
   ]
  },
  {
   "cell_type": "code",
   "execution_count": null,
   "metadata": {},
   "outputs": [
    {
     "name": "stdout",
     "output_type": "stream",
     "text": [
      "Apple\n",
      "Orange\n",
      "Pear\n"
     ]
    }
   ],
   "source": [
    "let arr = [\"Apple\", \"Orange\", \"Pear\"];\n",
    "\n",
    "for (let key in arr2) {\n",
    "  alert(arr2[key]);\n",
    "}\n"
   ]
  },
  {
   "cell_type": "markdown",
   "metadata": {},
   "source": [
    "Arrays have their own implementation of toString method that returns a\n",
    "comma-separated list of elements.\n"
   ]
  },
  {
   "cell_type": "code",
   "execution_count": null,
   "metadata": {},
   "outputs": [
    {
     "name": "stdout",
     "output_type": "stream",
     "text": [
      "[ 1, 2, 3 ]\n",
      "true\n"
     ]
    }
   ],
   "source": [
    "let arr = [1, 2, 3];\n",
    "\n",
    "alert(arr2); // 1,2,3\n",
    "alert(String(arr2) === \"1,2,3\"); // true\n"
   ]
  },
  {
   "cell_type": "code",
   "execution_count": null,
   "metadata": {},
   "outputs": [],
   "source": [
    "alert([] + 1); // \"1\"\n",
    "alert([1] + 1); // \"11\"\n",
    "alert([1, 2] + 1); // \"1,21\"\n"
   ]
  },
  {
   "cell_type": "markdown",
   "metadata": {},
   "source": [
    "Arrays do not have Symbol.toPrimitive, neither a viable valueOf, they implement\n",
    "only toString conversion, so here [] becomes an empty string, [1] becomes \"1\"\n",
    "and [1,2] becomes \"1,2\".\n",
    "\n",
    "When the binary plus \"+\" operator adds something to a string, it converts it to\n",
    "a string as well, so the next step looks like this:\n"
   ]
  },
  {
   "cell_type": "code",
   "execution_count": null,
   "metadata": {},
   "outputs": [],
   "source": [
    "alert(\"\" + 1); // \"1\"\n",
    "alert(\"1\" + 1); // \"11\"\n",
    "alert(\"1,2\" + 1); // \"1,21\"\n"
   ]
  },
  {
   "cell_type": "markdown",
   "metadata": {},
   "source": [
    "Don’t compare arrays with == Arrays in JavaScript, unlike some other programming\n",
    "languages, shouldn’t be compared with operator ==.\n",
    "\n",
    "This operator has no special treatment for arrays, it works with them as with\n",
    "any objects.\n",
    "\n",
    "Let’s recall the rules:\n",
    "\n",
    "Two objects are equal == only if they’re references to the same object. If one\n",
    "of the arguments of == is an object, and the other one is a primitive, then the\n",
    "object gets converted to primitive, as explained in the chapter Object to\n",
    "primitive conversion. …With an exception of null and undefined that equal ==\n",
    "each other and nothing else. The strict comparison === is even simpler, as it\n",
    "doesn’t convert types.\n",
    "\n",
    "So, if we compare arrays with ==, they are never the same, unless we compare two\n",
    "variables that reference exactly the same array.\n",
    "\n",
    "For example:\n"
   ]
  },
  {
   "cell_type": "code",
   "execution_count": null,
   "metadata": {},
   "outputs": [
    {
     "name": "stdout",
     "output_type": "stream",
     "text": [
      "true\n",
      "true\n"
     ]
    }
   ],
   "source": [
    "let arr1 = [1, 2, 3, 4, 5];\n",
    "let arr2 = arr1;\n",
    "\n",
    "console.log(arr1 == arr2);\n",
    "\n",
    "let arr3 = [1, 2];\n",
    "let arr4 = [1, 2];\n",
    "console.log(arr3.length == arr4.length && arr3.every((el, i) => el == arr4[i]));\n"
   ]
  },
  {
   "cell_type": "code",
   "execution_count": null,
   "metadata": {},
   "outputs": [],
   "source": [
    "alert([] == []); // false\n",
    "alert([0] == [0]); // false\n"
   ]
  },
  {
   "cell_type": "markdown",
   "metadata": {},
   "source": [
    "These arrays are technically different objects. So they aren’t equal. The ==\n",
    "operator doesn’t do item-by-item comparison.\n",
    "\n",
    "Comparison with primitives may give seemingly strange results as well:\n"
   ]
  },
  {
   "cell_type": "code",
   "execution_count": null,
   "metadata": {},
   "outputs": [],
   "source": [
    "alert(0 == []); // true\n",
    "\n",
    "alert(\"0\" == []); // false\n"
   ]
  },
  {
   "cell_type": "markdown",
   "metadata": {},
   "source": [
    "Here, in both cases, we compare a primitive with an array object. So the array\n",
    "[] gets converted to primitive for the purpose of comparison and becomes an\n",
    "empty string ''.\n",
    "\n",
    "Then the comparison process goes on with the primitives, as described in the\n",
    "chapter Type Conversions:\n"
   ]
  },
  {
   "cell_type": "code",
   "execution_count": null,
   "metadata": {},
   "outputs": [],
   "source": [
    "// after [] was converted to ''\n",
    "alert(0 == \"\"); // true, as '' becomes converted to number 0\n",
    "\n",
    "alert(\"0\" == \"\"); // false, no type conversion, different strings\n"
   ]
  },
  {
   "cell_type": "markdown",
   "metadata": {},
   "source": [
    "So, how to compare arrays?\n",
    "\n",
    "That’s simple: don’t use the == operator. Instead, compare them item-by-item in\n",
    "a loop or using iteration methods\n",
    "\n",
    "Summary Array is a special kind of object, suited to storing and managing\n",
    "ordered data items.\n"
   ]
  },
  {
   "cell_type": "code",
   "execution_count": null,
   "metadata": {},
   "outputs": [
    {
     "name": "stdout",
     "output_type": "stream",
     "text": [
      "[ 1, 2, 3, 4 ]\n",
      "[ 1, 2, 3, 4, 5, 6 ]\n",
      "[ 1, 2, 3, 4, 5, 6 ]\n"
     ]
    }
   ],
   "source": [
    "let arr = [1, 2];\n",
    "\n",
    "alert(arr2.concat([3, 4]));\n",
    "\n",
    "alert(arr2.concat([3, 4], [5, 6]));\n",
    "\n",
    "alert(arr2.concat([3, 4], 5, 6));\n"
   ]
  },
  {
   "cell_type": "code",
   "execution_count": null,
   "metadata": {},
   "outputs": [
    {
     "name": "stdout",
     "output_type": "stream",
     "text": [
      "[ 1, 2, \"something\", \"else\" ]\n"
     ]
    }
   ],
   "source": [
    "let arr = [1, 2];\n",
    "\n",
    "let arrayLike = {\n",
    "  0: \"something\",\n",
    "  1: \"else\",\n",
    "  [Symbol.isConcatSpreadable]: true,\n",
    "  length: 2,\n",
    "};\n",
    "\n",
    "alert(arr2.concat(arrayLike));\n"
   ]
  },
  {
   "cell_type": "code",
   "execution_count": null,
   "metadata": {},
   "outputs": [
    {
     "name": "stdout",
     "output_type": "stream",
     "text": [
      "A 0 [ \"A\", \"B\", \"C\" ]\n",
      "B 1 [ \"A\", \"B\", \"C\" ]\n",
      "C 2 [ \"A\", \"B\", \"C\" ]\n",
      "A 0 [ \"A\", \"B\", \"C\" ]\n",
      "B 1 [ \"A\", \"B\", \"C\" ]\n",
      "C 2 [ \"A\", \"B\", \"C\" ]\n"
     ]
    }
   ],
   "source": [
    "let a = [\"A\", \"B\", \"C\"];\n",
    "a.forEach(console.log);\n",
    "\n",
    "a.forEach(function (item, index, array) {\n",
    "  console.log(item, index, array);\n",
    "});\n"
   ]
  },
  {
   "cell_type": "markdown",
   "metadata": {},
   "source": [
    "The methods arr.indexOf and arr.includes have the similar syntax and do essentially the same as their string counterparts, but operate on items instead of characters:\n",
    "\n",
    "arr.indexOf(item, from) – looks for item starting from index from, and returns the index where it was found, otherwise -1.\n",
    "arr.includes(item, from) – looks for item starting from index from, returns true if found.\n",
    "Usually, these methods are used with only one argument: the item to search. By default, the search is from the beginning.\n",
    "\n",
    "For instance:\n"
   ]
  },
  {
   "cell_type": "code",
   "execution_count": null,
   "metadata": {},
   "outputs": [
    {
     "name": "stdout",
     "output_type": "stream",
     "text": [
      "1\n",
      "2\n",
      "-1\n",
      "true\n"
     ]
    }
   ],
   "source": [
    "let arr = [1, 0, false];\n",
    "\n",
    "alert(arr2.indexOf(0)); // 1\n",
    "alert(arr2.indexOf(false)); // 2\n",
    "alert(arr2.indexOf(null)); // -1\n",
    "\n",
    "alert(arr2.includes(1)); // true\n"
   ]
  },
  {
   "cell_type": "markdown",
   "metadata": {},
   "source": [
    "Please note that indexOf uses the strict equality === for comparison. So, if we look for false, it finds exactly false and not the zero.\n",
    "\n",
    "If we want to check if item exists in the array and don’t need the index, then arr.includes is preferred.\n",
    "\n",
    "The method arr.lastIndexOf is the same as indexOf, but looks for from right to left.\n"
   ]
  },
  {
   "cell_type": "markdown",
   "metadata": {},
   "source": [
    "The includes method handles NaN correctly\n",
    "A minor, but noteworthy feature of includes is that it correctly handles NaN, unlike indexOf:\n"
   ]
  },
  {
   "cell_type": "code",
   "execution_count": null,
   "metadata": {},
   "outputs": [
    {
     "name": "stdout",
     "output_type": "stream",
     "text": [
      "-1\n",
      "true\n"
     ]
    }
   ],
   "source": [
    "const arr2 = [NaN];\n",
    "alert(arr2.indexOf(NaN)); // -1 (wrong, should be 0)\n",
    "alert(arr2.includes(NaN)); // true (correct)\n"
   ]
  },
  {
   "cell_type": "code",
   "execution_count": null,
   "metadata": {},
   "outputs": [
    {
     "name": "stdout",
     "output_type": "stream",
     "text": [
      "John\n"
     ]
    }
   ],
   "source": [
    "let users = [\n",
    "  { id: 1, name: \"John\" },\n",
    "  { id: 2, name: \"Pete\" },\n",
    "  { id: 3, name: \"Mary\" },\n",
    "];\n",
    "\n",
    "let user = users.find((item) => item.id == 1);\n",
    "\n",
    "alert(user.name);\n"
   ]
  },
  {
   "cell_type": "markdown",
   "metadata": {},
   "source": [
    "The arr.findIndex method has the same syntax but returns the index where the element was found instead of the element itself. The value of -1 is returned if nothing is found.\n",
    "\n",
    "The arr.findLastIndex method is like findIndex, but searches from right to left, similar to lastIndexOf.\n"
   ]
  },
  {
   "cell_type": "code",
   "execution_count": null,
   "metadata": {},
   "outputs": [
    {
     "name": "stdout",
     "output_type": "stream",
     "text": [
      "0\n",
      "3\n"
     ]
    }
   ],
   "source": [
    "let users = [\n",
    "  { id: 1, name: \"John\" },\n",
    "  { id: 2, name: \"Pete\" },\n",
    "  { id: 3, name: \"Mary\" },\n",
    "  { id: 4, name: \"John\" },\n",
    "];\n",
    "\n",
    "alert(users.findIndex((user) => user.name == \"John\"));\n",
    "\n",
    "alert(users.findLastIndex((user) => user.name == \"John\"));\n"
   ]
  },
  {
   "cell_type": "code",
   "execution_count": null,
   "metadata": {},
   "outputs": [
    {
     "data": {
      "text/plain": [
       "[ \u001b[33m2\u001b[39m, \u001b[33m4\u001b[39m ]"
      ]
     },
     "execution_count": 27,
     "metadata": {},
     "output_type": "execute_result"
    }
   ],
   "source": [
    "let arr3 = [1, 2, 3, 4];\n",
    "\n",
    "arr3 = arr3.filter((el) => el % 2 == 0);\n"
   ]
  },
  {
   "cell_type": "code",
   "execution_count": null,
   "metadata": {},
   "outputs": [
    {
     "name": "stdout",
     "output_type": "stream",
     "text": [
      "6\n"
     ]
    }
   ],
   "source": [
    "function getMaxSubSum(nums: number[]) {\n",
    "  let maxSum = 0;\n",
    "  let currSum = 0;\n",
    "  for (const num of nums) {\n",
    "    currSum += num;\n",
    "    maxSum = Math.max(currSum, maxSum);\n",
    "    if (currSum < 0) {\n",
    "      currSum = 0;\n",
    "    }\n",
    "  }\n",
    "  return maxSum;\n",
    "}\n",
    "console.log(getMaxSubSum([1, 2, 3, -1]));\n"
   ]
  },
  {
   "cell_type": "markdown",
   "metadata": {},
   "source": [
    "The arr.splice method is a Swiss army knife for arrays. It can do everything: insert, remove and replace elements.\n",
    "\n",
    "The syntax is:\n",
    "\n",
    "```js\n",
    "arr.splice(start[, deleteCount, elem1, ..., elemN])\n",
    "```\n"
   ]
  },
  {
   "cell_type": "code",
   "execution_count": null,
   "metadata": {},
   "outputs": [
    {
     "name": "stdout",
     "output_type": "stream",
     "text": [
      "[]\n"
     ]
    }
   ],
   "source": [
    "let arr = [1, 2, 3];\n",
    "arr.splice(1); //deletes all elements from index 1\n",
    "arr.splice(-1);\n",
    "console.log(arr);\n"
   ]
  },
  {
   "cell_type": "code",
   "execution_count": null,
   "metadata": {},
   "outputs": [
    {
     "name": "stdout",
     "output_type": "stream",
     "text": [
      "[ 3, 1 ]\n"
     ]
    }
   ],
   "source": [
    "function filterRangeInPlace(\n",
    "  arr: number[],\n",
    "  higher_bound: number,\n",
    "  lower_bound: number\n",
    ") {\n",
    "  for (let i = 0; i < arr.length; i++) {\n",
    "    if (arr[i] < higher_bound || arr[i] > lower_bound) {\n",
    "      arr.splice(i, 1);\n",
    "      i--;\n",
    "    }\n",
    "  }\n",
    "}\n",
    "\n",
    "let arr = [5, 3, 8, 1];\n",
    "\n",
    "filterRangeInPlace(arr2, 1, 4); // removed the numbers except from 1 to 4\n",
    "\n",
    "alert(arr2); // [3, 1]\n"
   ]
  },
  {
   "cell_type": "code",
   "execution_count": null,
   "metadata": {},
   "outputs": [
    {
     "name": "stdout",
     "output_type": "stream",
     "text": [
      "[ 8, 5, 2, 1, -10 ]\n"
     ]
    }
   ],
   "source": [
    "let arr = [5, 2, 1, -10, 8];\n",
    "\n",
    "// ... your code to sort it in decreasing order\n",
    "\n",
    "arr2.sort((a, b) => b - a);\n",
    "alert(arr2); // 8, 5, 2, 1, -10\n"
   ]
  },
  {
   "cell_type": "code",
   "execution_count": null,
   "metadata": {},
   "outputs": [
    {
     "name": "stdout",
     "output_type": "stream",
     "text": [
      "[ \"CSS\", \"HTML\", \"JavaScript\" ]\n",
      "[ \"HTML\", \"JavaScript\", \"CSS\" ]\n"
     ]
    }
   ],
   "source": [
    "function copySorted(arr: number[]) {\n",
    "  return arr.slice().sort();\n",
    "}\n",
    "let arr = [\"HTML\", \"JavaScript\", \"CSS\"];\n",
    "\n",
    "let sorted = copySorted(arr2);\n",
    "\n",
    "alert(sorted); // CSS, HTML, JavaScript\n",
    "alert(arr2); // HTML, JavaScript, CSS (no changes)\n"
   ]
  },
  {
   "cell_type": "code",
   "execution_count": null,
   "metadata": {},
   "outputs": [
    {
     "name": "stdout",
     "output_type": "stream",
     "text": [
      "10\n",
      "9\n",
      "81\n"
     ]
    }
   ],
   "source": [
    "function Calculator() {\n",
    "  this.methods = {\n",
    "    \"+\": (a, b) => a + b,\n",
    "    \"-\": (a, b) => a - b,\n",
    "    \"*\": (a, b) => a * b,\n",
    "    \"/\": (a, b) => {\n",
    "      if (b === 0) throw new Error(\"Division by zero is not allowed\");\n",
    "      return a / b;\n",
    "    },\n",
    "    \"//\": (a, b) => {\n",
    "      if (b === 0) throw new Error(\"Division by zero is not allowed\");\n",
    "      return Math.floor(a / b);\n",
    "    },\n",
    "  };\n",
    "\n",
    "  this.calculate = (exp) => {\n",
    "    const tokens = exp.split(\" \");\n",
    "    const a = +tokens[0];\n",
    "    const op = tokens[1];\n",
    "    const b = +tokens[2];\n",
    "\n",
    "    if (!this.methods[op]) {\n",
    "      throw new Error(`${op} is not available`);\n",
    "    }\n",
    "\n",
    "    return this.methods[op](a, b);\n",
    "  };\n",
    "\n",
    "  this.addMethod = (op, func) => {\n",
    "    this.methods[op] = func;\n",
    "  };\n",
    "}\n",
    "const calc = new Calculator();\n",
    "\n",
    "alert(calc.calculate(\"3 + 7\"));\n",
    "alert(calc.calculate(\"1212 // 131\"));\n",
    "calc.addMethod(\"**\", (a, b) => {\n",
    "  return a ** b;\n",
    "});\n",
    "\n",
    "alert(calc.calculate(\"9 ** 2\"));\n"
   ]
  },
  {
   "cell_type": "code",
   "execution_count": null,
   "metadata": {},
   "outputs": [
    {
     "name": "stdout",
     "output_type": "stream",
     "text": [
      "[ \"John\", \"Pete\", \"Mary\" ]\n"
     ]
    }
   ],
   "source": [
    "let john = { name: \"John\", age: 25 };\n",
    "let pete = { name: \"Pete\", age: 30 };\n",
    "let mary = { name: \"Mary\", age: 28 };\n",
    "\n",
    "let users = [john, pete, mary];\n",
    "\n",
    "let names = users.map((user) => user.name);\n",
    "\n",
    "alert(names); // John, Pete, Mary\n"
   ]
  },
  {
   "cell_type": "code",
   "execution_count": null,
   "metadata": {},
   "outputs": [
    {
     "name": "stdout",
     "output_type": "stream",
     "text": [
      "1\n",
      "John Smith\n"
     ]
    }
   ],
   "source": [
    "let john = { name: \"John\", surname: \"Smith\", id: 1 };\n",
    "let pete = { name: \"Pete\", surname: \"Hunt\", id: 2 };\n",
    "let mary = { name: \"Mary\", surname: \"Key\", id: 3 };\n",
    "\n",
    "let users = [john, pete, mary];\n",
    "\n",
    "let usersMapped = users.map((user) => ({\n",
    "  fullName: `${user.name} ${user.surname}`,\n",
    "  id: user.id,\n",
    "}));\n",
    "\n",
    "/*\n",
    "usersMapped = [\n",
    "  { fullName: \"John Smith\", id: 1 },\n",
    "  { fullName: \"Pete Hunt\", id: 2 },\n",
    "  { fullName: \"Mary Key\", id: 3 }\n",
    "]\n",
    "*/\n",
    "\n",
    "alert(usersMapped[0].id); // 1\n",
    "alert(usersMapped[0].fullName); // John Smith\n"
   ]
  },
  {
   "cell_type": "code",
   "execution_count": null,
   "metadata": {},
   "outputs": [
    {
     "name": "stdout",
     "output_type": "stream",
     "text": [
      "B John\n",
      "A Mary\n",
      "C Pete\n",
      "A Mary\n",
      "B John\n",
      "C Pete\n"
     ]
    }
   ],
   "source": [
    "function sortByAge(arr) {\n",
    "  arr.sort((a, b) => a.age - b.age);\n",
    "}\n",
    "\n",
    "function sortByName(arr) {\n",
    "  arr.sort((a: user, b: user) => a.name.localeCompare(b.name)); //to compare strings, use localeComare (lexicographically)\n",
    "}\n",
    "let john = { name: \"B John\", age: 25 };\n",
    "let pete = { name: \"C Pete\", age: 30 };\n",
    "let mary = { name: \"A Mary\", age: 28 };\n",
    "\n",
    "let arr = [pete, john, mary];\n",
    "\n",
    "sortByAge(arr2);\n",
    "\n",
    "// now: [john, mary, pete]\n",
    "alert(arr2[0].name); // John\n",
    "alert(arr2[1].name); // Mary\n",
    "alert(arr2[2].name); // Pete\n",
    "sortByName(arr2);\n",
    "alert(arr2[0].name);\n",
    "alert(arr2[1].name);\n",
    "alert(arr2[2].name);\n"
   ]
  },
  {
   "cell_type": "code",
   "execution_count": null,
   "metadata": {},
   "outputs": [
    {
     "name": "stdout",
     "output_type": "stream",
     "text": [
      "[ 2, 1, 3 ]\n",
      "[ 1, 3, 2 ]\n",
      "[ 2, 3, 1 ]\n"
     ]
    }
   ],
   "source": [
    "function shuffle(arr: number[]) {\n",
    "  //   arr.sort(() => Math.random() - 0.5);\n",
    "  //   alert(arr)\n",
    "  for (let i = 0; i < arr.length; i++) {\n",
    "    let rand_idx = Math.floor(Math.random() * (i + 1));\n",
    "\n",
    "    [arr[rand_idx], arr[i]] = [arr[i], arr[rand_idx]];\n",
    "  }\n",
    "  alert(arr);\n",
    "}\n",
    "\n",
    "let arr = [1, 2, 3];\n",
    "\n",
    "shuffle(arr2);\n",
    "// arr = [3, 2, 1]\n",
    "\n",
    "shuffle(arr2);\n",
    "// arr = [2, 1, 3]\n",
    "\n",
    "shuffle(arr2);\n",
    "// arr = [3, 1, 2]\n",
    "// ...\n"
   ]
  },
  {
   "cell_type": "code",
   "execution_count": null,
   "metadata": {},
   "outputs": [
    {
     "name": "stdout",
     "output_type": "stream",
     "text": [
      "28\n"
     ]
    }
   ],
   "source": [
    "function getAverageAge(arr: number[]) {\n",
    "  return arr.reduce((prev, curr) => prev + curr.age, 0) / arr.length;\n",
    "}\n",
    "let john = { name: \"John\", age: 25 };\n",
    "let pete = { name: \"Pete\", age: 30 };\n",
    "let mary = { name: \"Mary\", age: 29 };\n",
    "\n",
    "let arr = [john, pete, mary];\n",
    "\n",
    "alert(getAverageAge(arr2)); // (25 + 30 + 29) / 3 = 28\n"
   ]
  },
  {
   "cell_type": "code",
   "execution_count": null,
   "metadata": {},
   "outputs": [
    {
     "name": "stdout",
     "output_type": "stream",
     "text": [
      "[ \"1\", \"2\", \"3\" ]\n"
     ]
    }
   ],
   "source": [
    "function unique(arr) {\n",
    "  return [...new Set(arr)];\n",
    "  //return Array.from(new Set(arr));\n",
    "}\n",
    "\n",
    "let strings = [\"1\", \"2\", \"2\", \"3\", \"3\", \"3\"];\n",
    "\n",
    "alert(unique(strings));\n"
   ]
  },
  {
   "cell_type": "code",
   "execution_count": null,
   "metadata": {},
   "outputs": [
    {
     "ename": "SyntaxError",
     "evalue": "Identifier 'users' has already been declared",
     "output_type": "error",
     "traceback": [
      "Stack trace:",
      "SyntaxError: Identifier 'users' has already been declared"
     ]
    }
   ],
   "source": [
    "function groupById(users) {\n",
    "  let res = {};\n",
    "  for (const user of users) {\n",
    "    res[user.id] = { id: user.id, name: user.name, age: user.age };\n",
    "  }\n",
    "  return res;\n",
    "}\n",
    "const users_list = [\n",
    "  { id: \"john\", name: \"John Smith\", age: 20 },\n",
    "  { id: \"ann\", name: \"Ann Smith\", age: 24 },\n",
    "  { id: \"pete\", name: \"Pete Peterson\", age: 31 },\n",
    "];\n",
    "\n",
    "let usersById = groupById(users_list);\n",
    "alert(usersById);\n",
    "\n",
    "/*\n",
    "  // after the call we should have:\n",
    "\n",
    "  usersById = {\n",
    "    john: {id: 'john', name: \"John Smith\", age: 20},\n",
    "    ann: {id: 'ann', name: \"Ann Smith\", age: 24},\n",
    "    pete: {id: 'pete', name: \"Pete Peterson\", age: 31},\n",
    "  }\n",
    "  */\n"
   ]
  },
  {
   "cell_type": "code",
   "execution_count": null,
   "metadata": {},
   "outputs": [
    {
     "data": {
      "text/plain": [
       "[ \u001b[32m\"𝒳\"\u001b[39m, \u001b[32m\"😂\"\u001b[39m ]"
      ]
     },
     "execution_count": 5,
     "metadata": {},
     "output_type": "execute_result"
    }
   ],
   "source": [
    "// https://javascript.info/iterable\n",
    "\n",
    "let str = \"𝒳😂\";\n",
    "\n",
    "// splits str into array of characters\n",
    "let chars = Array.from(str);\n",
    "chars;\n"
   ]
  },
  {
   "cell_type": "code",
   "execution_count": null,
   "metadata": {},
   "outputs": [
    {
     "name": "stdout",
     "output_type": "stream",
     "text": [
      "[\n",
      "  [ undefined, 0 ],\n",
      "  [ undefined, 1 ],\n",
      "  [ undefined, 2 ],\n",
      "  [ undefined, 3 ],\n",
      "  [ undefined, 4 ]\n",
      "]\n",
      "[ 0, 1, 2, 3, 4 ]\n"
     ]
    }
   ],
   "source": [
    "const range = Array.from({ length: 5 }, (el, i) => [el, i]); // el is undefined\n",
    "console.log(range);\n",
    "\n",
    "const range_exclusive = Array.from({ length: 5 }, (_, i) => i);\n",
    "console.log(range_exclusive);\n"
   ]
  },
  {
   "cell_type": "code",
   "execution_count": null,
   "metadata": {},
   "outputs": [
    {
     "name": "stdout",
     "output_type": "stream",
     "text": [
      "Set(3) { 1, 2, 3 }\n",
      "[Set Iterator] { 1, 2, 3 }\n",
      "[Set Iterator] { 1, 2, 3 }\n",
      "[Set Entries] { [ 1, 1 ], [ 2, 2 ], [ 3, 3 ] }\n",
      "Map(3) { \"1\" => 1, \"2\" => 2, \"3\" => 2 }\n",
      "[Map Iterator] { 1, 2, 2 }\n",
      "[Map Iterator] { \"1\", \"2\", \"3\" }\n",
      "[Map Entries] { [ \"1\", 1 ], [ \"2\", 2 ], [ \"3\", 2 ] }\n",
      "Map(2) { { \"1\": 1 } => 1, { \"2\": 2 } => 2 }\n"
     ]
    }
   ],
   "source": [
    "// https://javascript.info/map-set\n",
    "const set1 = new Set([1, 2, 3]);\n",
    "console.log(set1);\n",
    "console.log(set1.values()); //for compatibility with map\n",
    "console.log(set1.keys()); //for compatibility with map\n",
    "console.log(set1.entries()); //for compatibility with map\n",
    "\n",
    "const map1 = new Map(\n",
    "  Object.entries({\n",
    "    1: 1,\n",
    "    2: 2,\n",
    "    3: 2,\n",
    "  })\n",
    ");\n",
    "\n",
    "console.log(map1);\n",
    "console.log(map1.values());\n",
    "console.log(map1.keys());\n",
    "console.log(map1.entries());\n",
    "//maps can have objects as keys, objects can't have objects as keys\n",
    "const map2 = new Map();\n",
    "\n",
    "map2.set({ 1: 1 }, 1);\n",
    "map2.set({ 2: 2 }, 2);\n",
    "\n",
    "console.log(map2);\n"
   ]
  },
  {
   "cell_type": "code",
   "execution_count": null,
   "metadata": {},
   "outputs": [
    {
     "name": "stdout",
     "output_type": "stream",
     "text": [
      "[ \"nap\", \"teachers\", \"ear\" ]\n"
     ]
    }
   ],
   "source": [
    "let arr = [\"nap\", \"teachers\", \"cheaters\", \"PAN\", \"ear\", \"era\", \"hectares\"];\n",
    "\n",
    "function aclean(arr: String[]) {\n",
    "  const seen = new Set();\n",
    "  return arr.filter((el) => {\n",
    "    const processable_representation = el\n",
    "      .toLowerCase()\n",
    "      .split(\"\")\n",
    "      .sort()\n",
    "      .join(\"\");\n",
    "    if (seen.has(processable_representation)) {\n",
    "      return false;\n",
    "    } else {\n",
    "      seen.add(processable_representation);\n",
    "      return true;\n",
    "    }\n",
    "  });\n",
    "}\n",
    "\n",
    "console.log(aclean(arr));\n"
   ]
  },
  {
   "cell_type": "code",
   "execution_count": null,
   "metadata": {},
   "outputs": [
    {
     "name": "stdout",
     "output_type": "stream",
     "text": [
      "object \n",
      " [ \"name\", \"more\" ]\n"
     ]
    }
   ],
   "source": [
    "let map = new Map();\n",
    "\n",
    "map.set(\"name\", \"John\");\n",
    "\n",
    "let keys = map.keys();\n",
    "\n",
    "// Error: keys.push is not a function\n",
    "// keys.push(\"more\");\n",
    "keys = Array.from(keys);\n",
    "keys.push(\"more\");\n",
    "console.log(typeof keys, \"\\n\", keys);\n"
   ]
  },
  {
   "cell_type": "code",
   "execution_count": null,
   "metadata": {},
   "outputs": [
    {
     "data": {
      "text/plain": [
       "{ name: \u001b[32m\"John\"\u001b[39m }"
      ]
     },
     "execution_count": 19,
     "metadata": {},
     "output_type": "execute_result"
    }
   ],
   "source": [
    "let john = { name: \"John\" };\n",
    "\n",
    "let array = [john];\n",
    "\n",
    "john = null;\n",
    "array[0]; // overwrite the reference\n",
    "\n",
    "// the object previously referenced by john is stored inside the array\n",
    "// therefore it won't be garbage-collected\n",
    "// we can get it as array[0]\n"
   ]
  },
  {
   "cell_type": "code",
   "execution_count": null,
   "metadata": {},
   "outputs": [
    {
     "data": {
      "text/plain": [
       "[Map Iterator] { { name: \u001b[32m\"John\"\u001b[39m } }"
      ]
     },
     "execution_count": 21,
     "metadata": {},
     "output_type": "execute_result"
    }
   ],
   "source": [
    "let john = { name: \"John\" };\n",
    "\n",
    "let map = new Map();\n",
    "map.set(john, \"...\");\n",
    "\n",
    "john = null; // overwrite the reference\n",
    "\n",
    "// john is stored inside the map,\n",
    "// we can get it by using map.keys()\n",
    "map.keys(0);\n"
   ]
  },
  {
   "cell_type": "markdown",
   "metadata": {},
   "source": [
    "WeakMap is fundamentally different in this aspect. It doesn’t prevent garbage-collection of key objects.\n",
    "\n",
    "Let’s see what it means on examples.<br>\n",
    "The first difference between Map and WeakMap is that keys must be objects, not primitive values:\n"
   ]
  },
  {
   "cell_type": "code",
   "execution_count": null,
   "metadata": {},
   "outputs": [
    {
     "ename": "TypeError",
     "evalue": "Invalid value used as weak map key",
     "output_type": "error",
     "traceback": [
      "Stack trace:",
      "TypeError: Invalid value used as weak map key",
      "    at WeakMap.set (<anonymous>)",
      "    at <anonymous>:5:9"
     ]
    }
   ],
   "source": [
    "let weakMap = new WeakMap();\n",
    "\n",
    "let obj = {};\n",
    "\n",
    "weakMap.set(obj, \"ok\"); // works fine (object key)\n",
    "\n",
    "// can't use a string as the key\n",
    "weakMap.set(\"test\", \"Whoops\"); // Error, because \"test\" is not an object\n"
   ]
  },
  {
   "cell_type": "code",
   "execution_count": null,
   "metadata": {},
   "outputs": [
    {
     "name": "stdout",
     "output_type": "stream",
     "text": [
      "undefined\n",
      "WeakMap { <items unknown> }\n"
     ]
    }
   ],
   "source": [
    "let john = { name: \"John\" };\n",
    "\n",
    "let weakMap = new WeakMap();\n",
    "weakMap.set(john, \"...\");\n",
    "\n",
    "john = null; // overwrite the reference\n",
    "\n",
    "// john is removed from memory!\n",
    "\n",
    "console.log(weakMap.get(john));\n",
    "console.log(weakMap);\n"
   ]
  },
  {
   "cell_type": "markdown",
   "metadata": {},
   "source": [
    "`WeakMap` does not support iteration and methods `keys()`, `values()`, `entries()`, so there’s no way to get all keys or values from it.\n",
    "\n",
    "WeakMap has only the following methods:\n",
    "\n",
    "```js\n",
    "weakMap.set(key, value);\n",
    "weakMap.get(key);\n",
    "weakMap.delete(key);\n",
    "weakMap.has(key);\n",
    "```\n",
    "\n",
    "Why such a limitation? That’s for technical reasons. If an object has lost all other references (like john in the code above), then it is to be garbage-collected automatically. But technically it’s not exactly specified when the cleanup happens.\n",
    "\n",
    "The JavaScript engine decides that. It may choose to perform the memory cleanup immediately or to wait and do the cleaning later when more deletions happen. So, technically, the current element count of a `WeakMap` is not known. The engine may have cleaned it up or not, or did it partially. For that reason, methods that access all keys/values are not supported.\n"
   ]
  },
  {
   "cell_type": "code",
   "execution_count": null,
   "metadata": {},
   "outputs": [
    {
     "name": "stdout",
     "output_type": "stream",
     "text": [
      "[ \"name\", \"age\" ]\n",
      "[ \"John\", 30 ]\n",
      "[ [ \"name\", \"John\" ], [ \"age\", 30 ] ]\n"
     ]
    }
   ],
   "source": [
    "let user = {\n",
    "  name: \"John\",\n",
    "  age: 30,\n",
    "};\n",
    "\n",
    "console.log(Object.keys(user));\n",
    "console.log(Object.values(user));\n",
    "console.log(Object.entries(user));\n"
   ]
  },
  {
   "cell_type": "markdown",
   "metadata": {},
   "source": [
    "Object.keys/values/entries ignore symbolic properties\n",
    "Just like a for..in loop, these methods ignore properties that use Symbol(...) as keys.\n",
    "\n",
    "Usually that’s convenient. But if we want symbolic keys too, then there’s a separate method Object.getOwnPropertySymbols that returns an array of only symbolic keys. Also, there exist a method Reflect.ownKeys(obj) that returns all keys.\n"
   ]
  },
  {
   "cell_type": "code",
   "execution_count": null,
   "metadata": {},
   "outputs": [
    {
     "name": "stdout",
     "output_type": "stream",
     "text": [
      "100\n"
     ]
    }
   ],
   "source": [
    "let prices = {\n",
    "  apple: 50,\n",
    "  banana: 1,\n",
    "  orange: 2,\n",
    "  meat: 4,\n",
    "};\n",
    "\n",
    "let doublePrices = Object.fromEntries(\n",
    "  // convert prices to array, map each key/value pair into another pair\n",
    "  // and then fromEntries gives back the object\n",
    "  Object.entries(prices).map((entry) => [entry[0], entry[1] * 2])\n",
    ");\n",
    "\n",
    "console.log(doublePrices.apple);\n"
   ]
  },
  {
   "cell_type": "code",
   "execution_count": null,
   "metadata": {},
   "outputs": [
    {
     "name": "stdout",
     "output_type": "stream",
     "text": [
      "650\n"
     ]
    }
   ],
   "source": [
    "let salaries = {\n",
    "  John: 100,\n",
    "  Pete: 300,\n",
    "  Mary: 250,\n",
    "};\n",
    "\n",
    "function sumSalaries(salaries: { string: number }) {\n",
    "  let sum = 0;\n",
    "  for (const el of Object.values(salaries)) {\n",
    "    sum += el;\n",
    "  }\n",
    "  return sum;\n",
    "}\n",
    "\n",
    "alert(sumSalaries(salaries));\n"
   ]
  },
  {
   "cell_type": "code",
   "execution_count": null,
   "metadata": {},
   "outputs": [
    {
     "name": "stdout",
     "output_type": "stream",
     "text": [
      "2\n"
     ]
    }
   ],
   "source": [
    "let user = {\n",
    "  name: \"John\",\n",
    "  age: 30,\n",
    "};\n",
    "\n",
    "function count(obj: Object) {\n",
    "  return Object.keys(obj).length;\n",
    "}\n",
    "alert(count(user));\n"
   ]
  },
  {
   "cell_type": "code",
   "execution_count": null,
   "metadata": {},
   "outputs": [
    {
     "name": "stdout",
     "output_type": "stream",
     "text": [
      "Julius\n",
      "Placeholder surname\n"
     ]
    }
   ],
   "source": [
    "// runs only prompt for surname\n",
    "let [\n",
    "  name = prompt(\"name?\"),\n",
    "  surname = prompt(\"surname?\", \"Placeholder surname\"),\n",
    "] = [\"Julius\"];\n",
    "\n",
    "alert(name); // Julius (from array)\n",
    "alert(surname); // whatever prompt gets\n"
   ]
  },
  {
   "cell_type": "code",
   "execution_count": null,
   "metadata": {},
   "outputs": [
    {
     "name": "stdout",
     "output_type": "stream",
     "text": [
      "Menu\n",
      "100\n",
      "200\n"
     ]
    }
   ],
   "source": [
    "let options = {\n",
    "  title: \"Menu\",\n",
    "  width: 100,\n",
    "  height: 200,\n",
    "};\n",
    "\n",
    "let { title, width, height } = options;\n",
    "\n",
    "alert(title);\n",
    "alert(width);\n",
    "alert(height);\n"
   ]
  },
  {
   "cell_type": "code",
   "execution_count": null,
   "metadata": {},
   "outputs": [
    {
     "name": "stdout",
     "output_type": "stream",
     "text": [
      "Menu 200 100\n"
     ]
    }
   ],
   "source": [
    "// The order does not matter. This works too:\n",
    "\n",
    "// changed the order in let {...}\n",
    "let { height, width, title } = { title: \"Menu\", height: 200, width: 100 };\n",
    "console.log(title, height, width);\n"
   ]
  },
  {
   "cell_type": "code",
   "execution_count": null,
   "metadata": {},
   "outputs": [
    {
     "name": "stdout",
     "output_type": "stream",
     "text": [
      "Menu\n",
      "100\n",
      "200\n"
     ]
    }
   ],
   "source": [
    "let options = {\n",
    "  title: \"Menu\",\n",
    "};\n",
    "\n",
    "let { width: w = 100, height: h = 200, title } = options;\n",
    "\n",
    "console.log(title); // Menu\n",
    "console.log(w); // 100\n",
    "console.log(h); // 200\n"
   ]
  },
  {
   "cell_type": "markdown",
   "metadata": {},
   "source": [
    "Gotcha if there’s no let\n",
    "In the examples above variables were declared right in the assignment: let {…} = {…}. Of course, we could use existing variables too, without let. But there’s a catch.\n",
    "\n",
    "This won’t work:\n"
   ]
  },
  {
   "cell_type": "code",
   "execution_count": null,
   "metadata": {},
   "outputs": [],
   "source": [
    "let title, width, height;\n",
    "\n",
    "// error in this line\n",
    "// {title, width, height} = {title: \"Menu\", width: 200, height: 100};\n"
   ]
  },
  {
   "cell_type": "markdown",
   "metadata": {},
   "source": [
    "The problem is that JavaScript treats {...} in the main code flow (not inside another expression) as a code block. Such code blocks can be used to group statements, like this:\n"
   ]
  },
  {
   "cell_type": "code",
   "execution_count": null,
   "metadata": {},
   "outputs": [
    {
     "name": "stdout",
     "output_type": "stream",
     "text": [
      "Hello\n"
     ]
    }
   ],
   "source": [
    "{\n",
    "  // a code block\n",
    "  let message = \"Hello\";\n",
    "  // ...\n",
    "  console.log(message);\n",
    "}\n"
   ]
  },
  {
   "cell_type": "markdown",
   "metadata": {},
   "source": [
    "So here JavaScript assumes that we have a code block, that’s why there’s an error. We want destructuring instead.\n",
    "\n",
    "To show JavaScript that it's not a code block, we can wrap the expression in parentheses (...):\n"
   ]
  },
  {
   "cell_type": "code",
   "execution_count": null,
   "metadata": {},
   "outputs": [
    {
     "name": "stdout",
     "output_type": "stream",
     "text": [
      "Menu\n"
     ]
    }
   ],
   "source": [
    "let title, width, height;\n",
    "\n",
    "// okay now\n",
    "({ title, width, height } = { title: \"Menu\", width: 200, height: 100 });\n",
    "\n",
    "console.log(title); // Menu\n"
   ]
  },
  {
   "cell_type": "code",
   "execution_count": null,
   "metadata": {},
   "outputs": [
    {
     "name": "stdout",
     "output_type": "stream",
     "text": [
      "John\n",
      "30\n",
      "false\n"
     ]
    }
   ],
   "source": [
    "let user = { name: \"John\", years: 30 };\n",
    "\n",
    "// your code to the left side:\n",
    "// ... = user\n",
    "let { name, years: age, isAdmin = false } = user;\n",
    "alert(name); // John\n",
    "alert(age); // 30\n",
    "alert(isAdmin); // false\n"
   ]
  },
  {
   "cell_type": "code",
   "execution_count": null,
   "metadata": {},
   "outputs": [
    {
     "name": "stdout",
     "output_type": "stream",
     "text": [
      "Pete\n"
     ]
    }
   ],
   "source": [
    "let salaries = {\n",
    "  John: 100,\n",
    "  Pete: 300,\n",
    "  Mary: 250,\n",
    "};\n",
    "\n",
    "//   Create the function topSalary(salaries) that returns the name of the top-paid person.\n",
    "\n",
    "// If salaries is empty, it should return null.\n",
    "// If there are multiple top-paid persons, return any of them.\n",
    "// P.S. Use Object.entries and destructuring to iterate over key/value pairs.\n",
    "\n",
    "function topSalary(salaries) {\n",
    "  let topSalary = 0;\n",
    "  let topSalaryPerson = null;\n",
    "  for (let [person, salary] of Object.entries(salaries)) {\n",
    "    if (salary > topSalary) {\n",
    "      topSalary = salary;\n",
    "      topSalaryPerson = person;\n",
    "    }\n",
    "  }\n",
    "  return topSalaryPerson;\n",
    "}\n",
    "\n",
    "console.log(topSalary(salaries));\n"
   ]
  },
  {
   "cell_type": "code",
   "execution_count": null,
   "metadata": {},
   "outputs": [
    {
     "name": "stdout",
     "output_type": "stream",
     "text": [
      "2025-04-26T15:04:41.416Z\n"
     ]
    }
   ],
   "source": [
    "const date = new Date();\n",
    "console.log(date);\n"
   ]
  },
  {
   "cell_type": "code",
   "execution_count": null,
   "metadata": {},
   "outputs": [
    {
     "data": {
      "text/plain": [
       "\u001b[33m23\u001b[39m"
      ]
     },
     "execution_count": 42,
     "metadata": {},
     "output_type": "execute_result"
    }
   ],
   "source": [
    "new Date().getHours();\n"
   ]
  },
  {
   "cell_type": "code",
   "execution_count": null,
   "metadata": {},
   "outputs": [
    {
     "data": {
      "text/plain": [
       "\u001b[33m2025\u001b[39m"
      ]
     },
     "execution_count": 33,
     "metadata": {},
     "output_type": "execute_result"
    }
   ],
   "source": [
    "new Date().getFullYear();\n"
   ]
  },
  {
   "cell_type": "code",
   "execution_count": null,
   "metadata": {},
   "outputs": [
    {
     "data": {
      "text/plain": [
       "\u001b[33m26\u001b[39m"
      ]
     },
     "execution_count": 34,
     "metadata": {},
     "output_type": "execute_result"
    }
   ],
   "source": [
    "new Date().getDate();\n"
   ]
  },
  {
   "cell_type": "code",
   "execution_count": null,
   "metadata": {},
   "outputs": [
    {
     "data": {
      "text/plain": [
       "\u001b[33m6\u001b[39m"
      ]
     },
     "execution_count": 38,
     "metadata": {},
     "output_type": "execute_result"
    }
   ],
   "source": [
    "new Date().getDay();\n",
    "// 0 (Sunday) to 6 (Saturday)\n"
   ]
  },
  {
   "cell_type": "code",
   "execution_count": null,
   "metadata": {},
   "outputs": [
    {
     "name": "stdout",
     "output_type": "stream",
     "text": [
      "undefined\n"
     ]
    }
   ],
   "source": [
    "console.log(new Date().getVarDate);\n",
    "//getVarDate - an old property thats removed\n"
   ]
  },
  {
   "cell_type": "code",
   "execution_count": null,
   "metadata": {},
   "outputs": [
    {
     "data": {
      "text/plain": [
       "\u001b[33m17\u001b[39m"
      ]
     },
     "execution_count": 44,
     "metadata": {},
     "output_type": "execute_result"
    }
   ],
   "source": [
    "new Date().getUTCHours();\n",
    "// the hour in UTC+0 time zone (London time without daylight savings)\n"
   ]
  },
  {
   "cell_type": "code",
   "execution_count": null,
   "metadata": {},
   "outputs": [
    {
     "name": "stdout",
     "output_type": "stream",
     "text": [
      "-330\n"
     ]
    }
   ],
   "source": [
    "console.log(new Date().getTimezoneOffset());\n"
   ]
  },
  {
   "cell_type": "markdown",
   "metadata": {},
   "source": [
    "Setting date components\n",
    "The following methods allow to set date/time components:\n",
    "\n",
    "```js\n",
    "setFullYear(year, [month], [date]);\n",
    "setMonth(month, [date]);\n",
    "setDate(date);\n",
    "setHours(hour, [min], [sec], [ms]);\n",
    "setMinutes(min, [sec], [ms]);\n",
    "setSeconds(sec, [ms]);\n",
    "setMilliseconds(ms);\n",
    "setTime(milliseconds);\n",
    "//(sets the whole date by milliseconds since 01.01.1970 UTC)\n",
    "```\n",
    "\n",
    "Every one of them except setTime() has a UTC-variant, for instance: setUTCHours().\n"
   ]
  },
  {
   "cell_type": "code",
   "execution_count": null,
   "metadata": {},
   "outputs": [
    {
     "name": "stdout",
     "output_type": "stream",
     "text": [
      "1️⃣ Logs in UTC (default behavior)\n",
      "2025-05-14T06:13:47.767Z\n",
      "⛔ Shows ISO format in UTC → may look like wrong date/time\n",
      "\n",
      "2️⃣ Set hour to 0 (local time), keeps min/sec/ms\n",
      "2025-05-13T19:13:47.767Z\n",
      "⛔ Still logs in UTC → looks like previous day if your timezone is ahead\n",
      "\n",
      "3️⃣ Logs in **local time** with readable format\n",
      "Wed May 14 2025 00:43:47 GMT+0530 (India Standard Time)\n",
      "✅ Shows full local date & time (e.g., \"Wed May 14 2025 00:00:00 GMT+0530\")\n",
      "\n",
      "4️⃣ Logs in **local time** in a compact format\n",
      "5/14/2025, 12:43:47 AM\n",
      "✅ Shows local date/time like \"14/5/2025, 12:00:00 AM\"\n",
      "\n",
      "5️⃣ Just the local **time** portion\n",
      "12:43:47 AM\n",
      "✅ Shows \"12:00:00 AM\" in your local timezone\n",
      "\n",
      "6️⃣ Local formatted using Intl (more control)\n",
      "Wednesday 14 May 2025 at 00:43:47 GMT+5:30\n",
      "✅ \"Wednesday, 14 May 2025 at 00:00:00 Indian Standard Time\"\n",
      "\n"
     ]
    }
   ],
   "source": [
    "let today = new Date();\n",
    "\n",
    "console.log(\"1️⃣ Logs in UTC (default behavior)\");\n",
    "console.log(today);\n",
    "console.log(\"⛔ Shows ISO format in UTC → may look like wrong date/time\\n\");\n",
    "\n",
    "console.log(\"2️⃣ Set hour to 0 (local time), keeps min/sec/ms\");\n",
    "today.setHours(0);\n",
    "console.log(today);\n",
    "console.log(\n",
    "  \"⛔ Still logs in UTC → looks like previous day if your timezone is ahead\\n\"\n",
    ");\n",
    "\n",
    "console.log(\"3️⃣ Logs in **local time** with readable format\");\n",
    "console.log(today.toString());\n",
    "console.log(\n",
    "  '✅ Shows full local date & time (e.g., \"Wed May 14 2025 00:00:00 GMT+0530\")\\n'\n",
    ");\n",
    "\n",
    "console.log(\"4️⃣ Logs in **local time** in a compact format\");\n",
    "console.log(today.toLocaleString());\n",
    "console.log('✅ Shows local date/time like \"14/5/2025, 12:00:00 AM\"\\n');\n",
    "\n",
    "console.log(\"5️⃣ Just the local **time** portion\");\n",
    "console.log(today.toLocaleTimeString());\n",
    "console.log('✅ Shows \"12:00:00 AM\" in your local timezone\\n');\n",
    "\n",
    "console.log(\"6️⃣ Local formatted using Intl (more control)\");\n",
    "console.log(\n",
    "  new Intl.DateTimeFormat(\"en-GB\", {\n",
    "    dateStyle: \"full\",\n",
    "    timeStyle: \"long\",\n",
    "  }).format(today)\n",
    ");\n",
    "console.log('✅ \"Wednesday, 14 May 2025 at 00:00:00 Indian Standard Time\"\\n');\n"
   ]
  },
  {
   "cell_type": "markdown",
   "metadata": {},
   "source": [
    "The autocorrection is a very handy feature of Date objects. We can set out-of-range values, and it will auto-adjust itself.\n"
   ]
  },
  {
   "cell_type": "code",
   "execution_count": null,
   "metadata": {},
   "outputs": [
    {
     "name": "stdout",
     "output_type": "stream",
     "text": [
      "2025-01-31T18:30:00.000Z\n"
     ]
    }
   ],
   "source": [
    "let date2 = new Date(2025, 0, 32); // 32 Jan 2013 ?!?\n",
    "console.log(date2); // ...is 1st Feb 2013!\n"
   ]
  },
  {
   "cell_type": "markdown",
   "metadata": {},
   "source": [
    "Out-of-range date components are distributed automatically.\n",
    "\n",
    "Let’s say we need to increase the date “28 Feb 2016” by 2 days. It may be “2 Mar” or “1 Mar” in case of a leap-year. We don’t need to think about it. Just add 2 days. The Date object will do the rest:\n"
   ]
  },
  {
   "cell_type": "code",
   "execution_count": null,
   "metadata": {},
   "outputs": [
    {
     "name": "stdout",
     "output_type": "stream",
     "text": [
      "Tue Mar 01 2016 00:00:00 GMT+0530 (India Standard Time)\n",
      "2016-02-29T18:30:00.000Z\n"
     ]
    }
   ],
   "source": [
    "let date3 = new Date(2016, 1, 28);\n",
    "date3.setDate(date3.getDate() + 2);\n",
    "\n",
    "alert(date3.toString()); // 1 Mar 2016\n",
    "alert(date3); // shows different date because of timezone offset\n"
   ]
  },
  {
   "cell_type": "markdown",
   "metadata": {},
   "source": [
    "That feature is often used to get the date after the given period of time. For instance, let’s get the date for “70 seconds after now”:\n"
   ]
  },
  {
   "cell_type": "code",
   "execution_count": null,
   "metadata": {},
   "outputs": [
    {
     "name": "stdout",
     "output_type": "stream",
     "text": [
      "Wed May 14 2025 11:56:07 GMT+0530 (India Standard Time)\n",
      "Wed May 14 2025 11:57:17 GMT+0530 (India Standard Time)\n"
     ]
    }
   ],
   "source": [
    "let date4 = new Date();\n",
    "console.log(date4.toString());\n",
    "date4.setSeconds(date4.getSeconds() + 70);\n",
    "\n",
    "alert(date4.toString()); // shows the correct date4\n"
   ]
  },
  {
   "cell_type": "code",
   "execution_count": null,
   "metadata": {},
   "outputs": [
    {
     "name": "stdout",
     "output_type": "stream",
     "text": [
      "The loop took 3 ms\n"
     ]
    }
   ],
   "source": [
    "let start = new Date(); // start measuring time\n",
    "\n",
    "// do the job\n",
    "for (let i = 0; i < 100000; i++) {\n",
    "  let doSomething = i * i * i;\n",
    "}\n",
    "\n",
    "let end = new Date(); // end measuring time\n",
    "\n",
    "alert(`The loop took ${end - start} ms`);\n"
   ]
  },
  {
   "cell_type": "markdown",
   "metadata": {},
   "source": [
    "Date.now()\n",
    "If we only want to measure time, we don’t need the Date object.\n",
    "\n",
    "There’s a special method Date.now() that returns the current timestamp.\n",
    "\n",
    "It is semantically equivalent to new Date().getTime(), but it doesn’t create an intermediate Date object. So it’s faster and doesn’t put pressure on garbage collection.\n",
    "\n",
    "It is used mostly for convenience or when performance matters, like in games in JavaScript or other specialized applications.\n",
    "\n",
    "So this is probably better:\n"
   ]
  },
  {
   "cell_type": "code",
   "execution_count": null,
   "metadata": {},
   "outputs": [
    {
     "name": "stdout",
     "output_type": "stream",
     "text": [
      "The loop took 2 ms\n"
     ]
    }
   ],
   "source": [
    "let start = Date.now(); // milliseconds count from 1 Jan 1970\n",
    "\n",
    "// do the job\n",
    "for (let i = 0; i < 100000; i++) {\n",
    "  let doSomething = i * i * i;\n",
    "}\n",
    "\n",
    "let end = Date.now(); // done\n",
    "\n",
    "alert(`The loop took ${end - start} ms`); // subtract numbers, not dates\n"
   ]
  },
  {
   "cell_type": "code",
   "execution_count": null,
   "metadata": {},
   "outputs": [],
   "source": [
    "// we have date1 and date2, which function faster returns their difference in ms?\n",
    "function diffSubtract(date1, date2) {\n",
    "  return date2 - date1;\n",
    "}\n",
    "\n",
    "// or\n",
    "function diffGetTime(date1, date2) {\n",
    "  return date2.getTime() - date1.getTime();\n",
    "}\n"
   ]
  },
  {
   "cell_type": "markdown",
   "metadata": {},
   "source": [
    "These two do exactly the same thing, but one of them uses an explicit date.getTime() to get the date in ms, and the other one relies on a date-to-number transform. Their result is always the same.\n",
    "\n",
    "So, which one is faster?\n",
    "\n",
    "The first idea may be to run them many times in a row and measure the time difference. For our case, functions are very simple, so we have to do it at least 100000 times.\n",
    "\n",
    "Let’s measure:\n"
   ]
  },
  {
   "cell_type": "code",
   "execution_count": null,
   "metadata": {},
   "outputs": [
    {
     "name": "stdout",
     "output_type": "stream",
     "text": [
      "Time of diffSubtract: 19ms\n",
      "Time of diffGetTime: 3ms\n"
     ]
    }
   ],
   "source": [
    "function diffSubtract(date1, date2) {\n",
    "  return date2 - date1;\n",
    "}\n",
    "\n",
    "function diffGetTime(date1, date2) {\n",
    "  return date2.getTime() - date1.getTime();\n",
    "}\n",
    "\n",
    "function bench(f) {\n",
    "  let date1 = new Date(0);\n",
    "  let date2 = new Date();\n",
    "  let start = Date.now();\n",
    "  for (let i = 0; i < 100000; i++) f(date1, date2);\n",
    "  return Date.now() - start;\n",
    "}\n",
    "\n",
    "alert(\"Time of diffSubtract: \" + bench(diffSubtract) + \"ms\");\n",
    "alert(\"Time of diffGetTime: \" + bench(diffGetTime) + \"ms\");\n"
   ]
  },
  {
   "cell_type": "markdown",
   "metadata": {},
   "source": [
    "`Date.parse` from a string\n",
    "The method `Date.parse(str)` can read a date from a string.\n",
    "\n",
    "The string format should be: YYYY-MM-DDTHH:mm:ss.sssZ, where:\n",
    "\n",
    "- YYYY-MM-DD – is the date: year-month-day.\n",
    "  The character \"T\" is used as the delimiter.\n",
    "- HH:mm:ss.sss – is the time: hours, minutes, seconds and milliseconds.\n",
    "- The optional 'Z' part denotes the time zone in the format +-hh:mm. A single letter Z would mean UTC+0.\n",
    "\n",
    "Shorter variants are also possible, like YYYY-MM-DD or YYYY-MM or even YYYY.\n",
    "\n",
    "The call to `Date.parse(str)` parses the string in the given format and returns the timestamp (number of milliseconds from 1 Jan 1970 UTC+0). If the format is invalid, returns NaN.\n",
    "\n",
    "For instance:\n"
   ]
  },
  {
   "cell_type": "code",
   "execution_count": null,
   "metadata": {},
   "outputs": [
    {
     "name": "stdout",
     "output_type": "stream",
     "text": [
      "1327611110417\n"
     ]
    }
   ],
   "source": [
    "let ms = Date.parse(\"2012-01-26T13:51:50.417-07:00\");\n",
    "\n",
    "alert(ms); // 1327611110417  (timestamp)\n"
   ]
  },
  {
   "cell_type": "code",
   "execution_count": null,
   "metadata": {},
   "outputs": [
    {
     "name": "stdout",
     "output_type": "stream",
     "text": [
      "1764547200000\n"
     ]
    }
   ],
   "source": [
    "let ms2 = Date.parse(\"2025-12-01\");\n",
    "alert(ms2);\n"
   ]
  },
  {
   "cell_type": "code",
   "execution_count": null,
   "metadata": {},
   "outputs": [
    {
     "name": "stdout",
     "output_type": "stream",
     "text": [
      "{name: \"John\n",
      "\", age: 30}\n"
     ]
    }
   ],
   "source": [
    "// https://javascript.info/json\n",
    "let user = {\n",
    "  name: \"John\\n\",\n",
    "  age: 30,\n",
    "  toString() {\n",
    "    return `{name: \"${this.name}\", age: ${this.age}}`;\n",
    "  },\n",
    "};\n",
    "\n",
    "alert(user.toString());\n"
   ]
  },
  {
   "cell_type": "code",
   "execution_count": null,
   "metadata": {},
   "outputs": [
    {
     "name": "stdout",
     "output_type": "stream",
     "text": [
      "string\n",
      "{\"name\":\"John\\n\",\"age\":30}\n"
     ]
    }
   ],
   "source": [
    "let student = {\n",
    "  name: \"John\\n\",\n",
    "  age: 30,\n",
    "};\n",
    "\n",
    "let student_json = JSON.stringify(student);\n",
    "console.log(typeof student_json);\n",
    "alert(student_json);\n"
   ]
  },
  {
   "cell_type": "markdown",
   "metadata": {},
   "source": [
    "JSON is data-only language-independent specification, so some JavaScript-specific object properties are skipped by JSON.stringify.\n",
    "\n",
    "Namely:\n",
    "\n",
    "Function properties (methods).\n",
    "Symbolic keys and values.\n",
    "Properties that store undefined.\n"
   ]
  },
  {
   "cell_type": "code",
   "execution_count": null,
   "metadata": {},
   "outputs": [
    {
     "name": "stdout",
     "output_type": "stream",
     "text": [
      "{}\n"
     ]
    }
   ],
   "source": [
    "let user = {\n",
    "  sayHi() {\n",
    "    // ignored\n",
    "    alert(\"Hello\");\n",
    "  },\n",
    "  [Symbol(\"id\")]: 123, // ignored\n",
    "  something: undefined, // ignored\n",
    "};\n",
    "\n",
    "alert(JSON.stringify(user)); // {} (empty object)\n"
   ]
  },
  {
   "cell_type": "markdown",
   "metadata": {},
   "source": [
    "The important limitation: there must be no circular references.\n"
   ]
  },
  {
   "cell_type": "code",
   "execution_count": null,
   "metadata": {},
   "outputs": [
    {
     "ename": "TypeError",
     "evalue": "Converting circular structure to JSON\n    --> starting at object with constructor 'Object'\n    |     property 'place' -> object with constructor 'Object'\n    --- property 'occupiedBy' closes the circle",
     "output_type": "error",
     "traceback": [
      "Stack trace:",
      "TypeError: Converting circular structure to JSON",
      "    --> starting at object with constructor 'Object'",
      "    |     property 'place' -> object with constructor 'Object'",
      "    --- property 'occupiedBy' closes the circle",
      "    at JSON.stringify (<anonymous>)",
      "    at <anonymous>:13:6"
     ]
    }
   ],
   "source": [
    "let room = {\n",
    "  number: 23,\n",
    "};\n",
    "\n",
    "let meetup = {\n",
    "  title: \"Conference\",\n",
    "  participants: [\"A\", \"B\"],\n",
    "};\n",
    "\n",
    "meetup.place = room; // meetup references room\n",
    "room.occupiedBy = meetup; // room references meetup\n",
    "\n",
    "JSON.stringify(meetup);\n"
   ]
  },
  {
   "cell_type": "markdown",
   "metadata": {},
   "source": [
    "Excluding and transforming: replacer\n",
    "The full syntax of JSON.stringify is:\n",
    "\n",
    "```js\n",
    "let json = JSON.stringify(value[, replacer, space])\n",
    "```\n"
   ]
  },
  {
   "cell_type": "markdown",
   "metadata": {},
   "source": [
    "- value\n",
    "  A value to encode.\n",
    "- replacer\n",
    "  Array of properties to encode or a mapping function function(key, value).\n",
    "- space:\n",
    "  Amount of space to use for formatting\n"
   ]
  },
  {
   "cell_type": "markdown",
   "metadata": {},
   "source": [
    "Most of the time, JSON.stringify is used with the first argument only. But if we need to fine-tune the replacement process, like to filter out circular references, we can use the second argument of JSON.stringify.\n"
   ]
  },
  {
   "cell_type": "markdown",
   "metadata": {},
   "source": [
    "If we pass an array of properties to it, only these properties will be encoded.\n"
   ]
  },
  {
   "cell_type": "code",
   "execution_count": null,
   "metadata": {},
   "outputs": [
    {
     "name": "stdout",
     "output_type": "stream",
     "text": [
      "{\"title\":\"Conference\",\"participants\":[{},{}]}\n"
     ]
    }
   ],
   "source": [
    "let room = {\n",
    "  number: 23,\n",
    "};\n",
    "\n",
    "let meetup = {\n",
    "  title: \"Conference\",\n",
    "  participants: [{ name: \"John\" }, { name: \"Alice\" }],\n",
    "  place: room, // meetup references room\n",
    "};\n",
    "\n",
    "room.occupiedBy = meetup; // room references meetup\n",
    "\n",
    "alert(JSON.stringify(meetup, [\"title\", \"participants\"]));\n"
   ]
  },
  {
   "cell_type": "markdown",
   "metadata": {},
   "source": [
    "Here we are probably too strict. The property list is applied to the whole object structure. So the objects in participants are empty, because name is not in the list.\n",
    "\n",
    "Let’s include every property except `room.occupiedBy` that would cause the circular reference:\n"
   ]
  },
  {
   "cell_type": "code",
   "execution_count": null,
   "metadata": {},
   "outputs": [
    {
     "name": "stdout",
     "output_type": "stream",
     "text": [
      "{\"title\":\"Conference\",\"participants\":[{\"name\":\"John\"},{\"name\":\"Alice\"}],\"place\":{\"number\":23,\"doors\":2}}\n"
     ]
    }
   ],
   "source": [
    "let room = {\n",
    "  number: 23,\n",
    "  doors: 2,\n",
    "};\n",
    "\n",
    "let meetup = {\n",
    "  title: \"Conference\",\n",
    "  participants: [{ name: \"John\" }, { name: \"Alice\" }],\n",
    "  place: room, // meetup references room\n",
    "};\n",
    "\n",
    "room.occupiedBy = meetup; // room references meetup\n",
    "\n",
    "alert(\n",
    "  JSON.stringify(meetup, [\n",
    "    \"title\",\n",
    "    \"participants\",\n",
    "    \"place\",\n",
    "    \"name\",\n",
    "    \"number\",\n",
    "    \"doors\",\n",
    "  ])\n",
    ");\n",
    "// alert( JSON.stringify(meetup, ['title', 'participants', 'place', 'name', 'number','doors','occupiedBy'])); //error: circular struture\n"
   ]
  },
  {
   "cell_type": "markdown",
   "metadata": {},
   "source": [
    "The function will be called for every (key, value) pair and should return the “replaced” value, which will be used instead of the original one. Or undefined if the value is to be skipped.\n",
    "\n",
    "In our case, we can return value “as is” for everything except occupiedBy. To ignore occupiedBy, the code below returns undefined:\n"
   ]
  },
  {
   "cell_type": "code",
   "execution_count": null,
   "metadata": {},
   "outputs": [
    {
     "name": "stdout",
     "output_type": "stream",
     "text": [
      "'': '[object Object]'\n",
      "'title': 'Conference'\n",
      "'participants': '[object Object],[object Object]'\n",
      "'0': '[object Object]'\n",
      "'name': 'John'\n",
      "'1': '[object Object]'\n",
      "'name': 'Alice'\n",
      "'place': '[object Object]'\n",
      "'number': '23'\n",
      "'doors': '3'\n",
      "'occupiedBy': '[object Object]'\n",
      "{\"title\":\"Conference\",\"participants\":[{\"name\":\"John\"},{\"name\":\"Alice\"}],\"place\":{\"number\":23,\"doors\":3}}\n",
      "{\"title\":\"Conference\",\"participants\":[{\"name\":\"John\"},{\"name\":\"Alice\"}],\"place\":{\"number\":23,\"doors\":3}}\n"
     ]
    }
   ],
   "source": [
    "let room = {\n",
    "  number: 23,\n",
    "  doors: 3,\n",
    "};\n",
    "\n",
    "let meetup = {\n",
    "  title: \"Conference\",\n",
    "  participants: [{ name: \"John\" }, { name: \"Alice\" }],\n",
    "  place: room, // meetup references room\n",
    "};\n",
    "\n",
    "room.occupiedBy = meetup; // room references meetup\n",
    "\n",
    "alert(\n",
    "  JSON.stringify(meetup, function replacer(key, value) {\n",
    "    alert(`'${key}': '${value}'`);\n",
    "    // The first call is special. It is made using a special `\"wrapper object\": {\"\": meetup}`.\n",
    "    // The first entry is `\":[object Object]\"`\n",
    "    return key == \"occupiedBy\" ? undefined : value;\n",
    "  })\n",
    ");\n",
    "alert(JSON.stringify(meetup, (k, v) => (k !== \"occupiedBy\" ? v : undefined)));\n"
   ]
  },
  {
   "cell_type": "markdown",
   "metadata": {},
   "source": [
    "Please note that replacer function gets every key/value pair including nested objects and array items. It is applied recursively. The value of this inside replacer is the object that contains the current property.\n",
    "\n",
    "The first call is special. It is made using a special `\"wrapper object\": {\"\": meetup}`.\n",
    "\n",
    "<strong>\n",
    "In other words, the first (key, value) pair has an empty key, and the value is the target object as a whole. \n",
    "That’s why the first line is `\":[object Object]\"` in the example above.\n",
    "</strong>\n",
    "The idea is to provide as much power for replacer as possible: \n",
    ">it has a chance to analyze and replace/skip even the whole object if necessary.\n"
   ]
  },
  {
   "cell_type": "code",
   "execution_count": null,
   "metadata": {},
   "outputs": [
    {
     "name": "stdout",
     "output_type": "stream",
     "text": [
      "{\"name\":\"John\",\"age\":25,\"roles\":{\"isAdmin\":false,\"isEditor\":true}}\n",
      "{\n",
      "  \"name\": \"John\",\n",
      "  \"age\": 25,\n",
      "  \"roles\": {\n",
      "    \"isAdmin\": false,\n",
      "    \"isEditor\": true\n",
      "  }\n",
      "}\n"
     ]
    }
   ],
   "source": [
    "let user = {\n",
    "  name: \"John\",\n",
    "  age: 25,\n",
    "  roles: {\n",
    "    isAdmin: false,\n",
    "    isEditor: true,\n",
    "  },\n",
    "};\n",
    "alert(JSON.stringify(user));\n",
    "alert(JSON.stringify(user, null, 2));\n"
   ]
  },
  {
   "cell_type": "code",
   "execution_count": null,
   "metadata": {},
   "outputs": [
    {
     "name": "stdout",
     "output_type": "stream",
     "text": [
      "23\n",
      "{\"title\":\"Conference\",\"room\":23}\n",
      "{\"number\":23} {\"title\":\"Conference\",\"room\":23}\n"
     ]
    }
   ],
   "source": [
    "let room = {\n",
    "  number: 23,\n",
    "  toJSON() {\n",
    "    return this.number;\n",
    "  },\n",
    "};\n",
    "\n",
    "let meetup = {\n",
    "  title: \"Conference\",\n",
    "  room,\n",
    "};\n",
    "\n",
    "alert(JSON.stringify(room));\n",
    "\n",
    "alert(JSON.stringify(meetup));\n",
    "\n",
    "room = {\n",
    "  number: 23,\n",
    "};\n",
    "\n",
    "alert(JSON.stringify(room), JSON.stringify(meetup));\n"
   ]
  },
  {
   "cell_type": "code",
   "execution_count": null,
   "metadata": {},
   "outputs": [
    {
     "ename": "TypeError",
     "evalue": "meetup.date.getDate is not a function",
     "output_type": "error",
     "traceback": [
      "Stack trace:",
      "TypeError: meetup.date.getDate is not a function",
      "    at <anonymous>:3:19"
     ]
    }
   ],
   "source": [
    "let str = '{\"title\":\"Conference\",\"date\":\"2017-11-30T12:00:00.000Z\"}';\n",
    "\n",
    "let meetup = JSON.parse(str);\n",
    "\n",
    "alert(meetup.date.getDate()); // Error\n"
   ]
  },
  {
   "cell_type": "code",
   "execution_count": null,
   "metadata": {},
   "outputs": [
    {
     "name": "stdout",
     "output_type": "stream",
     "text": [
      "18\n"
     ]
    }
   ],
   "source": [
    "let schedule = `{\n",
    "  \"meetups\": [\n",
    "    {\"title\":\"Conference\",\"date\":\"2017-11-30T12:00:00.000Z\"},\n",
    "    {\"title\":\"Birthday\",\"date\":\"2017-04-18T12:00:00.000Z\"}\n",
    "  ]\n",
    "}`;\n",
    "\n",
    "schedule = JSON.parse(schedule, function (key, value) {\n",
    "  if (key == \"date\") return new Date(value);\n",
    "  return value;\n",
    "});\n",
    "\n",
    "alert(schedule.meetups[1].date.getDate());\n"
   ]
  },
  {
   "cell_type": "markdown",
   "metadata": {},
   "source": [
    "Turn the user into JSON and then read it back into another variable.\n"
   ]
  },
  {
   "cell_type": "code",
   "execution_count": null,
   "metadata": {},
   "outputs": [
    {
     "name": "stdout",
     "output_type": "stream",
     "text": [
      "{\"name\":\"John Smith\",\"age\":35} { name: \"John Smith\", age: 35 }\n"
     ]
    }
   ],
   "source": [
    "let user = {\n",
    "  name: \"John Smith\",\n",
    "  age: 35,\n",
    "};\n",
    "\n",
    "const user_json = JSON.stringify(user);\n",
    "const deserialized_json = JSON.parse(user_json);\n",
    "\n",
    "console.log(user_json, deserialized_json);\n"
   ]
  },
  {
   "cell_type": "code",
   "execution_count": null,
   "metadata": {},
   "outputs": [
    {
     "name": "stdout",
     "output_type": "stream",
     "text": [
      "{\"title\":\"Conference\",\"occupiedBy\":[{\"name\":\"John\"},{\"name\":\"Alice\"}],\"place\":{\"number\":23}}\n"
     ]
    }
   ],
   "source": [
    "let room = {\n",
    "  number: 23,\n",
    "};\n",
    "\n",
    "let meetup = {\n",
    "  title: \"Conference\",\n",
    "  occupiedBy: [{ name: \"John\" }, { name: \"Alice\" }],\n",
    "  place: room,\n",
    "};\n",
    "\n",
    "// circular references\n",
    "room.occupiedBy = meetup;\n",
    "meetup.self = meetup;\n",
    "\n",
    "console.log(\n",
    "  JSON.stringify(meetup, function replacer(key, value) {\n",
    "    /* your code */\n",
    "    // console.log(`key: \"${key}\",value: \"${value}\" ${value == meetup}`)\n",
    "    return key !== \"\" && value === meetup ? undefined : value;\n",
    "  })\n",
    ");\n",
    "// The check key != \"\" prevents the root object from being removed in the replacer function\n",
    "/* result should be:\n",
    "{\n",
    "  \"title\":\"Conference\",\n",
    "  \"occupiedBy\":[{\"name\":\"John\"},{\"name\":\"Alice\"}],\n",
    "  \"place\":{\"number\":23}\n",
    "}\n",
    "*/\n"
   ]
  },
  {
   "cell_type": "code",
   "execution_count": null,
   "metadata": {},
   "outputs": [
    {
     "name": "stdout",
     "output_type": "stream",
     "text": [
      "7700\n"
     ]
    }
   ],
   "source": [
    "// https://javascript.info/recursion\n",
    "\n",
    "type StructureArr = { name: string; salary: number }[];\n",
    "type Company = {\n",
    "  sales: StructureArr;\n",
    "  development: {\n",
    "    sites: StructureArr;\n",
    "    internals: StructureArr;\n",
    "  };\n",
    "};\n",
    "let company: Company = {\n",
    "  sales: [\n",
    "    { name: \"John\", salary: 1000 },\n",
    "    { name: \"Alice\", salary: 1600 },\n",
    "  ],\n",
    "  development: {\n",
    "    sites: [\n",
    "      { name: \"Peter\", salary: 2000 },\n",
    "      { name: \"Alex\", salary: 1800 },\n",
    "    ],\n",
    "    internals: [{ name: \"Jack\", salary: 1300 }],\n",
    "  },\n",
    "};\n",
    "\n",
    "// The function to do the job\n",
    "function sumSalaries(department: Company | StructureArr): number {\n",
    "  if (Array.isArray(department)) {\n",
    "    return department.reduce((prev, curr) => prev + curr.salary, 0);\n",
    "  } else {\n",
    "    let sum = 0;\n",
    "    for (const subdep of Object.values(department)) sum += sumSalaries(subdep);\n",
    "    return sum;\n",
    "  }\n",
    "}\n",
    "\n",
    "console.log(sumSalaries(company)); // 7700\n"
   ]
  },
  {
   "cell_type": "code",
   "execution_count": null,
   "metadata": {},
   "outputs": [
    {
     "name": "stdout",
     "output_type": "stream",
     "text": [
      "1\n",
      "2\n",
      "3\n",
      "4\n"
     ]
    }
   ],
   "source": [
    "type ListNode = {\n",
    "  value: number;\n",
    "  next: ListNode | null;\n",
    "};\n",
    "\n",
    "const list: ListNode = {\n",
    "  value: 1,\n",
    "  next: {\n",
    "    value: 2,\n",
    "    next: {\n",
    "      value: 3,\n",
    "      next: {\n",
    "        value: 4,\n",
    "        next: null,\n",
    "      },\n",
    "    },\n",
    "  },\n",
    "};\n",
    "\n",
    "function printList(list: ListNode) {\n",
    "  if (list == null) return;\n",
    "  console.log(list.value);\n",
    "  printList(list.next);\n",
    "}\n",
    "\n",
    "printList(list);\n"
   ]
  },
  {
   "cell_type": "code",
   "execution_count": null,
   "metadata": {},
   "outputs": [
    {
     "name": "stdout",
     "output_type": "stream",
     "text": [
      "4\n",
      "3\n",
      "2\n",
      "1\n"
     ]
    }
   ],
   "source": [
    "function printList(list: ListNode) {\n",
    "  if (list == null) return;\n",
    "  printList(list.next);\n",
    "  console.log(list.value);\n",
    "}\n",
    "\n",
    "printList(list);\n"
   ]
  },
  {
   "cell_type": "code",
   "execution_count": null,
   "metadata": {},
   "outputs": [
    {
     "name": "stdout",
     "output_type": "stream",
     "text": [
      "1 2 [ 3, 4, 5 ]\n",
      "number number object\n"
     ]
    }
   ],
   "source": [
    "// https://javascript.info/rest-parameters-spread\n",
    "function f(arg1: any, arg2: any, ...rest: any[]) {\n",
    "  console.log(arg1, arg2, rest);\n",
    "  console.log(typeof arg1, typeof arg2, typeof rest);\n",
    "}\n",
    "\n",
    "f(1, 2, 3, 4, 5);\n"
   ]
  },
  {
   "cell_type": "code",
   "execution_count": null,
   "metadata": {},
   "outputs": [
    {
     "data": {
      "text/plain": [
       "\u001b[33m3\u001b[39m"
      ]
     },
     "execution_count": 9,
     "metadata": {},
     "output_type": "execute_result"
    }
   ],
   "source": [
    "function sum(a: number) {\n",
    "  return (b: number) => a + b;\n",
    "}\n",
    "\n",
    "sum(1)(2);\n"
   ]
  },
  {
   "cell_type": "code",
   "execution_count": null,
   "metadata": {},
   "outputs": [
    {
     "ename": "ReferenceError",
     "evalue": "Cannot access 'x' before initialization",
     "output_type": "error",
     "traceback": [
      "Stack trace:",
      "ReferenceError: Cannot access 'x' before initialization",
      "    at func (<anonymous>:3:15)",
      "    at <anonymous>:6:1"
     ]
    }
   ],
   "source": [
    "let x = 1;\n",
    "\n",
    "function func() {\n",
    "  console.log(x); // ReferenceError: Cannot access 'x' before initialization\n",
    "  let x = 2;\n",
    "}\n",
    "\n",
    "func();\n"
   ]
  },
  {
   "cell_type": "markdown",
   "metadata": {},
   "source": [
    "Explanation:\n"
   ]
  },
  {
   "cell_type": "code",
   "execution_count": null,
   "metadata": {},
   "outputs": [
    {
     "ename": "ReferenceError",
     "evalue": "Cannot access 'x' before initialization",
     "output_type": "error",
     "traceback": [
      "Stack trace:",
      "ReferenceError: Cannot access 'x' before initialization",
      "    at func (<anonymous>:6:15)",
      "    at <anonymous>:9:1"
     ]
    }
   ],
   "source": [
    "let x = 1;\n",
    "function func() {\n",
    "  // the local variable x is known to the engine from the beginning of the function,\n",
    "  // but \"uninitialized\" (unusable) until let (\"dead zone\")\n",
    "  // hence the error\n",
    "  // This zone of temporary unusability of a variable (from the beginning of the code block till let) is sometimes called the “dead zone”.\n",
    "\n",
    "  console.log(x); // ReferenceError: Cannot access 'x' before initialization\n",
    "\n",
    "  let x = 2;\n",
    "}\n",
    "func();\n"
   ]
  },
  {
   "cell_type": "code",
   "execution_count": null,
   "metadata": {},
   "outputs": [
    {
     "name": "stdout",
     "output_type": "stream",
     "text": [
      "[ 3, 4, 5, 6 ]\n",
      "[ 3, 4, 5, 6 ]\n",
      "[ 1, 2, 6 ]\n",
      "[ 1, 2 ]\n"
     ]
    }
   ],
   "source": [
    "function inBetween(a: number, b: number) {\n",
    "  return (x: number) => x >= a && x <= b;\n",
    "}\n",
    "function inArray(arr: number[]) {\n",
    "  return (x: number) => arr.includes(x);\n",
    "}\n",
    "\n",
    "const inBetweenFilter = inBetween(3, 6);\n",
    "const inArrayFilter = inArray([1, 2, 6]);\n",
    "\n",
    "let arr = [1, 2, 3, 4, 5, 6, 7];\n",
    "\n",
    "console.log(arr.filter(inBetweenFilter)); // 3,4,5,6\n",
    "//or\n",
    "console.log(arr.filter(inBetween(3, 6)));\n",
    "\n",
    "console.log(arr.filter(inArrayFilter)); // 1,2\n",
    "//or\n",
    "console.log(arr.filter(inArray([1, 2, 10])));\n"
   ]
  },
  {
   "cell_type": "code",
   "execution_count": null,
   "metadata": {},
   "outputs": [
    {
     "name": "stdout",
     "output_type": "stream",
     "text": [
      "[\n",
      "  { name: \"Ann\", age: 19, surname: \"Meliea\" },\n",
      "  { name: \"John\", age: 20, surname: \"Johnson\" },\n",
      "  { name: \"Pete\", age: 18, surname: \"Peterson\" }\n",
      "]\n",
      "[\n",
      "  { name: \"Pete\", age: 18, surname: \"Peterson\" },\n",
      "  { name: \"Ann\", age: 19, surname: \"Meliea\" },\n",
      "  { name: \"John\", age: 20, surname: \"Johnson\" }\n",
      "]\n",
      "[\n",
      "  { name: \"John\", age: 20, surname: \"Johnson\" },\n",
      "  { name: \"Ann\", age: 19, surname: \"Meliea\" },\n",
      "  { name: \"Pete\", age: 18, surname: \"Peterson\" }\n",
      "]\n"
     ]
    }
   ],
   "source": [
    "let users = [\n",
    "  { name: \"John\", age: 20, surname: \"Johnson\" },\n",
    "  { name: \"Pete\", age: 18, surname: \"Peterson\" },\n",
    "  { name: \"Ann\", age: 19, surname: \"Meliea\" },\n",
    "];\n",
    "\n",
    "function byField(field) {\n",
    "  return (a, b) => {\n",
    "    if (typeof a[field] === \"string\") {\n",
    "      return a[field].localeCompare(b[field]);\n",
    "    } else return a[field] - b[field];\n",
    "  };\n",
    "}\n",
    "\n",
    "console.log(users.sort(byField(\"name\")));\n",
    "console.log(users.sort(byField(\"age\")));\n",
    "console.log(users.sort(byField(\"surname\")));\n"
   ]
  },
  {
   "cell_type": "code",
   "execution_count": null,
   "metadata": {},
   "outputs": [
    {
     "name": "stdout",
     "output_type": "stream",
     "text": [
      "Hi\n",
      "Hi\n",
      "Called 2 times\n"
     ]
    }
   ],
   "source": [
    "function sayHi() {\n",
    "  alert(\"Hi\");\n",
    "\n",
    "  // let's count how many times we run\n",
    "  sayHi.counter++;\n",
    "}\n",
    "let counter = 0;\n",
    "sayHi.counter = 0; // initial value\n",
    "\n",
    "sayHi(); // Hi\n",
    "sayHi(); // Hi\n",
    "\n",
    "alert(`Called ${sayHi.counter} times`); // Called 2 times\n"
   ]
  },
  {
   "cell_type": "markdown",
   "metadata": {},
   "source": [
    "### A property is not a variable\n",
    "\n",
    "A property assigned to a function like sayHi.counter = 0 does not define a local variable counter inside it. In other words, a property counter and a variable let counter are two unrelated things.\n",
    "\n",
    "We can treat a function as an object, store properties in it, but that has no effect on its execution. Variables are not function properties and vice versa. These are just parallel worlds.\n"
   ]
  },
  {
   "cell_type": "markdown",
   "metadata": {},
   "source": [
    "### Named Function Expression\n",
    "\n",
    "Named Function Expression, or NFE, is a term for Function Expressions that have a name.\n",
    "\n",
    "For instance, let’s take an ordinary Function Expression:\n"
   ]
  },
  {
   "cell_type": "code",
   "execution_count": null,
   "metadata": {},
   "outputs": [
    {
     "name": "stdout",
     "output_type": "stream",
     "text": [
      "Hello, Universe\n"
     ]
    }
   ],
   "source": [
    "const sayHi = function (who = \"Universe\") {\n",
    "  alert(`Hello, ${who}`);\n",
    "};\n",
    "sayHi();\n"
   ]
  },
  {
   "cell_type": "markdown",
   "metadata": {},
   "source": [
    "And add a name to it:\n"
   ]
  },
  {
   "cell_type": "code",
   "execution_count": null,
   "metadata": {},
   "outputs": [],
   "source": [
    "const sayHi = function func(who) {\n",
    "  alert(`Hello, ${who}`);\n",
    "};\n"
   ]
  },
  {
   "cell_type": "markdown",
   "metadata": {},
   "source": [
    "Did we achieve anything here? What’s the purpose of that additional \"func\" name?\n",
    "\n",
    "First let’s note, that we still have a Function Expression. Adding the name \"func\" after function did not make it a Function Declaration, because it is still created as a part of an assignment expression.\n",
    "\n",
    "Adding such a name also did not break anything.\n",
    "\n",
    "The function is still available as sayHi():\n",
    "\n",
    "(Ps. it doesnt need to be named as func, it can be any name like foo, bar, spam, egg)\n"
   ]
  },
  {
   "cell_type": "code",
   "execution_count": null,
   "metadata": {},
   "outputs": [
    {
     "name": "stdout",
     "output_type": "stream",
     "text": [
      "Hello, John\n",
      "func\n"
     ]
    }
   ],
   "source": [
    "const sayHi = function func(who) {\n",
    "  alert(`Hello, ${who}`);\n",
    "};\n",
    "\n",
    "sayHi(\"John\"); // Hello, John\n",
    "console.log(sayHi.name);\n"
   ]
  },
  {
   "cell_type": "markdown",
   "metadata": {},
   "source": [
    "There are two special things about the name func, that are the reasons for it:\n",
    "\n",
    "- It allows the function to reference itself internally.\n",
    "- It is not visible outside of the function.\n",
    "- For instance, the function sayHi below calls itself again with \"Guest\" if no who is provided:\n"
   ]
  },
  {
   "cell_type": "code",
   "execution_count": null,
   "metadata": {},
   "outputs": [
    {
     "name": "stdout",
     "output_type": "stream",
     "text": [
      "Hello, Guest\n"
     ]
    }
   ],
   "source": [
    "const sayHi = function func(who) {\n",
    "  if (who) {\n",
    "    alert(`Hello, ${who}`);\n",
    "  } else {\n",
    "    func(\"Guest\"); // use func to re-call itself\n",
    "  }\n",
    "};\n",
    "\n",
    "sayHi(); // Hello, Guest\n",
    "\n",
    "// But this won't work:\n",
    "// func(); // Error, func is not defined (not visible outside of the function)\n"
   ]
  },
  {
   "cell_type": "code",
   "execution_count": null,
   "metadata": {},
   "outputs": [
    {
     "ename": "TypeError",
     "evalue": "sayHelloTo is not a function",
     "output_type": "error",
     "traceback": [
      "Stack trace:",
      "TypeError: sayHelloTo is not a function",
      "    at sayHelloTo (<anonymous>:5:5)",
      "    at <anonymous>:10:1"
     ]
    }
   ],
   "source": [
    "let sayHelloTo = function (who) {\n",
    "  if (who) {\n",
    "    alert(`Hello, ${who}`);\n",
    "  } else {\n",
    "    sayHelloTo(\"Guest\"); // Error: sayHi is not a function\n",
    "  }\n",
    "};\n",
    "\n",
    "let welcome = sayHelloTo;\n",
    "sayHelloTo = null;\n",
    "\n",
    "welcome(); // Error, the nested sayHi call doesn't work any more!\n"
   ]
  },
  {
   "cell_type": "markdown",
   "metadata": {},
   "source": [
    "That happens because the function takes sayHi from its outer lexical environment. There’s no local sayHi, so the outer variable is used. And at the moment of the call that outer sayHi is null.\n",
    "\n",
    "The optional name(func) which we can put into the Function Expression is meant to solve exactly these kinds of problems.\n"
   ]
  },
  {
   "cell_type": "code",
   "execution_count": null,
   "metadata": {},
   "outputs": [
    {
     "name": "stdout",
     "output_type": "stream",
     "text": [
      "No args given, trying egg as the arg\n",
      "gave egg as arg\n"
     ]
    }
   ],
   "source": [
    "const foo = function bar(egg) {\n",
    "  if (egg) {\n",
    "    console.log(`gave ${egg} as arg`);\n",
    "  } else {\n",
    "    console.log(\"No args given, trying egg as the arg\");\n",
    "    bar(\"egg\");\n",
    "  }\n",
    "};\n",
    "foo();\n"
   ]
  },
  {
   "cell_type": "markdown",
   "metadata": {},
   "source": [
    "Currying"
   ]
  },
  {
   "cell_type": "code",
   "execution_count": 3,
   "metadata": {},
   "outputs": [
    {
     "name": "stdout",
     "output_type": "stream",
     "text": [
      "3\n",
      "2\n"
     ]
    }
   ],
   "source": [
    "//Curried Sum\n",
    "function sum1(a) {\n",
    "  let total = a;\n",
    "\n",
    "  function inner(b) {\n",
    "    if (b === undefined) {\n",
    "      return total;\n",
    "    } else {\n",
    "      total += b;\n",
    "      return inner;\n",
    "    }\n",
    "  }\n",
    "  return inner;\n",
    "}\n",
    "\n",
    "console.log(sum1(1)(2)());\n",
    "\n",
    "function sum2(a) {\n",
    "  let total = a;\n",
    "\n",
    "  function inner(b) {\n",
    "    total += b;\n",
    "    return inner;\n",
    "  }\n",
    "\n",
    "  inner.valueOf = () => total;\n",
    "\n",
    "  return inner;\n",
    "}\n",
    "console.log(+sum2(1)(1));\n"
   ]
  },
  {
   "cell_type": "code",
   "execution_count": null,
   "metadata": {},
   "outputs": [
    {
     "name": "stdout",
     "output_type": "stream",
     "text": [
      "6\n",
      "3\n"
     ]
    }
   ],
   "source": [
    "function sum_v1(a) {\n",
    "  let total = a;\n",
    "\n",
    "  return function inner(b) {\n",
    "    if (b === undefined) {\n",
    "      return total;\n",
    "    }\n",
    "    total += b;\n",
    "    return inner;\n",
    "  };\n",
    "}\n",
    "\n",
    "console.log(sum_v1(1)(2)(3)()); //6\n",
    "\n",
    "function sum_v2(a) {\n",
    "  let total = a;\n",
    "  return function inner(b) {\n",
    "    total += b;\n",
    "    inner.valueOf = () => total;\n",
    "    return inner;\n",
    "  };\n",
    "}\n",
    "console.log(+sum_v2(1)(2)); //3\n"
   ]
  },
  {
   "cell_type": "code",
   "execution_count": null,
   "metadata": {},
   "outputs": [
    {
     "data": {
      "text/plain": [
       "\u001b[33m3\u001b[39m"
      ]
     },
     "execution_count": 13,
     "metadata": {},
     "output_type": "execute_result"
    },
    {
     "name": "stdout",
     "output_type": "stream",
     "text": [
      "Hi\n"
     ]
    }
   ],
   "source": [
    "function sayHi() {\n",
    "  console.log(\"Hi\");\n",
    "}\n",
    "\n",
    "setTimeout(() => {\n",
    "  sayHi();\n",
    "}, 2000);\n"
   ]
  },
  {
   "cell_type": "code",
   "execution_count": null,
   "metadata": {},
   "outputs": [
    {
     "data": {
      "text/plain": [
       "\u001b[33m5\u001b[39m"
      ]
     },
     "execution_count": 15,
     "metadata": {},
     "output_type": "execute_result"
    },
    {
     "name": "stdout",
     "output_type": "stream",
     "text": [
      "Hello\n"
     ]
    }
   ],
   "source": [
    "// If the first argument is a string, then JavaScript creates a function from it.\n",
    "\n",
    "// So, this will also work:\n",
    "\n",
    "setTimeout(\"console.log('Hello')\", 1000);\n"
   ]
  },
  {
   "cell_type": "code",
   "execution_count": null,
   "metadata": {},
   "outputs": [
    {
     "name": "stdout",
     "output_type": "stream",
     "text": [
      "5\n",
      "6\n",
      "7\n",
      "8\n",
      "9\n",
      "10\n"
     ]
    }
   ],
   "source": [
    "function printNumbers(from, to) {\n",
    "  let curr = from;\n",
    "  let intervalId = setInterval(() => {\n",
    "    console.log(curr);\n",
    "    if (curr >= to) {\n",
    "      clearInterval(intervalId);\n",
    "    }\n",
    "    curr++;\n",
    "  }, 1000);\n",
    "}\n",
    "\n",
    "printNumbers(5, 10);\n"
   ]
  },
  {
   "cell_type": "code",
   "execution_count": null,
   "metadata": {},
   "outputs": [
    {
     "name": "stdout",
     "output_type": "stream",
     "text": [
      "5\n"
     ]
    },
    {
     "name": "stdout",
     "output_type": "stream",
     "text": [
      "6\n",
      "7\n",
      "8\n",
      "9\n",
      "10\n"
     ]
    }
   ],
   "source": [
    "function printNumbers(from, to) {\n",
    "  let curr = from;\n",
    "  function start() {\n",
    "    if (curr < to - 1) {\n",
    "      setTimeout(start, 1000);\n",
    "    }\n",
    "    console.log(curr);\n",
    "    curr++;\n",
    "  }\n",
    "  start(); // for not delaying in the first second\n",
    "  const timeoutId = setTimeout(start, 1000);\n",
    "}\n",
    "\n",
    "printNumbers(5, 10);\n"
   ]
  },
  {
   "cell_type": "code",
   "execution_count": null,
   "metadata": {},
   "outputs": [
    {
     "name": "stdout",
     "output_type": "stream",
     "text": [
      "lisa\n",
      "lisa\n"
     ]
    }
   ],
   "source": [
    "let robot = {\n",
    "  name: \"lisa\",\n",
    "  sayName() {\n",
    "    return this.name;\n",
    "  },\n",
    "};\n",
    "\n",
    "function callDemo(func_arg) {\n",
    "  return function () {\n",
    "    let result = func_arg.call(this);\n",
    "    return result;\n",
    "  };\n",
    "}\n",
    "\n",
    "console.log(robot.sayName());\n",
    "robot.sayName = callDemo(robot.sayName);\n",
    "\n",
    "console.log(robot.sayName());\n"
   ]
  },
  {
   "cell_type": "markdown",
   "metadata": {},
   "source": [
    "- **`call`**: Invokes a function immediately with a specified `this` context and arguments passed individually.\n",
    "\n",
    "  **Syntax:** `func.call(thisArg, arg1, arg2, ...)`\n",
    "\n",
    "- **`apply`**: Invokes a function immediately with a specified `this` context and arguments passed as an array.\n",
    "\n",
    "  **Syntax:** `func.apply(thisArg, [arg1, arg2, ...])`\n",
    "\n",
    "- **`bind`**: Returns a new function with a permanently bound `this` context and optional initial arguments, without invoking it immediately.\n",
    "\n",
    "  **Syntax:** `const boundFunc = func.bind(thisArg, arg1, arg2, ...)`\n"
   ]
  },
  {
   "cell_type": "code",
   "execution_count": null,
   "metadata": {},
   "outputs": [
    {
     "name": "stdout",
     "output_type": "stream",
     "text": [
      "Extra Arg: EXTRA\n",
      "Original Args: [ \"hello\" ]\n",
      "Modified Args: [ \"HELLO\" ]\n",
      "HELLO, my name is lisa\n"
     ]
    }
   ],
   "source": [
    "let robot = {\n",
    "  name: \"lisa\",\n",
    "  sayName(greeting) {\n",
    "    return `${greeting}, my name is ${this.name}`;\n",
    "  },\n",
    "};\n",
    "\n",
    "function callDemo2(func_arg, extra_arg) {\n",
    "  return function (...args) {\n",
    "    console.log(\"Extra Arg:\", extra_arg);\n",
    "    console.log(\"Original Args:\", args);\n",
    "\n",
    "    // You can even modify args here\n",
    "    let modifiedArgs = args.map((arg) => String(arg).toUpperCase());\n",
    "\n",
    "    console.log(\"Modified Args:\", modifiedArgs);\n",
    "\n",
    "    // Apply modified arguments\n",
    "    let result = func_arg.call(this, ...modifiedArgs);\n",
    "    return result;\n",
    "  };\n",
    "}\n",
    "\n",
    "robot.sayName = callDemo2(robot.sayName, \"EXTRA\");\n",
    "\n",
    "console.log(robot.sayName(\"hello\"));\n"
   ]
  },
  {
   "cell_type": "code",
   "execution_count": null,
   "metadata": {},
   "outputs": [
    {
     "name": "stdout",
     "output_type": "stream",
     "text": [
      "arg1 arg2\n",
      "abcd 1\n"
     ]
    }
   ],
   "source": [
    "let robot = {\n",
    "  name: \"abcd\",\n",
    "  ranking: 1,\n",
    "};\n",
    "function applyDemo(arg1, arg2) {\n",
    "  console.log(arg1, arg2);\n",
    "  return this.name + \" \" + this.ranking;\n",
    "}\n",
    "let result = applyDemo.apply(robot, [\"arg1\", \"arg2\"]);\n",
    "console.log(result);\n"
   ]
  },
  {
   "cell_type": "code",
   "execution_count": null,
   "metadata": {},
   "outputs": [
    {
     "name": "stdout",
     "output_type": "stream",
     "text": [
      "1\n"
     ]
    }
   ],
   "source": [
    "let obj: Object = {\n",
    "  a: 1,\n",
    "  sayA() {\n",
    "    console.log(this.a);\n",
    "  },\n",
    "};\n",
    "\n",
    "function bindDemo(func) {\n",
    "  return function () {\n",
    "    func.call();\n",
    "  };\n",
    "}\n",
    "\n",
    "const func2 = bindDemo(obj.sayA.bind(obj));\n",
    "func2();\n"
   ]
  },
  {
   "cell_type": "code",
   "execution_count": null,
   "metadata": {},
   "outputs": [
    {
     "name": "stdout",
     "output_type": "stream",
     "text": [
      "Hello there\n"
     ]
    }
   ],
   "source": [
    "function debounce(func, ms) {\n",
    "  let timeout;\n",
    "  return function (...args) {\n",
    "    clearTimeout(timeout);\n",
    "    timeout = setTimeout(() => func.apply(this, args), ms);\n",
    "  };\n",
    "}\n",
    "\n",
    "function helloWorld(who = \"world\") {\n",
    "  console.log(\"Hello \" + who);\n",
    "}\n",
    "\n",
    "const slowHelloWorld = debounce(helloWorld, 3000);\n",
    "slowHelloWorld(\"there\");\n"
   ]
  },
  {
   "cell_type": "code",
   "execution_count": null,
   "metadata": {},
   "outputs": [
    {
     "data": {
      "text/plain": [
       "\u001b[33m129\u001b[39m"
      ]
     },
     "execution_count": 32,
     "metadata": {},
     "output_type": "execute_result"
    },
    {
     "name": "stdout",
     "output_type": "stream",
     "text": [
      "Hello w\n"
     ]
    },
    {
     "name": "stdout",
     "output_type": "stream",
     "text": [
      "Hello wo\n",
      "Hello worl\n",
      "Hello world\n"
     ]
    }
   ],
   "source": [
    "function trailing_call_throttle(fn, wait) {\n",
    "  let timer = null;\n",
    "  let lastArgs = null;\n",
    "  let lastThis = null;\n",
    "\n",
    "  // This named helper does the “trailing” call and re-schedules itself if needed\n",
    "  // function later() {\n",
    "  //   if (!lastArgs) {\n",
    "  //     // nobody new called us during the wait ⇒ clear timer and stop\n",
    "  //     timer = null;\n",
    "  //     return;\n",
    "  //   }\n",
    "  //   // call fn with the most recent args/this\n",
    "  //   fn.apply(lastThis, lastArgs);\n",
    "  //   // clear the stash\n",
    "  //   lastArgs = lastThis = null;\n",
    "  //   // start a fresh wait for any further calls\n",
    "  //   timer = setTimeout(later, wait);\n",
    "  // }\n",
    "\n",
    "  return function throttled(...args) {\n",
    "    lastArgs = args; // always remember the newest call\n",
    "    lastThis = this;\n",
    "\n",
    "    // first call ⇒ no timer running\n",
    "    if (!timer) {\n",
    "      // invoke immediately\n",
    "      fn.apply(lastThis, lastArgs);\n",
    "      lastArgs = lastThis = null;\n",
    "      // start the cooldown\n",
    "      timer = setTimeout(function later() {\n",
    "        if (!lastArgs) {\n",
    "          // nobody new called us during the wait ⇒ clear timer and stop\n",
    "          timer = null;\n",
    "          return;\n",
    "        }\n",
    "        // call fn with the most recent args/this\n",
    "        fn.apply(lastThis, lastArgs);\n",
    "        // clear the stash\n",
    "        lastArgs = lastThis = null;\n",
    "        // start a fresh wait for any further calls\n",
    "        timer = setTimeout(later, wait);\n",
    "      }, wait);\n",
    "    }\n",
    "    // otherwise: timer is running ⇒ we've just updated lastArgs, so bail out\n",
    "  };\n",
    "}\n",
    "\n",
    "const executeLater = (func, arg, wait) => setTimeout(() => func(arg), wait);\n",
    "\n",
    "const wait = 100;\n",
    "const throttledSayHello = trailing_call_throttle(sayHello, wait);\n",
    "// article with top reading progress bar is a good example for throttling\n",
    "// typing might not be a common(good) usecase for throttling\n",
    "executeLater(throttledSayHello, \"w\", 0); // prints\n",
    "executeLater(throttledSayHello, \"wo\", 100); // prints\n",
    "executeLater(throttledSayHello, \"wor\", 150); // no\n",
    "executeLater(throttledSayHello, \"worl\", 200); //prints\n",
    "executeLater(throttledSayHello, \"world\", 250); // prints, because this is trailing call throttle, last function call is executed\n"
   ]
  },
  {
   "cell_type": "code",
   "execution_count": null,
   "metadata": {},
   "outputs": [
    {
     "data": {
      "text/plain": [
       "\u001b[33m5\u001b[39m"
      ]
     },
     "execution_count": 1,
     "metadata": {},
     "output_type": "execute_result"
    }
   ],
   "source": [
    "function makeThrottle(originalFn, waitTime) {\n",
    "  let timerHandle = null;\n",
    "  let lastArgs = null;\n",
    "  let lastContext = null;\n",
    "\n",
    "  function throttledWrapper(...args) {\n",
    "    lastArgs = args;\n",
    "    lastContext = this;\n",
    "\n",
    "    // if timerHandle is not set:\n",
    "    if (!timerHandle) {\n",
    "      // First call in this window\n",
    "      // originalFn using lastArgs and lastContext\n",
    "      originalFn.apply(lastContext, lastArgs);\n",
    "      lastArgs = lastContext = null;\n",
    "    }\n",
    "    // timerHandle ← start a timer of waitTime that runs onTimer()\n",
    "    timerHandle = setTimeout(() => {\n",
    "      onTimer();\n",
    "    }, waitTime);\n",
    "  }\n",
    "  function onTimer() {\n",
    "    // if lastArgs is empty\n",
    "    if (!lastArgs) {\n",
    "      // No calls happened during the wait\n",
    "      timerHandle = null; // set timer to null for execution of function immediately on future call\n",
    "      return;\n",
    "    }\n",
    "\n",
    "    // There was at least one call\n",
    "    // call originalFn using lastArgs and lastContext\n",
    "    originalFn.apply(lastContext, lastArgs);\n",
    "    // clear lastArgs and lastContext\n",
    "    lastArgs = lastContext = null; // if there's a another call, lastArgs and lastContext wont be null\n",
    "\n",
    "    // Schedule another wait for any further calls\n",
    "    // timerHandle ← start a timer of waitTime that runs onTimer()\n",
    "    timerHandle = setTimeout(onTimer, waitTime);\n",
    "  }\n",
    "  return throttledWrapper;\n",
    "}\n",
    "\n",
    "const executeLater = (func, arg, wait) => setTimeout(() => func(arg), wait);\n",
    "\n",
    "function sayHello(who = \"world\") {\n",
    "  console.log(\"Hello \" + who);\n",
    "}\n",
    "\n",
    "const wait = 100;\n",
    "const throttledSayHello = makeThrottle(sayHello, wait);\n",
    "// article with top reading progress bar is a good example for throttling\n",
    "// typing might not be a common(good) usecase for throttling\n",
    "executeLater(throttledSayHello, \"w\", 0); // prints\n",
    "executeLater(throttledSayHello, \"wo\", 100); // prints\n",
    "executeLater(throttledSayHello, \"wor\", 150); // no\n",
    "executeLater(throttledSayHello, \"worl\", 200); //prints\n",
    "executeLater(throttledSayHello, \"world\", 250); // prints, because this is trailing call throttle, last function call is executed\n"
   ]
  },
  {
   "cell_type": "markdown",
   "metadata": {},
   "source": [
    "Arrow functions do not have this. If this is accessed, it is taken from the outside.\n"
   ]
  },
  {
   "cell_type": "code",
   "execution_count": null,
   "metadata": {},
   "outputs": [
    {
     "name": "stdout",
     "output_type": "stream",
     "text": [
      "Our Group: John\n",
      "Our Group: Pete\n",
      "Our Group: Alice\n"
     ]
    }
   ],
   "source": [
    "let group = {\n",
    "  title: \"Our Group\",\n",
    "  students: [\"John\", \"Pete\", \"Alice\"],\n",
    "\n",
    "  showList() {\n",
    "    this.students.forEach((student) =>\n",
    "      console.log(this.title + \": \" + student)\n",
    "    );\n",
    "  },\n",
    "};\n",
    "group.showList();\n"
   ]
  },
  {
   "cell_type": "markdown",
   "metadata": {},
   "source": [
    "Here in `forEach`, the arrow function is used, so this.`title` in it is exactly the same as in the outer method `showList`. That is: `group.title`\n"
   ]
  },
  {
   "cell_type": "code",
   "execution_count": null,
   "metadata": {},
   "outputs": [
    {
     "ename": "TypeError",
     "evalue": "Cannot read properties of undefined (reading 'title')",
     "output_type": "error",
     "traceback": [
      "Stack trace:",
      "TypeError: Cannot read properties of undefined (reading 'title')",
      "    at <anonymous>:11:24",
      "    at Array.forEach (<anonymous>)",
      "    at Object.showList (<anonymous>:9:19)",
      "    at <anonymous>:15:7"
     ]
    }
   ],
   "source": [
    "let group = {\n",
    "  title: \"Our Group\",\n",
    "  students: [\"John\", \"Pete\", \"Alice\"],\n",
    "\n",
    "  showList() {\n",
    "    this.students.forEach(function (student) {\n",
    "      // Error: Cannot read property 'title' of undefined\n",
    "      console.log(this.title + \": \" + student);\n",
    "    });\n",
    "  },\n",
    "};\n",
    "\n",
    "group.showList();\n"
   ]
  },
  {
   "cell_type": "markdown",
   "metadata": {},
   "source": [
    "The error occurs because `forEach` runs functions with `this = undefined` by default, so the attempt to access `undefined.title` is made.\n"
   ]
  },
  {
   "cell_type": "code",
   "execution_count": null,
   "metadata": {},
   "outputs": [
    {
     "name": "stdout",
     "output_type": "stream",
     "text": [
      "[Arguments] {}\n",
      "Hello, John\n"
     ]
    }
   ],
   "source": [
    "function defer(f, ms) {\n",
    "  return function (...args) {\n",
    "    setTimeout(function () {\n",
    "      console.log(arguments); // arguments of above line function itself\n",
    "      return f.apply(this, args);\n",
    "    }, ms);\n",
    "  };\n",
    "}\n",
    "\n",
    "function sayHi(who) {\n",
    "  alert(\"Hello, \" + who);\n",
    "}\n",
    "\n",
    "let sayHiDeferred = defer(sayHi, 1000);\n",
    "sayHiDeferred(\"John\");\n"
   ]
  },
  {
   "cell_type": "code",
   "execution_count": null,
   "metadata": {},
   "outputs": [
    {
     "name": "stdout",
     "output_type": "stream",
     "text": [
      "Hello, John\n",
      "[Arguments] { \"0\": \"John\" }\n"
     ]
    }
   ],
   "source": [
    "function defer(f, ms) {\n",
    "  return function () {\n",
    "    setTimeout(() => {\n",
    "      f.apply(this, arguments);\n",
    "      console.log(arguments); // arguments of \"f\", since arrow functions dont have `arguments` variable\n",
    "    }, ms);\n",
    "  };\n",
    "}\n",
    "\n",
    "function sayHi(who) {\n",
    "  alert(\"Hello, \" + who);\n",
    "}\n",
    "\n",
    "let sayHiDeferred = defer(sayHi, 1000);\n",
    "sayHiDeferred(\"John\");\n"
   ]
  },
  {
   "cell_type": "markdown",
   "metadata": {},
   "source": [
    "That’s great for decorators, when we need to forward a call with the current this and arguments.\n",
    "\n",
    "For instance, `defer(f, ms)` gets a function and returns a wrapper around it that delays the call by ms milliseconds:\n"
   ]
  },
  {
   "cell_type": "code",
   "execution_count": null,
   "metadata": {},
   "outputs": [
    {
     "name": "stderr",
     "output_type": "stream",
     "text": [
      "Error:  Cannot assign to read only property 'a' of object '#<Object>'\n"
     ]
    },
    {
     "name": "stdout",
     "output_type": "stream",
     "text": [
      "b\n",
      "b\n",
      "a\n"
     ]
    }
   ],
   "source": [
    "\"use strict\";\n",
    "\n",
    "let obj = {\n",
    "  a: \"a\",\n",
    "};\n",
    "\n",
    "JSON.stringify(Object.getOwnPropertyDescriptor(obj, \"a\"), null, 2);\n",
    "\n",
    "Object.defineProperty(obj, \"a\", { writable: false });\n",
    "\n",
    "try {\n",
    "  obj.a = \"b\"; //errors\n",
    "} catch (e) {\n",
    "  console.error(\"Error: \", e.message);\n",
    "}\n",
    "// we can just delete that property and write that property\n",
    "delete obj.a;\n",
    "obj.a = \"b\";\n",
    "console.log(obj.a);\n",
    "\n",
    "Object.defineProperty(obj, \"a\", {\n",
    "  configurable: false,\n",
    "});\n",
    "\n",
    "console.log(obj.a);\n",
    "\n",
    "try {\n",
    "  obj.a = \"a\";\n",
    "  console.log(obj.a);\n",
    "} catch (e) {\n",
    "  console.error(\"Error: \", e.message);\n",
    "}\n"
   ]
  },
  {
   "cell_type": "markdown",
   "metadata": {},
   "source": [
    "#### Notes on `Object.defineProperty()` & `Object.getOwnPropertyDescriptor()`\n"
   ]
  },
  {
   "cell_type": "markdown",
   "metadata": {},
   "source": [
    "#### `Object.defineProperty()` Syntax\n",
    "\n",
    "```js\n",
    "Object.defineProperty(object, propertyName, descriptor);\n",
    "```\n"
   ]
  },
  {
   "cell_type": "markdown",
   "metadata": {},
   "source": [
    "## Descriptor Properties for Data vs Accessor\n",
    "\n",
    "| Property       | Type     | Description                                      |\n",
    "| -------------- | -------- | ------------------------------------------------ |\n",
    "| `value`        | Any      | Value of the property (data descriptor).         |\n",
    "| `writable`     | Boolean  | Can the `value` be changed?                      |\n",
    "| `enumerable`   | Boolean  | Shows up in loops like `for...in`.               |\n",
    "| `configurable` | Boolean  | Can it be deleted or redefined?                  |\n",
    "| `get`          | Function | A function that returns the property (accessor). |\n",
    "| `set`          | Function | A function that sets the property (accessor).    |\n"
   ]
  },
  {
   "cell_type": "markdown",
   "metadata": {},
   "source": [
    "## Weirdities of `configurable`\n",
    "\n",
    "- **Irreversible**: Once `configurable: false`, you cannot revert to `true`.\n",
    "- **Single writable flip**: With `configurable: false`, you can change `writable: true → false` but never back.\n",
    "- **Value changes**: If `writable: true`, assignments still work even if `configurable: false`.\n",
    "- **No descriptor type change**: Cannot switch data ↔ accessor when non-configurable.\n"
   ]
  },
  {
   "cell_type": "code",
   "execution_count": null,
   "metadata": {},
   "outputs": [
    {
     "data": {
      "text/plain": [
       "{ a: \u001b[32m\"a\"\u001b[39m }"
      ]
     },
     "execution_count": 15,
     "metadata": {},
     "output_type": "execute_result"
    }
   ],
   "source": [
    "let obj = { a: \"a\" };\n",
    "\n",
    "Object.defineProperty(obj, \"a\", {\n",
    "  configurable: false,\n",
    "});\n",
    "\n",
    "Object.defineProperty(obj, \"a\", {\n",
    "  writable: false,\n",
    "});\n"
   ]
  },
  {
   "cell_type": "code",
   "execution_count": null,
   "metadata": {},
   "outputs": [
    {
     "name": "stdout",
     "output_type": "stream",
     "text": [
      "{ value: 1, writable: true, enumerable: true, configurable: false }\n",
      "Changed value: 2\n"
     ]
    }
   ],
   "source": [
    "\"use strict\";\n",
    "let obj = { x: 1 };\n",
    "\n",
    "// Make x non-configurable but writable\n",
    "Object.defineProperty(obj, \"x\", { configurable: false, writable: true });\n",
    "console.log(Object.getOwnPropertyDescriptor(obj, \"x\"));\n",
    "// Change value (allowed):\n",
    "obj.x = 2;\n",
    "console.log(\"Changed value:\", obj.x);\n"
   ]
  },
  {
   "cell_type": "code",
   "execution_count": null,
   "metadata": {},
   "outputs": [
    {
     "name": "stdout",
     "output_type": "stream",
     "text": [
      "{ value: 2, writable: false, enumerable: true, configurable: false }\n"
     ]
    },
    {
     "name": "stderr",
     "output_type": "stream",
     "text": [
      "Error reverting writable: Cannot redefine property: x\n"
     ]
    }
   ],
   "source": [
    "// Change writable from true -> false (allowed):\n",
    "Object.defineProperty(obj, \"x\", { writable: false });\n",
    "console.log(Object.getOwnPropertyDescriptor(obj, \"x\"));\n",
    "\n",
    "// Try to revert writable back to true (throws):\n",
    "try {\n",
    "  Object.defineProperty(obj, \"x\", { writable: true });\n",
    "} catch (e) {\n",
    "  console.error(\"Error reverting writable:\", e.message);\n",
    "}\n"
   ]
  },
  {
   "cell_type": "code",
   "execution_count": null,
   "metadata": {},
   "outputs": [
    {
     "name": "stderr",
     "output_type": "stream",
     "text": [
      "TypeError: Cannot delete property 'x' of #<Object>\n",
      "    at <anonymous>:3:39\n"
     ]
    }
   ],
   "source": [
    "try {\n",
    "  // Try to delete property (fails silently/throws):\n",
    "  console.log(\"Delete obj.x:\", delete obj.x);\n",
    "} catch (e) {\n",
    "  console.error(e);\n",
    "}\n"
   ]
  },
  {
   "cell_type": "code",
   "execution_count": null,
   "metadata": {},
   "outputs": [
    {
     "data": {
      "text/plain": [
       "{ a: \u001b[32m\"a\"\u001b[39m }"
      ]
     },
     "execution_count": 23,
     "metadata": {},
     "output_type": "execute_result"
    }
   ],
   "source": [
    "// Try to redefine enumerable (throws):\n",
    "try {\n",
    "  Object.defineProperty(obj, \"x\", { enumerable: false });\n",
    "} catch (e) {\n",
    "  console.error(\"Error changing enumerable:\", e.message);\n",
    "}\n"
   ]
  },
  {
   "cell_type": "markdown",
   "metadata": {},
   "source": [
    "#### `Object.getOwnPropertyDescriptor()` Syntax & Returns\n",
    "\n",
    "```js\n",
    "Object.getOwnPropertyDescriptor(object, propertyName);\n",
    "```\n",
    "\n",
    "- **Returns**: A descriptor object for the named property if it exists on the object, otherwise `undefined`.\n",
    "- The returned object has the same keys: `value`, `writable`, `enumerable`, `configurable` for data properties, or `get`, `set`, `enumerable`, `configurable` for accessor properties.\n"
   ]
  },
  {
   "cell_type": "markdown",
   "metadata": {},
   "source": [
    "#### Common Use Cases for `getOwnPropertyDescriptor`\n",
    "\n",
    "- **Inspection**: Debugging or logging the exact descriptor of a property.\n",
    "- **Cloning**: Copying properties with their descriptors to another object.\n",
    "- **Validation**: Checking if a property is read-only before modifying.\n"
   ]
  },
  {
   "cell_type": "code",
   "execution_count": null,
   "metadata": {},
   "outputs": [
    {
     "name": "stdout",
     "output_type": "stream",
     "text": [
      "{ value: 99, writable: false, enumerable: false, configurable: true }\n",
      "{\n",
      "  get: [Function: get],\n",
      "  set: [Function: set],\n",
      "  enumerable: true,\n",
      "  configurable: false\n",
      "}\n"
     ]
    }
   ],
   "source": [
    "// Example: Inspecting a data property\n",
    "let obj2 = {};\n",
    "Object.defineProperty(obj2, \"y\", {\n",
    "  value: 99,\n",
    "  writable: false,\n",
    "  enumerable: false,\n",
    "  configurable: true,\n",
    "});\n",
    "const desc = Object.getOwnPropertyDescriptor(obj2, \"y\");\n",
    "console.log(desc);\n",
    "// { value: 99, writable: false, enumerable: false, configurable: true }\n",
    "\n",
    "// Example: Accessor property\n",
    "let person = { first: \"A\", last: \"B\" };\n",
    "Object.defineProperty(person, \"full\", {\n",
    "  get() {\n",
    "    return this.first + this.last;\n",
    "  },\n",
    "  set(v) {\n",
    "    [this.first, this.last] = v.split(\" \");\n",
    "  },\n",
    "  enumerable: true,\n",
    "  configurable: false,\n",
    "});\n",
    "console.log(Object.getOwnPropertyDescriptor(person, \"full\"));\n"
   ]
  },
  {
   "cell_type": "markdown",
   "metadata": {},
   "source": [
    "#### Practical Tip: Copying Properties with Descriptors\n"
   ]
  },
  {
   "cell_type": "markdown",
   "metadata": {},
   "source": [
    "#### Object.getOwnPropertyDescriptors and Object.defineProperties\n",
    "\n",
    "To get all property descriptors at once, we can use the method Object.getOwnPropertyDescriptors(obj).\n"
   ]
  },
  {
   "cell_type": "code",
   "execution_count": null,
   "metadata": {},
   "outputs": [],
   "source": [
    "function cloneObject(obj) {\n",
    "  return Object.defineProperties({}, Object.getOwnPropertyDescriptors(obj));\n",
    "}\n"
   ]
  },
  {
   "cell_type": "markdown",
   "metadata": {},
   "source": [
    "Here\n",
    "\n",
    "```js\n",
    "for (let key in user) {\n",
    "  clone[key] = user[key];\n",
    "}\n",
    "```\n",
    "\n",
    "But that does not copy flags. So if we want a \"better\" clone then Object.defineProperties is preferred.\n",
    "\n",
    "Another difference is that for..in ignores symbolic and non-enumerable properties, but Object.getOwnPropertyDescriptors returns all property descriptors including `symbolic and non-enumerable ones`.\n"
   ]
  },
  {
   "cell_type": "markdown",
   "metadata": {},
   "source": [
    "## Default Descriptor Values\n",
    "\n",
    "| Attribute      | Default     |\n",
    "| -------------- | ----------- |\n",
    "| `value`        | `undefined` |\n",
    "| `writable`     | `false`     |\n",
    "| `enumerable`   | `false`     |\n",
    "| `configurable` | `false`     |\n"
   ]
  },
  {
   "cell_type": "markdown",
   "metadata": {},
   "source": [
    "#### Notes on Object.preventExtensions, Object.seal, Object.freeze\n"
   ]
  },
  {
   "cell_type": "markdown",
   "metadata": {},
   "source": [
    "#### Object.preventExtensions(obj)\n",
    "\n",
    "- **What it does**: Forbids the addition of new properties to `obj`.\n",
    "- **What it doesn’t do**: You can still delete existing properties or modify them.\n"
   ]
  },
  {
   "cell_type": "code",
   "execution_count": null,
   "metadata": {},
   "outputs": [
    {
     "name": "stderr",
     "output_type": "stream",
     "text": [
      "Caught at add: TypeError: Cannot add property author, object is not extensible\n",
      "    at <anonymous>:6:15\n",
      "Caught at re-add: TypeError: Cannot add property title, object is not extensible\n",
      "    at <anonymous>:12:14\n"
     ]
    },
    {
     "name": "stdout",
     "output_type": "stream",
     "text": [
      "{}\n"
     ]
    }
   ],
   "source": [
    "let book = { title: \"1984\" };\n",
    "Object.preventExtensions(book);\n",
    "\n",
    "try {\n",
    "  book.author = \"Orwell\";\n",
    "} catch (e) {\n",
    "  console.error(\"Caught at add:\", e);\n",
    "}\n",
    "\n",
    "delete book.title; // allowed\n",
    "\n",
    "try {\n",
    "  book.title = \"Animal Farm\"; // cannot readd it\n",
    "} catch (e) {\n",
    "  console.error(\"Caught at re-add:\", e);\n",
    "}\n",
    "\n",
    "console.log(book);\n"
   ]
  },
  {
   "cell_type": "markdown",
   "metadata": {},
   "source": [
    "#### Object.seal(obj)\n",
    "\n",
    "- **What it does**:\n",
    "  1. Forbids adding new properties.\n",
    "  2. Forbids removing existing properties (`configurable: false` on all).\n",
    "  3. Leaves `writable` as-is.\n"
   ]
  },
  {
   "cell_type": "code",
   "execution_count": null,
   "metadata": {},
   "outputs": [
    {
     "name": "stderr",
     "output_type": "stream",
     "text": [
      "Cannot add property country, object is not extensible\n",
      "Cannot delete property 'age' of #<Object>\n"
     ]
    },
    {
     "name": "stdout",
     "output_type": "stream",
     "text": [
      "{ name: \"Alice\", age: 31 }\n"
     ]
    }
   ],
   "source": [
    "let user = { name: \"Alice\", age: 30 };\n",
    "Object.seal(user);\n",
    "\n",
    "try {\n",
    "  user.country = \"Wonderland\"; // ignored or TypeError\n",
    "} catch (e) {\n",
    "  console.error(e.message);\n",
    "}\n",
    "try {\n",
    "  delete user.age; // ignored or TypeError\n",
    "} catch (e) {\n",
    "  console.error(e.message);\n",
    "}\n",
    "user.age = 31; // allowed\n",
    "console.log(user);\n"
   ]
  },
  {
   "cell_type": "markdown",
   "metadata": {},
   "source": [
    "#### Object.freeze(obj)\n",
    "\n",
    "- **What it does**:\n",
    "  1. Forbids adding new properties.\n",
    "  2. Forbids removing existing properties (`configurable: false` on all).\n",
    "  3. Forbids changing existing properties’ values (`writable: false` on all).\n"
   ]
  },
  {
   "cell_type": "code",
   "execution_count": null,
   "metadata": {},
   "outputs": [
    {
     "name": "stderr",
     "output_type": "stream",
     "text": [
      "Cannot add property logLevel, object is not extensible\n",
      "Cannot delete property 'debug' of #<Object>\n",
      "Cannot assign to read only property 'debug' of object '#<Object>'\n"
     ]
    }
   ],
   "source": [
    "let config = { debug: true };\n",
    "Object.freeze(config);\n",
    "\n",
    "try {\n",
    "  config.logLevel = \"verbose\"; // ignored or TypeError\n",
    "} catch (e) {\n",
    "  console.error(e.message);\n",
    "}\n",
    "try {\n",
    "  delete config.debug; // ignored or TypeError\n",
    "} catch (e) {\n",
    "  console.error(e.message);\n",
    "}\n",
    "try {\n",
    "  config.debug = false; // ignored or TypeError\n",
    "} catch (e) {\n",
    "  console.error(e.message);\n",
    "}\n"
   ]
  },
  {
   "cell_type": "markdown",
   "metadata": {},
   "source": [
    "#### Tests for object state\n",
    "\n",
    "- `Object.isExtensible(obj)` → `false` if adding properties is forbidden.\n",
    "- `Object.isSealed(obj)` → `true` if adding/removing forbidden and all properties `configurable: false`.\n",
    "- `Object.isFrozen(obj)` → `true` if adding/removing/changing forbidden and all properties `configurable: false, writable: false`.\n"
   ]
  },
  {
   "cell_type": "code",
   "execution_count": null,
   "metadata": {},
   "outputs": [
    {
     "name": "stdout",
     "output_type": "stream",
     "text": [
      "false true true\n"
     ]
    }
   ],
   "source": [
    "console.log(\n",
    "  Object.isExtensible(book),\n",
    "  Object.isSealed(user),\n",
    "  Object.isFrozen(config)\n",
    ");\n"
   ]
  },
  {
   "cell_type": "markdown",
   "metadata": {},
   "source": [
    "#### Comparison: seal vs freeze\n",
    "\n",
    "| Feature                    | Sealed object                                                          | Frozen object |\n",
    "| -------------------------- | ---------------------------------------------------------------------- | ------------- |\n",
    "| Add new properties         | ❌                                                                     | ❌            |\n",
    "| Remove existing properties | ❌                                                                     | ❌            |\n",
    "| Change property values     | ✔️ _only if originally_ `writable: true` <br> ❌ if originally `false` | ❌ always     |\n"
   ]
  },
  {
   "cell_type": "code",
   "execution_count": null,
   "metadata": {},
   "outputs": [
    {
     "name": "stdout",
     "output_type": "stream",
     "text": [
      "undefined\n",
      "Pete\n",
      "Name is too short, need at least 4 characters\n",
      "Pete\n",
      "Pete\n"
     ]
    }
   ],
   "source": [
    "let user = {\n",
    "  get name() {\n",
    "    return this._name;\n",
    "  },\n",
    "\n",
    "  set name(value) {\n",
    "    if (value.length < 4) {\n",
    "      alert(\"Name is too short, need at least 4 characters\");\n",
    "      return;\n",
    "    }\n",
    "    this._name = value;\n",
    "  },\n",
    "};\n",
    "\n",
    "console.log(user.name);\n",
    "user.name = \"Pete\";\n",
    "console.log(user.name); // Pete\n",
    "\n",
    "user.name = \"\"; // Name is too short...\n",
    "console.log(user.name);\n",
    "console.log(user._name);\n"
   ]
  },
  {
   "cell_type": "code",
   "execution_count": null,
   "metadata": {},
   "outputs": [
    {
     "name": "stdout",
     "output_type": "stream",
     "text": [
      "2005-06-30T18:30:00.000Z\n",
      "20\n"
     ]
    }
   ],
   "source": [
    "function User(name, birthday) {\n",
    "  this.name = name;\n",
    "  this.birthday = birthday;\n",
    "\n",
    "  // age is calculated from the current date and birthday\n",
    "  Object.defineProperty(this, \"age\", {\n",
    "    get() {\n",
    "      let todayYear = new Date().getFullYear();\n",
    "      return todayYear - this.birthday.getFullYear();\n",
    "    },\n",
    "  });\n",
    "}\n",
    "\n",
    "let john = new User(\"John\", new Date(2005, 6, 1));\n",
    "\n",
    "console.log(john.birthday); // birthday is available\n",
    "console.log(john.age); // ...as well as the age\n"
   ]
  },
  {
   "cell_type": "markdown",
   "metadata": {},
   "source": [
    "### Prototypal inheritance\n",
    "\n",
    "There are limitations:\n",
    "\n",
    "- The references can’t go in circles. JavaScript will throw an error if we try to assign **proto** in a circle.\n",
    "- The value of **proto** can be either an object or null. Other types are ignored.\n",
    "- Also it may be obvious, but still: there can be only one [[Prototype]]. An object may not inherit from two others.\n"
   ]
  },
  {
   "cell_type": "code",
   "execution_count": null,
   "metadata": {},
   "outputs": [
    {
     "name": "stdout",
     "output_type": "stream",
     "text": [
      "Animal walk\n",
      "true\n",
      "Rabbit hops\n",
      "Animal walk\n"
     ]
    }
   ],
   "source": [
    "let animal = {\n",
    "  eats: true,\n",
    "  walk() {\n",
    "    console.log(\"Animal walk\");\n",
    "  },\n",
    "};\n",
    "\n",
    "let rabbit = {\n",
    "  jumps: true,\n",
    "  //   walk(){\n",
    "  //     console.log(\"Rabbit doesn\\'t walk, it hops\")\n",
    "  //   },\n",
    "  hop() {\n",
    "    console.log(\"Rabbit hops\");\n",
    "  },\n",
    "  __proto__: animal,\n",
    "};\n",
    "\n",
    "let longEar = {\n",
    "  earLength: 10,\n",
    "  __proto__: rabbit,\n",
    "};\n",
    "\n",
    "// walk is taken from the prototype chain\n",
    "longEar.walk(); // Animal walk\n",
    "console.log(longEar.jumps); // true (from rabbit)\n",
    "rabbit.hop();\n",
    "longEar.walk();\n"
   ]
  },
  {
   "cell_type": "code",
   "execution_count": null,
   "metadata": {},
   "outputs": [
    {
     "name": "stdout",
     "output_type": "stream",
     "text": [
      "Our: jumps\n",
      "Inherited: eats\n"
     ]
    }
   ],
   "source": [
    "let animal = {\n",
    "  eats: true,\n",
    "};\n",
    "\n",
    "let rabbit = {\n",
    "  jumps: true,\n",
    "  __proto__: animal,\n",
    "};\n",
    "\n",
    "for (let prop in rabbit) {\n",
    "  let isOwn = rabbit.hasOwnProperty(prop);\n",
    "\n",
    "  if (isOwn) {\n",
    "    alert(`Our: ${prop}`); // Our: jumps\n",
    "  } else {\n",
    "    alert(`Inherited: ${prop}`); // Inherited: eats\n",
    "  }\n",
    "}\n"
   ]
  },
  {
   "cell_type": "code",
   "execution_count": null,
   "metadata": {},
   "outputs": [
    {
     "name": "stdout",
     "output_type": "stream",
     "text": [
      "[ \"apple\" ]\n",
      "[]\n"
     ]
    }
   ],
   "source": [
    "let hamster = {\n",
    "  stomach: [],\n",
    "\n",
    "  eat(food) {\n",
    "    // assign to this.stomach instead of this.stomach.push\n",
    "    this.stomach = [food, ...this.stomach];\n",
    "  },\n",
    "};\n",
    "\n",
    "let speedy = {\n",
    "  __proto__: hamster,\n",
    "};\n",
    "\n",
    "let lazy = {\n",
    "  __proto__: hamster,\n",
    "};\n",
    "\n",
    "// Speedy one found the food\n",
    "speedy.eat(\"apple\");\n",
    "console.log(speedy.stomach); // apple\n",
    "\n",
    "// Lazy one's stomach is empty\n",
    "console.log(lazy.stomach); // <nothing>\n"
   ]
  },
  {
   "cell_type": "code",
   "execution_count": null,
   "metadata": {},
   "outputs": [
    {
     "name": "stdout",
     "output_type": "stream",
     "text": [
      "true\n"
     ]
    }
   ],
   "source": [
    "let animal = {\n",
    "  eats: true,\n",
    "};\n",
    "\n",
    "function Rabbit(name) {\n",
    "  this.name = name;\n",
    "}\n",
    "\n",
    "Rabbit.prototype = animal;\n",
    "\n",
    "let rabbit = new Rabbit(\"White Rabbit\"); //  rabbit.__proto__ == animal\n",
    "\n",
    "console.log(rabbit.eats); // true\n"
   ]
  },
  {
   "cell_type": "markdown",
   "metadata": {},
   "source": [
    "### F.prototype only used at new F time\n",
    "\n",
    "F.prototype property is only used when new F is called, it assigns [[Prototype]] of the new object.\n",
    "\n",
    "If, after the creation, F.prototype property changes (F.prototype = \\<another object\\>), then new objects created by new F will have another object as [[Prototype]], but already existing objects keep the old one.\n"
   ]
  },
  {
   "cell_type": "code",
   "execution_count": null,
   "metadata": {},
   "outputs": [
    {
     "name": "stdout",
     "output_type": "stream",
     "text": [
      "24\n",
      "42\n"
     ]
    }
   ],
   "source": [
    "function Person() {\n",
    "  this.name = \"Abcd\";\n",
    "}\n",
    "\n",
    "Person.prototype.age = 24;\n",
    "const p1 = new Person();\n",
    "console.log(p1.age);\n",
    "\n",
    "Person.prototype.age = 42;\n",
    "// or\n",
    "// Person.prototype = {age:42}\n",
    "const p2 = new Person();\n",
    "console.log(p2.age);\n"
   ]
  },
  {
   "cell_type": "code",
   "execution_count": null,
   "metadata": {},
   "outputs": [
    {
     "name": "stdout",
     "output_type": "stream",
     "text": [
      "{}\n",
      "true\n"
     ]
    }
   ],
   "source": [
    "function Rabbit() {}\n",
    "\n",
    "/* default prototype\n",
    "Rabbit.prototype = { constructor: Rabbit };\n",
    "*/\n",
    "console.log(Rabbit.prototype);\n",
    "console.log(Rabbit.prototype.constructor == Rabbit);\n"
   ]
  },
  {
   "cell_type": "markdown",
   "metadata": {},
   "source": [
    "We can use constructor property to create a new object using the same constructor as the existing one.\n"
   ]
  },
  {
   "cell_type": "code",
   "execution_count": null,
   "metadata": {},
   "outputs": [
    {
     "name": "stdout",
     "output_type": "stream",
     "text": [
      "White Rabbit\n",
      "Black Rabbit\n"
     ]
    }
   ],
   "source": [
    "function Rabbit(name) {\n",
    "  this.name = name;\n",
    "  console.log(name);\n",
    "}\n",
    "\n",
    "let rabbit = new Rabbit(\"White Rabbit\");\n",
    "\n",
    "let rabbit2 = new rabbit.constructor(\"Black Rabbit\");\n"
   ]
  },
  {
   "cell_type": "code",
   "execution_count": null,
   "metadata": {},
   "outputs": [
    {
     "name": "stdout",
     "output_type": "stream",
     "text": [
      "John\n",
      "Pete\n",
      "Abraham\n"
     ]
    }
   ],
   "source": [
    "function User_func(name) {\n",
    "  this.name = name;\n",
    "}\n",
    "\n",
    "let user1 = new User_func(\"John\");\n",
    "let user2 = new user1.constructor(\"Pete\");\n",
    "\n",
    "User_func.prototype = {};\n",
    "\n",
    "let user3 = new user1.constructor(\"Abraham\");\n",
    "console.log(user1.name);\n",
    "console.log(user2.name);\n",
    "console.log(user3.name);\n"
   ]
  },
  {
   "cell_type": "markdown",
   "metadata": {},
   "source": [
    "`Object.create(proto[, descriptors])` - creates an empty object with given proto as [[Prototype]] and optional property descriptors.\n",
    "\n",
    "For instance:\n"
   ]
  },
  {
   "cell_type": "code",
   "execution_count": null,
   "metadata": {},
   "outputs": [
    {
     "name": "stdout",
     "output_type": "stream",
     "text": [
      "true\n",
      "true\n"
     ]
    }
   ],
   "source": [
    "let animal = {\n",
    "  eats: true,\n",
    "};\n",
    "\n",
    "// create a new object with animal as a prototype\n",
    "let rabbit = Object.create(animal); // same as {__proto__: animal}\n",
    "\n",
    "console.log(rabbit.eats); // true\n",
    "\n",
    "console.log(Object.getPrototypeOf(rabbit) === animal); // true\n"
   ]
  },
  {
   "cell_type": "code",
   "execution_count": null,
   "metadata": {},
   "outputs": [
    {
     "name": "stdout",
     "output_type": "stream",
     "text": [
      "true\n"
     ]
    }
   ],
   "source": [
    "let animal = {\n",
    "  eats: true,\n",
    "};\n",
    "\n",
    "let rabbit = Object.create(animal, {\n",
    "  jumps: {\n",
    "    value: true,\n",
    "  },\n",
    "});\n",
    "\n",
    "console.log(rabbit.jumps); // true\n"
   ]
  },
  {
   "cell_type": "markdown",
   "metadata": {},
   "source": [
    "We can use Object.create to perform an object cloning more powerful than copying properties in for..in:\n",
    "\n",
    "This call makes a truly exact copy of obj, including all properties: enumerable and non-enumerable, data properties and setters/getters – everything, and with the right `[[Prototype]]`.\n"
   ]
  },
  {
   "cell_type": "code",
   "execution_count": null,
   "metadata": {},
   "outputs": [
    {
     "name": "stdout",
     "output_type": "stream",
     "text": [
      "[Object: null prototype] {} [Object: null prototype] {} [ [ \"a\", \"a\" ] ] [ [ \"a\", \"a\" ] ]\n"
     ]
    }
   ],
   "source": [
    "function clone_obj(obj) {\n",
    "  return Object.create(\n",
    "    Object.getPrototypeOf(obj),\n",
    "    Object.getOwnPropertyDescriptors(obj)\n",
    "  );\n",
    "}\n",
    "let o1 = { a: \"a\" };\n",
    "let o2 = clone_obj(o1);\n",
    "console.log(\n",
    "  //   o1.__proto__, // in deno the result will be undefined, but in node and browser, we get prototype, __proto__ is not available in deno, so its undefined\n",
    "  Object.getPrototypeOf(o1),\n",
    "  Object.getPrototypeOf(o2), // === Object.prototype\n",
    "  Object.entries(o1), // [[\"a\", \"a\"]]\n",
    "  Object.entries(o2) // [[\"a\", \"a\"]]\n",
    ");\n"
   ]
  },
  {
   "cell_type": "code",
   "execution_count": null,
   "metadata": {},
   "outputs": [
    {
     "name": "stdout",
     "output_type": "stream",
     "text": [
      "false\n",
      "[Object: null prototype] {}\n"
     ]
    }
   ],
   "source": [
    "let o1 = { a: \"a\" };\n",
    "console.log(\"__proto__\" in o1); // Should be true in normal environments\n",
    "console.log(Object.getPrototypeOf(o1)); // Should still work\n"
   ]
  },
  {
   "cell_type": "code",
   "execution_count": 5,
   "metadata": {},
   "outputs": [
    {
     "name": "stdout",
     "output_type": "stream",
     "text": [
      "_prototype === Object.prototype: true\n",
      "_prototype.constructor === Object: true\n",
      "Own property names of _prototype: [\n",
      "  \"constructor\",\n",
      "  \"__defineGetter__\",\n",
      "  \"__defineSetter__\",\n",
      "  \"hasOwnProperty\",\n",
      "  \"__lookupGetter__\",\n",
      "  \"__lookupSetter__\",\n",
      "  \"isPrototypeOf\",\n",
      "  \"propertyIsEnumerable\",\n",
      "  \"toString\",\n",
      "  \"valueOf\",\n",
      "  \"toLocaleString\"\n",
      "]\n",
      "_prototype's own toString: [Function: toString]\n",
      "_prototype's prototype: null\n"
     ]
    }
   ],
   "source": [
    "let o1 = { a: \"a\" };\n",
    "let _prototype = Object.getPrototypeOf(o1);\n",
    "\n",
    "console.log(\"_prototype === Object.prototype:\", _prototype === Object.prototype);\n",
    "console.log(\"_prototype.constructor === Object:\", _prototype.constructor === Object);\n",
    "console.log(\"Own property names of _prototype:\", Object.getOwnPropertyNames(_prototype));\n",
    "console.log(\"_prototype's own toString:\", _prototype.toString); // Should be Object.prototype.toString\n",
    "console.log(\"_prototype's prototype:\", Object.getPrototypeOf(_prototype)); // Should be null\n"
   ]
  },
  {
   "cell_type": "code",
   "execution_count": null,
   "metadata": {},
   "outputs": [],
   "source": [
    "class User {\n",
    "  constructor(name) {\n",
    "    this.name = name;\n",
    "  }\n",
    "  sayHi() {\n",
    "    alert(this.name);\n",
    "  }\n",
    "}\n",
    "\n",
    "// class is a function\n",
    "alert(typeof User); // function\n",
    "\n",
    "// ...or, more precisely, the constructor method\n",
    "alert(User === User.prototype.constructor); // true\n",
    "\n",
    "// The methods are in User.prototype, e.g:\n",
    "alert(User.prototype.sayHi); // the code of the sayHi method\n",
    "\n",
    "// there are exactly two methods in the prototype\n",
    "alert(Object.getOwnPropertyNames(User.prototype)); // constructor, sayHi\n"
   ]
  },
  {
   "cell_type": "markdown",
   "metadata": {},
   "source": [
    "Same as:\n"
   ]
  },
  {
   "cell_type": "code",
   "execution_count": null,
   "metadata": {},
   "outputs": [
    {
     "name": "stdout",
     "output_type": "stream",
     "text": [
      "John\n"
     ]
    }
   ],
   "source": [
    "// rewriting class User in pure functions\n",
    "\n",
    "// 1. Create constructor function\n",
    "function User(name) {\n",
    "  this.name = name;\n",
    "}\n",
    "// a function prototype has \"constructor\" property by default,\n",
    "// so we don't need to create it\n",
    "\n",
    "// 2. Add the method to prototype\n",
    "User.prototype.sayHi = function () {\n",
    "  console.log(this.name);\n",
    "};\n",
    "\n",
    "// Usage:\n",
    "let user = new User(\"John\");\n",
    "user.sayHi();\n"
   ]
  },
  {
   "cell_type": "markdown",
   "metadata": {},
   "source": [
    "Still, there are important differences.\n",
    "\n",
    "1. First, a function created by `class` is labelled by a special internal property `[[IsClassConstructor]]: true`.  \n",
    "   So it's not entirely the same as creating it manually.\n",
    "\n",
    "The language checks for that property in a variety of places.  \n",
    "For example, unlike a regular function, it must be called with `new`:\n"
   ]
  },
  {
   "cell_type": "code",
   "execution_count": null,
   "metadata": {},
   "outputs": [
    {
     "ename": "TypeError",
     "evalue": "Class constructor Player cannot be invoked without 'new'",
     "output_type": "error",
     "traceback": [
      "Stack trace:",
      "TypeError: Class constructor Player cannot be invoked without 'new'",
      "    at <anonymous>:5:1"
     ]
    }
   ],
   "source": [
    "class Player {\n",
    "  constructor() {}\n",
    "}\n",
    "\n",
    "alert(Player); // function\n",
    "Player(); // Error: Class constructor Player cannot be invoked without 'new'\n"
   ]
  },
  {
   "cell_type": "markdown",
   "metadata": {},
   "source": [
    "Also, a string representation of a class constructor in most JavaScript engines starts with the “class…”\n"
   ]
  },
  {
   "cell_type": "code",
   "execution_count": null,
   "metadata": {},
   "outputs": [
    {
     "name": "stdout",
     "output_type": "stream",
     "text": [
      "[class Foo]\n"
     ]
    }
   ],
   "source": [
    "class Foo {\n",
    "  constructor() {}\n",
    "}\n",
    "\n",
    "console.log(Foo);\n"
   ]
  },
  {
   "cell_type": "markdown",
   "metadata": {},
   "source": [
    "2. Class methods are non-enumerable. A class definition sets enumerable flag to false for all methods in the \"prototype\".\n",
    "\n",
    "3. That’s good, because if we `for..in` over an object, we usually don’t want its class methods.\n",
    "\n",
    "4. Classes always `use strict`. All code inside the class construct is automatically in strict mode.\n",
    "\n",
    "Besides, class syntax brings many other features that we’ll explore later.\n"
   ]
  },
  {
   "cell_type": "markdown",
   "metadata": {},
   "source": [
    "#### Class Expression\n",
    "\n",
    "Just like functions, classes can be defined inside another expression, passed around, returned, assigned, etc.\n"
   ]
  },
  {
   "cell_type": "code",
   "execution_count": null,
   "metadata": {},
   "outputs": [],
   "source": [
    "const C1 = class {\n",
    "  sayHi() {\n",
    "    alert(\"Hello\");\n",
    "  }\n",
    "};\n"
   ]
  },
  {
   "cell_type": "markdown",
   "metadata": {},
   "source": [
    "Similar to Named Function Expressions, class expressions may have a name.\n",
    "\n",
    "If a class expression has a name, it’s visible inside the class only:\n"
   ]
  },
  {
   "cell_type": "code",
   "execution_count": null,
   "metadata": {},
   "outputs": [
    {
     "name": "stdout",
     "output_type": "stream",
     "text": [
      "[class MyClass]\n"
     ]
    }
   ],
   "source": [
    "const C2 = class MyClass {\n",
    "  sayHi() {\n",
    "    console.log(MyClass);\n",
    "  }\n",
    "};\n",
    "\n",
    "new C2().sayHi();\n",
    "\n",
    "// alert(MyClass); //error\n"
   ]
  },
  {
   "cell_type": "markdown",
   "metadata": {},
   "source": [
    "We can even make classes dynamically “on-demand”, like this:\n"
   ]
  },
  {
   "cell_type": "code",
   "execution_count": null,
   "metadata": {},
   "outputs": [
    {
     "name": "stdout",
     "output_type": "stream",
     "text": [
      "Hello\n"
     ]
    }
   ],
   "source": [
    "function makeClass(phrase) {\n",
    "  // declare a class and return it\n",
    "  return class {\n",
    "    sayHi() {\n",
    "      alert(phrase);\n",
    "    }\n",
    "  };\n",
    "}\n",
    "\n",
    "// Create a new class\n",
    "let C3 = makeClass(\"Hello\");\n",
    "\n",
    "new C3().sayHi(); // Hello\n"
   ]
  },
  {
   "cell_type": "code",
   "execution_count": null,
   "metadata": {},
   "outputs": [
    {
     "name": "stdout",
     "output_type": "stream",
     "text": [
      "John\n",
      "John\n",
      "Name is too short.\n"
     ]
    },
    {
     "data": {
      "text/plain": [
       "User2 {}"
      ]
     },
     "execution_count": 4,
     "metadata": {},
     "output_type": "execute_result"
    }
   ],
   "source": [
    "class User2 {\n",
    "  constructor(name) {\n",
    "    // invokes the setter\n",
    "    this.name = name;\n",
    "  }\n",
    "\n",
    "  get name() {\n",
    "    // when we \"get\" name, we return _name\n",
    "\n",
    "    return this._name; // The underscore could be anything.\n",
    "    // It is called a backing prefix though.\n",
    "    //  If you don't distinguish name in the get or set then you get an infinite loop of this property calling itself.\n",
    "  }\n",
    "\n",
    "  set name(value) {\n",
    "    // when we \"set\" name we set _name\n",
    "    if (value.length < 4) {\n",
    "      console.log(\"Name is too short.\");\n",
    "      return;\n",
    "    }\n",
    "    this._name = value;\n",
    "  }\n",
    "}\n",
    "\n",
    "let user = new User2(\"John\");\n",
    "console.log(user.name); // John\n",
    "console.log(user._name); // can still access it\n",
    "\n",
    "user = new User2(\"\"); // Name is too short.\n"
   ]
  },
  {
   "cell_type": "code",
   "execution_count": null,
   "metadata": {},
   "outputs": [
    {
     "name": "stdout",
     "output_type": "stream",
     "text": [
      "setter\n",
      "setter\n",
      "setter\n",
      "setter\n",
      "setter\n",
      "setter\n",
      "setter\n",
      "setter\n",
      "setter\n",
      "setter\n",
      "setter\n",
      "setter\n",
      "setter\n",
      "setter\n",
      "setter\n",
      "setter\n",
      "setter\n",
      "setter\n",
      "setter\n",
      "setter\n",
      "setter\n",
      "setter\n",
      "setter\n",
      "setter\n",
      "setter\n",
      "setter\n",
      "setter\n",
      "setter\n",
      "setter\n",
      "setter\n",
      "setter\n",
      "setter\n",
      "setter\n",
      "setter\n",
      "setter\n",
      "setter\n",
      "setter\n",
      "setter\n",
      "setter\n",
      "setter\n",
      "setter\n",
      "setter\n",
      "setter\n",
      "setter\n",
      "setter\n",
      "setter\n",
      "setter\n",
      "setter\n",
      "setter\n",
      "setter\n",
      "setter\n",
      "setter\n",
      "setter\n",
      "setter\n",
      "setter\n",
      "setter\n",
      "setter\n",
      "setter\n",
      "setter\n",
      "setter\n",
      "setter\n",
      "setter\n",
      "setter\n",
      "setter\n",
      "setter\n",
      "setter\n",
      "setter\n",
      "setter\n",
      "setter\n",
      "setter\n",
      "setter\n",
      "setter\n",
      "setter\n",
      "setter\n",
      "setter\n",
      "setter\n",
      "setter\n",
      "setter\n",
      "setter\n",
      "setter\n",
      "setter\n",
      "setter\n",
      "setter\n",
      "setter\n",
      "setter\n",
      "setter\n",
      "setter\n",
      "setter\n",
      "setter\n",
      "setter\n",
      "setter\n",
      "setter\n",
      "setter\n",
      "setter\n",
      "setter\n",
      "setter\n",
      "setter\n",
      "setter\n",
      "setter\n",
      "setter\n",
      "setter\n",
      "setter\n",
      "setter\n",
      "setter\n",
      "setter\n",
      "setter\n",
      "setter\n",
      "setter\n",
      "setter\n",
      "setter\n",
      "setter\n",
      "setter\n",
      "setter\n",
      "setter\n",
      "setter\n",
      "setter\n",
      "setter\n",
      "setter\n",
      "setter\n",
      "setter\n",
      "setter\n",
      "setter\n",
      "setter\n",
      "setter\n",
      "setter\n",
      "setter\n",
      "setter\n",
      "setter\n",
      "setter\n",
      "setter\n",
      "setter\n",
      "setter\n",
      "setter\n",
      "setter\n",
      "setter\n",
      "setter\n",
      "setter\n",
      "setter\n",
      "setter\n",
      "setter\n",
      "setter\n",
      "setter\n",
      "setter\n",
      "setter\n",
      "setter\n",
      "setter\n",
      "setter\n",
      "setter\n",
      "setter\n",
      "setter\n",
      "setter\n",
      "setter\n",
      "setter\n",
      "setter\n",
      "setter\n",
      "setter\n",
      "setter\n",
      "setter\n",
      "setter\n",
      "setter\n",
      "setter\n",
      "setter\n",
      "setter\n",
      "setter\n",
      "setter\n",
      "setter\n",
      "setter\n",
      "setter\n",
      "setter\n",
      "setter\n",
      "setter\n",
      "setter\n",
      "setter\n",
      "setter\n",
      "setter\n",
      "setter\n",
      "setter\n",
      "setter\n",
      "setter\n",
      "setter\n",
      "setter\n",
      "setter\n",
      "setter\n",
      "setter\n",
      "setter\n",
      "setter\n",
      "setter\n",
      "setter\n",
      "setter\n",
      "setter\n",
      "setter\n",
      "setter\n",
      "setter\n",
      "setter\n",
      "setter\n",
      "setter\n",
      "setter\n",
      "setter\n",
      "setter\n",
      "setter\n",
      "setter\n",
      "setter\n",
      "setter\n",
      "setter\n",
      "setter\n",
      "setter\n",
      "setter\n",
      "setter\n",
      "setter\n",
      "setter\n",
      "setter\n",
      "setter\n",
      "setter\n",
      "setter\n",
      "setter\n",
      "setter\n",
      "setter\n",
      "setter\n",
      "setter\n",
      "setter\n",
      "setter\n",
      "setter\n",
      "setter\n",
      "setter\n",
      "setter\n",
      "setter\n",
      "setter\n",
      "setter\n",
      "setter\n",
      "setter\n",
      "setter\n",
      "setter\n",
      "setter\n",
      "setter\n",
      "setter\n",
      "setter\n",
      "setter\n",
      "setter\n",
      "setter\n",
      "setter\n",
      "setter\n",
      "setter\n",
      "setter\n",
      "setter\n",
      "setter\n",
      "setter\n",
      "setter\n",
      "setter\n",
      "setter\n",
      "setter\n",
      "setter\n",
      "setter\n",
      "setter\n",
      "setter\n",
      "setter\n",
      "setter\n",
      "setter\n",
      "setter\n",
      "setter\n",
      "setter\n",
      "setter\n",
      "setter\n",
      "setter\n",
      "setter\n",
      "setter\n",
      "setter\n",
      "setter\n",
      "setter\n",
      "setter\n",
      "setter\n",
      "setter\n",
      "setter\n",
      "setter\n",
      "setter\n",
      "setter\n",
      "setter\n",
      "setter\n",
      "setter\n",
      "setter\n",
      "setter\n",
      "setter\n",
      "setter\n",
      "setter\n",
      "setter\n",
      "setter\n",
      "setter\n",
      "setter\n",
      "setter\n",
      "setter\n",
      "setter\n",
      "setter\n",
      "setter\n",
      "setter\n",
      "setter\n",
      "setter\n",
      "setter\n",
      "setter\n",
      "setter\n",
      "setter\n",
      "setter\n",
      "setter\n",
      "setter\n",
      "setter\n",
      "setter\n",
      "setter\n",
      "setter\n",
      "setter\n",
      "setter\n",
      "setter\n",
      "setter\n",
      "setter\n",
      "setter\n",
      "setter\n",
      "setter\n",
      "setter\n",
      "setter\n",
      "setter\n",
      "setter\n",
      "setter\n",
      "setter\n",
      "setter\n",
      "setter\n",
      "setter\n",
      "setter\n",
      "setter\n",
      "setter\n",
      "setter\n",
      "setter\n",
      "setter\n",
      "setter\n",
      "setter\n",
      "setter\n",
      "setter\n",
      "setter\n",
      "setter\n",
      "setter\n",
      "setter\n",
      "setter\n",
      "setter\n",
      "setter\n",
      "setter\n",
      "setter\n",
      "setter\n",
      "setter\n",
      "setter\n",
      "setter\n",
      "setter\n",
      "setter\n",
      "setter\n",
      "setter\n",
      "setter\n",
      "setter\n",
      "setter\n",
      "setter\n",
      "setter\n",
      "setter\n",
      "setter\n",
      "setter\n",
      "setter\n",
      "setter\n",
      "setter\n",
      "setter\n",
      "setter\n",
      "setter\n",
      "setter\n",
      "setter\n",
      "setter\n",
      "setter\n",
      "setter\n",
      "setter\n",
      "setter\n",
      "setter\n",
      "setter\n",
      "setter\n",
      "setter\n",
      "setter\n",
      "setter\n",
      "setter\n",
      "setter\n",
      "setter\n",
      "setter\n",
      "setter\n",
      "setter\n",
      "setter\n",
      "setter\n",
      "setter\n",
      "setter\n",
      "setter\n",
      "setter\n",
      "setter\n",
      "setter\n",
      "setter\n",
      "setter\n",
      "setter\n",
      "setter\n",
      "setter\n",
      "setter\n",
      "setter\n",
      "setter\n",
      "setter\n",
      "setter\n"
     ]
    },
    {
     "ename": "RangeError",
     "evalue": "Maximum call stack size exceeded",
     "output_type": "error",
     "traceback": [
      "Stack trace:",
      "RangeError: Maximum call stack size exceeded",
      "    at User3.set name (<anonymous>:1:1)",
      "    at User3.set name (<anonymous>:1:1)",
      "    at User3.set name (<anonymous>:1:1)",
      "    at User3.set name (<anonymous>:1:1)",
      "    at User3.set name (<anonymous>:1:1)",
      "    at User3.set name (<anonymous>:1:1)",
      "    at User3.set name (<anonymous>:1:1)",
      "    at User3.set name (<anonymous>:1:1)",
      "    at User3.set name (<anonymous>:1:1)",
      "    at User3.set name (<anonymous>:1:1)"
     ]
    }
   ],
   "source": [
    "// without _ (backing prefix), the setter will be called recursively and will crash\n",
    "class User3 {\n",
    "    constructor(name) {\n",
    "    // invokes the setter\n",
    "    this.name = name;\n",
    "  }\n",
    "\n",
    "  get name() {\n",
    "    console.log(\"getter\")\n",
    "    return this.name;\n",
    "  }\n",
    "\n",
    "  set name(value) {\n",
    "    console.log(\"setter\")\n",
    "    // when we \"set\" name we set _name\n",
    "    if (value.length < 4) {\n",
    "      console.log(\"Name is too short.\");\n",
    "      return;\n",
    "    }\n",
    "    this.name = value;\n",
    "  }\n",
    "}\n",
    "\n",
    "let user = new User3(\"John\");\n",
    "console.log(user.name); // John\n",
    "console.log(user._name); // can still access it\n",
    "\n",
    "user = new User3(\"\"); // Name is too short.\n"
   ]
  },
  {
   "cell_type": "markdown",
   "metadata": {},
   "source": [
    "Computed names […]\n",
    "\n",
    "Here's an example with a computed method name using brackets [...]:\n"
   ]
  },
  {
   "cell_type": "code",
   "execution_count": null,
   "metadata": {},
   "outputs": [
    {
     "name": "stdout",
     "output_type": "stream",
     "text": [
      "Hello\n"
     ]
    }
   ],
   "source": [
    "class User {\n",
    "  [\"say\" + \"Hi\"]() {\n",
    "    console.log(\"Hello\");\n",
    "  }\n",
    "}\n",
    "\n",
    "new User().sayHi();\n"
   ]
  },
  {
   "cell_type": "markdown",
   "metadata": {},
   "source": [
    "#### Class fields\n",
    "\n",
    "Previously, our classes only had methods.\n",
    "\n",
    "\"Class fields\" is a syntax that allows to add any properties.\n",
    "\n",
    "For instance, let's add name property to class User:\n"
   ]
  },
  {
   "cell_type": "code",
   "execution_count": null,
   "metadata": {},
   "outputs": [
    {
     "name": "stdout",
     "output_type": "stream",
     "text": [
      "Hello, John!\n"
     ]
    }
   ],
   "source": [
    "class User {\n",
    "  name = \"John\";\n",
    "\n",
    "  sayHi() {\n",
    "    alert(`Hello, ${this.name}!`);\n",
    "  }\n",
    "}\n",
    "\n",
    "new User().sayHi(); // Hello, John!\n"
   ]
  },
  {
   "cell_type": "markdown",
   "metadata": {},
   "source": [
    "So, we just write “ = ” in the declaration, and that's it.\n",
    "\n",
    "The important difference of class fields is that they are `set on individual objects, not User.prototype`:\n"
   ]
  },
  {
   "cell_type": "code",
   "execution_count": null,
   "metadata": {},
   "outputs": [
    {
     "name": "stdout",
     "output_type": "stream",
     "text": [
      "John\n",
      "undefined\n"
     ]
    }
   ],
   "source": [
    "class User {\n",
    "  name = \"John\";\n",
    "}\n",
    "\n",
    "let user = new User();\n",
    "alert(user.name); // John\n",
    "alert(User.prototype.name); // undefined\n"
   ]
  },
  {
   "cell_type": "markdown",
   "metadata": {},
   "source": [
    "#### Making bound methods with class fields\n",
    "\n",
    "As demonstrated in the chapter Function binding functions in JavaScript have a dynamic `this`. It depends on the `context of the call`.\n",
    "\n",
    "<i style=\"background-color:yellow;color:black;\">So if an object method is passed around and called in another context, this won’t be a reference to its object any more.</i>\n",
    "\n",
    "For instance, this code will show undefined:\n"
   ]
  },
  {
   "cell_type": "code",
   "execution_count": null,
   "metadata": {},
   "outputs": [
    {
     "data": {
      "text/plain": [
       "\u001b[33m11\u001b[39m"
      ]
     },
     "execution_count": 26,
     "metadata": {},
     "output_type": "execute_result"
    },
    {
     "name": "stdout",
     "output_type": "stream",
     "text": [
      "undefined\n",
      "undefined\n"
     ]
    }
   ],
   "source": [
    "class Button {\n",
    "  constructor(value) {\n",
    "    this.value = value;\n",
    "  }\n",
    "\n",
    "  click() {\n",
    "    console.log(this.value);\n",
    "  }\n",
    "}\n",
    "\n",
    "let button = new Button(\"hello\");\n",
    "\n",
    "setTimeout(button.click, 1000); // undefined\n",
    "// The problem is called \"losing this\".\n",
    "\n",
    "// is equivalent to:\n",
    "\n",
    "let f = button.click; // f is a standalone function, not bound to button\n",
    "setTimeout(f, 1000); // `this` inside f will be undefined (or the global object in non-strict mode)\n"
   ]
  },
  {
   "cell_type": "markdown",
   "metadata": {},
   "source": [
    "The problem is called \"losing this\".\n",
    "\n",
    "There are two approaches to fixing it, as discussed in the chapter Function binding:\n",
    "\n",
    "1. Pass a wrapper-function, such as setTimeout(() => button.click(), 1000).\n",
    "2. Bind the method to object, e.g. in the constructor.\n",
    "\n",
    "Or here Class fields + arrow functions (3rd apprach)\n"
   ]
  },
  {
   "cell_type": "code",
   "execution_count": null,
   "metadata": {},
   "outputs": [
    {
     "data": {
      "text/plain": [
       "\u001b[33m2\u001b[39m"
      ]
     },
     "execution_count": 1,
     "metadata": {},
     "output_type": "execute_result"
    },
    {
     "name": "stdout",
     "output_type": "stream",
     "text": [
      "hello\n",
      "undefined\n"
     ]
    }
   ],
   "source": [
    "class Button {\n",
    "  constructor(value) {\n",
    "    this.value = value;\n",
    "  }\n",
    "\n",
    "  // Arrow function: 'this' is lexically bound to the instance,\n",
    "  // so it won't be lost even if passed as a callback\n",
    "  click = () => {\n",
    "    console.log(this.value);\n",
    "  };\n",
    "\n",
    "  // Normal function: 'this' depends on how the function is called.\n",
    "  // If passed as a bare callback (e.g. to setTimeout), 'this' will be lost\n",
    "  click_2 = function() {\n",
    "    console.log(this.value);\n",
    "  };\n",
    "}\n",
    "\n",
    "let button = new Button(\"hello\");\n",
    "\n",
    "setTimeout(button.click, 1000);    // Logs: hello (works because 'this' is bound)\n",
    "setTimeout(button.click_2, 1000);  // Logs: undefined ('this' lost when passed as bare function)"
   ]
  },
  {
   "cell_type": "markdown",
   "metadata": {},
   "source": [
    "The class field click = () => {...} is created on a per-object basis, there's a separate function for each Button object, with this inside it referencing that object. We can pass button.click around anywhere, and the value of this will always be correct.\n",
    "\n",
    "That’s especially useful in browser environment, for event listeners.\n"
   ]
  },
  {
   "cell_type": "code",
   "execution_count": null,
   "metadata": {},
   "outputs": [
    {
     "data": {
      "text/plain": [
       "\u001b[33m16\u001b[39m"
      ]
     },
     "execution_count": 32,
     "metadata": {},
     "output_type": "execute_result"
    },
    {
     "name": "stdout",
     "output_type": "stream",
     "text": [
      "hello\n"
     ]
    }
   ],
   "source": [
    "// Pass a wrapper-function\n",
    "class Button {\n",
    "  constructor(value) {\n",
    "    this.value = value;\n",
    "  }\n",
    "  click = () => {\n",
    "    console.log(this.value);\n",
    "  };\n",
    "}\n",
    "\n",
    "let button = new Button(\"hello\");\n",
    "\n",
    "setTimeout(() => button.click(), 1000); // hello\n"
   ]
  },
  {
   "cell_type": "code",
   "execution_count": null,
   "metadata": {},
   "outputs": [
    {
     "data": {
      "text/plain": [
       "\u001b[33m22\u001b[39m"
      ]
     },
     "execution_count": 38,
     "metadata": {},
     "output_type": "execute_result"
    },
    {
     "name": "stdout",
     "output_type": "stream",
     "text": [
      "hello\n"
     ]
    }
   ],
   "source": [
    "// Binding method to object in constructor\n",
    "class Button {\n",
    "  constructor(value) {\n",
    "    this.value = value;\n",
    "    this.click = this.click.bind(this);\n",
    "  }\n",
    "  click = () => {\n",
    "    alert(this.value);\n",
    "  };\n",
    "}\n",
    "\n",
    "let button = new Button(\"hello\");\n",
    "\n",
    "setTimeout(button.click, 1000); // hello"
   ]
  },
  {
   "cell_type": "code",
   "execution_count": null,
   "metadata": {},
   "outputs": [
    {
     "name": "stdout",
     "output_type": "stream",
     "text": [
      "12:56:41\n"
     ]
    },
    {
     "data": {
      "text/plain": [
       "\u001b[33m2\u001b[39m"
      ]
     },
     "execution_count": 1,
     "metadata": {},
     "output_type": "execute_result"
    },
    {
     "name": "stdout",
     "output_type": "stream",
     "text": [
      "12:56:42\n"
     ]
    }
   ],
   "source": [
    "class Clock {\n",
    "    timer = null;\n",
    "    constructor({ template }) {\n",
    "        this.template = template;\n",
    "    }\n",
    "\n",
    "    render = () => {\n",
    "        let date = new Date();\n",
    "\n",
    "        let hours = date.getHours();\n",
    "        if (hours < 10) hours = \"0\" + hours;\n",
    "\n",
    "        let mins = date.getMinutes();\n",
    "        if (mins < 10) mins = \"0\" + mins;\n",
    "\n",
    "        let secs = date.getSeconds();\n",
    "        if (secs < 10) secs = \"0\" + secs;\n",
    "\n",
    "        let output = this.template\n",
    "            .replace(\"h\", hours)\n",
    "            .replace(\"m\", mins)\n",
    "            .replace(\"s\", secs);\n",
    "\n",
    "        console.log(output);\n",
    "    };\n",
    "\n",
    "    start = () => {\n",
    "        this.render();\n",
    "        this.timer = setInterval(this.render, 1000);\n",
    "    };\n",
    "\n",
    "    stop = () => {\n",
    "        clearInterval(this.timer);\n",
    "    };\n",
    "}\n",
    "\n",
    "let clock = new Clock({ template: \"h:m:s\" });\n",
    "clock.start();\n",
    "\n",
    "setTimeout(() => clock.stop(), 2000);"
   ]
  },
  {
   "cell_type": "code",
   "execution_count": null,
   "metadata": {},
   "outputs": [
    {
     "name": "stdout",
     "output_type": "stream",
     "text": [
      "My animal runs with speed 1.\n",
      "My animal stands still.\n",
      "Rabbit runs with speed 5.\n",
      "Rabbit hides!\n"
     ]
    }
   ],
   "source": [
    "class Animal {\n",
    "  constructor(name) {\n",
    "    this.speed = 0;\n",
    "    this.name = name;\n",
    "  }\n",
    "  run(speed) {\n",
    "    this.speed = speed;\n",
    "    console.log(`${this.name} runs with speed ${this.speed}.`);\n",
    "  }\n",
    "  stop() {\n",
    "    this.speed = 0;\n",
    "    console.log(`${this.name} stands still.`);\n",
    "  }\n",
    "}\n",
    "\n",
    "let animal = new Animal(\"My animal\");\n",
    "animal.run(1)\n",
    "animal.stop()\n",
    "\n",
    "class Rabbit extends Animal {\n",
    "  hide() {\n",
    "    alert(`${this.name} hides!`);\n",
    "  }\n",
    "}\n",
    "\n",
    "let rabbit = new Rabbit(\"Rabbit\");\n",
    "\n",
    "rabbit.run(5);\n",
    "rabbit.hide();"
   ]
  },
  {
   "cell_type": "markdown",
   "metadata": {},
   "source": [
    "Object of `Rabbit` class have access both to `Rabbit` methods, such as `rabbit.hide()`, and also to Animal methods, such as `rabbit.run()`.\n",
    "\n",
    "Internally, extends keyword works using the good old prototype mechanics. It sets `Rabbit.prototype.[[Prototype]]` to `Animal.prototype`. So, if a method is not found in `Rabbit.prototype`, JavaScript takes it from `Animal.prototype`."
   ]
  },
  {
   "cell_type": "markdown",
   "metadata": {},
   "source": [
    "<svg xmlns=\"http://www.w3.org/2000/svg\" width=\"560\" height=\"316\" viewBox=\"0 0 560 316\">\n",
    "  <title>Class Inheritance Diagram: Animal and Rabbit</title>\n",
    "  <desc>source: https://javascript.info/class-inheritance</desc>\n",
    "\n",
    "  <g id=\"inheritance\" fill=\"none\" fill-rule=\"evenodd\" stroke=\"none\" stroke-width=\"1\">\n",
    "    <g id=\"animal-rabbit-extends.svg\">\n",
    "      <path id=\"Rectangle-1\" fill=\"#FBF2EC\" stroke=\"#DBAF88\" stroke-width=\"2\" d=\"M242 23h185v64H242z\"/>\n",
    "      <text id=\"constructor:-Animal\" fill=\"#AF6E24\" font-family=\"Arial, sans-serif\" font-size=\"18\" font-weight=\"normal\">\n",
    "        <tspan x=\"252\" y=\"42\">constructor: Animal</tspan>\n",
    "        <tspan x=\"252\" y=\"62\">run: function</tspan>\n",
    "        <tspan x=\"252\" y=\"82\">stop: function</tspan>\n",
    "      </text>\n",
    "      <path id=\"Rectangle-1-Copy\" fill=\"#FBF2EC\" stroke=\"#DBAF88\" stroke-width=\"2\" d=\"M242 286h185v28H242z\"/>\n",
    "      <text id=\"Animal.prototype\" fill=\"#AF6E24\" font-family=\"Arial, sans-serif\" font-size=\"18\" font-weight=\"normal\">\n",
    "        <tspan x=\"241\" y=\"15\">Animal.prototype</tspan>\n",
    "      </text>\n",
    "      <path id=\"Rectangle-1-Copy-4\" fill=\"#FBF2EC\" stroke=\"#DBAF88\" stroke-width=\"2\" d=\"M242 166h185v48H242z\"/>\n",
    "      <text id=\"constructor:-Rabbit\" fill=\"#AF6E24\" font-family=\"Arial, sans-serif\" font-size=\"18\" font-weight=\"normal\">\n",
    "        <tspan x=\"252\" y=\"185\">constructor: Rabbit</tspan>\n",
    "        <tspan x=\"252\" y=\"205\">hide: function</tspan>\n",
    "      </text>\n",
    "      <text id=\"Rabbit.prototype\" fill=\"#AF6E24\" font-family=\"Arial, sans-serif\" font-size=\"18\" font-weight=\"normal\">\n",
    "        <tspan x=\"241\" y=\"158\">Rabbit.prototype</tspan>\n",
    "      </text>\n",
    "      <path id=\"Rectangle-1-Copy-2\" fill=\"#FBF2EC\" stroke=\"#DBAF88\" stroke-width=\"2\" d=\"M11 23h105v48H11z\"/>\n",
    "      <text id=\"Animal\" fill=\"#AF6E24\" font-family=\"Arial, sans-serif\" font-size=\"18\" font-weight=\"normal\">\n",
    "        <tspan x=\"10\" y=\"15\">Animal</tspan>\n",
    "      </text>\n",
    "      <path id=\"Rectangle-1-Copy-3\" fill=\"#FBF2EC\" stroke=\"#DBAF88\" stroke-width=\"2\" d=\"M11 166h105v48H11z\"/>\n",
    "      <text id=\"Rabbit\" fill=\"#AF6E24\" font-family=\"Arial, sans-serif\" font-size=\"18\" font-weight=\"normal\">\n",
    "        <tspan x=\"10\" y=\"158\">Rabbit</tspan>\n",
    "      </text>\n",
    "      <text id=\"new-Rabbit\" fill=\"#AF6E24\" font-family=\"Arial, sans-serif\" font-size=\"18\" font-weight=\"normal\">\n",
    "        <tspan x=\"247\" y=\"278\">new Rabbit</tspan>\n",
    "      </text>\n",
    "      <path id=\"Line\" fill=\"#C06334\" fill-rule=\"nonzero\" d=\"M330.5 96.5l7 14h-6v28h-2v-28h-6l7-14z\"/>\n",
    "      <path id=\"Line-Copy\" fill=\"#C06334\" fill-rule=\"nonzero\" d=\"M211 40l14 7-14 7v-6h-79v-2h79v-6z\"/>\n",
    "      <path id=\"Line-Copy-4\" fill=\"#C06334\" fill-rule=\"nonzero\" d=\"M489.157 87.31l.533.847-.424.266-20.68 13.021-5.129 3.228 7.263-.36.499-.024.05.999-.5.024-9.167.455-.888.044.423-.782 4.372-8.07.239-.44.879.476-.238.44-3.464 6.392 5.128-3.228 20.68-13.021.424-.267z\"/>\n",
    "      <text id=\"[[Prototype]]\" fill=\"#AF6E24\" font-family=\"Arial, sans-serif\" font-size=\"18\" font-weight=\"normal\">\n",
    "        <tspan x=\"340\" y=\"120\">[[Prototype]]</tspan>\n",
    "      </text>\n",
    "      <path id=\"Line-Copy-3\" fill=\"#C06334\" fill-rule=\"nonzero\" d=\"M330.5 230.5l7 14h-6v28h-2v-28h-6l7-14z\"/>\n",
    "      <text id=\"[[Prototype]]-Copy\" fill=\"#AF6E24\" font-family=\"Arial, sans-serif\" font-size=\"18\" font-weight=\"normal\">\n",
    "        <tspan x=\"340\" y=\"254\">[[Prototype]]</tspan>\n",
    "      </text>\n",
    "      <text id=\"prototype\" fill=\"#AF6E24\" font-family=\"Arial, sans-serif\" font-size=\"18\" font-weight=\"normal\">\n",
    "        <tspan x=\"139\" y=\"35\">prototype</tspan>\n",
    "      </text>\n",
    "      <path id=\"Line-Copy-2\" fill=\"#C06334\" fill-rule=\"nonzero\" d=\"M211 182l14 7-14 7v-6h-79v-2h79v-6z\"/>\n",
    "      <text id=\"prototype-copy\" fill=\"#AF6E24\" font-family=\"Arial, sans-serif\" font-size=\"18\" font-weight=\"normal\">\n",
    "        <tspan x=\"139\" y=\"176\">prototype</tspan>\n",
    "      </text>\n",
    "      <text id=\"name:-&quot;White-Rabbit&quot;\" fill=\"#AF6E24\" font-family=\"Arial, sans-serif\" font-size=\"18\" font-weight=\"normal\">\n",
    "        <tspan x=\"253\" y=\"304\">name: \"White Rabbit\"</tspan>\n",
    "      </text>\n",
    "      <text id=\"constructor\" fill=\"#AF6E24\" font-family=\"Arial, sans-serif\" font-size=\"18\" font-weight=\"normal\">\n",
    "        <tspan x=\"17\" y=\"41\">constructor</tspan>\n",
    "      </text>\n",
    "      <text id=\"constructor-copy\" fill=\"#AF6E24\" font-family=\"Arial, sans-serif\" font-size=\"18\" font-weight=\"normal\">\n",
    "        <tspan x=\"17\" y=\"183\">constructor</tspan>\n",
    "      </text>\n",
    "      <ellipse id=\"Oval\" cx=\"391.5\" cy=\"117.5\" stroke=\"#C06334\" rx=\"70.5\" ry=\"20.5\"/>\n",
    "      <text id=\"extends\" fill=\"#C06334\" font-family=\"Arial, sans-serif\" font-size=\"20\" font-weight=\"normal\">\n",
    "        <tspan x=\"489\" y=\"83\">extends</tspan>\n",
    "      </text>\n",
    "    </g>\n",
    "  </g>\n",
    "</svg>"
   ]
  },
  {
   "cell_type": "markdown",
   "metadata": {},
   "source": [
    "For instance, to find `rabbit.run` method, the engine checks (bottom-up on the picture):\n",
    "\n",
    "The `rabbit` object (has no run).\n",
    "\n",
    "Its prototype, that is `Rabbit.prototype` (has hide, but not run).\n",
    "\n",
    "Its prototype, that is (due to extends) `Animal.prototype`, that finally has the `run` method.\n",
    "\n",
    "As we can recall from the chapter Native prototypes, JavaScript itself uses prototypal inheritance for built-in objects. E.g. `Date.prototype.[[Prototype]]` is `Object.prototype`. That’s why dates have access to generic object methods.\n"
   ]
  },
  {
   "cell_type": "markdown",
   "metadata": {},
   "source": [
    "\n",
    "#### Any expression is allowed after extends\n",
    "\n",
    "Class syntax allows to specify not just a class, but any expression after extends.\n",
    "\n",
    "For instance, a function call that generates the parent class:"
   ]
  },
  {
   "cell_type": "code",
   "execution_count": null,
   "metadata": {},
   "outputs": [
    {
     "name": "stdout",
     "output_type": "stream",
     "text": [
      "Hello\n"
     ]
    }
   ],
   "source": [
    "function f(phrase) {\n",
    "  return class {\n",
    "    sayHi() { alert(phrase); }\n",
    "  };\n",
    "}\n",
    "\n",
    "class User extends f(\"Hello\") {}\n",
    "\n",
    "new User().sayHi();"
   ]
  },
  {
   "cell_type": "markdown",
   "metadata": {},
   "source": [
    "Usually, however, we don’t want to totally replace a parent method, but rather to build on top of it to tweak or extend its functionality. We do something in our method, but call the parent method before/after it or in the process."
   ]
  },
  {
   "cell_type": "markdown",
   "metadata": {},
   "source": [
    "Classes provide \"super\" keyword for that.\n",
    "\n",
    "- super.method(...) to call a parent method.\n",
    "- super(...) to call a parent constructor (inside our constructor only)."
   ]
  },
  {
   "cell_type": "code",
   "execution_count": null,
   "metadata": {},
   "outputs": [
    {
     "name": "stdout",
     "output_type": "stream",
     "text": [
      "Rabbit runs with speed 5.\n",
      "Rabbit stands still.\n",
      "Rabbit hides!\n"
     ]
    }
   ],
   "source": [
    "class Animal {\n",
    "    constructor(name) {\n",
    "        this.speed = 0;\n",
    "        this.name = name;\n",
    "    }\n",
    "    \n",
    "    run(speed) {\n",
    "        this.speed = speed;\n",
    "        alert(`${this.name} runs with speed ${this.speed}.`);\n",
    "    }\n",
    "    \n",
    "    stop() {\n",
    "    this.speed = 0;\n",
    "    alert(`${this.name} stands still.`);\n",
    "}\n",
    "\n",
    "}\n",
    "\n",
    "class Rabbit extends Animal {\n",
    "    hide() {\n",
    "        alert(`${this.name} hides!`);\n",
    "    }\n",
    "    \n",
    "    stop() {\n",
    "        super.stop();\n",
    "      this.hide(); //adding hide to rabbit when stopped\n",
    "\n",
    "  }\n",
    "}\n",
    "\n",
    "let rabbit = new Rabbit(\"Rabbit\");\n",
    "\n",
    "rabbit.run(5); \n",
    "rabbit.stop(); "
   ]
  },
  {
   "cell_type": "markdown",
   "metadata": {},
   "source": [
    "According to the specification, if a class extends another class and has no constructor, then the following \"empty\" constructor is generated:\n"
   ]
  },
  {
   "cell_type": "code",
   "execution_count": null,
   "metadata": {},
   "outputs": [],
   "source": [
    "\n",
    "class Rabbit extends Animal {\n",
    "  // generated for extending classes without own constructors\n",
    "  constructor(...args) {\n",
    "    super(...args);\n",
    "  }\n",
    "}\n"
   ]
  },
  {
   "cell_type": "markdown",
   "metadata": {},
   "source": [
    "As we can see, it basically calls the parent constructor passing it all the arguments. That happens if we don't write a constructor of our own."
   ]
  },
  {
   "cell_type": "markdown",
   "metadata": {},
   "source": [
    "#### Context\n",
    "\n",
    "You're looking at a piece of JavaScript that uses **arrow functions** inside a class method that calls `super`.\n",
    "\n",
    "Here’s the key idea:\n",
    "\n",
    "> **Arrow functions do not have their own `this`, `arguments`, or `super`. They inherit these from their outer (enclosing) function.**"
   ]
  },
  {
   "cell_type": "markdown",
   "metadata": {},
   "source": [
    "#### Code Example Recap"
   ]
  },
  {
   "cell_type": "code",
   "execution_count": null,
   "metadata": {},
   "outputs": [
    {
     "name": "stdout",
     "output_type": "stream",
     "text": [
      "A new rabbit stands still.\n"
     ]
    }
   ],
   "source": [
    "class Rabbit extends Animal {\n",
    "  stop() {\n",
    "    setTimeout(() => super.stop(), 1000); // call parent stop after 1sec\n",
    "  }\n",
    "}\n",
    "\n",
    "const rabbit2 = new Rabbit(\"A new rabbit\")\n",
    "rabbit2.stop()"
   ]
  },
  {
   "cell_type": "markdown",
   "metadata": {},
   "source": [
    "##### What’s happening here?\n",
    "\n",
    "1. `Rabbit` extends a class `Animal`, so it inherits methods from `Animal`.\n",
    "2. Inside the `stop()` method of `Rabbit`, we use `setTimeout` with an arrow function.\n",
    "3. That arrow function calls `super.stop()`, which refers to the `stop()` method in the parent `Animal` class.\n",
    "4. It works because arrow functions don’t have their own `super`, so they use the `super` from the surrounding method `stop()`."
   ]
  },
  {
   "cell_type": "markdown",
   "metadata": {},
   "source": [
    "#### What if we used a regular function?"
   ]
  },
  {
   "cell_type": "markdown",
   "metadata": {},
   "source": [
    "* Since `super` is only valid inside class methods (or constructors), using it in a standalone regular function (like the one passed to `setTimeout`) is **illegal**."
   ]
  },
  {
   "cell_type": "code",
   "execution_count": null,
   "metadata": {},
   "outputs": [
    {
     "ename": "SyntaxError",
     "evalue": "'super' keyword unexpected here",
     "output_type": "error",
     "traceback": [
      "Stack trace:",
      "SyntaxError: 'super' keyword unexpected here"
     ]
    }
   ],
   "source": [
    "setTimeout(function() { super.stop() }, 1000); //Error!"
   ]
  },
  {
   "cell_type": "markdown",
   "metadata": {},
   "source": [
    "This gives an error\n",
    "\n",
    "#### Why?\n",
    "\n",
    "* Regular (non-arrow) functions define their **own** context.\n",
    "* That means they don't have access to `super` from the outer `stop()` method.\n",
    "* Since `super` is only valid inside class methods (or constructors), using it in a standalone regular function (like the one passed to `setTimeout`) is **illegal**."
   ]
  },
  {
   "cell_type": "markdown",
   "metadata": {},
   "source": [
    "#### Summary\n",
    "\n",
    "* Arrow function inside class method → can access `super` from that method.\n",
    "* Regular function → creates a new context → `super` is not valid there.\n",
    "\n",
    "**So in short: use arrow functions when you need to preserve the `super`, `this`, or `arguments` context from the enclosing scope.**"
   ]
  },
  {
   "cell_type": "code",
   "execution_count": null,
   "metadata": {},
   "outputs": [
    {
     "name": "stdout",
     "output_type": "stream",
     "text": [
      "Big Rabbit runs with speed 5.\n",
      "Big Rabbit stands still.\n",
      "Big Rabbit hides!\n"
     ]
    }
   ],
   "source": [
    "// here we did super.normal_function, not super.<arrow_function> or else, it will cause error\n",
    "// as super is not there for arrow function\n",
    "// check next cell for example\n",
    "\n",
    "class Animal {\n",
    "  constructor(name) {\n",
    "    this.speed = 0;\n",
    "    this.name = name;\n",
    "  }\n",
    "\n",
    "  run(speed) {\n",
    "    this.speed = speed;\n",
    "    alert(`${this.name} runs with speed ${this.speed}.`);\n",
    "  }\n",
    "\n",
    "  stop() {\n",
    "    this.speed = 0;\n",
    "    alert(`${this.name} stands still.`);\n",
    "  }\n",
    "}\n",
    "\n",
    "class Rabbit extends Animal {\n",
    "    constructor(type){\n",
    "      super(\"Big Rabbit\")\n",
    "      this.type = type\n",
    "    }\n",
    "  hide() {\n",
    "    alert(`${this.name} hides!`);\n",
    "  }\n",
    "\n",
    "  stop() {\n",
    "    super.stop();\n",
    "    this.hide(); //adding hide to rabbit when stopped\n",
    "  }\n",
    "}\n",
    "\n",
    "let rabbit = new Rabbit();\n",
    "\n",
    "rabbit.run(5);\n",
    "rabbit.stop();"
   ]
  },
  {
   "cell_type": "code",
   "execution_count": null,
   "metadata": {},
   "outputs": [
    {
     "name": "stdout",
     "output_type": "stream",
     "text": [
      "Big Rabbit runs with speed 5.\n"
     ]
    },
    {
     "ename": "TypeError",
     "evalue": "(intermediate value).stop is not a function",
     "output_type": "error",
     "traceback": [
      "Stack trace:",
      "TypeError: (intermediate value).stop is not a function",
      "    at Rabbit.stop (<anonymous>:26:11)",
      "    at <anonymous>:32:8"
     ]
    }
   ],
   "source": [
    "// NO super for arrow functions\n",
    "// super.<arrow_function> will error out\n",
    "class Animal {\n",
    "  constructor(name) {\n",
    "    this.speed = 0;\n",
    "    this.name = name;\n",
    "  }\n",
    "\n",
    "  run = (speed)=> {\n",
    "    this.speed = speed;\n",
    "    alert(`${this.name} runs with speed ${this.speed}.`);\n",
    "  }\n",
    "\n",
    "  stop =()=> {\n",
    "    this.speed = 0;\n",
    "    alert(`${this.name} stands still.`);\n",
    "  }\n",
    "}\n",
    "\n",
    "class Rabbit extends Animal {\n",
    "    constructor(type){\n",
    "      super(\"Big Rabbit\")\n",
    "      this.type = type\n",
    "    }\n",
    "  hide=()=> {\n",
    "    alert(`${this.name} hides!`);\n",
    "  }\n",
    "\n",
    "  stop =() =>{\n",
    "    super.stop();\n",
    "    this.hide(); //adding hide to rabbit when stopped\n",
    "  }\n",
    "}\n",
    "\n",
    "let rabbit = new Rabbit();\n",
    "\n",
    "rabbit.run(5);\n",
    "rabbit.stop();"
   ]
  },
  {
   "cell_type": "markdown",
   "metadata": {},
   "source": [
    "- **Constructors in inheriting classes must call super(...), and (!) do it before using this.**"
   ]
  },
  {
   "cell_type": "code",
   "execution_count": null,
   "metadata": {},
   "outputs": [
    {
     "name": "stdout",
     "output_type": "stream",
     "text": [
      "This is C2\n"
     ]
    },
    {
     "ename": "ReferenceError",
     "evalue": "Must call super constructor in derived class before accessing 'this' or returning from derived constructor",
     "output_type": "error",
     "traceback": [
      "Stack trace:",
      "ReferenceError: Must call super constructor in derived class before accessing 'this' or returning from derived constructor",
      "    at new C2 (<anonymous>:9:13)",
      "    at <anonymous>:12:13"
     ]
    }
   ],
   "source": [
    "// This will error out, becuase super constructor in derived class before accessing 'this' or returning from derived constructor\n",
    "class C1 {\n",
    "  constructor() {\n",
    "    console.log(\"This is C1\");\n",
    "  }\n",
    "}\n",
    "class C2 extends C1 {\n",
    "  constructor() {\n",
    "    console.log(\"This is C2\");\n",
    "  }\n",
    "}\n",
    "\n",
    "const obj = new C2();\n"
   ]
  },
  {
   "cell_type": "code",
   "execution_count": null,
   "metadata": {},
   "outputs": [
    {
     "name": "stdout",
     "output_type": "stream",
     "text": [
      "animal\n",
      "animal\n"
     ]
    },
    {
     "data": {
      "text/plain": [
       "Rabbit { name: \u001b[32m\"rabbit\"\u001b[39m }"
      ]
     },
     "execution_count": 11,
     "metadata": {},
     "output_type": "execute_result"
    }
   ],
   "source": [
    "class Animal {\n",
    "  name = \"animal\";\n",
    "\n",
    "  constructor() {\n",
    "    alert(this.name); // (*)\n",
    "  }\n",
    "}\n",
    "\n",
    "class Rabbit extends Animal {\n",
    "  name = \"rabbit\";\n",
    "}\n",
    "\n",
    "new Animal(); // animal\n",
    "new Rabbit(); // animal"
   ]
  },
  {
   "cell_type": "markdown",
   "metadata": {},
   "source": [
    "TL;DR: \n",
    "#### The parent constructor always uses its own field value, not the overridden one.\n",
    "\n",
    "Clear explanation:\n",
    "\n",
    "Beacuse of\n",
    "lets say\n",
    "- Parent : Animal\n",
    "- Child : Rabbit\n",
    "#### JavaScript Object Construction (Static Field Init)\n",
    "(method resolution is dynamic, though)\n",
    "1. `new Child()` is called\n",
    "\n",
    "2. JS allocates `this` and enters `Child.constructor()`\n",
    "\n",
    "3. `super()` is called → invokes `Parent.constructor()`\n",
    "\n",
    "4. In `Parent.constructor()`, `this.name` is `'parent'` (only base fields are initialized)\n",
    "\n",
    "5. After `super()` finishes, JS sets `this.name = 'child'`\n",
    "\n",
    "**JS delays subclass field initialization until _after_ `super()`, so base constructor sees base field.**"
   ]
  },
  {
   "cell_type": "code",
   "execution_count": null,
   "metadata": {},
   "outputs": [
    {
     "name": "stdout",
     "output_type": "stream",
     "text": [
      "animal\n",
      "rabbit\n"
     ]
    },
    {
     "data": {
      "text/plain": [
       "Rabbit {}"
      ]
     },
     "execution_count": 12,
     "metadata": {},
     "output_type": "execute_result"
    }
   ],
   "source": [
    "class Animal {\n",
    "  showName() {  // instead of this.name = 'animal'\n",
    "    alert('animal');\n",
    "  }\n",
    "\n",
    "  constructor() {\n",
    "    this.showName(); // instead of alert(this.name);\n",
    "  }\n",
    "}\n",
    "\n",
    "class Rabbit extends Animal {\n",
    "  showName() {\n",
    "    alert('rabbit');\n",
    "  }\n",
    "}\n",
    "\n",
    "new Animal(); // animal\n",
    "new Rabbit(); // rabbit"
   ]
  },
  {
   "cell_type": "markdown",
   "metadata": {},
   "source": [
    "<div style=\"background-color: #232529; color: #d4d4d4; font-family: Consolas, 'Courier New', monospace; padding: 20px; border-radius: 8px; line-height: 1.6;\">\n",
    "  <p style=\"color: #d4d4d4;\"><strong>Please note: now the output is different.</strong></p>\n",
    "\n",
    "  <p>And that’s what we naturally expect. When the parent constructor is called in the derived class, it uses the overridden method.</p>\n",
    "\n",
    "  <p>...But for class fields it’s not so. As said, the parent constructor always uses the parent field.</p>\n",
    "\n",
    "  <p><strong>Why is there a difference?</strong></p>\n",
    "\n",
    "  <p>Well, the reason is the field initialization order. The class field is initialized:</p>\n",
    "  <ul>\n",
    "    <li>Before constructor for the base class (that doesn’t extend anything),</li>\n",
    "    <li>Immediately after <code style=\"background-color:#1e1e1e; color:#9cdcfe;\">super()</code> for the derived class.</li>\n",
    "  </ul>\n",
    "\n",
    "  <p>In our case, <code style=\"background-color:#1e1e1e; color:#9cdcfe;\">Rabbit</code> is the derived class. There’s no <code style=\"background-color:#1e1e1e; color:#dcdcaa;\">constructor()</code> in it. As said previously, that’s the same as if there was an empty constructor with only <code style=\"background-color:#1e1e1e; color:#9cdcfe;\">super(...args)</code>.</p>\n",
    "\n",
    "  <p>So, <code style=\"background-color:#1e1e1e; color:#dcdcaa;\">new Rabbit()</code> calls <code style=\"background-color:#1e1e1e; color:#9cdcfe;\">super()</code>, thus executing the parent constructor, and (per the rule for derived classes) only after that its class fields are initialized. At the time of the parent constructor execution, there are no <code style=\"background-color:#1e1e1e; color:#9cdcfe;\">Rabbit</code> class fields yet, that’s why <code style=\"background-color:#1e1e1e; color:#9cdcfe;\">Animal</code> fields are used.</p>\n",
    "\n",
    "  <p>This subtle difference between fields and methods is specific to JavaScript.</p>\n",
    "\n",
    "  <p>Luckily, this behavior only reveals itself if an overridden field is used in the parent constructor. Then it may be difficult to understand what’s going on, so we’re explaining it here.</p>\n",
    "\n",
    "  <p>If it becomes a problem, one can fix it by using methods or getters/setters instead of fields.</p>\n",
    "</div>\n"
   ]
  },
  {
   "cell_type": "markdown",
   "metadata": {},
   "source": [
    "#### Using getters to fix this"
   ]
  },
  {
   "cell_type": "code",
   "execution_count": null,
   "metadata": {},
   "outputs": [
    {
     "name": "stdout",
     "output_type": "stream",
     "text": [
      "Rabbit\n"
     ]
    },
    {
     "data": {
      "text/plain": [
       "Rabbit {}"
      ]
     },
     "execution_count": 16,
     "metadata": {},
     "output_type": "execute_result"
    }
   ],
   "source": [
    "class Animal {\n",
    "  constructor() {\n",
    "    console.log(this.name); // Will call the getter dynamically\n",
    "  }\n",
    "\n",
    "  get name() {\n",
    "    return \"Animal\";\n",
    "  }\n",
    "}\n",
    "\n",
    "class Rabbit extends Animal {\n",
    "  get name() {\n",
    "    return \"Rabbit\"; // Overrides the getter\n",
    "  }\n",
    "}\n",
    "\n",
    "new Rabbit(); // Outputs: \"Rabbit\"\n"
   ]
  },
  {
   "cell_type": "markdown",
   "metadata": {},
   "source": [
    "How this works\n",
    "- Getters are methods, not fields.\n",
    "- Method resolution in JavaScript is dynamic — even in constructors. \n",
    "- When the parent constructor accesses this.name, it calls the overridden getter in the child class."
   ]
  },
  {
   "cell_type": "code",
   "execution_count": null,
   "metadata": {},
   "outputs": [
    {
     "name": "stdout",
     "output_type": "stream",
     "text": [
      "White Rabbit\n"
     ]
    }
   ],
   "source": [
    "class Animal {\n",
    "\n",
    "  constructor(name) {\n",
    "    this.name = name;\n",
    "  }\n",
    "\n",
    "}\n",
    "\n",
    "class Rabbit extends Animal {\n",
    "  constructor(name) {\n",
    "    super(name)\n",
    "    this.created = Date.now();\n",
    "  }\n",
    "}\n",
    "\n",
    "let rabbit = new Rabbit(\"White Rabbit\"); // Error: this is not defined\n",
    "alert(rabbit.name);"
   ]
  },
  {
   "cell_type": "code",
   "execution_count": null,
   "metadata": {},
   "outputs": [
    {
     "name": "stdout",
     "output_type": "stream",
     "text": [
      "13:51:15\n"
     ]
    },
    {
     "data": {
      "text/plain": [
       "\u001b[33m6\u001b[39m"
      ]
     },
     "execution_count": 3,
     "metadata": {},
     "output_type": "execute_result"
    },
    {
     "name": "stdout",
     "output_type": "stream",
     "text": [
      "13:51:16\n",
      "13:51:16\n",
      "13:51:17\n"
     ]
    }
   ],
   "source": [
    "class Clock {\n",
    "  constructor({ template }) {\n",
    "    this.template = template;\n",
    "  }\n",
    "\n",
    "  render() {\n",
    "    let date = new Date();\n",
    "\n",
    "    let hours = date.getHours();\n",
    "    if (hours < 10) hours = \"0\" + hours;\n",
    "\n",
    "    let mins = date.getMinutes();\n",
    "    if (mins < 10) mins = \"0\" + mins;\n",
    "\n",
    "    let secs = date.getSeconds();\n",
    "    if (secs < 10) secs = \"0\" + secs;\n",
    "\n",
    "    let output = this.template\n",
    "      .replace(\"h\", hours)\n",
    "      .replace(\"m\", mins)\n",
    "      .replace(\"s\", secs);\n",
    "\n",
    "    console.log(output);\n",
    "  }\n",
    "\n",
    "  stop() {\n",
    "    clearInterval(this.timer);\n",
    "  }\n",
    "\n",
    "  start() {\n",
    "    this.render();\n",
    "    this.timer = setInterval(() => this.render(), 1000);\n",
    "  }\n",
    "}\n",
    "\n",
    "class ExtendedClock extends Clock {\n",
    "  constructor(options) {\n",
    "    super(options);\n",
    "    const { precision = 1000 } = options;\n",
    "    this.precision = precision;\n",
    "  }\n",
    "\n",
    "  start() {\n",
    "    this.render();\n",
    "    this.timer = setInterval(() => this.render(), this.precision);\n",
    "  }\n",
    "}\n",
    "\n",
    "const ec = new ExtendedClock({ template: \"h:m:s\", precision: 500 });\n",
    "ec.start();\n",
    "setTimeout(() => {\n",
    "    ec.stop()\n",
    "}, 2000);"
   ]
  },
  {
   "cell_type": "code",
   "execution_count": null,
   "metadata": {},
   "outputs": [
    {
     "name": "stdout",
     "output_type": "stream",
     "text": [
      "true\n"
     ]
    }
   ],
   "source": [
    "class User {\n",
    "  static staticMethod() {\n",
    "    console.log(this === User);\n",
    "  }\n",
    "}\n",
    "\n",
    "User.staticMethod();"
   ]
  },
  {
   "cell_type": "markdown",
   "metadata": {},
   "source": [
    "That actually does the same as assigning it as a property directly:\n",
    "\n"
   ]
  },
  {
   "cell_type": "code",
   "execution_count": null,
   "metadata": {},
   "outputs": [
    {
     "name": "stdout",
     "output_type": "stream",
     "text": [
      "true\n"
     ]
    }
   ],
   "source": [
    "class User {}\n",
    "\n",
    "User.staticMethod = function () {\n",
    "  console.log(this === User);\n",
    "};\n",
    "\n",
    "User.staticMethod();\n"
   ]
  },
  {
   "cell_type": "markdown",
   "metadata": {},
   "source": [
    "The value of this in `User.staticMethod()` call is the class constructor `User` itself (the \"object before dot\" rule)."
   ]
  },
  {
   "cell_type": "code",
   "execution_count": null,
   "metadata": {},
   "outputs": [
    {
     "name": "stdout",
     "output_type": "stream",
     "text": [
      "[\n",
      "  Article { title: \"CSS\", date: 2018-12-31T18:30:00.000Z },\n",
      "  Article { title: \"HTML\", date: 2019-01-31T18:30:00.000Z },\n",
      "  Article { title: \"JavaScript\", date: 2019-11-30T18:30:00.000Z }\n",
      "] ,\n",
      "Article { title: \"CSS\", date: 2018-12-31T18:30:00.000Z }\n",
      "CSS\n",
      "undefined\n"
     ]
    },
    {
     "ename": "TypeError",
     "evalue": "article.compare is not a function",
     "output_type": "error",
     "traceback": [
      "Stack trace:",
      "TypeError: article.compare is not a function",
      "    at <anonymous>:25:21"
     ]
    }
   ],
   "source": [
    "class Article {\n",
    "  static articleList = [];\n",
    "  constructor(title, date) {\n",
    "    this.title = title;\n",
    "    this.date = date;\n",
    "    Article.articleList.push(this);\n",
    "  }\n",
    "\n",
    "  static compare(articleA, articleB) {\n",
    "    return articleA.date - articleB.date;\n",
    "  }\n",
    "}\n",
    "\n",
    "// usage\n",
    "new Article(\"HTML\", new Date(2019, 1, 1));\n",
    "new Article(\"CSS\", new Date(2019, 0, 1));\n",
    "new Article(\"JavaScript\", new Date(2019, 11, 1));\n",
    "\n",
    "Article.articleList.sort(Article.compare);\n",
    "console.log(Article.articleList, \",\");\n",
    "console.log(Article.articleList[0]);\n",
    "console.log(Article.articleList[0].title);\n",
    "\n",
    "\n",
    "// Static methods and properties aren't available for individual objects\n",
    "// Static methods and properties are callable on classes, not on individual objects.\n",
    "const article = new Article()\n",
    "console.log(article.articleList) //undefined\n",
    "console.log(article.compare())  // Not a function"
   ]
  },
  {
   "cell_type": "code",
   "execution_count": null,
   "metadata": {},
   "outputs": [
    {
     "name": "stdout",
     "output_type": "stream",
     "text": [
      "Black Rabbit runs with speed 0.\n",
      "Earth\n"
     ]
    }
   ],
   "source": [
    "class Animal {\n",
    "  static planet = \"Earth\";\n",
    "\n",
    "  constructor(name, speed) {\n",
    "    this.speed = speed;\n",
    "    this.name = name;\n",
    "  }\n",
    "\n",
    "  run(speed = 0) {\n",
    "    this.speed = speed;\n",
    "    alert(`${this.name} runs with speed ${this.speed}.`);\n",
    "  }\n",
    "\n",
    "  static compare(animalA, animalB) {\n",
    "    return animalA.speed - animalB.speed;\n",
    "  }\n",
    "\n",
    "}\n",
    "\n",
    "// Inherit from Animal\n",
    "class Rabbit extends Animal {\n",
    "  hide() {\n",
    "    alert(`${this.name} hides!`);\n",
    "  }\n",
    "}\n",
    "\n",
    "let rabbits = [\n",
    "  new Rabbit(\"White Rabbit\", 10),\n",
    "  new Rabbit(\"Black Rabbit\", 5)\n",
    "];\n",
    "\n",
    "rabbits.sort(Rabbit.compare);\n",
    "\n",
    "rabbits[0].run(); // Black Rabbit runs with speed 5.\n",
    "\n",
    "alert(Rabbit.planet); // Earth"
   ]
  },
  {
   "cell_type": "markdown",
   "metadata": {},
   "source": [
    "The \"extends\" syntax sets up two prototypes:\n",
    "\n",
    "1. Between \"prototype\" of the constructor functions (for methods).\n",
    "2. Between the constructor functions themselves (for static methods)."
   ]
  },
  {
   "cell_type": "markdown",
   "metadata": {},
   "source": [
    "\"`__proto__` is the internal pointer to the object from which another object inherits.\"\n"
   ]
  },
  {
   "cell_type": "code",
   "execution_count": null,
   "metadata": {},
   "outputs": [
    {
     "name": "stdout",
     "output_type": "stream",
     "text": [
      "false\n"
     ]
    }
   ],
   "source": [
    "function Animal() {}\n",
    "const a = new Animal();\n",
    "// it is true, but __proto__ is not available in Deno,  so it says false here\n",
    "console.log(a.__proto__ === Animal.prototype); // true"
   ]
  },
  {
   "cell_type": "markdown",
   "metadata": {},
   "source": [
    "`prototype` is a property on **constructor functions** (like classes or function constructors) that defines the shared methods and properties for all instances created by that constructor."
   ]
  },
  {
   "cell_type": "code",
   "execution_count": null,
   "metadata": {},
   "outputs": [
    {
     "name": "stdout",
     "output_type": "stream",
     "text": [
      "Animal speaks\n"
     ]
    }
   ],
   "source": [
    "function Animal() {}\n",
    "Animal.prototype.speak = function () {\n",
    "  console.log(\"Animal speaks\");\n",
    "};\n",
    "\n",
    "const a = new Animal();\n",
    "a.speak(); // \"Animal speaks\"\n"
   ]
  },
  {
   "cell_type": "code",
   "execution_count": null,
   "metadata": {},
   "outputs": [
    {
     "data": {
      "text/plain": [
       "\u001b[33mfalse\u001b[39m"
      ]
     },
     "execution_count": 5,
     "metadata": {},
     "output_type": "execute_result"
    }
   ],
   "source": [
    "// __proto__ is not available in Deno, so false but its true\n",
    "a.__proto__ === Animal.prototype // true"
   ]
  },
  {
   "cell_type": "markdown",
   "metadata": {},
   "source": [
    "- `prototype` is set on the constructor\n",
    "\n",
    "- `__proto__` is found on the instance\n",
    "\n",
    "- This is what enables inheritance and method sharing in JavaScript"
   ]
  },
  {
   "cell_type": "markdown",
   "metadata": {},
   "source": [
    "| Property    | Found On          | Points To                    | Used For                         |\n",
    "| ----------- | ----------------- | ---------------------------- | -------------------------------- |\n",
    "| `prototype` | Constructor       | Object with shared methods   | Used when creating new instances |\n",
    "| `__proto__` | Instance (object) | Prototype of its constructor | Enables method/property lookup   |\n"
   ]
  },
  {
   "cell_type": "markdown",
   "metadata": {},
   "source": [
    "#### Protected properties are usually prefixed with an underscore _.\n",
    "\n",
    "That is not enforced on the language level, but there’s a well-known convention between programmers that such properties and methods should not be accessed from the outside.\n",
    "\n",
    "So our property will be called `_waterAmount`:"
   ]
  },
  {
   "cell_type": "code",
   "execution_count": null,
   "metadata": {},
   "outputs": [
    {
     "name": "stdout",
     "output_type": "stream",
     "text": [
      "0\n"
     ]
    }
   ],
   "source": [
    "class CoffeeMachine {\n",
    "  _waterAmount = 0;\n",
    "\n",
    "  set waterAmount(value) {\n",
    "    if (value < 0) {\n",
    "      value = 0;\n",
    "    }\n",
    "    this._waterAmount = value;\n",
    "  }\n",
    "\n",
    "  get waterAmount() {\n",
    "    return this._waterAmount;\n",
    "  }\n",
    "\n",
    "  constructor(power) {\n",
    "    this._power = power;\n",
    "  }\n",
    "}\n",
    "\n",
    "// create the coffee machine\n",
    "let coffeeMachine = new CoffeeMachine(100);\n",
    "\n",
    "// add water\n",
    "coffeeMachine.waterAmount = -10; // _waterAmount will become 0, not -10\n",
    "console.log(coffeeMachine.waterAmount)"
   ]
  },
  {
   "cell_type": "code",
   "execution_count": null,
   "metadata": {},
   "outputs": [
    {
     "name": "stdout",
     "output_type": "stream",
     "text": [
      "Power is: 100W\n"
     ]
    },
    {
     "ename": "TypeError",
     "evalue": "Cannot set property power of #<CoffeeMachine> which has only a getter",
     "output_type": "error",
     "traceback": [
      "Stack trace:",
      "TypeError: Cannot set property power of #<CoffeeMachine> which has only a getter",
      "    at <anonymous>:12:21"
     ]
    }
   ],
   "source": [
    "// Read only\n",
    "class CoffeeMachine {\n",
    "\n",
    "  constructor(power) {\n",
    "    this._power = power;\n",
    "  }\n",
    "\n",
    "  get power() {\n",
    "    return this._power;\n",
    "  }\n",
    "\n",
    "}\n",
    "\n",
    "// create the coffee machine\n",
    "let coffeeMachine = new CoffeeMachine(100);\n",
    "\n",
    "console.log(`Power is: ${coffeeMachine.power}W`); // Power is: 100W\n",
    "\n",
    "coffeeMachine.power = 25; // Error (no setter)"
   ]
  },
  {
   "cell_type": "code",
   "execution_count": null,
   "metadata": {},
   "outputs": [
    {
     "name": "stdout",
     "output_type": "stream",
     "text": [
      "10\n"
     ]
    }
   ],
   "source": [
    "class CoffeeMachine{\n",
    "    get waterAmount(){\n",
    "        return this._waterAmount\n",
    "    }\n",
    "    set waterAmount(value){\n",
    "        if (value<0) {\n",
    "            value = 0;\n",
    "        }\n",
    "        this._waterAmount = value;\n",
    "    }\n",
    "}\n",
    "class MegaCoffeeMachine extends CoffeeMachine{\n",
    "\n",
    "}\n",
    "\n",
    "const mcm = new MegaCoffeeMachine()\n",
    "mcm._waterAmount = 10 // still accessible\n",
    "console.log(mcm._waterAmount)"
   ]
  },
  {
   "cell_type": "markdown",
   "metadata": {},
   "source": [
    "#### Private variables\n",
    "Privates should start with `#`. They are only accessible from inside the class.\n",
    "\n",
    "On the language level, `#` is a special sign that the field is private. We can’t access it from outside or from inheriting classes.\n",
    "\n",
    "Private fields do not conflict with public ones. We can have both private `#waterAmount` and public `waterAmount` fields at the same time.\n",
    "\n",
    "For instance, let’s make `waterAmount` an accessor for `#waterAmount`:"
   ]
  },
  {
   "cell_type": "markdown",
   "metadata": {},
   "source": [
    "[File here](privateVariablesDemo.js)\n",
    "\n",
    "(Private variables not working properly, works sometimes, as of now in deno jupyter kernel, so another file)"
   ]
  },
  {
   "cell_type": "markdown",
   "metadata": {},
   "source": [
    "Unlike protected ones, private fields are enforced by the language itself. That’s a good thing.\n",
    "\n",
    "But if we inherit from `CoffeeMachine`, then we’ll have no direct access to `#waterAmount`. We’ll need to rely on `waterAmount` getter/setter:"
   ]
  },
  {
   "cell_type": "code",
   "execution_count": 4,
   "metadata": {},
   "outputs": [
    {
     "ename": "SyntaxError",
     "evalue": "Private field '#waterAmount' must be declared in an enclosing class",
     "output_type": "error",
     "traceback": [
      "Stack trace:",
      "SyntaxError: Private field '#waterAmount' must be declared in an enclosing class"
     ]
    }
   ],
   "source": [
    "class MegaCoffeeMachine extends CoffeeMachine {\n",
    "  method() {\n",
    "    console.log( this.#waterAmount ); // Error: can only access from CoffeeMachine\n",
    "  }\n",
    "}"
   ]
  },
  {
   "cell_type": "markdown",
   "metadata": {},
   "source": [
    "Private fields are not available as `this[name]`\n",
    "\n",
    "Private fields are special."
   ]
  },
  {
   "cell_type": "code",
   "execution_count": 4,
   "metadata": {},
   "outputs": [],
   "source": [
    "class User {\n",
    "  sayHi() {\n",
    "    let fieldName = \"name\";\n",
    "    alert(`Hello, ${this[fieldName]}`); // this[#name] won't work\n",
    "  }\n",
    "}"
   ]
  },
  {
   "cell_type": "markdown",
   "metadata": {},
   "source": [
    "With private fields that’s impossible: this['#name'] doesn’t work. That’s a syntax limitation to ensure privacy."
   ]
  },
  {
   "cell_type": "code",
   "execution_count": 7,
   "metadata": {},
   "outputs": [
    {
     "name": "stdout",
     "output_type": "stream",
     "text": [
      "PowerArray(2) [ 10, 50 ]\n",
      "false\n"
     ]
    }
   ],
   "source": [
    "class PowerArray extends Array {\n",
    "  isEmpty() {\n",
    "    return this.length === 0;\n",
    "  }\n",
    "}\n",
    "\n",
    "let arr = new PowerArray(1, 2, 5, 10, 50);\n",
    "alert(arr.isEmpty()); \n",
    "\n",
    "let filteredArr = arr.filter(item => item >= 10);\n",
    "console.log(filteredArr); \n",
    "console.log(filteredArr.isEmpty());"
   ]
  },
  {
   "cell_type": "code",
   "execution_count": 8,
   "metadata": {},
   "outputs": [
    {
     "data": {
      "text/plain": [
       "\u001b[33mtrue\u001b[39m"
      ]
     },
     "execution_count": 8,
     "metadata": {},
     "output_type": "execute_result"
    }
   ],
   "source": [
    "arr.constructor === PowerArray"
   ]
  },
  {
   "cell_type": "markdown",
   "metadata": {},
   "source": [
    "#### 📌 Understanding Symbol.species in JavaScript\n",
    "\n",
    "In JavaScript, when you extend built-in classes like Array, Map, Set, etc., you inherit all their behavior—including how methods like .filter(), .map(), and .slice() generate new instances. By default, these methods return instances of your custom subclass, not the base built-in type."
   ]
  },
  {
   "cell_type": "markdown",
   "metadata": {},
   "source": [
    "---"
   ]
  },
  {
   "cell_type": "markdown",
   "metadata": {},
   "source": [
    "#### 🔎 Why is this important?\n",
    "\n",
    "Imagine you make a custom subclass like PowerArray with special methods, and then you use .filter():"
   ]
  },
  {
   "cell_type": "code",
   "execution_count": null,
   "metadata": {},
   "outputs": [
    {
     "name": "stdout",
     "output_type": "stream",
     "text": [
      "true\n",
      "false\n"
     ]
    }
   ],
   "source": [
    "class PowerArray extends Array {\n",
    "  isEmpty() {\n",
    "    return this.length === 0;\n",
    "  }\n",
    "}\n",
    "\n",
    "let arr = new PowerArray(1, 2, 3);\n",
    "let filtered = arr.filter(x => x > 1);\n",
    "console.log(filtered instanceof PowerArray); // true\n",
    "console.log(filtered.isEmpty()); // false"
   ]
  },
  {
   "cell_type": "markdown",
   "metadata": {},
   "source": [
    "⚠️ The filtered result is still a PowerArray. That means it keeps custom methods like .isEmpty()."
   ]
  },
  {
   "cell_type": "markdown",
   "metadata": {},
   "source": [
    "---"
   ]
  },
  {
   "cell_type": "markdown",
   "metadata": {},
   "source": [
    "#### 🧩 Enter Symbol.species\n",
    "\n",
    "Symbol.species is a well-known symbol that JavaScript uses to determine what constructor should be used when creating derived instances from methods like .map(), .filter(), etc.\n",
    "\n",
    "You can customize it like this:"
   ]
  },
  {
   "cell_type": "code",
   "execution_count": 3,
   "metadata": {},
   "outputs": [
    {
     "data": {
      "text/plain": [
       "\u001b[32mSymbol(Symbol.species)\u001b[39m"
      ]
     },
     "execution_count": 3,
     "metadata": {},
     "output_type": "execute_result"
    }
   ],
   "source": [
    "class PowerArray extends Array {\n",
    "  isEmpty() {\n",
    "    return this.length === 0;\n",
    "  }\n",
    "\n",
    "  static get [Symbol.species]() {\n",
    "    return Array; // override to use base Array\n",
    "  }\n",
    "}\n"
   ]
  },
  {
   "cell_type": "code",
   "execution_count": 4,
   "metadata": {},
   "outputs": [
    {
     "name": "stdout",
     "output_type": "stream",
     "text": [
      "false\n",
      "true\n",
      "undefined\n"
     ]
    }
   ],
   "source": [
    "let arr = new PowerArray(1, 2, 3);\n",
    "let filtered = arr.filter(x => x > 1);\n",
    "console.log(filtered instanceof PowerArray); // false\n",
    "console.log(filtered instanceof Array);      // true\n",
    "console.log(filtered.isEmpty);               // undefined\n"
   ]
  },
  {
   "cell_type": "markdown",
   "metadata": {},
   "source": [
    "---"
   ]
  },
  {
   "cell_type": "markdown",
   "metadata": {},
   "source": [
    "#### 🛠️ Use Cases\n",
    "\n",
    "| Use Case                      | Description                                                                                                                                                                                               |\n",
    "| ----------------------------- | --------------------------------------------------------------------------------------------------------------------------------------------------------------------------------------------------------- |\n",
    "| Keep subclass behavior    | Default behavior: new objects from methods like .map() still use the subclass, useful if you're building extended data structures (e.g., a PowerArray that tracks history or supports extra methods). |\n",
    "| Return base class instead | Use Symbol.species to avoid leaking custom behavior where it’s not needed, ensuring derived results are \"normal\" built-ins.                                                                             |\n",
    "| Library design            | Helps create more predictable APIs. E.g., when building a library like Immutable.js or a custom ORM, Symbol.species allows precise control over what’s returned by chaining methods.                    |\n",
    "| Security or purity        | You might want to avoid accidental access to custom methods in places where standard behavior is expected (e.g., utilities expecting clean arrays).                                                       |"
   ]
  },
  {
   "cell_type": "markdown",
   "metadata": {},
   "source": [
    "---"
   ]
  },
  {
   "cell_type": "markdown",
   "metadata": {},
   "source": [
    "#### 🧠 Summary\n",
    "\n",
    "* Symbol.species is a static getter that lets you define what constructor is used for derived instances in subclassed built-in types.\n",
    "* Default: uses this.constructor\n",
    "* With Symbol.species: `you can force it to use something else like Array, ensuring derived instances don't carry over custom behavior.`"
   ]
  },
  {
   "cell_type": "markdown",
   "metadata": {},
   "source": [
    "Other collections, such as Map and Set, work alike. They also use Symbol.species."
   ]
  },
  {
   "cell_type": "markdown",
   "metadata": {},
   "source": [
    "#### No static inheritance in built-ins\n",
    "Built-in objects have their own static methods, for instance Object.keys, Array.isArray etc.\n",
    "\n",
    "But built-in classes are an exception. They don’t inherit statics from each other."
   ]
  },
  {
   "cell_type": "markdown",
   "metadata": {},
   "source": [
    "#### The instanceof operator\n",
    "The syntax is:\n",
    "\n",
    "```js\n",
    "obj instanceof Class\n",
    "```\n",
    "\n",
    "It returns true if obj belongs to the Class or a class inheriting from it."
   ]
  },
  {
   "cell_type": "code",
   "execution_count": 6,
   "metadata": {},
   "outputs": [
    {
     "name": "stdout",
     "output_type": "stream",
     "text": [
      "true\n"
     ]
    }
   ],
   "source": [
    "class Rabbit {}\n",
    "let rabbit = new Rabbit();\n",
    "\n",
    "// is it an object of Rabbit class?\n",
    "console.log( rabbit instanceof Rabbit ); // true"
   ]
  },
  {
   "cell_type": "markdown",
   "metadata": {},
   "source": [
    "It also works with constructor functions:"
   ]
  },
  {
   "cell_type": "code",
   "execution_count": 8,
   "metadata": {},
   "outputs": [
    {
     "name": "stdout",
     "output_type": "stream",
     "text": [
      "true\n"
     ]
    }
   ],
   "source": [
    "// instead of class\n",
    "function Rabbit2() {}\n",
    "\n",
    "alert( new Rabbit2() instanceof Rabbit2 ); // true"
   ]
  },
  {
   "cell_type": "code",
   "execution_count": 10,
   "metadata": {},
   "outputs": [
    {
     "name": "stdout",
     "output_type": "stream",
     "text": [
      "true\n",
      "true\n"
     ]
    }
   ],
   "source": [
    "let arr = [1, 2, 3];\n",
    "console.log( arr instanceof Array ); // true\n",
    "console.log( arr instanceof Object ); // true"
   ]
  },
  {
   "cell_type": "code",
   "execution_count": 11,
   "metadata": {},
   "outputs": [
    {
     "name": "stdout",
     "output_type": "stream",
     "text": [
      "true\n"
     ]
    }
   ],
   "source": [
    "console.log(Array instanceof Object)"
   ]
  },
  {
   "cell_type": "markdown",
   "metadata": {},
   "source": [
    "#### Mixins\n",
    "\n",
    "Mixin – is a generic object-oriented programming term: a class that contains methods for other classes.\n",
    "\n",
    "Some other languages allow multiple inheritance. JavaScript does not support multiple inheritance, but mixins can be implemented by copying methods into prototype.\n",
    "\n",
    "We can use mixins as a way to augment a class by adding multiple behaviors, like event-handling as we have seen above.\n",
    "\n",
    "Mixins may become a point of conflict if they accidentally overwrite existing class methods. So generally one should think well about the naming methods of a mixin, to minimize the probability of that happening.\n",
    "\n"
   ]
  },
  {
   "cell_type": "code",
   "execution_count": 16,
   "metadata": {},
   "outputs": [
    {
     "name": "stdout",
     "output_type": "stream",
     "text": [
      "Alice is eating.\n",
      "Alice is walking.\n"
     ]
    }
   ],
   "source": [
    "// Define a mixin with shared functionality\n",
    "const CanEat = {\n",
    "  eat() {\n",
    "    console.log(`${this.name} is eating.`);\n",
    "  }\n",
    "};\n",
    "\n",
    "const CanWalk = {\n",
    "  walk() {\n",
    "    console.log(`${this.name} is walking.`);\n",
    "  }\n",
    "};\n",
    "\n",
    "// Create a class\n",
    "class Person {\n",
    "  constructor(name) {\n",
    "    this.name = name;\n",
    "  }\n",
    "}\n",
    "\n",
    "// Apply the mixins to the class\n",
    "Object.assign(Person.prototype, CanEat, CanWalk); //use object assign to merge object's(want to combine) properties into class's prototype\n",
    "\n",
    "// Use the mixed class\n",
    "const person = new Person(\"Alice\");\n",
    "person.eat();  // Alice is eating.\n",
    "person.walk(); // Alice is walking."
   ]
  },
  {
   "cell_type": "code",
   "execution_count": 17,
   "metadata": {},
   "outputs": [
    {
     "name": "stdout",
     "output_type": "stream",
     "text": [
      "Sparrow is flying.\n"
     ]
    }
   ],
   "source": [
    "function canFly(obj) {\n",
    "  obj.fly = function () {\n",
    "    console.log(`${this.name} is flying.`);\n",
    "  };\n",
    "}\n",
    "\n",
    "const bird = { name: \"Sparrow\" };\n",
    "canFly(bird);\n",
    "bird.fly(); // Sparrow is flying.\n"
   ]
  },
  {
   "cell_type": "markdown",
   "metadata": {},
   "source": [
    "JavaScript classes don't support multiple inheritance directly, but you can simulate mixins using functions that take a class and return a new one with added behavior.\n",
    "\n"
   ]
  },
  {
   "cell_type": "code",
   "execution_count": 20,
   "metadata": {},
   "outputs": [
    {
     "name": "stdout",
     "output_type": "stream",
     "text": [
      "Freddy is jumping!\n",
      "Freddy is swimming!\n"
     ]
    }
   ],
   "source": [
    "// Mixin function\n",
    "const canJump = (Base) =>\n",
    "  class extends Base {  //You're not required to name a class if it's used as a value (expression), such as in a return or assignment — and that's exactly what we do in the mixin pattern but otherwise\n",
    "    /**class extends Animal {  // ❌ SyntaxError: Unexpected token 'extends'\n",
    "     * jump() {}\n",
    "     * }\n",
    "     */\n",
    "    jump() {\n",
    "      console.log(`${this.name} is jumping!`);\n",
    "    }\n",
    "  };\n",
    "\n",
    "const canSwim = (Base) =>\n",
    "  class extends Base {\n",
    "    swim() {\n",
    "      console.log(`${this.name} is swimming!`);\n",
    "    }\n",
    "  };\n",
    "\n",
    "// Base class\n",
    "class Animal {\n",
    "  constructor(name) {\n",
    "    this.name = name;\n",
    "  }\n",
    "}\n",
    "\n",
    "// Compose mixins\n",
    "class Frog extends canSwim(canJump(Animal)) {}\n",
    "\n",
    "const frog = new Frog(\"Freddy\");\n",
    "frog.jump(); // Freddy is jumping!\n",
    "frog.swim(); // Freddy is swimming!\n"
   ]
  },
  {
   "cell_type": "code",
   "execution_count": 6,
   "metadata": {},
   "outputs": [
    {
     "name": "stdout",
     "output_type": "stream",
     "text": [
      "name: ReferenceError\n",
      "message: lalala is not defined\n",
      "stack: ReferenceError: lalala is not defined\n",
      "    at <anonymous>:2:3\n",
      "In catch block err:  ReferenceError: lalala is not defined\n",
      "    at <anonymous>:2:3\n"
     ]
    }
   ],
   "source": [
    "try {\n",
    "  lalala; // error, variable is not defined!\n",
    "} catch (err) {\n",
    "  console.log(\"name:\",err.name); // ReferenceError\n",
    "  console.log(\"message:\",err.message); // lalala is not defined\n",
    "  console.log(\"stack:\",err.stack); // ReferenceError: lalala is not defined at (...call stack)\n",
    "\n",
    "  // Can also show an error as a whole\n",
    "  // The error is converted to string as \"name: message\"\n",
    "  console.log(\"In catch block err: \",err); // ReferenceError: lalala is not defined\n",
    "}"
   ]
  },
  {
   "cell_type": "markdown",
   "metadata": {},
   "source": [
    "The finally clause works for any exit from try...catch. That includes an explicit return."
   ]
  },
  {
   "cell_type": "code",
   "execution_count": 8,
   "metadata": {},
   "outputs": [
    {
     "name": "stdout",
     "output_type": "stream",
     "text": [
      "finally\n",
      "1\n"
     ]
    }
   ],
   "source": [
    "function func() {\n",
    "  try {\n",
    "    return 1;          // This will run later\n",
    "  } catch (err) {\n",
    "    /* ... */\n",
    "  } finally {\n",
    "    alert(\"finally\");  // This will run first\n",
    "  }\n",
    "}\n",
    "\n",
    "console.log(func());"
   ]
  },
  {
   "cell_type": "markdown",
   "metadata": {},
   "source": [
    "#### Global catch\n",
    "\n",
    "`Environment-specific`\n",
    "\n",
    "The information from this section is not a part of the core JavaScript.\n",
    "\n",
    "Let’s imagine we’ve got a fatal error outside of try...catch, and the script died. Like a programming error or some other terrible thing.\n",
    "\n",
    "Is there a way to react on such occurrences? We may want to log the error, show something to the user (normally they don’t see error messages), etc.\n",
    "\n",
    "There is none in the specification, but environments usually provide it, because it’s really useful. \n",
    "\n",
    "For instance, Node.js has process.on(\"uncaughtException\") for that.\n",
    "\n",
    " And in the browser we can assign a function to the special window.onerror property, that will run in case of an uncaught error."
   ]
  },
  {
   "cell_type": "markdown",
   "metadata": {},
   "source": [
    "\n",
    "> **window\\.onerror** only catches uncaught JS exceptions (not Promise rejections or resource-load failures) and can be clobbered by reassigning it.\n",
    "> **window\\.addEventListener('error')** supports multiple listeners and will fire for resource-loading errors (e.g. `<img>`/`<script>` failures), but it exposes less detail. Use `window.onerror` for JS runtime errors and `addEventListener('error')` for loading-resource errors.\n"
   ]
  },
  {
   "cell_type": "code",
   "execution_count": null,
   "metadata": {},
   "outputs": [
    {
     "data": {
      "text/plain": [
       "\u001b[36m[Function (anonymous)]\u001b[39m"
      ]
     },
     "execution_count": 5,
     "metadata": {},
     "output_type": "execute_result"
    }
   ],
   "source": [
    "globalThis.onerror = function(message, url, line, col, error) {\n",
    "  // ...\n",
    "};"
   ]
  },
  {
   "cell_type": "code",
   "execution_count": 7,
   "metadata": {},
   "outputs": [],
   "source": [
    "/* IMPORTANT:\n",
    "* Don't run this as is, it can print sensitive data like env ( Should not push this data to github)\n",
    "* process.on(\"uncaughtException\",()=>{})\n",
    "*/"
   ]
  },
  {
   "cell_type": "code",
   "execution_count": 5,
   "metadata": {},
   "outputs": [
    {
     "name": "stdout",
     "output_type": "stream",
     "text": [
      "-------- PropertyRequiredError: No property: name\n",
      "    at readUser (<anonymous>:21:11)\n",
      "    at <anonymous>:27:14 {\n",
      "  name: \"PropertyRequiredError\",\n",
      "  property: \"name\"\n",
      "} \n",
      "-------\n",
      "Invalid data: No property: name\n",
      "PropertyRequiredError\n",
      "name\n"
     ]
    }
   ],
   "source": [
    "class ValidationError extends Error {\n",
    "  constructor(message) {\n",
    "    super(message);\n",
    "    this.name = \"ValidationError\";\n",
    "  }\n",
    "}\n",
    "\n",
    "class PropertyRequiredError extends ValidationError {\n",
    "  constructor(property) {\n",
    "    super(\"No property: \" + property);\n",
    "    this.name = \"PropertyRequiredError\";\n",
    "    this.property = property;\n",
    "  }\n",
    "}\n",
    "\n",
    "// Usage\n",
    "function readUser(json) {\n",
    "  let user = JSON.parse(json);\n",
    "\n",
    "  if (!user.age) {\n",
    "    throw new PropertyRequiredError(\"age\");\n",
    "  }\n",
    "  if (!user.name) {\n",
    "    throw new PropertyRequiredError(\"name\");\n",
    "  }\n",
    "\n",
    "  return user;\n",
    "}\n",
    "\n",
    "// Working example with try..catch\n",
    "\n",
    "try {\n",
    "  let user = readUser('{ \"age\": 25 }');\n",
    "} catch (err) {\n",
    "  if (err instanceof ValidationError) {\n",
    "    console.log(\"--------\",err,\"\\n-------\")\n",
    "    console.log(\"Invalid data: \" + err.message); // Invalid data: No property: name\n",
    "    console.log(err.name); // PropertyRequiredError\n",
    "    console.log(err.property); // name\n",
    "  } else if (err instanceof SyntaxError) {\n",
    "    console.log(\"JSON Syntax Error: \" + err.message);\n",
    "  } else {\n",
    "    throw err; // unknown error, rethrow it\n",
    "  }\n",
    "}"
   ]
  },
  {
   "cell_type": "markdown",
   "metadata": {},
   "source": [
    "The new class PropertyRequiredError is easy to use: we only need to pass the property name: new PropertyRequiredError(property). The human-readable message is generated by the constructor.\n",
    "\n",
    "Please note that this.name in PropertyRequiredError constructor is again assigned manually. That may become a bit tedious – to assign this.name = `<class name>` in every custom error class. We can avoid it by making our own “basic error” class that assigns this.name = this.constructor.name. And then inherit all our custom errors from it.\n",
    "\n",
    "Let’s call it MyError.\n",
    "\n",
    "Here’s the code with MyError and other custom error classes, simplified:"
   ]
  },
  {
   "cell_type": "markdown",
   "metadata": {},
   "source": [
    "| Concept                 | Key Idea                                                   |\n",
    "| ----------------------- | ---------------------------------------------------------- |\n",
    "| `this.constructor.name` | Dynamic dispatch — based on runtime class                  |\n",
    "| `this.name = 'child'`   | Field initializers run *after* `super()`                   |\n",
    "| When in doubt...        | Field access (`this.name`) ≠ Metadata (`this.constructor`) |\n",
    "\n",
    "Metadata like this.constructor.name is dynamically dispatched and always correct. (SO => 1)\n",
    "\n",
    "Fields like this.name might still be the parent value when super() runs — because child initializers haven't run yet."
   ]
  },
  {
   "cell_type": "code",
   "execution_count": null,
   "metadata": {},
   "outputs": [
    {
     "name": "stdout",
     "output_type": "stream",
     "text": [
      "Error: No property: field\n",
      "    at <anonymous>:17:13\n",
      "PropertyRequiredError\n"
     ]
    }
   ],
   "source": [
    "class MyError extends Error {\n",
    "  constructor(message) {\n",
    "    super(message);\n",
    "    console.log(this)\n",
    "    this.name = this.constructor.name; // 1 => Name will be resolved dynamically, or child class here\n",
    "  }\n",
    "}\n",
    "\n",
    "class ValidationError extends MyError { }\n",
    "\n",
    "class PropertyRequiredError extends ValidationError {\n",
    "  constructor(property) {\n",
    "    super(\"No property: \" + property);\n",
    "    this.property = property;\n",
    "  }\n",
    "}\n",
    "\n",
    "// name is correct\n",
    "console.log( new PropertyRequiredError(\"field\").name ); // PropertyRequiredError"
   ]
  },
  {
   "cell_type": "code",
   "execution_count": 17,
   "metadata": {},
   "outputs": [
    {
     "name": "stdout",
     "output_type": "stream",
     "text": [
      "formatting error\n",
      "FormatError\n",
      "FormatError: formatting error\n",
      "    at <anonymous>:7:11\n",
      "true\n",
      "true\n"
     ]
    }
   ],
   "source": [
    "class FormatError extends SyntaxError{\n",
    "    constructor(message){\n",
    "        super(message)\n",
    "        this.name = this.constructor.name\n",
    "    }\n",
    "}\n",
    "let err = new FormatError(\"formatting error\");\n",
    "\n",
    "console.log( err.message ); // formatting error\n",
    "console.log( err.name ); // FormatError\n",
    "console.log( err.stack ); // stack\n",
    "console.log( err instanceof FormatError ); // true\n",
    "console.log( err instanceof SyntaxError ); // true (because inherits from SyntaxError)"
   ]
  },
  {
   "cell_type": "markdown",
   "metadata": {},
   "source": [
    "There can be only a single result or an error\n",
    "\n",
    "The executor should call only one resolve or one reject. Any state change is final.\n",
    "\n",
    "All further calls of resolve and reject are ignored:\n"
   ]
  },
  {
   "cell_type": "code",
   "execution_count": null,
   "metadata": {},
   "outputs": [
    {
     "name": "stdout",
     "output_type": "stream",
     "text": [
      "done\n"
     ]
    },
    {
     "data": {
      "text/plain": [
       "Promise { \u001b[90mundefined\u001b[39m }"
      ]
     },
     "execution_count": 19,
     "metadata": {},
     "output_type": "execute_result"
    }
   ],
   "source": [
    "let promise = new Promise(function (resolve, reject) {\n",
    "  resolve(\"done\");\n",
    "\n",
    "  reject(new Error(\"…\")); // ignored\n",
    "  setTimeout(() => resolve(\"…\")); // ignored\n",
    "});\n",
    "\n",
    "promise.then((res) => console.log(res)).catch((err) => console.log(err));\n"
   ]
  },
  {
   "cell_type": "markdown",
   "metadata": {},
   "source": [
    "The idea is that a job done by the executor may have only one result or an error.\n",
    "\n",
    "Also, resolve/reject expect only one argument (or none) and will ignore additional arguments."
   ]
  },
  {
   "cell_type": "markdown",
   "metadata": {},
   "source": [
    "`then` syntax:\n",
    "\n",
    "```js\n",
    "promise.then(\n",
    "  function(result) { /* handle a successful result */ },\n",
    "  function(error) { /* handle an error */ }\n",
    ");\n",
    "```"
   ]
  },
  {
   "cell_type": "code",
   "execution_count": 22,
   "metadata": {},
   "outputs": [
    {
     "data": {
      "text/plain": [
       "Promise { \u001b[36m<pending>\u001b[39m }"
      ]
     },
     "execution_count": 22,
     "metadata": {},
     "output_type": "execute_result"
    },
    {
     "name": "stdout",
     "output_type": "stream",
     "text": [
      "done!\n"
     ]
    }
   ],
   "source": [
    "let promise = new Promise(function(resolve, reject) {\n",
    "  setTimeout(() => resolve(\"done!\"), 1000);\n",
    "});\n",
    "\n",
    "// resolve runs the first function in .then\n",
    "promise.then(\n",
    "  result => console.log(result), // shows \"done!\" after 1 second\n",
    "  error => console.log(error) // doesn't run\n",
    ");"
   ]
  },
  {
   "cell_type": "code",
   "execution_count": 23,
   "metadata": {},
   "outputs": [
    {
     "data": {
      "text/plain": [
       "Promise { \u001b[36m<pending>\u001b[39m }"
      ]
     },
     "execution_count": 23,
     "metadata": {},
     "output_type": "execute_result"
    },
    {
     "name": "stdout",
     "output_type": "stream",
     "text": [
      "Error: Whoops!\n",
      "    at <anonymous>:2:25\n",
      "    at callback (ext:deno_web/02_timers.js:58:7)\n",
      "    at eventLoopTick (ext:core/01_core.js:213:13)\n"
     ]
    }
   ],
   "source": [
    "let promise = new Promise(function(resolve, reject) {\n",
    "  setTimeout(() => reject(new Error(\"Whoops!\")), 1000);\n",
    "});\n",
    "\n",
    "// reject runs the second function in .then\n",
    "promise.then(\n",
    "  result => console.log(result), // doesn't run\n",
    "  error => console.log(error) // shows \"Error: Whoops!\" after 1 second\n",
    ");"
   ]
  },
  {
   "cell_type": "markdown",
   "metadata": {},
   "source": [
    "If we're interested only in successful completions, then we can provide only one function argument to .then:"
   ]
  },
  {
   "cell_type": "code",
   "execution_count": 24,
   "metadata": {},
   "outputs": [
    {
     "data": {
      "text/plain": [
       "Promise { \u001b[36m<pending>\u001b[39m }"
      ]
     },
     "execution_count": 24,
     "metadata": {},
     "output_type": "execute_result"
    },
    {
     "name": "stdout",
     "output_type": "stream",
     "text": [
      "done!\n"
     ]
    }
   ],
   "source": [
    "let promise = new Promise(resolve => {\n",
    "  setTimeout(() => resolve(\"done!\"), 1000);\n",
    "});\n",
    "\n",
    "promise.then(console.log); // shows \"done!\" after 1 second"
   ]
  },
  {
   "cell_type": "code",
   "execution_count": 27,
   "metadata": {},
   "outputs": [
    {
     "data": {
      "text/plain": [
       "Promise { \u001b[36m<pending>\u001b[39m }"
      ]
     },
     "execution_count": 27,
     "metadata": {},
     "output_type": "execute_result"
    },
    {
     "name": "stdout",
     "output_type": "stream",
     "text": [
      "Error: Whoops!\n",
      "    at <anonymous>:2:25\n",
      "    at callback (ext:deno_web/02_timers.js:58:7)\n",
      "    at eventLoopTick (ext:core/01_core.js:213:13)\n"
     ]
    }
   ],
   "source": [
    "let promise = new Promise((resolve, reject) => {\n",
    "  setTimeout(() => reject(new Error(\"Whoops!\")), 1000);\n",
    "});\n",
    "\n",
    "// .catch(f) is the same as promise.then(null, f)\n",
    "promise.catch(console.log); // shows \"Error: Whoops!\" after 1 second\n",
    "// The call .catch(f) is a complete analog of .then(null, f), it’s just a shorthand."
   ]
  },
  {
   "cell_type": "markdown",
   "metadata": {},
   "source": [
    "#### finally\n",
    "- A finally handler doesn’t get the outcome of the previous handler (it has no arguments). This outcome is passed through instead, to the next suitable handler.\n",
    "- If a finally handler returns something, it’s ignored.\n",
    "- When finally throws an error, then the execution goes to the nearest error handler."
   ]
  },
  {
   "cell_type": "code",
   "execution_count": 34,
   "metadata": {},
   "outputs": [
    {
     "name": "stdout",
     "output_type": "stream",
     "text": [
      "Finally: *****Promise ready*****\n",
      "\n",
      "Catch:  Error: error\n",
      "    at <anonymous>:3:9\n",
      "    at new Promise (<anonymous>)\n",
      "    at <anonymous>:2:1\n"
     ]
    },
    {
     "data": {
      "text/plain": [
       "Promise { \u001b[90mundefined\u001b[39m }"
      ]
     },
     "execution_count": 34,
     "metadata": {},
     "output_type": "execute_result"
    }
   ],
   "source": [
    "//Like this\n",
    "new Promise((resolve, reject) => {\n",
    "  throw new Error(\"error\");\n",
    "})\n",
    "  .finally(() => console.log(\"Finally: *****Promise ready*****\\n\")) // triggers first\n",
    "  .catch(err => console.log(\"Catch: \",err));  // <-- .catch shows the error"
   ]
  },
  {
   "cell_type": "markdown",
   "metadata": {},
   "source": [
    "#### A classic newbie error: technically we can also add many .then to a single promise. This is not chaining."
   ]
  },
  {
   "cell_type": "code",
   "execution_count": null,
   "metadata": {},
   "outputs": [
    {
     "data": {
      "text/plain": [
       "Promise { \u001b[36m<pending>\u001b[39m }"
      ]
     },
     "execution_count": 4,
     "metadata": {},
     "output_type": "execute_result"
    },
    {
     "name": "stdout",
     "output_type": "stream",
     "text": [
      "1\n",
      "1\n",
      "1\n"
     ]
    }
   ],
   "source": [
    "let promise = new Promise(function (resolve, reject) {\n",
    "  setTimeout(() => resolve(1), 1000);\n",
    "});\n",
    "\n",
    "promise.then(function (result) {\n",
    "  alert(result); // 1\n",
    "  return result * 2;\n",
    "});\n",
    "\n",
    "promise.then(function (result) {\n",
    "  alert(result); // 1\n",
    "  return result * 2;\n",
    "});\n",
    "\n",
    "promise.then(function (result) {\n",
    "  alert(result); // 1\n",
    "  return result * 2;\n",
    "});"
   ]
  },
  {
   "cell_type": "markdown",
   "metadata": {},
   "source": [
    "What we did here is just adding several handlers to one promise. They don’t pass the result to each other; instead they process it independently.\n",
    "\n",
    "So in the code above all show the same(result) : 1"
   ]
  },
  {
   "cell_type": "code",
   "execution_count": 5,
   "metadata": {},
   "outputs": [
    {
     "data": {
      "text/plain": [
       "Promise { \u001b[36m<pending>\u001b[39m }"
      ]
     },
     "execution_count": 5,
     "metadata": {},
     "output_type": "execute_result"
    },
    {
     "name": "stdout",
     "output_type": "stream",
     "text": [
      "1\n",
      "2\n",
      "4\n"
     ]
    }
   ],
   "source": [
    "new Promise(function(resolve, reject) {\n",
    "\n",
    "  setTimeout(() => resolve(1), 1000);\n",
    "\n",
    "}).then(function(result) {\n",
    "\n",
    "  alert(result); // 1\n",
    "\n",
    "  return new Promise((resolve, reject) => { // (*)\n",
    "    setTimeout(() => resolve(result * 2), 1000);\n",
    "  });\n",
    "\n",
    "}).then(function(result) { // (**)\n",
    "\n",
    "  alert(result); // 2\n",
    "\n",
    "  return new Promise((resolve, reject) => {\n",
    "    setTimeout(() => resolve(result * 2), 1000);\n",
    "  });\n",
    "\n",
    "}).then(function(result) {\n",
    "\n",
    "  alert(result); // 4\n",
    "\n",
    "});"
   ]
  },
  {
   "cell_type": "markdown",
   "metadata": {},
   "source": [
    "#### Thenables\n",
    "To be precise, a handler may return not exactly a promise, but a so-called “thenable” object – an arbitrary object that has a method .then. It will be treated the same way as a promise."
   ]
  },
  {
   "cell_type": "code",
   "execution_count": 8,
   "metadata": {},
   "outputs": [
    {
     "name": "stdout",
     "output_type": "stream",
     "text": [
      "[Function (anonymous)]\n"
     ]
    },
    {
     "name": "stdout",
     "output_type": "stream",
     "text": [
      "4\n"
     ]
    }
   ],
   "source": [
    "class Thenable {\n",
    "  constructor(num) {\n",
    "    this.num = num;\n",
    "  }\n",
    "  then(resolve, reject) {\n",
    "    console.log(resolve); // function() { native code }\n",
    "    // resolve with this.num*2 after the 1 second\n",
    "    setTimeout(() => resolve(this.num * 2), 1000); // (**)\n",
    "  }\n",
    "}\n",
    "\n",
    "new Thenable(2).then((res) => console.log(res));"
   ]
  },
  {
   "cell_type": "markdown",
   "metadata": {},
   "source": [
    "We'll use the fetch method to load the information about the user from the remote server. "
   ]
  },
  {
   "cell_type": "code",
   "execution_count": null,
   "metadata": {},
   "outputs": [],
   "source": [
    "let promise = fetch(url);"
   ]
  },
  {
   "cell_type": "markdown",
   "metadata": {},
   "source": [
    "This makes a network request to the `url` and returns a promise. The promise resolves with a `response` object when the remote server responds with headers, but _before the full response is downloaded_"
   ]
  },
  {
   "cell_type": "code",
   "execution_count": null,
   "metadata": {},
   "outputs": [],
   "source": [
    "fetch('/article/promise-chaining/user.json')\n",
    "  .then(response => response.json())\n",
    "  .then(user => alert(user.name))"
   ]
  },
  {
   "cell_type": "markdown",
   "metadata": {},
   "source": [
    "#### Implicit try…catch\n",
    "\n",
    "The code of a promise executor and promise handlers has an “invisible try..catch” around it. If an exception happens, it gets caught and treated as a rejection.\n",
    "\n",
    "For instance, this code:"
   ]
  },
  {
   "cell_type": "code",
   "execution_count": 9,
   "metadata": {},
   "outputs": [
    {
     "name": "stdout",
     "output_type": "stream",
     "text": [
      "Error: Whoops!\n",
      "    at <anonymous>:2:9\n",
      "    at new Promise (<anonymous>)\n",
      "    at <anonymous>:1:22\n"
     ]
    },
    {
     "data": {
      "text/plain": [
       "Promise { \u001b[90mundefined\u001b[39m }"
      ]
     },
     "execution_count": 9,
     "metadata": {},
     "output_type": "execute_result"
    }
   ],
   "source": [
    "new Promise((resolve, reject) => {\n",
    "  throw new Error(\"Whoops!\");\n",
    "}).catch(console.log); // Error: Whoops!"
   ]
  },
  {
   "cell_type": "markdown",
   "metadata": {},
   "source": [
    "This happens for all errors, not just those caused by the throw statement. For example, a programming error:\n"
   ]
  },
  {
   "cell_type": "code",
   "execution_count": 10,
   "metadata": {},
   "outputs": [
    {
     "name": "stdout",
     "output_type": "stream",
     "text": [
      "ReferenceError: blabla is not defined\n",
      "    at <anonymous>:4:3\n",
      "    at eventLoopTick (ext:core/01_core.js:178:7)\n"
     ]
    },
    {
     "data": {
      "text/plain": [
       "Promise { \u001b[90mundefined\u001b[39m }"
      ]
     },
     "execution_count": 10,
     "metadata": {},
     "output_type": "execute_result"
    }
   ],
   "source": [
    "new Promise((resolve, reject) => {\n",
    "resolve(\"ok\");\n",
    "}).then((result) => {\n",
    "blabla(); // no such function\n",
    "}).catch(console.log); // ReferenceError: blabla is not defined\n"
   ]
  },
  {
   "cell_type": "markdown",
   "metadata": {},
   "source": [
    "The final .catch not only catches explicit rejections, but also accidental errors in the handlers above."
   ]
  },
  {
   "cell_type": "code",
   "execution_count": 12,
   "metadata": {},
   "outputs": [
    {
     "name": "stdout",
     "output_type": "stream",
     "text": [
      "The error is handled, continue normally\n",
      "Next successful handler runs\n"
     ]
    },
    {
     "data": {
      "text/plain": [
       "Promise { \u001b[90mundefined\u001b[39m }"
      ]
     },
     "execution_count": 12,
     "metadata": {},
     "output_type": "execute_result"
    }
   ],
   "source": [
    "// Next handler, if any, runs even after a catch\n",
    "// the execution: catch -> then\n",
    "new Promise((resolve, reject) => {\n",
    "  throw new Error(\"Whoops!\");\n",
    "})\n",
    "  .catch(function (error) {\n",
    "    alert(\"The error is handled, continue normally\");\n",
    "  })\n",
    "  .then(() => alert(\"Next successful handler runs\"));\n"
   ]
  },
  {
   "cell_type": "code",
   "execution_count": 14,
   "metadata": {},
   "outputs": [
    {
     "name": "stdout",
     "output_type": "stream",
     "text": [
      "Can't handle such error\n",
      "The unknown error has occurred: Error: Whoops!\n"
     ]
    },
    {
     "data": {
      "text/plain": [
       "Promise { \u001b[90mundefined\u001b[39m }"
      ]
     },
     "execution_count": 14,
     "metadata": {},
     "output_type": "execute_result"
    }
   ],
   "source": [
    "// the execution: catch -> catch\n",
    "new Promise((resolve, reject) => {\n",
    "\n",
    "  throw new Error(\"Whoops!\");\n",
    "\n",
    "}).catch(function(error) { // (*)\n",
    "\n",
    "  if (error instanceof URIError) { // URIError is builtin error\n",
    "    // handle it\n",
    "  } else {\n",
    "    alert(\"Can't handle such error\");\n",
    "\n",
    "    throw error; // throwing this or another error jumps to the next catch\n",
    "  }\n",
    "\n",
    "}).then(function() {\n",
    "  /* doesn't run here */\n",
    "}).catch(error => { // (**)\n",
    "\n",
    "  alert(`The unknown error has occurred: ${error}`);\n",
    "  // don't return anything => execution goes the normal way\n",
    "\n",
    "});"
   ]
  },
  {
   "cell_type": "markdown",
   "metadata": {},
   "source": [
    "#### Unhandled rejections"
   ]
  },
  {
   "cell_type": "markdown",
   "metadata": {},
   "source": [
    "When a promise is rejected and there's no `.catch()` handler, it becomes an **unhandled rejection**. This is similar to an uncaught error—JavaScript logs it as a global error.\n",
    "\n",
    "In browsers, you can catch these using the `unhandledrejection` event:"
   ]
  },
  {
   "cell_type": "code",
   "execution_count": null,
   "metadata": {},
   "outputs": [],
   "source": [
    "\n",
    "globalThis.addEventListener('unhandledrejection', function(event) {\n",
    "  // the event object has two special properties:\n",
    "  alert(event.promise); // [object Promise] - the promise that generated the error\n",
    "  alert(event.reason); // Error: Whoops! - the unhandled error object\n",
    "});\n",
    "\n",
    "new Promise(function() {\n",
    "  throw new Error(\"Whoops!\");\n",
    "}); // no catch to handle the error"
   ]
  },
  {
   "cell_type": "markdown",
   "metadata": {},
   "source": [
    "This lets you handle or log unexpected promise errors globally.\n",
    "\n",
    "In Node.js, unhandled promise rejections occur when a promise is rejected without a .catch() handler or an async function lacks a try...catch block. Starting from Node.js 15, the default behavior has changed:\n",
    "\n",
    "Default Behavior (Node.js 15 and later): If a promise rejection is unhandled, Node.js will terminate the process immediately with a non-zero exit code. This is done to align with community expectations and to surface potential issues that might otherwise be hard to detect and debug"
   ]
  },
  {
   "cell_type": "code",
   "execution_count": 19,
   "metadata": {},
   "outputs": [
    {
     "data": {
      "text/plain": [
       "Promise { \u001b[36m<pending>\u001b[39m }"
      ]
     },
     "execution_count": 19,
     "metadata": {},
     "output_type": "execute_result"
    }
   ],
   "source": [
    "new Promise(function(resolve, reject) {\n",
    "  setTimeout(() => {\n",
    "    throw new Error(\"Whoops!\");\n",
    "  }, 1000);\n",
    "}).catch(err =>console.log(err));"
   ]
  },
  {
   "cell_type": "markdown",
   "metadata": {},
   "source": [
    "try, catch works synchronously\n",
    "It can't catch errors in setTimeout\n",
    "```js\n",
    "try {\n",
    "  setTimeout(() => {\n",
    "    throw new Error(\"This won't be handled by catch\");\n",
    "  }, 1000);\n",
    "} catch (err) {\n",
    "  console.log(\"won't work\");\n",
    "}\n",
    "```\n"
   ]
  },
  {
   "cell_type": "markdown",
   "metadata": {},
   "source": [
    "[See demo here](setTimeoutWithTryCacth.js)\n",
    "\n",
    "To catch an exception inside a scheduled function, try...catch must be inside that function:"
   ]
  },
  {
   "cell_type": "code",
   "execution_count": 3,
   "metadata": {},
   "outputs": [
    {
     "data": {
      "text/plain": [
       "\u001b[33m3\u001b[39m"
      ]
     },
     "execution_count": 3,
     "metadata": {},
     "output_type": "execute_result"
    },
    {
     "name": "stdout",
     "output_type": "stream",
     "text": [
      "error is caught here!\n"
     ]
    }
   ],
   "source": [
    "setTimeout(function() {\n",
    "  try {\n",
    "    noSuchVariable; // try...catch handles the error!\n",
    "  } catch {\n",
    "    console.log( \"error is caught here!\" );\n",
    "  }\n",
    "}, 1000);"
   ]
  },
  {
   "cell_type": "code",
   "execution_count": 6,
   "metadata": {},
   "outputs": [
    {
     "data": {
      "text/plain": [
       "Promise { \u001b[36m<pending>\u001b[39m }"
      ]
     },
     "execution_count": 6,
     "metadata": {},
     "output_type": "execute_result"
    },
    {
     "name": "stdout",
     "output_type": "stream",
     "text": [
      "3\n",
      "2\n",
      "1\n",
      "[ 1, 2, 3 ]\n"
     ]
    }
   ],
   "source": [
    "Promise.all([\n",
    "  new Promise(resolve => setTimeout(() => {console.log(1); resolve(1)}, 3000)), // 1\n",
    "  new Promise(resolve => setTimeout(() => {console.log(2); resolve(2)}, 2000)), // 2\n",
    "  new Promise(resolve => setTimeout(() => {console.log(3); resolve(3)}, 1000))  // 3\n",
    "]).then(console.log);"
   ]
  },
  {
   "cell_type": "markdown",
   "metadata": {},
   "source": [
    "If one promise rejects, `Promise.all` immediately rejects, completely forgetting about the other ones in the list. Their results are ignored."
   ]
  },
  {
   "cell_type": "code",
   "execution_count": 9,
   "metadata": {},
   "outputs": [
    {
     "data": {
      "text/plain": [
       "Promise { \u001b[36m<pending>\u001b[39m }"
      ]
     },
     "execution_count": 9,
     "metadata": {},
     "output_type": "execute_result"
    },
    {
     "name": "stdout",
     "output_type": "stream",
     "text": [
      "Error: Whoops!\n",
      "    at <anonymous>:3:56\n",
      "    at callback (ext:deno_web/02_timers.js:58:7)\n",
      "    at eventLoopTick (ext:core/01_core.js:213:13)\n"
     ]
    }
   ],
   "source": [
    "Promise.all([\n",
    "  new Promise((resolve, reject) => setTimeout(() => resolve(1), 1000)),\n",
    "  new Promise((resolve, reject) => setTimeout(() => reject(new Error(\"Whoops!\")), 2000)),\n",
    "  new Promise((resolve, reject) => setTimeout(() => resolve(3), 3000))\n",
    "]).catch(console.log); // Error: Whoops!"
   ]
  },
  {
   "cell_type": "markdown",
   "metadata": {},
   "source": [
    "If one `Promise` fails, the others will still continue to execute, but `Promise.all` won't watch them anymore. They will probably settle, but their results will be ignored.\n",
    "\n",
    "`Promise.all` does nothing to cancel them, as there's no concept of \"cancellation\" in promises."
   ]
  },
  {
   "cell_type": "code",
   "execution_count": 12,
   "metadata": {},
   "outputs": [
    {
     "data": {
      "text/plain": [
       "Promise { \u001b[36m<pending>\u001b[39m }"
      ]
     },
     "execution_count": 12,
     "metadata": {},
     "output_type": "execute_result"
    },
    {
     "name": "stdout",
     "output_type": "stream",
     "text": [
      "[ 1, 2, 3 ]\n"
     ]
    }
   ],
   "source": [
    "// Promise.all(iterable) allows non-promise \"regular\" values in iterable\n",
    "\n",
    "Promise.all([\n",
    "  new Promise((resolve, reject) => {\n",
    "    setTimeout(() => resolve(1), 1000)\n",
    "  }),\n",
    "  2,\n",
    "  3\n",
    "]).then(console.log); // 1, 2, 3"
   ]
  },
  {
   "cell_type": "markdown",
   "metadata": {},
   "source": [
    "Promise.all rejects as a whole if any promise rejects. That’s good for \"all or nothing\" cases, when we need all results successful to proceed:"
   ]
  },
  {
   "cell_type": "code",
   "execution_count": 22,
   "metadata": {},
   "outputs": [
    {
     "name": "stdout",
     "output_type": "stream",
     "text": [
      "[\n",
      "  {\n",
      "    status: \"fulfilled\",\n",
      "    value: Response {\n",
      "      body: ReadableStream { locked: false },\n",
      "      bodyUsed: false,\n",
      "      headers: Headers {\n",
      "        \"accept-ranges\": \"bytes\",\n",
      "        \"access-control-allow-origin\": \"*\",\n",
      "        \"access-control-expose-headers\": \"ETag, Link, Location, Retry-After, X-GitHub-OTP, X-RateLimit-Limit, X-RateLimit-Remaining, X-RateLimit-Used, X-RateLimit-Resource, X-RateLimit-Reset, X-OAuth-Scopes, X-Accepted-OAuth-Scopes, X-Poll-Interval, X-GitHub-Media-Type, X-GitHub-SSO, X-GitHub-Request-Id, Deprecation, Sunset\",\n",
      "        \"cache-control\": \"public, max-age=60, s-maxage=60\",\n",
      "        \"content-security-policy\": \"default-src 'none'\",\n",
      "        \"content-type\": \"application/json; charset=utf-8\",\n",
      "        date: \"Sat, 31 May 2025 13:38:02 GMT\",\n",
      "        etag: 'W/\"5d8b059e762097da99a4d82eecbba5871ed27e99af2fbb67f8271ff4f74c996f\"',\n",
      "        \"last-modified\": \"Tue, 08 Apr 2025 06:41:30 GMT\",\n",
      "        \"referrer-policy\": \"origin-when-cross-origin, strict-origin-when-cross-origin\",\n",
      "        server: \"github.com\",\n",
      "        \"strict-transport-security\": \"max-age=31536000; includeSubdomains; preload\",\n",
      "        vary: \"Accept,Accept-Encoding, Accept, X-Requested-With\",\n",
      "        \"x-content-type-options\": \"nosniff\",\n",
      "        \"x-frame-options\": \"deny\",\n",
      "        \"x-github-api-version-selected\": \"2022-11-28\",\n",
      "        \"x-github-media-type\": \"github.v3; format=json\",\n",
      "        \"x-github-request-id\": \"E3B3:1063B0:451F43:5DC0A0:683B0639\",\n",
      "        \"x-ratelimit-limit\": \"60\",\n",
      "        \"x-ratelimit-remaining\": \"41\",\n",
      "        \"x-ratelimit-reset\": \"1748701407\",\n",
      "        \"x-ratelimit-resource\": \"core\",\n",
      "        \"x-ratelimit-used\": \"19\",\n",
      "        \"x-xss-protection\": \"0\"\n",
      "      },\n",
      "      ok: true,\n",
      "      redirected: false,\n",
      "      status: 200,\n",
      "      statusText: \"OK\",\n",
      "      url: \"https://api.github.com/users/iliakan\"\n",
      "    }\n",
      "  },\n",
      "  {\n",
      "    status: \"rejected\",\n",
      "    reason: TypeError: error sending request for url (https://no-such-url/): client error (Connect): dns error: No such host is known. (os error 11001): No such host is known. (os error 11001)\n",
      "    at async mainFetch (ext:deno_fetch/26_fetch.js:192:12)\n",
      "    at async fetch (ext:deno_fetch/26_fetch.js:475:11)\n",
      "    at async Promise.allSettled (<anonymous>)\n",
      "    at async <anonymous>:6:19\n",
      "  },\n",
      "  {\n",
      "    status: \"fulfilled\",\n",
      "    value: Response {\n",
      "      body: ReadableStream { locked: false },\n",
      "      bodyUsed: false,\n",
      "      headers: Headers {\n",
      "        \"accept-ranges\": \"bytes\",\n",
      "        \"access-control-allow-origin\": \"*\",\n",
      "        \"access-control-expose-headers\": \"ETag, Link, Location, Retry-After, X-GitHub-OTP, X-RateLimit-Limit, X-RateLimit-Remaining, X-RateLimit-Used, X-RateLimit-Resource, X-RateLimit-Reset, X-OAuth-Scopes, X-Accepted-OAuth-Scopes, X-Poll-Interval, X-GitHub-Media-Type, X-GitHub-SSO, X-GitHub-Request-Id, Deprecation, Sunset\",\n",
      "        \"cache-control\": \"public, max-age=60, s-maxage=60\",\n",
      "        \"content-security-policy\": \"default-src 'none'\",\n",
      "        \"content-type\": \"application/json; charset=utf-8\",\n",
      "        date: \"Sat, 31 May 2025 13:38:02 GMT\",\n",
      "        etag: 'W/\"b8cb1a3c4ddf4478ab8b4308472e34a950df8bef976c925ee9a80cfaf920b843\"',\n",
      "        \"last-modified\": \"Mon, 05 May 2025 11:21:59 GMT\",\n",
      "        \"referrer-policy\": \"origin-when-cross-origin, strict-origin-when-cross-origin\",\n",
      "        server: \"github.com\",\n",
      "        \"strict-transport-security\": \"max-age=31536000; includeSubdomains; preload\",\n",
      "        vary: \"Accept,Accept-Encoding, Accept, X-Requested-With\",\n",
      "        \"x-content-type-options\": \"nosniff\",\n",
      "        \"x-frame-options\": \"deny\",\n",
      "        \"x-github-api-version-selected\": \"2022-11-28\",\n",
      "        \"x-github-media-type\": \"github.v3; format=json\",\n",
      "        \"x-github-request-id\": \"E3B3:1063B0:451F43:5DC0A1:683B063A\",\n",
      "        \"x-ratelimit-limit\": \"60\",\n",
      "        \"x-ratelimit-remaining\": \"40\",\n",
      "        \"x-ratelimit-reset\": \"1748701407\",\n",
      "        \"x-ratelimit-resource\": \"core\",\n",
      "        \"x-ratelimit-used\": \"20\",\n",
      "        \"x-xss-protection\": \"0\"\n",
      "      },\n",
      "      ok: true,\n",
      "      redirected: false,\n",
      "      status: 200,\n",
      "      statusText: \"OK\",\n",
      "      url: \"https://api.github.com/users/jeresig\"\n",
      "    }\n",
      "  }\n",
      "]\n"
     ]
    }
   ],
   "source": [
    "let urls = [\n",
    "  \"https://api.github.com/users/iliakan\",\n",
    "  \"https://no-such-url\",\n",
    "  \"https://api.github.com/users/jeresig\",\n",
    "];\n",
    "\n",
    "const responses = await Promise.allSettled(\n",
    "  urls.map((url) => fetch(url))\n",
    ");\n",
    "\n",
    "console.log(responses)"
   ]
  },
  {
   "cell_type": "markdown",
   "metadata": {},
   "source": [
    "Similar to Promise.all, but waits only for the first settled promise and gets its result (or error)."
   ]
  },
  {
   "cell_type": "code",
   "execution_count": 23,
   "metadata": {},
   "outputs": [
    {
     "data": {
      "text/plain": [
       "Promise { \u001b[36m<pending>\u001b[39m }"
      ]
     },
     "execution_count": 23,
     "metadata": {},
     "output_type": "execute_result"
    },
    {
     "name": "stdout",
     "output_type": "stream",
     "text": [
      "1\n"
     ]
    }
   ],
   "source": [
    "Promise.race([\n",
    "  new Promise((resolve, reject) => setTimeout(() => resolve(1), 1000)),\n",
    "  new Promise((resolve, reject) => setTimeout(() => reject(new Error(\"Whoops!\")), 2000)),\n",
    "  new Promise((resolve, reject) => setTimeout(() => resolve(3), 3000))\n",
    "]).then(console.log);"
   ]
  },
  {
   "cell_type": "markdown",
   "metadata": {},
   "source": [
    "The first promise here was fastest, so it became the result.\n",
    "\n",
    "After the first settled promise \"wins the race\", all further results/errors are ignored.\n",
    "\n",
    "* All promises in `Promise.race([...])` **start executing immediately**.\n",
    "* `Promise.race` settles with the **first promise that resolves or rejects**.\n",
    "* The other promises **continue running**, but their results are **ignored**.\n",
    "* They are **not cancelled**, just not used in the final result.\n",
    "* In your example, the first promise (`resolve(1)` after 1s) wins the race."
   ]
  },
  {
   "cell_type": "markdown",
   "metadata": {},
   "source": [
    "#### Promise.any\n",
    "Similar to `Promise.race`, but waits only for the first fulfilled promise and gets its result.\n",
    "\n",
    "If all of the given promises are rejected, then the returned promise is rejected with AggregateError - a special error object that stores all promise errors in its errors property."
   ]
  },
  {
   "cell_type": "code",
   "execution_count": null,
   "metadata": {},
   "outputs": [
    {
     "data": {
      "text/plain": [
       "Promise { \u001b[36m<pending>\u001b[39m }"
      ]
     },
     "execution_count": 25,
     "metadata": {},
     "output_type": "execute_result"
    },
    {
     "name": "stdout",
     "output_type": "stream",
     "text": [
      "AggregateError\n",
      "Error: Ouch!\n",
      "    at <anonymous>:2:56\n",
      "    at callback (ext:deno_web/02_timers.js:58:7)\n",
      "    at eventLoopTick (ext:core/01_core.js:213:13)\n",
      "Error: Error!\n",
      "    at <anonymous>:3:56\n",
      "    at callback (ext:deno_web/02_timers.js:58:7)\n",
      "    at eventLoopTick (ext:core/01_core.js:213:13)\n"
     ]
    }
   ],
   "source": [
    "Promise.any([\n",
    "  new Promise((resolve, reject) => setTimeout(() => reject(new Error(\"Ouch!\")), 1000)),\n",
    "  new Promise((resolve, reject) => setTimeout(() => reject(new Error(\"Error!\")), 2000))\n",
    "]).catch(error => {\n",
    "  console.log(error.constructor.name); // AggregateError\n",
    "  console.log(error.errors[0]); // Error: Ouch!\n",
    "  console.log(error.errors[1]); // Error: Error!\n",
    "});"
   ]
  },
  {
   "cell_type": "code",
   "execution_count": 27,
   "metadata": {},
   "outputs": [
    {
     "data": {
      "text/plain": [
       "Promise { \u001b[36m<pending>\u001b[39m }"
      ]
     },
     "execution_count": 27,
     "metadata": {},
     "output_type": "execute_result"
    },
    {
     "name": "stdout",
     "output_type": "stream",
     "text": [
      "Hello\n"
     ]
    }
   ],
   "source": [
    "Promise.any([\n",
    "  new Promise((res) => setTimeout(() => res(\"Hello\"), 100)),\n",
    "  new Promise((res, rej) => setTimeout(() => rej(new Error(\"Error\")), 200)),\n",
    "]).then(\n",
    "  (res) => console.log(res),\n",
    "  (err) => console.log(err)\n",
    ");\n"
   ]
  },
  {
   "cell_type": "code",
   "execution_count": null,
   "metadata": {},
   "outputs": [],
   "source": [
    "async function promisePool(functions, limit) {\n",
    "    if (!functions || functions.length === 0 || limit <= 0) {\n",
    "        console.log(\"Called promisePool with invalid args\");\n",
    "        return [];\n",
    "    }\n",
    "\n",
    "    let results = [];\n",
    "    let shared_idx = 0;\n",
    "\n",
    "    async function worker() {\n",
    "        const curr_idx = shared_idx++; // will this be a race condition?\n",
    "        console.log(\"curr_idx\", curr_idx);\n",
    "\n",
    "        if (curr_idx >= functions.length) {\n",
    "            return;\n",
    "        }\n",
    "\n",
    "        try {\n",
    "            const result = await functions[curr_idx]();\n",
    "            results.push({ result });\n",
    "        } catch (err) {\n",
    "            results.push({ error: err });\n",
    "        }\n",
    "\n",
    "        await worker();\n",
    "    }\n",
    "\n",
    "    const curr_promises = Array(Math.min(limit, functions.length))\n",
    "        .fill(null)\n",
    "        .map(worker);\n",
    "    await Promise.all(curr_promises);\n",
    "    return results;\n",
    "}\n",
    "\n",
    "const wait = (ms) =>\n",
    "    new Promise((resolve) => setTimeout(() => resolve(ms), ms));\n",
    "\n",
    "const functions = [\n",
    "    () => wait(1000),\n",
    "    () => wait(2000),\n",
    "    () => wait(3000),\n",
    "    () => wait(4000),\n",
    "];\n",
    "\n",
    "const result = await promisePool(functions, 2);\n",
    "console.log(result);"
   ]
  },
  {
   "cell_type": "code",
   "execution_count": 3,
   "metadata": {},
   "outputs": [
    {
     "name": "stdout",
     "output_type": "stream",
     "text": [
      "[Function (anonymous)]\n"
     ]
    },
    {
     "data": {
      "text/plain": [
       "Promise { \u001b[36m<pending>\u001b[39m }"
      ]
     },
     "execution_count": 3,
     "metadata": {},
     "output_type": "execute_result"
    },
    {
     "name": "stdout",
     "output_type": "stream",
     "text": [
      "2\n"
     ]
    }
   ],
   "source": [
    "class Thenable {\n",
    "  constructor(num) {\n",
    "    this.num = num;\n",
    "  }\n",
    "  then(resolve, reject) {\n",
    "    alert(resolve);\n",
    "    // resolve with this.num*2 after 1000ms\n",
    "    setTimeout(() => resolve(this.num * 2), 1000); // (*)\n",
    "  }\n",
    "}\n",
    "\n",
    "async function f() {\n",
    "  // waits for 1 second, then result becomes 2\n",
    "  let result = await new Thenable(1);\n",
    "  alert(result);\n",
    "}\n",
    "\n",
    "f()"
   ]
  },
  {
   "cell_type": "markdown",
   "metadata": {},
   "source": [
    "If await gets a non-promise object with .then, it calls that method providing the built-in functions resolve and reject as arguments (just as it does for a regular Promise executor). Then await waits until one of them is called (in the example above it happens in the line (*)) and then proceeds with the result."
   ]
  },
  {
   "cell_type": "markdown",
   "metadata": {},
   "source": [
    "If we forget to add .catch below, then we get an unhandled promise error (viewable in the console). We can catch such errors using a global unhandledrejection event handler"
   ]
  },
  {
   "cell_type": "code",
   "execution_count": 4,
   "metadata": {},
   "outputs": [
    {
     "data": {
      "text/plain": [
       "Promise { \u001b[36m<pending>\u001b[39m }"
      ]
     },
     "execution_count": 4,
     "metadata": {},
     "output_type": "execute_result"
    },
    {
     "name": "stdout",
     "output_type": "stream",
     "text": [
      "TypeError: error sending request for url (http://no-such-url/): client error (Connect): dns error: No such host is known. (os error 11001): No such host is known. (os error 11001)\n",
      "    at async mainFetch (ext:deno_fetch/26_fetch.js:192:12)\n",
      "    at async fetch (ext:deno_fetch/26_fetch.js:475:11)\n",
      "    at async f (<anonymous>:2:18)\n"
     ]
    }
   ],
   "source": [
    "async function f() {\n",
    "  let response = await fetch('http://no-such-url');\n",
    "}\n",
    "\n",
    "// f() becomes a rejected promise\n",
    "f().catch(alert); // TypeError: failed to fetch // (*)"
   ]
  },
  {
   "cell_type": "markdown",
   "metadata": {},
   "source": [
    "The async keyword before a function has two effects:\n",
    "\n",
    "1. Makes it always return a promise.\n",
    "2. Allows await to be used in it.\n",
    "\n",
    "The await keyword before a promise makes JavaScript wait until that promise settles, and then:\n",
    "\n",
    "If it’s an error, an exception is generated — same as if throw error were called at that very place.\n",
    "Otherwise, it returns the result."
   ]
  },
  {
   "cell_type": "code",
   "execution_count": null,
   "metadata": {},
   "outputs": [
    {
     "name": "stdout",
     "output_type": "stream",
     "text": [
      "Promise { 1 }\n",
      "1\n",
      "1\n"
     ]
    }
   ],
   "source": [
    "async function foo() {\n",
    "  return 1;\n",
    "}\n",
    "\n",
    "console.log(foo());               \n",
    "\n",
    "foo().then((r) => console.log(r)); \n",
    "console.log(await foo());       \n",
    "// Linter sees Promise<number> -> awaiting doesn’t change the type (warning), but at runtime you still need await to pause until foo() resolves (correct timing and error propagation).\n"
   ]
  },
  {
   "cell_type": "code",
   "execution_count": 30,
   "metadata": {},
   "outputs": [
    {
     "name": "stdout",
     "output_type": "stream",
     "text": [
      "[ 1000, 2000, 3000 ]\n"
     ]
    }
   ],
   "source": [
    "async function customPromiseAll(functions) {\n",
    "  let got_error = false;\n",
    "  const results = [];\n",
    "  for (let i = 0; i < functions.length; i++) {\n",
    "    if (got_error) return;\n",
    "    try {\n",
    "      const result = await functions[i]();\n",
    "      results.push(result);\n",
    "    } catch (err) {\n",
    "      got_error = true;\n",
    "    }\n",
    "  }\n",
    "  return results;\n",
    "}\n",
    "\n",
    "const wait = (ms) =>\n",
    "  new Promise((resolve) => setTimeout(() => resolve(ms), ms));\n",
    "const result = await customPromiseAll([\n",
    "  () => wait(1000),\n",
    "  () => wait(2000),\n",
    "  () => wait(3000),\n",
    "]);\n",
    "console.log(result);\n"
   ]
  },
  {
   "cell_type": "code",
   "execution_count": null,
   "metadata": {},
   "outputs": [
    {
     "name": "stdout",
     "output_type": "stream",
     "text": [
      "16807\n",
      "282475249\n",
      "1622650073\n"
     ]
    }
   ],
   "source": [
    "function* pseudoRandom(seed) {\n",
    "  let next = seed;\n",
    "\n",
    "  while (true) {\n",
    "    next = (next * 16807) % 2147483647;\n",
    "    yield next;\n",
    "  }\n",
    "}\n",
    "let generator = pseudoRandom(1);\n",
    "\n",
    "alert(generator.next().value); // 16807\n",
    "alert(generator.next().value); // 282475249\n",
    "alert(generator.next().value); // 1622650073"
   ]
  },
  {
   "cell_type": "code",
   "execution_count": null,
   "metadata": {},
   "outputs": [],
   "source": [
    "class DefaultMap extends Map {\n",
    "  constructor(defaultTypeOrFunc, entries) {\n",
    "    super(entries);\n",
    "\n",
    "    if (typeof defaultTypeOrFunc === \"function\") {\n",
    "      this._makeDefault = defaultTypeOrFunc;\n",
    "    } else if (\n",
    "      [\"number\", \"string\", \"boolean\"].includes(typeof defaultTypeOrFunc)\n",
    "    ) {\n",
    "      this._makeDefault = () => defaultTypeOrFunc;\n",
    "    } else if (Array.isArray(defaultTypeOrFunc)) {\n",
    "      this._makeDefault = () => defaultTypeOrFunc.slice();\n",
    "    } else if (defaultTypeOrFunc instanceof Set) {\n",
    "      this._makeDefault = () => new Set(defaultTypeOrFunc);\n",
    "    } else if (defaultTypeOrFunc instanceof Map) {\n",
    "      this._makeDefault = () => new Map(defaultTypeOrFunc);\n",
    "    } else if (\n",
    "      defaultTypeOrFunc &&\n",
    "      defaultTypeOrFunc.constructor?.name === \"Object\"\n",
    "    ) {\n",
    "      this._makeDefault = () => ({ ...defaultTypeOrFunc });\n",
    "    } else {\n",
    "      throw new Error(\n",
    "        `Invalid defaultTypeOrFunc: expected function, number/string/boolean, array, Set, Map, or plain object; got ${String(\n",
    "          defaultTypeOrFunc\n",
    "        )}.`\n",
    "      );\n",
    "    }\n",
    "  }\n",
    "\n",
    "  get(key) {\n",
    "    if (!this.has(key)) {\n",
    "      const value = this._makeDefault();\n",
    "      super.set(key, value);\n",
    "      return value;\n",
    "    }\n",
    "    return super.get(key);\n",
    "  }\n",
    "}\n"
   ]
  },
  {
   "cell_type": "code",
   "execution_count": null,
   "metadata": {},
   "outputs": [],
   "source": [
    "/**\n",
    " * func(1)(2)(3)\n",
    " * we are making it to\n",
    " * func(1,2,3) through recursion\n",
    " */\n",
    "function curry(fn) {\n",
    "  return function curried(...args) {\n",
    "    // this=> newArgs will be the args here, later\n",
    "    if (args.length >= fn.length) {\n",
    "      // do we have enough (or more, they are ignored) args\n",
    "      return fn.apply(this, args); // then call the function\n",
    "    } else {\n",
    "      return function (...newArgs) {\n",
    "        // build up a new function collecting rest of the args each time\n",
    "        return curried.apply(this, args.concat(newArgs)); // recursively call curried this=>\n",
    "      };\n",
    "    }\n",
    "  };\n",
    "}\n",
    "function sum(a, b, c) {\n",
    "  return a + b + c;\n",
    "}\n",
    "\n",
    "let curriedSum = curry(sum);\n",
    "\n",
    "console.log(curriedSum(1, 2, 3)); // 6, still callable normally\n",
    "console.log(curriedSum(1)(2, 3)); // 6, currying of 1st arg\n",
    "console.log(curriedSum(1)(2)(3)); // 6, full currying\n"
   ]
  },
  {
   "cell_type": "code",
   "execution_count": 5,
   "metadata": {},
   "outputs": [
    {
     "name": "stdout",
     "output_type": "stream",
     "text": [
      "_______________\n",
      "_______________\n"
     ]
    },
    {
     "name": "stdout",
     "output_type": "stream",
     "text": [
      "100\n",
      "200\n",
      "300\n"
     ]
    }
   ],
   "source": [
    "// Using `await` inside `forEach` does not pause the loop.\n",
    "// The async tasks run concurrently (not in sequence), because forEach doesn't await them.\n",
    "// JavaScript starts them all without waiting, so the final console.log runs immediately.\n",
    "\n",
    "const wait = (ms) =>\n",
    "  new Promise((resolve) => setTimeout(() => resolve(console.log(ms)), ms));\n",
    "\n",
    "const tasks = [() => wait(100), () => wait(200), () => wait(300)];\n",
    "\n",
    "console.log(\"_______________\");\n",
    "tasks.forEach(async (task) => await task()); // await does not stop execution here\n",
    "console.log(\"_______________\");\n"
   ]
  },
  {
   "cell_type": "markdown",
   "metadata": {},
   "source": [
    "How to mitigate this"
   ]
  },
  {
   "cell_type": "markdown",
   "metadata": {},
   "source": [
    "#### 1. Sequential Execution (waits one-by-one, in order)\n",
    "\n",
    "When to use: When tasks must run in order, or depend on each other."
   ]
  },
  {
   "cell_type": "code",
   "execution_count": 6,
   "metadata": {},
   "outputs": [
    {
     "name": "stdout",
     "output_type": "stream",
     "text": [
      "Start\n",
      "100\n",
      "200\n",
      "300\n",
      "End\n"
     ]
    }
   ],
   "source": [
    "console.log(\"Start\");\n",
    "\n",
    "for (const task of tasks) {\n",
    "  await task(); // Waits for each task to finish before moving on\n",
    "}\n",
    "\n",
    "console.log(\"End\");"
   ]
  },
  {
   "cell_type": "markdown",
   "metadata": {},
   "source": [
    "#### 2. Concurrent execution (start all tasks, wait for all to finish)\n",
    "When tasks are independent and can run at the same time.\n",
    "\n"
   ]
  },
  {
   "cell_type": "code",
   "execution_count": 7,
   "metadata": {},
   "outputs": [
    {
     "name": "stdout",
     "output_type": "stream",
     "text": [
      "Start\n",
      "100\n",
      "200\n",
      "300\n",
      "End\n"
     ]
    }
   ],
   "source": [
    "console.log(\"Start\");\n",
    "\n",
    "await Promise.all(tasks.map(task => task())); // Start all tasks concurrently and wait\n",
    "\n",
    "console.log(\"End\");"
   ]
  }
 ],
 "metadata": {
  "kernelspec": {
   "display_name": "Deno",
   "language": "typescript",
   "name": "deno"
  },
  "language_info": {
   "codemirror_mode": "typescript",
   "file_extension": ".ts",
   "mimetype": "text/x.typescript",
   "name": "typescript",
   "nbconvert_exporter": "script",
   "pygments_lexer": "typescript",
   "version": "5.8.3"
  }
 },
 "nbformat": 4,
 "nbformat_minor": 2
}
